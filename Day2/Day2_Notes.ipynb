{
  "nbformat": 4,
  "nbformat_minor": 0,
  "metadata": {
    "kernelspec": {
      "display_name": "Python 3",
      "language": "python",
      "name": "python3"
    },
    "language_info": {
      "codemirror_mode": {
        "name": "ipython",
        "version": 3
      },
      "file_extension": ".py",
      "mimetype": "text/x-python",
      "name": "python",
      "nbconvert_exporter": "python",
      "pygments_lexer": "ipython3",
      "version": "3.7.3"
    },
    "colab": {
      "name": "Day2_Notes.ipynb",
      "provenance": [],
      "include_colab_link": true
    }
  },
  "cells": [
    {
      "cell_type": "markdown",
      "metadata": {
        "id": "view-in-github",
        "colab_type": "text"
      },
      "source": [
        "<a href=\"https://colab.research.google.com/github/MatthewFried/Udemy/blob/master/Day2_Notes.ipynb\" target=\"_parent\"><img src=\"https://colab.research.google.com/assets/colab-badge.svg\" alt=\"Open In Colab\"/></a>"
      ]
    },
    {
      "cell_type": "markdown",
      "metadata": {
        "id": "Scyw9R9nZo8z",
        "colab_type": "text"
      },
      "source": [
        "<br>\n",
        "<br>\n",
        "<br>\n",
        "<br>\n",
        "\n",
        "# __Module 2: Feature Engineering and Data Preparation__\n",
        "<br>\n",
        "<br>\n",
        "<br>"
      ]
    },
    {
      "cell_type": "markdown",
      "metadata": {
        "id": "P1WDuFZnZo81",
        "colab_type": "text"
      },
      "source": [
        "# Data vs. Information\n",
        "\n",
        "\n",
        "__Data__ is a collection of individual quantitative and/or qualitative values. Data is raw and unorganized.  It needs to be processed to make it meaningful.\n",
        "\n",
        "By contrast, __information__ is the result of the __summarization, labeling, and analysis of data__. When data is processed, interpreted, organized, structured or presented so as to make it meaningful or useful, it is called information. Information provides context for data.\n",
        "\n",
        "To create information, we gather and analyze data.  There may be a fair amount of information already available to us, including:\n",
        "\n",
        "- The collection method of the data\n",
        "- How it has been __categorized__, \n",
        "- What the __units of analysis__ are\n",
        "- How it was __calculated__ \n",
        "- How it has been __condensed / summarized__\n",
        "\n",
        "<br>\n",
        "\n",
        "### **Our task** \n",
        "During our EDA work, we are striving to derive __actionable information__ from the data we have at hand by:\n",
        "\n",
        "- Generating summary statistics\n",
        "- Generating graphical representations of distributions\n",
        "- Understanding the relationships between variables\n",
        "- Imputing missing data values\n",
        "- Transforming data values via mathematical functions (e.g., scaling, standardization, normalization, etc.)\n",
        "- Feature Engineering\n",
        "\n",
        "<br>\n",
        "\n",
        "### __Why create \"Information\"__?\n",
        "\n",
        "Our goal is to derive ACTIONABLE INFORMATION from a set of data. For example, the results of our EDA work are information serve as the basis for our data preparation and model building decisions; without an effective EDA, our data preparation and model building will be ineffective. We use an EDA to __improve the quality__ of our data to extract information in order to make better decisions. \n",
        "\n",
        "__Bad Data => Bad Information => Bad Decisions__.\n",
        "\n"
      ]
    },
    {
      "cell_type": "markdown",
      "metadata": {
        "id": "RpT5i69QZo82",
        "colab_type": "text"
      },
      "source": [
        "# Feature Engineering\n",
        "\n",
        "\n",
        "Before creating a model we may want to add new attributes (or \"features\") to our data that will clarify or simplify our presentation and model. We use **expert domain knowledge** to do this. This is referred to as __feature engineering__.\n",
        "\n",
        "A __feature__ is a characteristic or property of the independent variables we are planning to use for purposes of analysis or model building. \n",
        "\n",
        "<br>\n",
        "\n",
        "## Some examples of feature engineering:\n",
        "\n",
        "- __Creation of indicator variables__: If we were working with historical data on US housing prices for the years 2000 - 2018, our domain knowledge could tell us that a major collapse in US housing prices occurred during the 2007 - 2012 timeframe due to the 2007 financial crisis, followed by a recovery that started during the year 2012. As such, if we believe that our overall housing price data content may have been tangibly impacted by the financial crisis, we could create a binary indicator variable that flags every data item within the 2007-2012 time period as potentially having been impacted by the financial crisis (assigning a '1' as the indicator), while all other data items are assigned a '0' for the indicator variable's value.\n",
        "\n",
        "\n",
        "- __Create \"Interaction\" Features__: These are new metrics we __derive__ from our existing data.Such as new ratios / proportions from our existing data. We can also do binning / bucketing of numeric data and the de-structuring of date / time values.\n",
        "\n",
        "\n",
        "- __Combining Sparse Classifications__: With categorical data, \"sparse classes\" are those that have very few observations. Such \"sparse data\" can overfit predictive and machine learning models. As such, we can combine sparse classes into new classifications that aggregate the sparse items based on some shared characteristic(s). These \"shared characteristics\" is highly subjective, i.e., we need to apply our __domain knowledge__ to identify them. \n",
        "\n",
        "\n",
        "- __Adding \"Dummy\" Variables__: We cannot use raw categorical data as input to a model that requires numerical data. Instead, we create a new \"0/1\" binary indicator variable for each categorical data value. There are several straightforward ways to do this (such as pd.getdummies(df)).  The amount of data we have will grow tremendously with this, but certain techniques require such methods, because categorical data often must be converted this way.\n",
        "\n",
        "\n",
        "- __Removal of Unused Attributes/Features__: The data may have unneccessary fields for modeling purposes, such as unique ID's ortext descriptions. We must remove this to data to have an effectual model.\n",
        "\n",
        "<br>\n",
        "\n",
        "## How to Approach Feature Engineering?\n",
        "\n",
        "1. Using your __domain knowledge__, brainstorm ideas for potential new features relative to the data you have at hand. If you lack sufficient domain knowledge, seek out subject matter experts and/or develop your own critical mass of knowledge via research + reading.\n",
        "\n",
        "\n",
        "2. Create the features you believe will be useful (i.e., figure out how to add them to your data set).\n",
        "\n",
        "\n",
        "3. Test the features within your proposed analysis/model: do they improve the performance of the model? How relevant are they to the data set, i.e., do they provide new information that isn't available in any other attribute/feature already contained in the data set? Are they duplicative/redundant relative to other features/attributes contained within the data set? etc.\n",
        "\n",
        "\n",
        "4. Refine/improve your new features if needed.\n",
        "\n",
        "\n",
        "5. Go back to Step 1 (above) and consider whether the addition of other features would be beneficial."
      ]
    },
    {
      "cell_type": "markdown",
      "metadata": {
        "id": "Rm_EwkloZo83",
        "colab_type": "text"
      },
      "source": [
        "# Data Preparation: How to Correct Data Quality Problems\n",
        "\n",
        "About 80% of time is consumed by data preparation tasks (e.g., data cleansing, data transformation / reformatting, data rearrangement, etc.). Our EDA should address the following:\n",
        "\n",
        "- Missing Data\n",
        "- Duplicate Data\n",
        "- Adding 'Derived' Data\n",
        "- Discretization/Binning (Simplification of continuous numerical data for analytical purposes)\n",
        "- Outliers\n",
        "- Creating Dummy Variables"
      ]
    },
    {
      "cell_type": "markdown",
      "metadata": {
        "id": "ha_LVrwOZo83",
        "colab_type": "text"
      },
      "source": [
        "## Missing Data\n",
        "\n",
        "- Check for the reason for the missing data. Perhaps it is unavailable or a mistake.\n",
        "\n",
        "\n",
        "- Ask what biases might missing values be introducing to the data set in terms of statistics\n",
        "\n",
        "\n",
        "- Removing data could be beneficial or it could negatively impact the rest of the data, as such, we must assess this.\n",
        "\n",
        "\n",
        "- Fill the missing values with a valid value derived from the actual valid values of the attribute (e.g., mean, mode, median). This may alter the probability density function (PDF) of the affected attribute. If the PDF changes, what impact does that have on the rest of your otherwise valid data?\n",
        "\n",
        "\n",
        "- Even better solution: Fill the missing values using an approach that __does not__ change the PDF of the affected attribute. Examples include using a linear model or regression model to calculate an appropriate value based on the valid values that populate the rest of the associated use cases.\n"
      ]
    },
    {
      "cell_type": "markdown",
      "metadata": {
        "id": "WjOyZSRLZo84",
        "colab_type": "text"
      },
      "source": [
        "## Duplicate Data\n",
        "\n",
        "- Ask why the data is duplicated. \n",
        "- Check if the duplicatoin is valid.\n",
        "- Evaluate the outcome of removing duplicates"
      ]
    },
    {
      "cell_type": "markdown",
      "metadata": {
        "id": "i3QwkknmZo84",
        "colab_type": "text"
      },
      "source": [
        "## Discretization & Binning\n",
        "\n",
        "- Separate data into bins.\n",
        "\n",
        "\n",
        "- Be careful not to introduce noise when choosing bins that are either too small or too big\n",
        "\n",
        "\n",
        "- Bins should be equal in size\n",
        "\n",
        "\n",
        "- Simplistic rule of thumb: __binwidth__ = (max(values) - min(values)) / sqrt(n) where n = number of data values\n",
        "\n",
        "\n",
        "- Simplistic rule of thumb: __number of bins__ = sqrt(n) where n = number of data values\n",
        "\n",
        "\n",
        "- In general, use fewer bins for small amounts of data; use more bins for large amounts of data.\n"
      ]
    },
    {
      "cell_type": "markdown",
      "metadata": {
        "id": "DynNWsbdZo85",
        "colab_type": "text"
      },
      "source": [
        "## Outliers\n",
        "\n",
        "- Identify outliers and check for values that fall far outside the range of the standard deviation. Ask what can really be called an oulier and how it effects the data.\n",
        "\n",
        "\n",
        "- __Use domain knowledge + empirical testing to find the boundary that works best__ to find a cut-off point. For example, if we use 2x the standard deviation as the boundary, we are implicitly stating that we believe 5% of our data values for the selected column will be outliers.\n",
        "\n",
        "- For zero bound data (i.e., attributes that we know for a fact cannot have a negative value), check for values < 0\n",
        "\n",
        "\n",
        "Once you've identified your outliers, decide what to do with them: leave them alone? Remove them? Replace with another non-outlier value? You need to decide on the appropriate action based on your __domain knowledge__. Remember: __*outliers are not always invalid*__, but they can have a noticeable effect on your analysis. __There is no single \"rule\" that applies to how outliers should be dealt with__."
      ]
    },
    {
      "cell_type": "markdown",
      "metadata": {
        "id": "FB9_GwpJZo85",
        "colab_type": "text"
      },
      "source": [
        "## Creating Dummy Variables\n",
        "\n",
        "- It is not possible to perform numerical statistical analysis using categorical values: categorical variables are not considered to be \"numeric\" for statistical purposes, even if they are nominally comprised of digits.\n",
        "\n",
        "\n",
        "- To enable statistical analysis of a categorical variable, we must convert the values of the variable into a set of \"dummy\" vectors whose values are either True (the categorical value is present in the use case) or False (the categorical value is not present in the use case). One dummy variable is needed for each nominal categorical attribute value."
      ]
    },
    {
      "cell_type": "markdown",
      "metadata": {
        "id": "yKZpO7tbZo86",
        "colab_type": "text"
      },
      "source": [
        "## Improving data quality through normalization, standardization, transforms & scaling\n",
        "\n",
        "The use of numeric explanatory variables within any machine learning algorithm can prove to be problematic for a variety of reasons. For example:\n",
        "\n",
        "- The numeric explanatory variables within a data set may have vastly different scales / ranges from one another\n",
        "\n",
        "\n",
        "- Outliers can significantly skew the distribution of a numeric variable\n",
        "\n",
        "\n",
        "- Numeric data might be more heterogeneous than is necessary for the derivation of a high-performing predictive model\n",
        "\n",
        "\n",
        "- Some machine learning algorithms achieve better performance results when all numeric explanatory variables have been __standardized__, i.e., each explanatory variable has been numerically transformed to ensure that its mean value is zero.\n",
        "\n",
        "\n",
        "Many of these problems can be addressed through the use of numeric transforms. \n",
        "\n",
        "__Box-Cox Transforms__ ( https://www.statisticshowto.datasciencecentral.com/box-cox-transformation/) is applied to many non-normally distributed numeric variables to transform the data into dispersements that are more Gaussian in nature. The Box-Cox approach seeks to identify an appropriate exponent (Lambda) for this transformation. The Lambda value indicates the power to which all data values for a given variable should be raised. \n",
        "\n",
        "Box-Cox generally requires that all data values within the variable be __positive__. If one has negative data, add a fixed constant to every value as a shift.\n",
        "\n",
        "Some of the most commonly used Box-Cox transforms are listed in the table shown in the link above. Note that the content of the table provides us with a very clear indication of the transformation formula to be used relative to a given exponent value (Lambda). \n",
        "\n",
        "In Python, we can implement Box-Cox transforms via the __sklearn.preprocessing.power_transform()__ function (https://scikit-learn.org/stable/modules/generated/sklearn.preprocessing.power_transform.html). This function will automatically test the full range of potential exponent values to identify the transform that minimizes the standard deviation of the data.\n",
        "\n",
        "<br> \n",
        "\n",
        "### Other types of scaling methods can also be used to address data quality issues\n",
        "\n",
        "These include normalization, standardization, one-to-many transforms and smoothing splines.\n",
        "\n",
        "<br>\n",
        "\n",
        "#### Normalization vs. Standardization: What's the difference?\n",
        "\n",
        "- __Normalization__: We use normalization when we know that the distribution of our data does not approximate a Gaussian distribution. The below formula transforms all data values to fall within the range of $(0 <= Xnormalized <= 1)$. It is called a \"__Min-Max Scaler__\". A common normalization formula is: \n",
        "> $Y' = (X - min(X)) / (max(X) - min(X))$.   \n",
        "\n",
        "\n",
        "- __Standardization__: We use standardization when we know that the distributions of our variables are relatively Guassian but adhere to very different scales. The below formula will result in a mean of 0 and standard deviation of 1. The formula for calculating Z scores is: \n",
        "> $Y' = (x - mean(X)) / standdev(X)$   \n",
        "\n",
        "<br>\n",
        "\n",
        "## Caveats and Thoughts\n",
        "\n",
        "- Use of these techniques makes our models much less \"interpretable\".\n",
        "- None of these techniques guarantee model improvement. \n",
        "- Some machine learning algorithms require that all explanatory variables be normalized, so check ahead.\n",
        "\n",
        "<br> \n",
        "\n",
        "__The BOTTOM LINE__: If the application of one of these techniques does not improve the performance of your model relative to its performance when applied to the \"native\" form of your data, continue using the original format. "
      ]
    },
    {
      "cell_type": "markdown",
      "metadata": {
        "id": "_pcCE_LIZo87",
        "colab_type": "text"
      },
      "source": [
        "## After altering your data, re-run your EDA\n",
        "\n",
        "-  Alterations to your original data set may change your EDA outcomes.\n",
        "- You should re-ru your EDA after each cycle of data preparation work. Compare the results and see if it is indeed better.  \n",
        "- Ask if the distribution changed (or other properties that are meaningful).\n",
        "- Ask if any of your preliminary inferences regarding which variables might be more \"predictive\" of a response variable changed?\n",
        "\n",
        "<br>\n",
        "\n",
        "__Note__:\n",
        "It is up to you as a data science practitioner to determine whether your data is \"acceptable\" for further downstream use. \"Acceptable\" is obviously a highly subjective term so you must use your own judgment.\n"
      ]
    },
    {
      "cell_type": "markdown",
      "metadata": {
        "id": "ms_bv50vZo88",
        "colab_type": "text"
      },
      "source": [
        "<br>\n",
        "<br>\n",
        "\n",
        "### __Case Study: Detecting Outliers in hflights' 'Departure Delay' attribute__"
      ]
    },
    {
      "cell_type": "code",
      "metadata": {
        "id": "J00w9CrnZo8-",
        "colab_type": "code",
        "colab": {
          "base_uri": "https://localhost:8080/",
          "height": 253
        },
        "outputId": "1d338c09-0633-4eca-9fc6-763b67176282"
      },
      "source": [
        "import pandas as pd\n",
        "import numpy as np\n",
        "\n",
        "# import seaborn for graphics\n",
        "import seaborn as sns\n",
        "\n",
        "filename = \"https://raw.githubusercontent.com/MatthewFried/DAV-5400/master/Project1/hflights.csv\"\n",
        "hf = pd.read_csv(filename)\n",
        "hf.head()"
      ],
      "execution_count": null,
      "outputs": [
        {
          "output_type": "stream",
          "text": [
            "/usr/local/lib/python3.6/dist-packages/statsmodels/tools/_testing.py:19: FutureWarning: pandas.util.testing is deprecated. Use the functions in the public API at pandas.testing instead.\n",
            "  import pandas.util.testing as tm\n"
          ],
          "name": "stderr"
        },
        {
          "output_type": "execute_result",
          "data": {
            "text/html": [
              "<div>\n",
              "<style scoped>\n",
              "    .dataframe tbody tr th:only-of-type {\n",
              "        vertical-align: middle;\n",
              "    }\n",
              "\n",
              "    .dataframe tbody tr th {\n",
              "        vertical-align: top;\n",
              "    }\n",
              "\n",
              "    .dataframe thead th {\n",
              "        text-align: right;\n",
              "    }\n",
              "</style>\n",
              "<table border=\"1\" class=\"dataframe\">\n",
              "  <thead>\n",
              "    <tr style=\"text-align: right;\">\n",
              "      <th></th>\n",
              "      <th>Year</th>\n",
              "      <th>Month</th>\n",
              "      <th>DayofMonth</th>\n",
              "      <th>DayOfWeek</th>\n",
              "      <th>DepTime</th>\n",
              "      <th>ArrTime</th>\n",
              "      <th>UniqueCarrier</th>\n",
              "      <th>FlightNum</th>\n",
              "      <th>TailNum</th>\n",
              "      <th>ActualElapsedTime</th>\n",
              "      <th>AirTime</th>\n",
              "      <th>ArrDelay</th>\n",
              "      <th>DepDelay</th>\n",
              "      <th>Origin</th>\n",
              "      <th>Dest</th>\n",
              "      <th>Distance</th>\n",
              "      <th>TaxiIn</th>\n",
              "      <th>TaxiOut</th>\n",
              "      <th>Cancelled</th>\n",
              "      <th>CancellationCode</th>\n",
              "      <th>Diverted</th>\n",
              "    </tr>\n",
              "  </thead>\n",
              "  <tbody>\n",
              "    <tr>\n",
              "      <th>0</th>\n",
              "      <td>2011</td>\n",
              "      <td>1</td>\n",
              "      <td>1</td>\n",
              "      <td>6</td>\n",
              "      <td>1400.0</td>\n",
              "      <td>1500.0</td>\n",
              "      <td>AA</td>\n",
              "      <td>428</td>\n",
              "      <td>N576AA</td>\n",
              "      <td>60.0</td>\n",
              "      <td>40.0</td>\n",
              "      <td>-10.0</td>\n",
              "      <td>0.0</td>\n",
              "      <td>IAH</td>\n",
              "      <td>DFW</td>\n",
              "      <td>224</td>\n",
              "      <td>7.0</td>\n",
              "      <td>13.0</td>\n",
              "      <td>0</td>\n",
              "      <td>NaN</td>\n",
              "      <td>0</td>\n",
              "    </tr>\n",
              "    <tr>\n",
              "      <th>1</th>\n",
              "      <td>2011</td>\n",
              "      <td>1</td>\n",
              "      <td>2</td>\n",
              "      <td>7</td>\n",
              "      <td>1401.0</td>\n",
              "      <td>1501.0</td>\n",
              "      <td>AA</td>\n",
              "      <td>428</td>\n",
              "      <td>N557AA</td>\n",
              "      <td>60.0</td>\n",
              "      <td>45.0</td>\n",
              "      <td>-9.0</td>\n",
              "      <td>1.0</td>\n",
              "      <td>IAH</td>\n",
              "      <td>DFW</td>\n",
              "      <td>224</td>\n",
              "      <td>6.0</td>\n",
              "      <td>9.0</td>\n",
              "      <td>0</td>\n",
              "      <td>NaN</td>\n",
              "      <td>0</td>\n",
              "    </tr>\n",
              "    <tr>\n",
              "      <th>2</th>\n",
              "      <td>2011</td>\n",
              "      <td>1</td>\n",
              "      <td>3</td>\n",
              "      <td>1</td>\n",
              "      <td>1352.0</td>\n",
              "      <td>1502.0</td>\n",
              "      <td>AA</td>\n",
              "      <td>428</td>\n",
              "      <td>N541AA</td>\n",
              "      <td>70.0</td>\n",
              "      <td>48.0</td>\n",
              "      <td>-8.0</td>\n",
              "      <td>-8.0</td>\n",
              "      <td>IAH</td>\n",
              "      <td>DFW</td>\n",
              "      <td>224</td>\n",
              "      <td>5.0</td>\n",
              "      <td>17.0</td>\n",
              "      <td>0</td>\n",
              "      <td>NaN</td>\n",
              "      <td>0</td>\n",
              "    </tr>\n",
              "    <tr>\n",
              "      <th>3</th>\n",
              "      <td>2011</td>\n",
              "      <td>1</td>\n",
              "      <td>4</td>\n",
              "      <td>2</td>\n",
              "      <td>1403.0</td>\n",
              "      <td>1513.0</td>\n",
              "      <td>AA</td>\n",
              "      <td>428</td>\n",
              "      <td>N403AA</td>\n",
              "      <td>70.0</td>\n",
              "      <td>39.0</td>\n",
              "      <td>3.0</td>\n",
              "      <td>3.0</td>\n",
              "      <td>IAH</td>\n",
              "      <td>DFW</td>\n",
              "      <td>224</td>\n",
              "      <td>9.0</td>\n",
              "      <td>22.0</td>\n",
              "      <td>0</td>\n",
              "      <td>NaN</td>\n",
              "      <td>0</td>\n",
              "    </tr>\n",
              "    <tr>\n",
              "      <th>4</th>\n",
              "      <td>2011</td>\n",
              "      <td>1</td>\n",
              "      <td>5</td>\n",
              "      <td>3</td>\n",
              "      <td>1405.0</td>\n",
              "      <td>1507.0</td>\n",
              "      <td>AA</td>\n",
              "      <td>428</td>\n",
              "      <td>N492AA</td>\n",
              "      <td>62.0</td>\n",
              "      <td>44.0</td>\n",
              "      <td>-3.0</td>\n",
              "      <td>5.0</td>\n",
              "      <td>IAH</td>\n",
              "      <td>DFW</td>\n",
              "      <td>224</td>\n",
              "      <td>9.0</td>\n",
              "      <td>9.0</td>\n",
              "      <td>0</td>\n",
              "      <td>NaN</td>\n",
              "      <td>0</td>\n",
              "    </tr>\n",
              "  </tbody>\n",
              "</table>\n",
              "</div>"
            ],
            "text/plain": [
              "   Year  Month  DayofMonth  ...  Cancelled  CancellationCode  Diverted\n",
              "0  2011      1           1  ...          0               NaN         0\n",
              "1  2011      1           2  ...          0               NaN         0\n",
              "2  2011      1           3  ...          0               NaN         0\n",
              "3  2011      1           4  ...          0               NaN         0\n",
              "4  2011      1           5  ...          0               NaN         0\n",
              "\n",
              "[5 rows x 21 columns]"
            ]
          },
          "metadata": {
            "tags": []
          },
          "execution_count": 1
        }
      ]
    },
    {
      "cell_type": "code",
      "metadata": {
        "id": "C9Xx8tejZo9F",
        "colab_type": "code",
        "colab": {
          "base_uri": "https://localhost:8080/",
          "height": 173
        },
        "outputId": "6b39ebe2-b877-4c3a-9a3b-048bd05a12fe"
      },
      "source": [
        "# get summary statistics for the DepDelay variable\n",
        "hf.DepDelay.describe()"
      ],
      "execution_count": null,
      "outputs": [
        {
          "output_type": "execute_result",
          "data": {
            "text/plain": [
              "count    19785.000000\n",
              "mean         8.297700\n",
              "std         23.934218\n",
              "min        -18.000000\n",
              "25%         -3.000000\n",
              "50%          1.000000\n",
              "75%         10.000000\n",
              "max        780.000000\n",
              "Name: DepDelay, dtype: float64"
            ]
          },
          "metadata": {
            "tags": []
          },
          "execution_count": 2
        }
      ]
    },
    {
      "cell_type": "code",
      "metadata": {
        "scrolled": true,
        "id": "1MDemgE9Zo9I",
        "colab_type": "code",
        "colab": {
          "base_uri": "https://localhost:8080/",
          "height": 281
        },
        "outputId": "5a324874-eff8-4a4d-b141-913227048c9c"
      },
      "source": [
        "# create a graphic showing the distribution of the non-null DepDelay\n",
        "# values\n",
        "sns.distplot(hf[hf[\"DepDelay\"].notnull()].DepDelay);"
      ],
      "execution_count": null,
      "outputs": [
        {
          "output_type": "display_data",
          "data": {
            "image/png": "[encoded data removed]",
            "text/plain": [
              "<Figure size 432x288 with 1 Axes>"
            ]
          },
          "metadata": {
            "tags": [],
            "needs_background": "light"
          }
        }
      ]
    },
    {
      "cell_type": "markdown",
      "metadata": {
        "id": "x8tH-5FQZo9W",
        "colab_type": "text"
      },
      "source": [
        "Note the severe right skew of the distribution for the DepDelay variable: there seems to be obvious evidence of outlier values, and those outliers are likely to be having a tangible impact on both the distribution AND the summary statistics for the variable (e.g., the mean value)."
      ]
    },
    {
      "cell_type": "code",
      "metadata": {
        "id": "VY1NYuNpZo9W",
        "colab_type": "code",
        "colab": {
          "base_uri": "https://localhost:8080/",
          "height": 985
        },
        "outputId": "da475a88-5ab1-4a20-cc01-3b8a367dfa56"
      },
      "source": [
        "# find all hflight rows that have DepDelay values whose values are > \n",
        "# 2.5 standard deviations from the mean of data in that column\n",
        "vals = [2.5,3,4,5]\n",
        "for k in vals:\n",
        "  depdel_outliers = hf[np.abs(hf['DepDelay'] - hf['DepDelay'].mean() ) > (k * hf['DepDelay'].std() )]\n",
        "  print(\"Info for a standard deviation of \" + str(k) + \":\")\n",
        "  print(\"The shape is: \" + str(depdel_outliers.shape))\n",
        "  print(f\"The percentage of outliers is {depdel_outliers.shape[0]/hf.shape[0]:.3%}.\")\n",
        "  print(depdel_outliers.DepDelay.describe())\n",
        "  print(\"\\n\")"
      ],
      "execution_count": null,
      "outputs": [
        {
          "output_type": "stream",
          "text": [
            "Info for a standard deviation of 2.5:\n",
            "The shape is: (529, 21)\n",
            "The percentage of outliers is 2.645%.\n",
            "count    529.000000\n",
            "mean     114.325142\n",
            "std       57.401927\n",
            "min       69.000000\n",
            "25%       79.000000\n",
            "50%       97.000000\n",
            "75%      131.000000\n",
            "max      780.000000\n",
            "Name: DepDelay, dtype: float64\n",
            "\n",
            "\n",
            "Info for a standard deviation of 3:\n",
            "The shape is: (384, 21)\n",
            "The percentage of outliers is 1.920%.\n",
            "count    384.000000\n",
            "mean     129.619792\n",
            "std       60.680486\n",
            "min       81.000000\n",
            "25%       93.750000\n",
            "50%      112.500000\n",
            "75%      146.000000\n",
            "max      780.000000\n",
            "Name: DepDelay, dtype: float64\n",
            "\n",
            "\n",
            "Info for a standard deviation of 4:\n",
            "The shape is: (232, 21)\n",
            "The percentage of outliers is 1.160%.\n",
            "count    232.000000\n",
            "mean     155.073276\n",
            "std       66.582623\n",
            "min      105.000000\n",
            "25%      117.000000\n",
            "50%      137.000000\n",
            "75%      170.250000\n",
            "max      780.000000\n",
            "Name: DepDelay, dtype: float64\n",
            "\n",
            "\n",
            "Info for a standard deviation of 5:\n",
            "The shape is: (143, 21)\n",
            "The percentage of outliers is 0.715%.\n",
            "count    143.000000\n",
            "mean     180.181818\n",
            "std       74.350203\n",
            "min      128.000000\n",
            "25%      140.000000\n",
            "50%      161.000000\n",
            "75%      193.500000\n",
            "max      780.000000\n",
            "Name: DepDelay, dtype: float64\n",
            "\n",
            "\n"
          ],
          "name": "stdout"
        }
      ]
    },
    {
      "cell_type": "markdown",
      "metadata": {
        "id": "a6GDbnP5Zo9i",
        "colab_type": "text"
      },
      "source": [
        "We find that the 143 flights falling more than 5 standard deviations from the\n",
        "mean DepDeplay value have an average departure delay of more than 3 hours and a median departure delay of 161 minutes."
      ]
    },
    {
      "cell_type": "markdown",
      "metadata": {
        "id": "mun3s37KZo9m",
        "colab_type": "text"
      },
      "source": [
        "What happens to the summary statistics for the DepDelay variable if we remove these 143 extreme outliers?"
      ]
    },
    {
      "cell_type": "code",
      "metadata": {
        "id": "CI-Uabv4Zo9m",
        "colab_type": "code",
        "colab": {
          "base_uri": "https://localhost:8080/",
          "height": 34
        },
        "outputId": "05c49cb8-80fc-407a-e2ea-5cbfb35f9de3"
      },
      "source": [
        "# create a temporary series for the DepDelay variable\n",
        "DepDelay_temp = hf.DepDelay\n",
        "DepDelay_temp.shape"
      ],
      "execution_count": null,
      "outputs": [
        {
          "output_type": "execute_result",
          "data": {
            "text/plain": [
              "(20000,)"
            ]
          },
          "metadata": {
            "tags": []
          },
          "execution_count": 6
        }
      ]
    },
    {
      "cell_type": "code",
      "metadata": {
        "id": "NcjPEyR3Zo9q",
        "colab_type": "code",
        "colab": {},
        "outputId": "c36096f0-3220-4f8e-86fa-e1bc157edbac"
      },
      "source": [
        "# now remove the extreme outliers from the temporary series\n",
        "DD2 = DepDelay_temp.drop(depdel_outliers.index.values)\n",
        "DD2.shape"
      ],
      "execution_count": null,
      "outputs": [
        {
          "output_type": "execute_result",
          "data": {
            "text/plain": [
              "(19857,)"
            ]
          },
          "metadata": {
            "tags": []
          },
          "execution_count": 11
        }
      ]
    },
    {
      "cell_type": "code",
      "metadata": {
        "scrolled": true,
        "id": "hgkDiLQhZo9s",
        "colab_type": "code",
        "colab": {},
        "outputId": "4e149753-fd5d-4732-d9f4-2f89e1549da6"
      },
      "source": [
        "# get summary statistics after the extreme outliers have been removed\n",
        "DD2.describe()"
      ],
      "execution_count": null,
      "outputs": [
        {
          "output_type": "execute_result",
          "data": {
            "text/plain": [
              "count    19642.000000\n",
              "mean         7.046329\n",
              "std         17.899270\n",
              "min        -18.000000\n",
              "25%         -3.000000\n",
              "50%          1.000000\n",
              "75%         10.000000\n",
              "max        127.000000\n",
              "Name: DepDelay, dtype: float64"
            ]
          },
          "metadata": {
            "tags": []
          },
          "execution_count": 12
        }
      ]
    },
    {
      "cell_type": "markdown",
      "metadata": {
        "id": "3d2LsRecZo9w",
        "colab_type": "text"
      },
      "source": [
        "Note how the mean decreased from 8.2977 to 7.046 while the standard deviation decreased from 23.934218 to 17.899: these are significant changes, i.e.,  the __mean__ value has __decreased__ by __more than 15%__ while the __standard deviation__ value has __decreased__ by __more than 25%__.\n",
        "\n",
        "Let's look at how the removal of the extreme outliers effected the distribution of the variable:"
      ]
    },
    {
      "cell_type": "markdown",
      "metadata": {
        "id": "Il9H7X2vZo90",
        "colab_type": "text"
      },
      "source": [
        "Let's make a facet plot showing how these DepDelay outliers are distributed by UniqueCarrier and Origin:"
      ]
    },
    {
      "cell_type": "code",
      "metadata": {
        "id": "lMit6bblZo92",
        "colab_type": "code",
        "colab": {
          "base_uri": "https://localhost:8080/",
          "height": 369
        },
        "outputId": "204e843f-b084-4a16-bf89-786641800875"
      },
      "source": [
        "# facet grid for UniqueCarrier vs. DepDelay outliers by point of origin\n",
        "# NOTE: the 'factorplot()' function has been renamed to \"catplot()\"\n",
        "\n",
        "sns.catplot(x='UniqueCarrier', y='DepDelay', col='Origin',\n",
        "               kind='bar', data= depdel_outliers);"
      ],
      "execution_count": null,
      "outputs": [
        {
          "output_type": "display_data",
          "data": {
            "image/png": "[encoded data removed]",
            "text/plain": [
              "<Figure size 720x360 with 2 Axes>"
            ]
          },
          "metadata": {
            "tags": [],
            "needs_background": "light"
          }
        }
      ]
    },
    {
      "cell_type": "markdown",
      "metadata": {
        "id": "mbILYr-dZo-A",
        "colab_type": "text"
      },
      "source": [
        "We see that airlines flying out of IAH appear to experience longer average extreme departure delays than do airlines flying out of HOU. What might be the reason for this? \n",
        "\n",
        "We also see that Delta ('DL') seems to experience the highest average severe departure delays of the airlines flying out of IAH. Let's see if we can identify the destinations most impacted by such delays:"
      ]
    },
    {
      "cell_type": "code",
      "metadata": {
        "id": "OD9p0bkzZo-C",
        "colab_type": "code",
        "colab": {
          "base_uri": "https://localhost:8080/",
          "height": 158
        },
        "outputId": "95c4eb2b-1689-4fa6-be77-30da2b58b762"
      },
      "source": [
        "# display a list of extreme departure delays for Delta w origin = IAH\n",
        "depdel_outliers[(depdel_outliers.UniqueCarrier == 'DL') & (depdel_outliers.Origin == 'IAH')]"
      ],
      "execution_count": null,
      "outputs": [
        {
          "output_type": "execute_result",
          "data": {
            "text/html": [
              "<div>\n",
              "<style scoped>\n",
              "    .dataframe tbody tr th:only-of-type {\n",
              "        vertical-align: middle;\n",
              "    }\n",
              "\n",
              "    .dataframe tbody tr th {\n",
              "        vertical-align: top;\n",
              "    }\n",
              "\n",
              "    .dataframe thead th {\n",
              "        text-align: right;\n",
              "    }\n",
              "</style>\n",
              "<table border=\"1\" class=\"dataframe\">\n",
              "  <thead>\n",
              "    <tr style=\"text-align: right;\">\n",
              "      <th></th>\n",
              "      <th>Year</th>\n",
              "      <th>Month</th>\n",
              "      <th>DayofMonth</th>\n",
              "      <th>DayOfWeek</th>\n",
              "      <th>DepTime</th>\n",
              "      <th>ArrTime</th>\n",
              "      <th>UniqueCarrier</th>\n",
              "      <th>FlightNum</th>\n",
              "      <th>TailNum</th>\n",
              "      <th>ActualElapsedTime</th>\n",
              "      <th>AirTime</th>\n",
              "      <th>ArrDelay</th>\n",
              "      <th>DepDelay</th>\n",
              "      <th>Origin</th>\n",
              "      <th>Dest</th>\n",
              "      <th>Distance</th>\n",
              "      <th>TaxiIn</th>\n",
              "      <th>TaxiOut</th>\n",
              "      <th>Cancelled</th>\n",
              "      <th>CancellationCode</th>\n",
              "      <th>Diverted</th>\n",
              "    </tr>\n",
              "  </thead>\n",
              "  <tbody>\n",
              "    <tr>\n",
              "      <th>6507</th>\n",
              "      <td>2011</td>\n",
              "      <td>1</td>\n",
              "      <td>12</td>\n",
              "      <td>3</td>\n",
              "      <td>1038.0</td>\n",
              "      <td>1340.0</td>\n",
              "      <td>DL</td>\n",
              "      <td>1900</td>\n",
              "      <td>N934DL</td>\n",
              "      <td>122.0</td>\n",
              "      <td>88.0</td>\n",
              "      <td>210.0</td>\n",
              "      <td>218.0</td>\n",
              "      <td>IAH</td>\n",
              "      <td>ATL</td>\n",
              "      <td>689</td>\n",
              "      <td>21.0</td>\n",
              "      <td>13.0</td>\n",
              "      <td>0</td>\n",
              "      <td>NaN</td>\n",
              "      <td>0</td>\n",
              "    </tr>\n",
              "    <tr>\n",
              "      <th>6529</th>\n",
              "      <td>2011</td>\n",
              "      <td>1</td>\n",
              "      <td>15</td>\n",
              "      <td>6</td>\n",
              "      <td>941.0</td>\n",
              "      <td>1230.0</td>\n",
              "      <td>DL</td>\n",
              "      <td>1248</td>\n",
              "      <td>N366NB</td>\n",
              "      <td>109.0</td>\n",
              "      <td>86.0</td>\n",
              "      <td>223.0</td>\n",
              "      <td>236.0</td>\n",
              "      <td>IAH</td>\n",
              "      <td>ATL</td>\n",
              "      <td>689</td>\n",
              "      <td>8.0</td>\n",
              "      <td>15.0</td>\n",
              "      <td>0</td>\n",
              "      <td>NaN</td>\n",
              "      <td>0</td>\n",
              "    </tr>\n",
              "    <tr>\n",
              "      <th>6532</th>\n",
              "      <td>2011</td>\n",
              "      <td>1</td>\n",
              "      <td>15</td>\n",
              "      <td>6</td>\n",
              "      <td>1737.0</td>\n",
              "      <td>2035.0</td>\n",
              "      <td>DL</td>\n",
              "      <td>1590</td>\n",
              "      <td>N762NC</td>\n",
              "      <td>118.0</td>\n",
              "      <td>94.0</td>\n",
              "      <td>487.0</td>\n",
              "      <td>488.0</td>\n",
              "      <td>IAH</td>\n",
              "      <td>ATL</td>\n",
              "      <td>689</td>\n",
              "      <td>6.0</td>\n",
              "      <td>18.0</td>\n",
              "      <td>0</td>\n",
              "      <td>NaN</td>\n",
              "      <td>0</td>\n",
              "    </tr>\n",
              "  </tbody>\n",
              "</table>\n",
              "</div>"
            ],
            "text/plain": [
              "      Year  Month  DayofMonth  ...  Cancelled  CancellationCode  Diverted\n",
              "6507  2011      1          12  ...          0               NaN         0\n",
              "6529  2011      1          15  ...          0               NaN         0\n",
              "6532  2011      1          15  ...          0               NaN         0\n",
              "\n",
              "[3 rows x 21 columns]"
            ]
          },
          "metadata": {
            "tags": []
          },
          "execution_count": 8
        }
      ]
    },
    {
      "cell_type": "markdown",
      "metadata": {
        "id": "Zxa0rMsWZo-I",
        "colab_type": "text"
      },
      "source": [
        "From the table above we can see there were three extreme departure delays for Delta having an origin of IAH, all of them having a destination of 'ATL', and two of them occurred on the same day 1-15-2001."
      ]
    },
    {
      "cell_type": "markdown",
      "metadata": {
        "id": "rCtouw-yZo-J",
        "colab_type": "text"
      },
      "source": [
        "Let's create a facet plot showing how these extreme departure delays are distributed by the day of the week for each point of origin:"
      ]
    },
    {
      "cell_type": "code",
      "metadata": {
        "id": "gW5BRCslZo-L",
        "colab_type": "code",
        "colab": {},
        "outputId": "d24ef15e-0e4f-4768-ce1b-b636b72bef1f"
      },
      "source": [
        "# facet grid for Dest vs. DepDelay outliers by point of origin\n",
        "# NOTE: the 'factorplot()' function has been renamed to \"catplot()\"\n",
        "\n",
        "sns.catplot(x='DayOfWeek', y='DepDelay', col='Origin',\n",
        "               kind='bar', data= depdel_outliers);"
      ],
      "execution_count": null,
      "outputs": [
        {
          "output_type": "display_data",
          "data": {
            "image/png": "[encoded data removed]",
            "text/plain": [
              "<Figure size 720x360 with 2 Axes>"
            ]
          },
          "metadata": {
            "tags": [],
            "needs_background": "light"
          }
        }
      ]
    },
    {
      "cell_type": "markdown",
      "metadata": {
        "id": "V77UKDpGZo-Q",
        "colab_type": "text"
      },
      "source": [
        "\n",
        "<br>\n",
        "<br>\n",
        "\n",
        "# __Assignment 2__\n",
        "\n",
        "</br>\n",
        "</br>"
      ]
    },
    {
      "cell_type": "markdown",
      "metadata": {
        "id": "k-RDcc_J2vyW",
        "colab_type": "text"
      },
      "source": [
        "We will be explore and “clean” a data set that suffers from a variety of data integrity + usability issues. The data is comprised of more than 12,700 wines, with many of the attributes being related to the chemical composition of the wines.\n",
        "\n",
        "![Data](https://drive.google.com/uc?export=view&id=15nrrtFFm__59Nb79fMxjx2FQohS-ngJS)\n",
        "\n",
        "<br>\n",
        "\n",
        "### **Assignment Steps**:\n",
        "\n",
        "1. Load the provided Day2_Data.csv file to your Github Repository. \n",
        "\n",
        "2. Use Jupyter or Colab to read the data set from your Github repository and load it into a Pandas dataframe. Summarize the problem and explain how you plan to address it. \n",
        "\n",
        "3. Perform an exploratory data analysis (EDA). It should include any insights of the attributes and accompanying exploratory graphics (e.g., bar plots, box plots, histograms, line plots, etc.). It is up to you as the data science practitioner to decide how you go about your EDA, including selecting appropriate statistical metrics to be calculated and which types of exploratory graphics to make use of. You should also identify any and all potential data integrity issues (e.g., missing data values; invalid data values; etc.) and determine whether any data attributes might need to be transformed prior to being used within a machine learning model. Provide an EDA that is thorough and succinct without it being so detailed that a reader will lose interest in it. \n",
        "\n",
        "4. Perform appropriate data preparation tasks relative to the data integrity and usability issues identified via EDA work. Describe the ways in which you have transformed / prepared the data for use within a machine learning algorithm, e.g., have you deleted any observations? Used imputation to fill missing data values? Created any new variables? Transformed data via mathematical transforms (e.g., Box-Cox, logarithms, etc.) or binning? etc. Be sure to explain your justification for each adjustment you have made to the data.\n",
        "\n",
        "5. Re-run your EDA on any variables you have adjusted during Data Preparation and compare / contrast your results to those you saw prior to performing your Data Preparation adjustments. Describe how each of your Data Preparation adjustments have improved the data set for purposes of using it within a machine learning algorithm. \n",
        "\n"
      ]
    }
  ]
}
