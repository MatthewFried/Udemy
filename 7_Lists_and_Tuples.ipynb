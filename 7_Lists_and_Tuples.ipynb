{
  "nbformat": 4,
  "nbformat_minor": 0,
  "metadata": {
    "colab": {
      "name": "7 Lists and Tuples.ipynb",
      "provenance": [],
      "authorship_tag": "ABX9TyPalkJAlcKObKsQ8tC1jujr",
      "include_colab_link": true
    },
    "kernelspec": {
      "name": "python3",
      "display_name": "Python 3"
    }
  },
  "cells": [
    {
      "cell_type": "markdown",
      "metadata": {
        "id": "view-in-github",
        "colab_type": "text"
      },
      "source": [
        "<a href=\"https://colab.research.google.com/github/MatthewFried/Udemy/blob/master/7_Lists_and_Tuples.ipynb\" target=\"_parent\"><img src=\"https://colab.research.google.com/assets/colab-badge.svg\" alt=\"Open In Colab\"/></a>"
      ]
    },
    {
      "cell_type": "markdown",
      "metadata": {
        "id": "Z8Mmk4QC4Eg5",
        "colab_type": "text"
      },
      "source": [
        "# __Lists and Tuples__\n",
        "\n",
        "- A sequence is an object that contains multiple items of data.\n",
        "\n",
        "- A list is an object that contains multiple data items. Lists are mutable, which means that their contents can be changed during a program’s execution. Lists are dynamic data structures, meaning that items may be added to them or removed from them. You can use indexing, slicing, and various methods to work with lists in a program.\n"
      ]
    },
    {
      "cell_type": "code",
      "metadata": {
        "id": "5jv4XAdh3uNd",
        "colab_type": "code",
        "colab": {
          "base_uri": "https://localhost:8080/",
          "height": 50
        },
        "outputId": "f91c4d7e-51d7-4b07-8fdd-a5e8efe32d00"
      },
      "source": [
        "even_numbers = [2, 4, 6, 8, 10]\n",
        "odd_numbers = [1,3,5,7,9]\n",
        "names = ['alice', 'bob']\n",
        "stuff = ['razors', 'tasers', 9, 11.3]\n",
        "\n",
        "print(even_numbers)\n",
        "print(odd_numbers)\n",
        "print(names)\n",
        "print(stuff)"
      ],
      "execution_count": null,
      "outputs": [
        {
          "output_type": "stream",
          "text": [
            "[2, 4, 6, 8, 10]\n",
            "[1, 3, 5, 7, 9]\n"
          ],
          "name": "stdout"
        }
      ]
    },
    {
      "cell_type": "code",
      "metadata": {
        "id": "NPlvC0fY44f2",
        "colab_type": "code",
        "colab": {
          "base_uri": "https://localhost:8080/",
          "height": 50
        },
        "outputId": "a295fee1-6934-43e3-8183-8f27a442315a"
      },
      "source": [
        "#make a list of numbers with range\n",
        "numbers = list(range(1, 20, 3))\n",
        "print(numbers)\n",
        "\n",
        "#use multiplication\n",
        "#it copies the list\n",
        "numbers = numbers*5\n",
        "print(numbers)\n",
        "\n",
        "#another example which creates a list and multiplies at the same time\n",
        "values = [1, 2, 3] * 3\n",
        "print(values)"
      ],
      "execution_count": null,
      "outputs": [
        {
          "output_type": "stream",
          "text": [
            "[1, 4, 7, 10, 13, 16, 19]\n",
            "[1, 4, 7, 10, 13, 16, 19, 1, 4, 7, 10, 13, 16, 19, 1, 4, 7, 10, 13, 16, 19, 1, 4, 7, 10, 13, 16, 19, 1, 4, 7, 10, 13, 16, 19]\n"
          ],
          "name": "stdout"
        }
      ]
    },
    {
      "cell_type": "code",
      "metadata": {
        "id": "_3jqXiel6i0r",
        "colab_type": "code",
        "colab": {
          "base_uri": "https://localhost:8080/",
          "height": 84
        },
        "outputId": "9ebb33b5-6276-4c20-dfa6-65009bfd103f"
      },
      "source": [
        "#another way to print a list\n",
        "not_numbers = ['alpha', 'beta'] * 2\n",
        "for k in not_numbers:\n",
        "  print(k)"
      ],
      "execution_count": null,
      "outputs": [
        {
          "output_type": "stream",
          "text": [
            "alpha\n",
            "beta\n",
            "alpha\n",
            "beta\n"
          ],
          "name": "stdout"
        }
      ]
    },
    {
      "cell_type": "markdown",
      "metadata": {
        "id": "P7PPlt1L62n6",
        "colab_type": "text"
      },
      "source": [
        "### Indexing"
      ]
    },
    {
      "cell_type": "code",
      "metadata": {
        "id": "nTsbcOMd64fA",
        "colab_type": "code",
        "colab": {
          "base_uri": "https://localhost:8080/",
          "height": 50
        },
        "outputId": "d650a327-7880-4208-875f-824a31fb0f3c"
      },
      "source": [
        "my_list = [10, 20, 30, 40]\n",
        "print(my_list[0])\n",
        "print(my_list[-1])\n",
        "print(len(my_list))"
      ],
      "execution_count": null,
      "outputs": [
        {
          "output_type": "stream",
          "text": [
            "10\n",
            "40\n"
          ],
          "name": "stdout"
        }
      ]
    },
    {
      "cell_type": "code",
      "metadata": {
        "id": "MXVbt7IW6-7Q",
        "colab_type": "code",
        "colab": {
          "base_uri": "https://localhost:8080/",
          "height": 185
        },
        "outputId": "3f73f57b-3f41-4030-bb18-a19360befc38"
      },
      "source": [
        " my_list = list(range(1,100,2))\n",
        " index = 0\n",
        " while index < 10:\n",
        "     print(my_list[index])\n",
        "     index += 1"
      ],
      "execution_count": null,
      "outputs": [
        {
          "output_type": "stream",
          "text": [
            "1\n",
            "3\n",
            "5\n",
            "7\n",
            "9\n",
            "11\n",
            "13\n",
            "15\n",
            "17\n",
            "19\n"
          ],
          "name": "stdout"
        }
      ]
    },
    {
      "cell_type": "code",
      "metadata": {
        "id": "9uu1ZuGC7Ypr",
        "colab_type": "code",
        "colab": {}
      },
      "source": [
        "my_list = [1, 2, 3, 5]\n",
        "index = 0\n",
        "while index < len(my_list):\n",
        "  print(my_list[index])\n",
        "  index += 1"
      ],
      "execution_count": null,
      "outputs": []
    },
    {
      "cell_type": "code",
      "metadata": {
        "id": "zR5RWQ8r7rqd",
        "colab_type": "code",
        "colab": {
          "base_uri": "https://localhost:8080/",
          "height": 128
        },
        "outputId": "37e2b1bc-f1c0-4644-8143-650edfde26c4"
      },
      "source": [
        "NUM_DAYS = 5\n",
        "\n",
        "def main():\n",
        "# Create a list to hold the sales for each day.\n",
        " sales = [0] * NUM_DAYS\n",
        "\n",
        " print('Enter the sales for each day.')\n",
        "\n",
        "# Get the sales for each day.\n",
        " for index in range(len(sales)):\n",
        "  sales[index] = float(input(f'Day #{index + 1}: '))\n",
        "\n",
        "#print out the sales\n",
        " print('\\nThe sales are: ')\n",
        " for value in sales:\n",
        "   print(value)\n",
        "\n",
        "if __name__ == '__main__':\n",
        "  main()"
      ],
      "execution_count": null,
      "outputs": [
        {
          "output_type": "error",
          "ename": "IndentationError",
          "evalue": "ignored",
          "traceback": [
            "\u001b[0;36m  File \u001b[0;32m\"<ipython-input-14-5905da8230e4>\"\u001b[0;36m, line \u001b[0;32m14\u001b[0m\n\u001b[0;31m    print(sales)\u001b[0m\n\u001b[0m    ^\u001b[0m\n\u001b[0;31mIndentationError\u001b[0m\u001b[0;31m:\u001b[0m unexpected indent\n"
          ]
        }
      ]
    },
    {
      "cell_type": "markdown",
      "metadata": {
        "id": "-K21XqnH8iux",
        "colab_type": "text"
      },
      "source": [
        "### A Better Approach\n",
        "\n",
        "Use append"
      ]
    },
    {
      "cell_type": "code",
      "metadata": {
        "id": "OROidREF8oUx",
        "colab_type": "code",
        "colab": {
          "base_uri": "https://localhost:8080/",
          "height": 202
        },
        "outputId": "49ea2357-4015-4bca-c9bd-2402678cf583"
      },
      "source": [
        "NUM_DAYS = 5\n",
        "\n",
        "def main():\n",
        "# Create a list to hold the sales for each day.\n",
        " sales = []\n",
        "\n",
        " print('Enter the sales for each day.')\n",
        "\n",
        "# Get the sales for each day.\n",
        " for index in range(NUM_DAYS):\n",
        "  val = float(input(f'Day #{index + 1}: '))\n",
        "  sales.append(val)\n",
        "\n",
        "#print out the sales\n",
        " print('\\nThe sales are: ')\n",
        " for value in sales:\n",
        "   print(value)\n",
        "\n",
        "if __name__ == '__main__':\n",
        "  main()"
      ],
      "execution_count": null,
      "outputs": [
        {
          "output_type": "stream",
          "text": [
            "Enter the sales for each day.\n",
            "Day #1: 19\n",
            "Day #2: 20\n",
            "Day #3: 14\n",
            "Day #4: 1\n",
            "Day #5: 4\n",
            "19.0\n",
            "20.0\n",
            "14.0\n",
            "1.0\n",
            "4.0\n"
          ],
          "name": "stdout"
        }
      ]
    },
    {
      "cell_type": "markdown",
      "metadata": {
        "id": "KQ2WQRM89OLd",
        "colab_type": "text"
      },
      "source": [
        "### Put Lists Together\n",
        "\n",
        "Use the + operator to put lists together"
      ]
    },
    {
      "cell_type": "code",
      "metadata": {
        "id": "EaF97BU79TcT",
        "colab_type": "code",
        "colab": {}
      },
      "source": [
        "list1 = [1, 2, 3, 4]\n",
        "list2 = [5, 6, 7, 8]\n",
        "list3 = list1 + list2"
      ],
      "execution_count": null,
      "outputs": []
    },
    {
      "cell_type": "markdown",
      "metadata": {
        "id": "xQQ4bwhe9Zyh",
        "colab_type": "text"
      },
      "source": [
        "### Slice a List\n",
        "\n",
        "```python\n",
        "list_name[start : end]\n",
        "```\n",
        "\n",
        "Note: the index starts at 0"
      ]
    },
    {
      "cell_type": "code",
      "metadata": {
        "id": "7SeqtQU69hUM",
        "colab_type": "code",
        "colab": {
          "base_uri": "https://localhost:8080/",
          "height": 50
        },
        "outputId": "1766b965-556f-4936-f5af-c1b6948387a7"
      },
      "source": [
        "days = ['Sunday', 'Monday', 'Tuesday', 'Wednesday', 'Thursday', 'Friday', 'Saturday']\n",
        "just_weekdays = days[1:5]\n",
        "just_weekends = [days[-1], days[0]]\n",
        "\n",
        "print(just_weekdays)\n",
        "print(just_weekends)"
      ],
      "execution_count": null,
      "outputs": [
        {
          "output_type": "stream",
          "text": [
            "['Monday', 'Tuesday', 'Wednesday', 'Thursday']\n",
            "['Saturday', 'Sunday']\n"
          ],
          "name": "stdout"
        }
      ]
    },
    {
      "cell_type": "code",
      "metadata": {
        "id": "7eywMpMg9b80",
        "colab_type": "code",
        "colab": {
          "base_uri": "https://localhost:8080/",
          "height": 104
        },
        "outputId": "5d816105-4546-4f5e-c7d1-65f4aff35e09"
      },
      "source": [
        "#get part of a list\n",
        "\n",
        "x = list(range(1,101))\n",
        "\n",
        "#get 1 to 10 inclusive\n",
        "first_ten = x[:10]\n",
        "\n",
        "#get 91 to 100 inclusive\n",
        "last_ten = x[90:]\n",
        "\n",
        "#another way to get 91 to 100 inclusive\n",
        "another_way = x[-10:]\n",
        "\n",
        "#get every other number, starting from the second position\n",
        "every_other = x[1:len(x):2]\n",
        "\n",
        "print(first_ten)\n",
        "print(last_ten)\n",
        "print(another_way)\n",
        "print(every_other)"
      ],
      "execution_count": null,
      "outputs": [
        {
          "output_type": "stream",
          "text": [
            "[1, 2, 3, 4, 5, 6, 7, 8, 9, 10]\n",
            "[91, 92, 93, 94, 95, 96, 97, 98, 99, 100]\n",
            "[91, 92, 93, 94, 95, 96, 97, 98, 99, 100]\n",
            "[2, 4, 6, 8, 10, 12, 14, 16, 18, 20, 22, 24, 26, 28, 30, 32, 34, 36, 38, 40, 42, 44, 46, 48, 50, 52, 54, 56, 58, 60, 62, 64, 66, 68, 70, 72, 74, 76, 78, 80, 82, 84, 86, 88, 90, 92, 94, 96, 98, 100]\n"
          ],
          "name": "stdout"
        }
      ]
    },
    {
      "cell_type": "markdown",
      "metadata": {
        "id": "XtHYTWjC_xz4",
        "colab_type": "text"
      },
      "source": [
        "### Using Lists"
      ]
    },
    {
      "cell_type": "code",
      "metadata": {
        "id": "xm-9ntsc_zcN",
        "colab_type": "code",
        "colab": {
          "base_uri": "https://localhost:8080/",
          "height": 50
        },
        "outputId": "7b9655d4-8508-41cb-a6a1-1f6aded3a1d8"
      },
      "source": [
        "#search a list\n",
        "\n",
        "prod_nums = ['V475', 'F987', 'Q143', 'R688']\n",
        "search = input('Enter a product number: ')\n",
        "\n",
        "if search in prod_nums:\n",
        "  print(f'{search} was found in the list.')\n",
        "else:\n",
        "  print(f'{search} was not found in the list.')"
      ],
      "execution_count": null,
      "outputs": [
        {
          "output_type": "stream",
          "text": [
            "Enter a product number: V475\n",
            "V475 was found in the list.\n"
          ],
          "name": "stdout"
        }
      ]
    },
    {
      "cell_type": "markdown",
      "metadata": {
        "id": "Ntdt81y2AWQ2",
        "colab_type": "text"
      },
      "source": [
        "![Data](https://drive.google.com/uc?export=view&id=1h9qRoA6M6-n_i05ZHqUPXBnK7LzxZTp-)\n"
      ]
    },
    {
      "cell_type": "code",
      "metadata": {
        "id": "Ku5rK3vvAVS_",
        "colab_type": "code",
        "colab": {
          "base_uri": "https://localhost:8080/",
          "height": 185
        },
        "outputId": "6b45af34-7949-4246-cb5b-b915fdd49436"
      },
      "source": [
        "name_list = []\n",
        "again = 'y'\n",
        "\n",
        "while again == 'y':\n",
        "  name = input('Enter a name: ')\n",
        "  name_list.append(name)\n",
        "  print('Do you want to add another name?')\n",
        "  again = input('y = yes, anything else = no: ')\n",
        "  print()\n",
        "\n",
        "print('Here are the names you entered - sorted!')\n",
        "\n",
        "#sort the list\n",
        "name_list.sort()\n",
        "\n",
        "#print the list\n",
        "print(name_list)"
      ],
      "execution_count": null,
      "outputs": [
        {
          "output_type": "stream",
          "text": [
            "Enter a name: bob\n",
            "Do you want to add another name?\n",
            "y = yes, anything else = no: y\n",
            "\n",
            "Enter a name: alice\n",
            "Do you want to add another name?\n",
            "y = yes, anything else = no: n\n",
            "\n",
            "Here are the names you entered - sorted!\n",
            "['alice', 'bob']\n"
          ],
          "name": "stdout"
        }
      ]
    },
    {
      "cell_type": "code",
      "metadata": {
        "id": "Okc4T4HJBwC0",
        "colab_type": "code",
        "colab": {
          "base_uri": "https://localhost:8080/",
          "height": 101
        },
        "outputId": "0b51cd5a-ce06-4a45-a2bb-173b7c402130"
      },
      "source": [
        "#index and insert\n",
        "\n",
        "food = ['Pizza', 'Burgers', 'Chips']\n",
        "item = input('Which item should I change? ')\n",
        "item_index = food.index(item)\n",
        "new_item = input('Enter the new value: ')\n",
        "food[item_index] = new_item\n",
        "\n",
        "#insert another item at the front\n",
        "food.insert(0,'shakshuka')\n",
        "\n",
        "#check the list\n",
        "print(food)\n",
        "\n",
        "#insert an item at a specific position\n",
        "food.insert(2,'sambusa')\n",
        "\n",
        "#check the list\n",
        "print(food)\n",
        "\n",
        "#remove an item\n",
        "food.remove(\"Pizza\")\n",
        "\n",
        "#check the list\n",
        "print(food)"
      ],
      "execution_count": null,
      "outputs": [
        {
          "output_type": "stream",
          "text": [
            "Which item should I change? Burgers\n",
            "Enter the new value: A\n",
            "['shakshuka', 'Pizza', 'A', 'Chips']\n",
            "['shakshuka', 'Pizza', 'sambusa', 'A', 'Chips']\n",
            "['shakshuka', 'sambusa', 'A', 'Chips']\n"
          ],
          "name": "stdout"
        }
      ]
    },
    {
      "cell_type": "code",
      "metadata": {
        "id": "6nNW6HpxFuio",
        "colab_type": "code",
        "colab": {
          "base_uri": "https://localhost:8080/",
          "height": 84
        },
        "outputId": "12aa7df0-f0cf-42a7-ab63-5b5cc3c6c046"
      },
      "source": [
        "#reverse, min, and max\n",
        "import random \n",
        "\n",
        "my_list = []\n",
        "for i in range(10):\n",
        "  my_list.append(round(random.random(),2))\n",
        "\n",
        "print('Order: ', my_list)\n",
        "my_list.reverse()\n",
        "print('Reversed:', my_list)\n",
        "\n",
        "print('Max of the list: ', max(my_list))\n",
        "print('Min of the list: ', min(my_list))"
      ],
      "execution_count": null,
      "outputs": [
        {
          "output_type": "stream",
          "text": [
            "Order:  [0.99, 0.58, 0.2, 0.27, 0.25, 0.41, 0.88, 0.34, 0.33, 0.81]\n",
            "Reversed: [0.81, 0.33, 0.34, 0.88, 0.41, 0.25, 0.27, 0.2, 0.58, 0.99]\n",
            "Max of the list:  0.99\n",
            "Min of the list:  0.2\n"
          ],
          "name": "stdout"
        }
      ]
    },
    {
      "cell_type": "code",
      "metadata": {
        "id": "TAI6X1hkHacS",
        "colab_type": "code",
        "colab": {}
      },
      "source": [
        " #use del to delte a position regardless of what is there\n",
        " my_list = [1, 2, 3, 4, 5]\n",
        " print('Before deletion:', my_list)\n",
        " del my_list[2]\n",
        " print('After deletion:', my_list)"
      ],
      "execution_count": null,
      "outputs": []
    },
    {
      "cell_type": "markdown",
      "metadata": {
        "id": "7jhJrGyWIKak",
        "colab_type": "text"
      },
      "source": [
        "### Copy Lists"
      ]
    },
    {
      "cell_type": "code",
      "metadata": {
        "id": "y-zuaUC0HzE8",
        "colab_type": "code",
        "colab": {
          "base_uri": "https://localhost:8080/",
          "height": 50
        },
        "outputId": "d8381547-3300-45d7-9ea6-7dc7ed2ad50a"
      },
      "source": [
        " #copy a list\n",
        " list1 = [1, 2, 3, 4]\n",
        " # Assign the list to the list2 variable.\n",
        " list2 = list1\n",
        "\n",
        " list2.append('CHECK')\n",
        "\n",
        "#the problem is this way of copying makes them attached together in memory\n",
        " print(list1)\n",
        "\n",
        "#instead\n",
        "list3 = [] + list1\n",
        "list3.append('CAN IT BE')\n",
        "print(list1)\n"
      ],
      "execution_count": null,
      "outputs": [
        {
          "output_type": "stream",
          "text": [
            "[1, 2, 3, 4, 'CHECK']\n",
            "[1, 2, 3, 4, 'CHECK']\n"
          ],
          "name": "stdout"
        }
      ]
    },
    {
      "cell_type": "markdown",
      "metadata": {
        "id": "gZw1bsdnIpm7",
        "colab_type": "text"
      },
      "source": [
        "### Using Lists"
      ]
    },
    {
      "cell_type": "code",
      "metadata": {
        "id": "9fALHCtYItNK",
        "colab_type": "code",
        "colab": {
          "base_uri": "https://localhost:8080/",
          "height": 34
        },
        "outputId": "f352c4a2-e576-4e6b-d73e-33e2e698700d"
      },
      "source": [
        "#get the average\n",
        "#use a list in a function\n",
        "\n",
        "def avgFunc(theList):\n",
        " total = 0.0\n",
        " for k in theList:\n",
        "  total += k\n",
        " return total/len(my_list)\n",
        "\n",
        "my_list = []\n",
        "for i in range(10000):\n",
        "  my_list.append(round(random.random(),2))\n",
        "\n",
        "print(f'The average is: {avgFunc(my_list):.3}')\n"
      ],
      "execution_count": null,
      "outputs": [
        {
          "output_type": "stream",
          "text": [
            "The average is: 0.502\n"
          ],
          "name": "stdout"
        }
      ]
    },
    {
      "cell_type": "code",
      "metadata": {
        "id": "IEYNSResJ0r7",
        "colab_type": "code",
        "colab": {
          "base_uri": "https://localhost:8080/",
          "height": 34
        },
        "outputId": "0fd4c292-09a2-41d9-b376-99db9d162465"
      },
      "source": [
        "#create a list in a function\n",
        "\n",
        "def listMaker(size):\n",
        "  my_list = []\n",
        "  for i in range(size):\n",
        "    my_list.append(round(random.random(),2))\n",
        "  return my_list\n",
        "\n",
        "#test function\n",
        "print(listMaker(10))\n"
      ],
      "execution_count": null,
      "outputs": [
        {
          "output_type": "stream",
          "text": [
            "[0.82, 0.2, 0.66, 0.46, 0.92, 0.23, 0.47, 0.46, 0.4, 0.79]\n"
          ],
          "name": "stdout"
        }
      ]
    },
    {
      "cell_type": "code",
      "metadata": {
        "id": "jl_OnEgDKQXn",
        "colab_type": "code",
        "colab": {
          "base_uri": "https://localhost:8080/",
          "height": 50
        },
        "outputId": "14e63828-46f5-421a-cc14-5bc07205da58"
      },
      "source": [
        "#randomly select  winner from the list\n",
        "import random \n",
        "\n",
        "names = ['Aice', 'Bob', 'Jim Upstairs', 'Gribbly', 'Stan', 'Arthur'] \n",
        "\n",
        "#pick a winner\n",
        "winner = random.choice(names)\n",
        "\n",
        "#take the winner out of the list\n",
        "names.remove(winner)\n",
        "\n",
        "#congratulate the winner\n",
        "print(\"The winner is: \", winner)\n",
        "\n",
        "#get the 2 runner up prizes\n",
        "selected = random.choices(names, k=2)\n",
        "print('The runners up are: ', selected)"
      ],
      "execution_count": null,
      "outputs": [
        {
          "output_type": "stream",
          "text": [
            "The winnder is:  Bob\n",
            "The runners up are:  ['Stan', 'Jim Upstairs']\n"
          ],
          "name": "stdout"
        }
      ]
    },
    {
      "cell_type": "markdown",
      "metadata": {
        "id": "HJhTefoZLJCk",
        "colab_type": "text"
      },
      "source": [
        "## List Comprehension\n",
        "\n",
        "A list comprehension is a concise expression that creates a new list by iterating over the elements of an existing list."
      ]
    },
    {
      "cell_type": "markdown",
      "metadata": {
        "id": "Y5cs59aLLUqQ",
        "colab_type": "text"
      },
      "source": [
        "The following example is written first as the simple way and then as a list comprehension."
      ]
    },
    {
      "cell_type": "code",
      "metadata": {
        "id": "eFnf-wZaLMtm",
        "colab_type": "code",
        "colab": {
          "base_uri": "https://localhost:8080/",
          "height": 34
        },
        "outputId": "0736cfbe-34aa-49dc-f4be-6d578d117de0"
      },
      "source": [
        "list1 = [1, 2, 3, 4]\n",
        "list2 = []\n",
        "\n",
        "for item in list1:\n",
        "    list2.append(item**2)\n",
        "\n",
        "print(list2)"
      ],
      "execution_count": null,
      "outputs": [
        {
          "output_type": "stream",
          "text": [
            "[1, 4, 9, 16]\n"
          ],
          "name": "stdout"
        }
      ]
    },
    {
      "cell_type": "code",
      "metadata": {
        "id": "V7Sw2yimLeQA",
        "colab_type": "code",
        "colab": {
          "base_uri": "https://localhost:8080/",
          "height": 34
        },
        "outputId": "b86cb35d-2911-4fa0-dcc1-b0dfca159b40"
      },
      "source": [
        " list1 = [1, 2, 3, 4]\n",
        " list2 = [item**2 for item in list1]\n",
        " print(list2)"
      ],
      "execution_count": null,
      "outputs": [
        {
          "output_type": "stream",
          "text": [
            "[1, 4, 9, 16]\n"
          ],
          "name": "stdout"
        }
      ]
    },
    {
      "cell_type": "code",
      "metadata": {
        "id": "LxN52C-0Ln6V",
        "colab_type": "code",
        "colab": {
          "base_uri": "https://localhost:8080/",
          "height": 34
        },
        "outputId": "d63941e6-6ff0-4262-919c-c77e4929c2e1"
      },
      "source": [
        "#another example\n",
        "#get the length of each word in the list\n",
        "\n",
        "str_list = ['Winken', 'Blinken', 'Nod']\n",
        "len_list = []\n",
        "\n",
        "for s in str_list:\n",
        "     len_list.append(len(s))\n",
        "\n",
        "print(len_list)\n",
        "str_list = ['Winken', 'Blinken', 'Nod']\n",
        "len_list = [len(s) for s in str_list]\n",
        "print(len_list)"
      ],
      "execution_count": null,
      "outputs": [
        {
          "output_type": "stream",
          "text": [
            "[6, 7, 3]\n"
          ],
          "name": "stdout"
        }
      ]
    },
    {
      "cell_type": "code",
      "metadata": {
        "id": "B-ig1yeKL2RB",
        "colab_type": "code",
        "colab": {}
      },
      "source": [
        "str_list = ['Winken', 'Blinken', 'Nod']\n",
        "len_list = [len(s) for s in str_list]\n",
        "print(len_list)"
      ],
      "execution_count": null,
      "outputs": []
    },
    {
      "cell_type": "code",
      "metadata": {
        "id": "3b7yNzTSL6Fx",
        "colab_type": "code",
        "colab": {
          "base_uri": "https://localhost:8080/",
          "height": 50
        },
        "outputId": "59a2505f-15af-4af3-b1a3-a097f972fa8c"
      },
      "source": [
        "#use an if statement in a list comprehension\n",
        "import random\n",
        "\n",
        "#get a list\n",
        "list1 = []\n",
        "for k in range(20):\n",
        "  list1.append(random.randint(1,100))\n",
        "\n",
        "print(list1)\n",
        "\n",
        "#get a list of the items whose values are less than 20 by using list comprehension\n",
        "list2 = [item for item in list1 if item < 20]\n",
        "print(list2)"
      ],
      "execution_count": null,
      "outputs": [
        {
          "output_type": "stream",
          "text": [
            "[30, 5, 28, 51, 10, 78, 3, 95, 78, 42, 64, 92, 14, 65, 81, 15, 30, 52, 28, 14]\n",
            "[5, 10, 3, 14, 15, 14]\n"
          ],
          "name": "stdout"
        }
      ]
    },
    {
      "cell_type": "markdown",
      "metadata": {
        "id": "NLxQ5xMbviI6",
        "colab_type": "text"
      },
      "source": [
        "## Lists of Lists"
      ]
    },
    {
      "cell_type": "markdown",
      "metadata": {
        "id": "b9OXnJZrwASA",
        "colab_type": "text"
      },
      "source": [
        "![Data](https://drive.google.com/uc?export=view&id=199KnPGmklc8C3wGll8VVNckTunHajjhP)"
      ]
    },
    {
      "cell_type": "code",
      "metadata": {
        "id": "yqfN9v14vkfk",
        "colab_type": "code",
        "colab": {
          "base_uri": "https://localhost:8080/",
          "height": 50
        },
        "outputId": "0af68755-5d52-4878-af37-5ce68e177a53"
      },
      "source": [
        "students = [['Joe', 'Kim'], ['Sam', 'Sue'], ['Kelly', 'Chris']]\n",
        "print(students[0])\n",
        "print(students[0][0])"
      ],
      "execution_count": null,
      "outputs": [
        {
          "output_type": "stream",
          "text": [
            "['Joe', 'Kim']\n",
            "Joe\n"
          ],
          "name": "stdout"
        }
      ]
    },
    {
      "cell_type": "code",
      "metadata": {
        "id": "LgBw20NzwFmG",
        "colab_type": "code",
        "colab": {
          "base_uri": "https://localhost:8080/",
          "height": 84
        },
        "outputId": "f4ced431-ec69-4abf-f5e6-a5c7314d898d"
      },
      "source": [
        "#create a function to output a 2d array\n",
        "def output2D(values):\n",
        "  for row in values:\n",
        "   for column in row:\n",
        "     print(column, end = ' | ')\n",
        "  print('\\n')\n",
        "\n",
        "#create a function to change the values and pass back a 2d array\n",
        "def changeVals(values):\n",
        " for row in range(len(values)):\n",
        "  for column in range(len(values[1])):\n",
        "    values[row][column] = random.randint(1, 100)\n",
        "\n",
        "\n",
        "values = [[1, 2, 3], [4, 5, 6], [7,8,9]]  \n",
        "output2D(values)\n",
        "changeVals(values)\n",
        "output2D(values)\n",
        "\n"
      ],
      "execution_count": null,
      "outputs": [
        {
          "output_type": "stream",
          "text": [
            "1 | 2 | 3 | 4 | 5 | 6 | 7 | 8 | 9 | \n",
            "\n",
            "55 | 54 | 3 | 75 | 91 | 45 | 98 | 98 | 60 | \n",
            "\n"
          ],
          "name": "stdout"
        }
      ]
    },
    {
      "cell_type": "markdown",
      "metadata": {
        "id": "t3b4IB_ryzYL",
        "colab_type": "text"
      },
      "source": [
        "## Tuple\n",
        "\n",
        "Processing a tuple is faster than processing a list, so tuples are good choices when you are processing lots of data, and that data will not be modified. Another reason is that tuples are safe. Because you are not allowed to change the contents of a tuple, you can store data in one and rest assured that it will not be modified (accidentally or otherwise) by any code in your program."
      ]
    },
    {
      "cell_type": "code",
      "metadata": {
        "id": "RWbTXIRhy1eZ",
        "colab_type": "code",
        "colab": {
          "base_uri": "https://localhost:8080/",
          "height": 34
        },
        "outputId": "2e5cd029-658a-42fb-a894-ca8a391d6735"
      },
      "source": [
        "my_tuple = (1, 2, 3, 4, 5)\n",
        "print(my_tuple)"
      ],
      "execution_count": null,
      "outputs": [
        {
          "output_type": "stream",
          "text": [
            "(1, 2, 3, 4, 5)\n"
          ],
          "name": "stdout"
        }
      ]
    },
    {
      "cell_type": "code",
      "metadata": {
        "id": "JJm-gAGyzIKI",
        "colab_type": "code",
        "colab": {
          "base_uri": "https://localhost:8080/",
          "height": 34
        },
        "outputId": "bc278e37-b70b-4079-a176-93ab03f0258a"
      },
      "source": [
        "#convert between a list and a tuple\n",
        "number_tuple = (11, 14, 19, -4)\n",
        "number_list = list(number_tuple)\n",
        "print(number_list)"
      ],
      "execution_count": null,
      "outputs": [
        {
          "output_type": "stream",
          "text": [
            "[11, 14, 19, -4]\n"
          ],
          "name": "stdout"
        }
      ]
    },
    {
      "cell_type": "markdown",
      "metadata": {
        "id": "HJFZzX9qzTnm",
        "colab_type": "text"
      },
      "source": [
        "# Matplotlib\n",
        "\n",
        "* You may need to install it using - pip install matplotlib\n",
        "* Either way, afterwards, use: import matplotlib.pyplot"
      ]
    },
    {
      "cell_type": "code",
      "metadata": {
        "id": "PbgQt3KUzfjl",
        "colab_type": "code",
        "colab": {
          "base_uri": "https://localhost:8080/",
          "height": 284
        },
        "outputId": "a3281a36-043f-4d7f-88e2-117b865b1f9e"
      },
      "source": [
        "import matplotlib.pyplot as plt\n",
        "\n",
        "x_coords = [2, 4, 6, 8, 10, 12, 14]\n",
        "y_coords = [2.5, 3, 6.4, 10, 13, 15, 15.5]\n",
        "plt.plot(x_coords, y_coords)\n",
        "plt.show()"
      ],
      "execution_count": null,
      "outputs": [
        {
          "output_type": "execute_result",
          "data": {
            "text/plain": [
              "[<matplotlib.lines.Line2D at 0x7f147e049588>]"
            ]
          },
          "metadata": {
            "tags": []
          },
          "execution_count": 86
        },
        {
          "output_type": "display_data",
          "data": {
            "image/png": "[encoded data removed]",
            "text/plain": [
              "<Figure size 432x288 with 1 Axes>"
            ]
          },
          "metadata": {
            "tags": [],
            "needs_background": "light"
          }
        }
      ]
    },
    {
      "cell_type": "code",
      "metadata": {
        "id": "eav9gLIhz6_T",
        "colab_type": "code",
        "colab": {
          "base_uri": "https://localhost:8080/",
          "height": 295
        },
        "outputId": "32b66ef1-c176-4384-b067-5e2ec1e6a80f"
      },
      "source": [
        "\n",
        "x_coords = [2, 4, 6, 8, 10, 12, 14]\n",
        "y_coords = [2.5, 3, 6.4, 10, 13, 15, 15.5]\n",
        "\n",
        "plt.plot(x_coords, y_coords)\n",
        "plt.title('Sample Data')\n",
        "plt.xlabel('This is the X axis')\n",
        "plt.ylabel('This is the Y axis')\n",
        "plt.xlim(xmin=1, xmax=16)\n",
        "plt.ylim(ymin=1, ymax=16)\n",
        "plt.grid(True)\n",
        "\n",
        "#put markers on the data points\n",
        "#plt.xticks([2, 4, 8, 12, 14,15,16],['2016', '2017', '2018', '2019', '2020'])\n",
        "#plt.yticks(list(range(1,20,3)), ['$0m', '$1m', '$2m', '$3m', '$4m'])\n",
        "\n",
        "plt.show()\n"
      ],
      "execution_count": null,
      "outputs": [
        {
          "output_type": "display_data",
          "data": {
            "image/png": "[encoded data removed]",
            "text/plain": [
              "<Figure size 432x288 with 1 Axes>"
            ]
          },
          "metadata": {
            "tags": [],
            "needs_background": "light"
          }
        }
      ]
    },
    {
      "cell_type": "markdown",
      "metadata": {
        "id": "N6iPNR480dH-",
        "colab_type": "text"
      },
      "source": [
        "One can also customize the data with commands such as:\n",
        "\n",
        "```python\n",
        "plt.xticks([0, 1, 2], ['Baseball', 'Basketball', 'Football'])\n",
        "plt.yticks([0, 1, 2, 3], ['Zero', 'Quarter', 'Half', 'Three Quarters'])\n",
        "```"
      ]
    },
    {
      "cell_type": "markdown",
      "metadata": {
        "id": "zg6EYL9L103K",
        "colab_type": "text"
      },
      "source": [
        "![Data](https://drive.google.com/uc?export=view&id=11NY2lVMh5oXpsrdhuacrOr6Fo0EUjdEk)"
      ]
    },
    {
      "cell_type": "code",
      "metadata": {
        "id": "024f5z-i2AfF",
        "colab_type": "code",
        "colab": {
          "base_uri": "https://localhost:8080/",
          "height": 284
        },
        "outputId": "998cc788-aeac-4be3-a59d-a055a4a6760e"
      },
      "source": [
        "x_coords = [2, 4, 6, 8, 10, 12, 14]\n",
        "y_coords = [2.5, 3, 6.4, 10, 13, 15, 15.5]\n",
        "\n",
        "plt.plot(x_coords, y_coords, 'o')"
      ],
      "execution_count": null,
      "outputs": [
        {
          "output_type": "execute_result",
          "data": {
            "text/plain": [
              "[<matplotlib.lines.Line2D at 0x7f147589f6d8>]"
            ]
          },
          "metadata": {
            "tags": []
          },
          "execution_count": 95
        },
        {
          "output_type": "display_data",
          "data": {
            "image/png": "[encoded data removed]",
            "text/plain": [
              "<Figure size 432x288 with 1 Axes>"
            ]
          },
          "metadata": {
            "tags": [],
            "needs_background": "light"
          }
        }
      ]
    },
    {
      "cell_type": "markdown",
      "metadata": {
        "id": "2DcVr6Ue2GRh",
        "colab_type": "text"
      },
      "source": [
        "### Bar Chart"
      ]
    },
    {
      "cell_type": "code",
      "metadata": {
        "id": "E-kl8dzk2Ic4",
        "colab_type": "code",
        "colab": {
          "base_uri": "https://localhost:8080/",
          "height": 265
        },
        "outputId": "3eaaf3e2-4e10-4b69-cc3b-bd12aec2a541"
      },
      "source": [
        "left_edges = [0, 10, 20, 30, 40]\n",
        "heights = [100, 200, 300, 400, 500]\n",
        "bar_width = 5\n",
        "plt.bar(left_edges, heights, bar_width)\n",
        "plt.show()"
      ],
      "execution_count": null,
      "outputs": [
        {
          "output_type": "display_data",
          "data": {
            "image/png": "[encoded data removed]",
            "text/plain": [
              "<Figure size 432x288 with 1 Axes>"
            ]
          },
          "metadata": {
            "tags": [],
            "needs_background": "light"
          }
        }
      ]
    },
    {
      "cell_type": "code",
      "metadata": {
        "id": "g4ICJG_Y2exc",
        "colab_type": "code",
        "colab": {
          "base_uri": "https://localhost:8080/",
          "height": 265
        },
        "outputId": "f7788a2e-d3e5-4302-b1de-300498260bec"
      },
      "source": [
        "#change the color of the plot\n",
        "\n",
        "left_edges = [0, 10, 20, 30, 40]\n",
        "heights = [100, 200, 300, 400, 500]\n",
        "bar_width = 5\n",
        "plt.bar(left_edges, heights, bar_width, color=('r', 'g', 'b', 'y', 'k'))\n",
        "plt.show()"
      ],
      "execution_count": null,
      "outputs": [
        {
          "output_type": "display_data",
          "data": {
            "image/png": "[encoded data removed]",
            "text/plain": [
              "<Figure size 432x288 with 1 Axes>"
            ]
          },
          "metadata": {
            "tags": [],
            "needs_background": "light"
          }
        }
      ]
    },
    {
      "cell_type": "code",
      "metadata": {
        "id": "1T2kLBSy2ys5",
        "colab_type": "code",
        "colab": {
          "base_uri": "https://localhost:8080/",
          "height": 295
        },
        "outputId": "d95a40a8-3b09-4815-f45b-c3003867511b"
      },
      "source": [
        " \n",
        "left_edges = [0, 10, 20, 30, 40]\n",
        "heights = [100, 200, 300, 400, 500]\n",
        "bar_width = 10\n",
        "plt.bar(left_edges, heights, bar_width, color=('r', 'g', 'b', 'y', 'k'))\n",
        "\n",
        "plt.title('Sales by Year')\n",
        "\n",
        "plt.xlabel('Year')\n",
        "plt.ylabel('Sales')\n",
        "\n",
        "plt.xticks([5, 15, 25, 35, 45], ['2016', '2017', '2018', '2019', '2020'])\n",
        "plt.yticks([0, 100, 200, 300, 400, 500], ['$0m', '$1m', '$2m', '$3m', '$4m', '$5m'])\n",
        "\n",
        " plt.show()"
      ],
      "execution_count": null,
      "outputs": [
        {
          "output_type": "display_data",
          "data": {
            "image/png": "[encoded data removed]",
            "text/plain": [
              "<Figure size 432x288 with 1 Axes>"
            ]
          },
          "metadata": {
            "tags": [],
            "needs_background": "light"
          }
        }
      ]
    },
    {
      "cell_type": "markdown",
      "metadata": {
        "id": "9g-OicjE3PGM",
        "colab_type": "text"
      },
      "source": [
        "### Pie Charts"
      ]
    },
    {
      "cell_type": "code",
      "metadata": {
        "id": "DLXKJyse3Q27",
        "colab_type": "code",
        "colab": {
          "base_uri": "https://localhost:8080/",
          "height": 264
        },
        "outputId": "a9f616a5-8c2b-4dbc-b35f-3b5b0f6c88ff"
      },
      "source": [
        "values = [2, 4, 5, 19]\n",
        "slice_labels = ['1st Qtr', '2nd Qtr', '3rd Qtr', '4th Qtr']\n",
        "plt.pie(values, labels=slice_labels)\n",
        "plt.title('Sales by Quarter')\n",
        "plt.show()"
      ],
      "execution_count": null,
      "outputs": [
        {
          "output_type": "display_data",
          "data": {
            "image/png": "[encoded data removed]",
            "text/plain": [
              "<Figure size 432x288 with 1 Axes>"
            ]
          },
          "metadata": {
            "tags": []
          }
        }
      ]
    }
  ]
}