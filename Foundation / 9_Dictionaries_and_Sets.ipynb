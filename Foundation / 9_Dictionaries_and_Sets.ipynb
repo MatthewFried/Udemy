{
  "nbformat": 4,
  "nbformat_minor": 0,
  "metadata": {
    "colab": {
      "name": "9_Dictionaries_and_Sets.ipynb",
      "provenance": [],
      "authorship_tag": "ABX9TyNF2FSgR1PklNQJpqtgdbls",
      "include_colab_link": true
    },
    "kernelspec": {
      "name": "python3",
      "display_name": "Python 3"
    }
  },
  "cells": [
    {
      "cell_type": "markdown",
      "metadata": {
        "id": "view-in-github",
        "colab_type": "text"
      },
      "source": [
        "<a href=\"https://colab.research.google.com/github/MatthewFried/Udemy/blob/master/Foundation%20/%209_Dictionaries_and_Sets.ipynb\" target=\"_parent\"><img src=\"https://colab.research.google.com/assets/colab-badge.svg\" alt=\"Open In Colab\"/></a>"
      ]
    },
    {
      "cell_type": "markdown",
      "metadata": {
        "id": "0ww2oREi9E7u",
        "colab_type": "text"
      },
      "source": [
        "# __Dictionaries and Sets__\n",
        "\n",
        "A dictionary is an object that stores a collection of data. Each element in a dictionary has two parts: a key and a value. You use a key to locate a specific value."
      ]
    },
    {
      "cell_type": "code",
      "metadata": {
        "id": "WyS7FeZY9C5g",
        "colab_type": "code",
        "colab": {
          "base_uri": "https://localhost:8080/",
          "height": 34
        },
        "outputId": "ca98bee3-ea62-4ae9-c8a2-18b5f6603ba0"
      },
      "source": [
        "#example 1\n",
        "phonebook = {'Alice':'123-45678', 'Bob':'987-7654', 'C':'3'}\n",
        "print(phonebook)"
      ],
      "execution_count": null,
      "outputs": [
        {
          "output_type": "stream",
          "text": [
            "123-45678\n"
          ],
          "name": "stdout"
        }
      ]
    },
    {
      "cell_type": "code",
      "metadata": {
        "id": "z3-iMc4Q6zB-",
        "colab_type": "code",
        "colab": {
          "base_uri": "https://localhost:8080/",
          "height": 34
        },
        "outputId": "f427735b-4496-4578-c0ee-8ebfad938858"
      },
      "source": [
        "#example 2\n",
        "city_population = {'NY': 8.6, \"LA\": 4.0,\"Chicago\": 2.6, 'Houston': 2.3}\n",
        "print(city_population)"
      ],
      "execution_count": null,
      "outputs": [
        {
          "output_type": "stream",
          "text": [
            "{'NY': 8.6, 'LA': 4.0, 'Chicago': 2.6, 'Houston': 2.3}\n"
          ],
          "name": "stdout"
        }
      ]
    },
    {
      "cell_type": "code",
      "metadata": {
        "id": "7XpCoF4R9b0u",
        "colab_type": "code",
        "colab": {
          "base_uri": "https://localhost:8080/",
          "height": 34
        },
        "outputId": "565d2136-73ec-416e-979f-c866a50d9618"
      },
      "source": [
        "#search for a value\n",
        "\n",
        "phonebook = {'A':'1', 'B':'2', 'C':'3'}\n",
        "if 'B' in phonebook:\n",
        "  print(phonebook['B'])"
      ],
      "execution_count": null,
      "outputs": [
        {
          "output_type": "stream",
          "text": [
            "2\n"
          ],
          "name": "stdout"
        }
      ]
    },
    {
      "cell_type": "code",
      "metadata": {
        "id": "9ZGe6Riw9s7s",
        "colab_type": "code",
        "colab": {
          "base_uri": "https://localhost:8080/",
          "height": 34
        },
        "outputId": "917520a9-5823-4943-b3ff-42f70a57c9f3"
      },
      "source": [
        "#delete a value\n",
        "phonebook = {'A':'1', 'B':'2', 'C':'3'}\n",
        "del phonebook['A']\n",
        "print(phonebook)"
      ],
      "execution_count": null,
      "outputs": [
        {
          "output_type": "stream",
          "text": [
            "{'B': '2', 'C': '3'}\n"
          ],
          "name": "stdout"
        }
      ]
    },
    {
      "cell_type": "code",
      "metadata": {
        "id": "bbFuinGf92K7",
        "colab_type": "code",
        "colab": {
          "base_uri": "https://localhost:8080/",
          "height": 34
        },
        "outputId": "abccae86-cd07-4102-9ba3-f8f2427b84a6"
      },
      "source": [
        "#number of items in a dictionary\n",
        "phonebook = {'A':'1', 'B':'2', 'C':'3'}\n",
        "print(len(phonebook))"
      ],
      "execution_count": null,
      "outputs": [
        {
          "output_type": "stream",
          "text": [
            "3\n"
          ],
          "name": "stdout"
        }
      ]
    },
    {
      "cell_type": "code",
      "metadata": {
        "id": "ArGltDyH99VH",
        "colab_type": "code",
        "colab": {
          "base_uri": "https://localhost:8080/",
          "height": 34
        },
        "outputId": "1892f9ae-c760-47ff-8d5e-482775a90429"
      },
      "source": [
        "#mixed type dictionaries\n",
        "scores = {'A': [90,92,870], 'B': [94,89,91]}\n",
        "print(scores['A'])"
      ],
      "execution_count": null,
      "outputs": [
        {
          "output_type": "stream",
          "text": [
            "[90, 92, 870]\n"
          ],
          "name": "stdout"
        }
      ]
    },
    {
      "cell_type": "code",
      "metadata": {
        "id": "kXZF5dtx-X8T",
        "colab_type": "code",
        "colab": {
          "base_uri": "https://localhost:8080/",
          "height": 34
        },
        "outputId": "5e81868f-c02a-469a-9a26-4f0577c20eef"
      },
      "source": [
        "#create a dictionary step by step\n",
        "my_dict = {}\n",
        "my_dict['Alice'] = 100\n",
        "my_dict['Bob'] = 102\n",
        "\n",
        "print(my_dict)"
      ],
      "execution_count": null,
      "outputs": [
        {
          "output_type": "stream",
          "text": [
            "{'Alice': 100, 'Bob': 102}\n"
          ],
          "name": "stdout"
        }
      ]
    },
    {
      "cell_type": "code",
      "metadata": {
        "id": "t9yt-ZeN-ujA",
        "colab_type": "code",
        "colab": {
          "base_uri": "https://localhost:8080/",
          "height": 67
        },
        "outputId": "cba90dd7-0085-4f72-a8ae-639d86dc91c4"
      },
      "source": [
        "#iterate over my dictionary\n",
        "phonebook = {'A':'1', 'B':'2', 'C':'3'}\n",
        "\n",
        "for k in phonebook:\n",
        "  print(k,phonebook[k])"
      ],
      "execution_count": null,
      "outputs": [
        {
          "output_type": "stream",
          "text": [
            "A 1\n",
            "B 2\n",
            "C 3\n"
          ],
          "name": "stdout"
        }
      ]
    },
    {
      "cell_type": "code",
      "metadata": {
        "id": "w3qHr6a1Brmo",
        "colab_type": "code",
        "colab": {
          "base_uri": "https://localhost:8080/",
          "height": 52
        },
        "outputId": "65c0daca-0580-471d-8c5b-b8bd71f5e2ee"
      },
      "source": [
        "#the get method\n",
        "phonebook = {'A':'1', 'B':'2', 'C':'3'}\n",
        "val1 = phonebook.get('B', \"Can't find him\")\n",
        "val2 = phonebook.get('D', \"Can't find him\")\n",
        "\n",
        "print(val1)\n",
        "print(val2)"
      ],
      "execution_count": null,
      "outputs": [
        {
          "output_type": "stream",
          "text": [
            "2\n",
            "Can't find him\n"
          ],
          "name": "stdout"
        }
      ]
    },
    {
      "cell_type": "code",
      "metadata": {
        "id": "TfrJBtg3ClvA",
        "colab_type": "code",
        "colab": {
          "base_uri": "https://localhost:8080/",
          "height": 67
        },
        "outputId": "558f1c22-2115-47b4-c08b-2559434d0f11"
      },
      "source": [
        "#print the keys and values\n",
        "phonebook = {'A':'1', 'B':'2', 'C':'3'}\n",
        "for key, value in phonebook.items():\n",
        "  print(key, value)"
      ],
      "execution_count": null,
      "outputs": [
        {
          "output_type": "stream",
          "text": [
            "A 1\n",
            "B 2\n",
            "C 3\n"
          ],
          "name": "stdout"
        }
      ]
    },
    {
      "cell_type": "code",
      "metadata": {
        "id": "EEUfUypNDfHt",
        "colab_type": "code",
        "colab": {
          "base_uri": "https://localhost:8080/",
          "height": 67
        },
        "outputId": "b1dd0f7b-ccb8-4b17-f79d-1b55b3d3ad9b"
      },
      "source": [
        "#print just the values\n",
        "phonebook = {'A':'1', 'B':'2', 'C':'3'}\n",
        "for val in phonebook.values():\n",
        "  print(val)"
      ],
      "execution_count": null,
      "outputs": [
        {
          "output_type": "stream",
          "text": [
            "1\n",
            "2\n",
            "3\n"
          ],
          "name": "stdout"
        }
      ]
    },
    {
      "cell_type": "code",
      "metadata": {
        "id": "j8K4uxJACwIA",
        "colab_type": "code",
        "colab": {
          "base_uri": "https://localhost:8080/",
          "height": 67
        },
        "outputId": "53719531-3eba-4158-e29b-e13250e235eb"
      },
      "source": [
        "#print just the keys\n",
        "for key in phonebook.keys():\n",
        "   print(key)"
      ],
      "execution_count": null,
      "outputs": [
        {
          "output_type": "stream",
          "text": [
            "A\n",
            "B\n",
            "C\n"
          ],
          "name": "stdout"
        }
      ]
    },
    {
      "cell_type": "code",
      "metadata": {
        "id": "1EYQJBn-C34b",
        "colab_type": "code",
        "colab": {
          "base_uri": "https://localhost:8080/",
          "height": 105
        },
        "outputId": "533ef592-1603-40c1-894c-71a63b7c24bb"
      },
      "source": [
        "#use pop\n",
        "phonebook = {'A':'1', 'B':'2', 'C':'3'}\n",
        "phone_num = phonebook.pop('A', 'Element not found')\n",
        "print(\"A's number: \", phone_num)\n",
        "\n",
        "print(\"And now the phonebook info is:\")\n",
        "for key, value in phonebook.items():\n",
        "  print(key, value)"
      ],
      "execution_count": null,
      "outputs": [
        {
          "output_type": "stream",
          "text": [
            "A's number:  1\n",
            "{'B': '2', 'C': '3'}\n",
            "And now the phonebook info is:\n",
            "B 2\n",
            "C 3\n"
          ],
          "name": "stdout"
        }
      ]
    },
    {
      "cell_type": "code",
      "metadata": {
        "id": "bT9G6IhcDM9K",
        "colab_type": "code",
        "colab": {
          "base_uri": "https://localhost:8080/",
          "height": 105
        },
        "outputId": "72ba0715-aaca-4802-9732-02c17fa75799"
      },
      "source": [
        "#pop a key and value with storage\n",
        "phonebook = {'A':'1', 'B':'2', 'C':'3'}\n",
        "key, value = phonebook.popitem()\n",
        "\n",
        "print(\"The info taken is: \", key, value)\n",
        "\n",
        "print(\"\\nAnd now the phonebook info is:\")\n",
        "for key, value in phonebook.items():\n",
        "  print(key, value)"
      ],
      "execution_count": null,
      "outputs": [
        {
          "output_type": "stream",
          "text": [
            "The info taken is:  C 3\n",
            "\n",
            "And now the phonebook info is:\n",
            "A 1\n",
            "B 2\n"
          ],
          "name": "stdout"
        }
      ]
    },
    {
      "cell_type": "markdown",
      "metadata": {
        "id": "erroStDMD4Rj",
        "colab_type": "text"
      },
      "source": [
        "## Dictionary Comprehensions\n"
      ]
    },
    {
      "cell_type": "code",
      "metadata": {
        "id": "qI6zjTy2D6dQ",
        "colab_type": "code",
        "colab": {
          "base_uri": "https://localhost:8080/",
          "height": 101
        },
        "outputId": "af885771-42de-4661-844c-40d2774a1a3e"
      },
      "source": [
        "#dictionary of squares\n",
        "squares = {}\n",
        "numbers = [1,2,3,4,5]\n",
        "for item in numbers:\n",
        "  squares[item] = item**2\n",
        "\n",
        "for key, value in squares.items():\n",
        "  print(key, value)"
      ],
      "execution_count": null,
      "outputs": [
        {
          "output_type": "stream",
          "text": [
            "1 1\n",
            "2 4\n",
            "3 9\n",
            "4 16\n",
            "5 25\n"
          ],
          "name": "stdout"
        }
      ]
    },
    {
      "cell_type": "code",
      "metadata": {
        "id": "KQAJCHgqEF5v",
        "colab_type": "code",
        "colab": {
          "base_uri": "https://localhost:8080/",
          "height": 101
        },
        "outputId": "d074766a-fff3-43bf-bd41-7748bcda0d1f"
      },
      "source": [
        "#same same but different\n",
        "cubes = {item:item**3 for item in numbers}\n",
        "\n",
        "for key, value in cubes.items():\n",
        "  print(key, value)\n"
      ],
      "execution_count": null,
      "outputs": [
        {
          "output_type": "stream",
          "text": [
            "1 1\n",
            "2 8\n",
            "3 27\n",
            "4 64\n",
            "5 125\n"
          ],
          "name": "stdout"
        }
      ]
    },
    {
      "cell_type": "code",
      "metadata": {
        "id": "uaOyhn9Ex6V7",
        "colab_type": "code",
        "colab": {
          "base_uri": "https://localhost:8080/",
          "height": 34
        },
        "outputId": "8a984267-0584-42f5-c4d2-a02ec6ebd842"
      },
      "source": [
        "#if statements and dictionary comprehensions\n",
        "populations = {'New York': 8398748, 'Los Angeles': 3990456, 'Chicago': 2705994,'Houston': 2325502, 'Phoenix': 1660272, 'Philadelphia': 1584138}\n",
        "#not as a list comprehension\n",
        "largest = {}\n",
        "for k, v in populations.items():\n",
        "  if v > 2000000:\n",
        "    largest[k] = v\n",
        "\n",
        "print(largest)"
      ],
      "execution_count": null,
      "outputs": [
        {
          "output_type": "stream",
          "text": [
            "{'New York': 8398748, 'Los Angeles': 3990456, 'Chicago': 2705994, 'Houston': 2325502}\n"
          ],
          "name": "stdout"
        }
      ]
    },
    {
      "cell_type": "code",
      "metadata": {
        "id": "33t2YetayINB",
        "colab_type": "code",
        "colab": {}
      },
      "source": [
        "#if statements and dictionary comprehensions\n",
        "populations = {'New York': 8398748, 'Los Angeles': 3990456, 'Chicago': 2705994,'Houston': 2325502,'Phoenix': 1660272, 'Philadelphia': 1584138}\n",
        "\n",
        "#as a list comprehension\n",
        "largest = {k:v for k,v in populations.items() if v > 2000000}"
      ],
      "execution_count": null,
      "outputs": []
    },
    {
      "cell_type": "markdown",
      "metadata": {
        "id": "rHk75xfDzX3N",
        "colab_type": "text"
      },
      "source": [
        "# Sets\n",
        "\n",
        "A set is a collection of unique values."
      ]
    },
    {
      "cell_type": "code",
      "metadata": {
        "id": "DZVgGUcdzgpB",
        "colab_type": "code",
        "colab": {
          "base_uri": "https://localhost:8080/",
          "height": 34
        },
        "outputId": "793d4e71-f850-4f45-dc64-c0e7b20cfa73"
      },
      "source": [
        "#use the keyword set to create a set\n",
        "myset = set('aaabc')\n",
        "print(myset)"
      ],
      "execution_count": null,
      "outputs": [
        {
          "output_type": "stream",
          "text": [
            "{'a', 'b', 'c'}\n"
          ],
          "name": "stdout"
        }
      ]
    },
    {
      "cell_type": "code",
      "metadata": {
        "id": "5isQcSW8z2Th",
        "colab_type": "code",
        "colab": {
          "base_uri": "https://localhost:8080/",
          "height": 50
        },
        "outputId": "1cef04bf-2240-4e24-c0d3-1172f3248367"
      },
      "source": [
        "#you can pass a set as a list as well\n",
        "myset = set(['one', 'two', 'three','one'])\n",
        "print(myset)\n",
        "print(f\"There are {len(myset)} values in the set\")"
      ],
      "execution_count": null,
      "outputs": [
        {
          "output_type": "stream",
          "text": [
            "{'one', 'two', 'three'}\n",
            "There are 3 values in the set\n"
          ],
          "name": "stdout"
        }
      ]
    },
    {
      "cell_type": "code",
      "metadata": {
        "id": "Ef2B6R7I0OZB",
        "colab_type": "code",
        "colab": {
          "base_uri": "https://localhost:8080/",
          "height": 34
        },
        "outputId": "ad77d730-7dd2-4965-d699-04115fa9c697"
      },
      "source": [
        "#update a set and add values\n",
        "myset = set(['a','b','c','d'])\n",
        "myset.update([4, 5, 6, 'c'])\n",
        "print(myset)"
      ],
      "execution_count": null,
      "outputs": [
        {
          "output_type": "stream",
          "text": [
            "{4, 5, 6, 'a', 'c', 'b', 'd'}\n"
          ],
          "name": "stdout"
        }
      ]
    },
    {
      "cell_type": "code",
      "metadata": {
        "id": "Riu1wotR0ceY",
        "colab_type": "code",
        "colab": {
          "base_uri": "https://localhost:8080/",
          "height": 52
        },
        "outputId": "ad6ac399-c4fc-4a87-ddeb-ae51f14dc18b"
      },
      "source": [
        "#use set functions\n",
        "#use remove\n",
        "myset = set([0,1,2,3,4,5,6,7,8,9,10])\n",
        "myset.remove(1)\n",
        "print(myset)\n",
        "\n",
        "#use discard\n",
        "myset.discard(5)\n",
        "print(myset)"
      ],
      "execution_count": null,
      "outputs": [
        {
          "output_type": "stream",
          "text": [
            "{0, 2, 3, 4, 5, 6, 7, 8, 9, 10}\n",
            "{0, 2, 3, 4, 6, 7, 8, 9, 10}\n"
          ],
          "name": "stdout"
        }
      ]
    },
    {
      "cell_type": "code",
      "metadata": {
        "id": "iWO7loGY1E15",
        "colab_type": "code",
        "colab": {
          "base_uri": "https://localhost:8080/",
          "height": 118
        },
        "outputId": "98eede60-9ccb-47bf-8ab5-7c3d66887154"
      },
      "source": [
        "#iterate over a set with a loop\n",
        "myset = set(['a', 'b', 'c',1,1,1,1,1,2,3])\n",
        "for val in myset: \n",
        "  print(val)"
      ],
      "execution_count": null,
      "outputs": [
        {
          "output_type": "stream",
          "text": [
            "1\n",
            "2\n",
            "3\n",
            "a\n",
            "b\n",
            "c\n"
          ],
          "name": "stdout"
        }
      ]
    },
    {
      "cell_type": "code",
      "metadata": {
        "id": "Q8mfKZha1UJ6",
        "colab_type": "code",
        "colab": {
          "base_uri": "https://localhost:8080/",
          "height": 50
        },
        "outputId": "d3f7f774-9a1b-4600-db03-7dd0a6315a42"
      },
      "source": [
        "#use the 'in' operator\n",
        "myset = set(['a', 'b', 'c',1,1,1,1,1,2,3])\n",
        "\n",
        "if 1 in myset:\n",
        "    print('The value 1 is in the set.')\n",
        "\n",
        "if 99 not in myset:\n",
        "  print('The value 99 is not in the set.')"
      ],
      "execution_count": null,
      "outputs": [
        {
          "output_type": "stream",
          "text": [
            "The value 1 is in the set.\n",
            "The value 99 is not in the set.\n"
          ],
          "name": "stdout"
        }
      ]
    },
    {
      "cell_type": "markdown",
      "metadata": {
        "id": "NwOQLjGD2LYn",
        "colab_type": "text"
      },
      "source": [
        "# Unions and More"
      ]
    },
    {
      "cell_type": "code",
      "metadata": {
        "id": "SKdsCYtG2Ofg",
        "colab_type": "code",
        "colab": {
          "base_uri": "https://localhost:8080/",
          "height": 122
        },
        "outputId": "13128d6e-7284-4074-ffc6-aef5182f20d0"
      },
      "source": [
        "set1 = set([8,9,11,10,14]) \n",
        "set2 = set([11,15,16,16,10])\n",
        "\n",
        "#unions are the unique values of the sets together\n",
        "set3 = set1.union(set2)\n",
        "set4 = set1 | set2\n",
        "print(\"Union:\", set3, set4)\n",
        "\n",
        "#intersections are the values that both sets contain\n",
        "set5 = set1.intersection(set2)\n",
        "set6 = set1 & set2\n",
        "print('Intersection', set5, set6)\n",
        "\n",
        "#difference is elements in set 1 and not in set 2\n",
        "#a similar notation would be: set8 = set1 - set2\n",
        "set7 = set1.difference(set2)\n",
        "print(\"Difference:\", set7)\n",
        "\n",
        "#The method returns a set that contains the elements that are found in either set1 or set2 but not both sets\n",
        "#a similar notation would be: set10 = set1ˆset2\n",
        "set9 = set1.symmetric_difference(set2)\n",
        "print(\"Symmetric_difference:\",set9 )\n",
        "\n",
        "#check if one set is a superset or subset of another, returns True or False\n",
        "#a similar notation works such as: set2 <= set1, or set1 >= set2\n",
        "print(\"Subset:\", set2.issubset(set1))\n",
        "print(\"Superset\", set1.issuperset(set2))\n",
        "\n",
        "\n"
      ],
      "execution_count": null,
      "outputs": [
        {
          "output_type": "stream",
          "text": [
            "Union: {16, 8, 9, 10, 11, 14, 15} {16, 8, 9, 10, 11, 14, 15}\n",
            "Intersection {10, 11} {10, 11}\n",
            "Difference: {8, 9, 14}\n",
            "Symmetric_difference: {8, 9, 14, 15, 16}\n",
            "Subset: False\n",
            "Superset False\n"
          ],
          "name": "stdout"
        }
      ]
    },
    {
      "cell_type": "markdown",
      "metadata": {
        "id": "CewYWJ_-5Hql",
        "colab_type": "text"
      },
      "source": [
        "### Set Comprehension"
      ]
    },
    {
      "cell_type": "code",
      "metadata": {
        "id": "tjALWQKm5KQQ",
        "colab_type": "code",
        "colab": {
          "base_uri": "https://localhost:8080/",
          "height": 34
        },
        "outputId": "bd82f00a-746d-4401-da67-be0313649ea9"
      },
      "source": [
        "set1 = set([1, 2, 3, 4, 5])\n",
        "set2 = {item**2 for item in set1}\n",
        "print(set1, set2)"
      ],
      "execution_count": null,
      "outputs": [
        {
          "output_type": "stream",
          "text": [
            "{1, 2, 3, 4, 5} {1, 4, 9, 16, 25}\n"
          ],
          "name": "stdout"
        }
      ]
    },
    {
      "cell_type": "code",
      "metadata": {
        "id": "KzEEEBhC5Pmm",
        "colab_type": "code",
        "colab": {}
      },
      "source": [
        "set1 = set([1, 20, 2, 40, 3, 50])\n",
        "set2 = {item for item in set1 if item < 10}\n",
        "print(set1, set2)"
      ],
      "execution_count": null,
      "outputs": []
    },
    {
      "cell_type": "markdown",
      "metadata": {
        "id": "7_uHUcFU5bB3",
        "colab_type": "text"
      },
      "source": [
        "# Practice Exercises"
      ]
    },
    {
      "cell_type": "markdown",
      "metadata": {
        "id": "PDTl-aLY59cl",
        "colab_type": "text"
      },
      "source": [
        "Write a program that uses a dictionary to assign “codes” to each letter of the alphabet. For example:\n",
        "```python\n",
        "codes = { ‘A’ : ‘%’, ‘a’ : ‘9’, ‘B’ : ‘@’, ‘b’ : ‘#’, etc . . .}\n",
        "```\n",
        "Using this example, the letter A would be assigned the symbol %, the letter a would be assigned the number 9, the letter B would be assigned the symbol @, and so forth.\n",
        "\n",
        "The program should open a specified text file, read its contents, then use the dictionary to write an encrypted version of the file’s contents to a second file. Each character in the second file should contain the code for the corresponding character in the first file.\n",
        "\n",
        "Write a second program that opens an encrypted file and displays its decrypted contents on the screen."
      ]
    },
    {
      "cell_type": "code",
      "metadata": {
        "id": "eYug8YJa5dBn",
        "colab_type": "code",
        "colab": {}
      },
      "source": [
        "# Encryption and decryption are inverse of one another\n",
        "CODE = {'A':')','a':'0','B':'(','b':'9','C':'*','c':'8',\\\n",
        "        'D':'&','d':'7','E':'^','e':'6','F':'%','f':'5',\\\n",
        "        'G':'$','g':'4','H':'#','h':'3','I':'@','i':'2',\\\n",
        "        'J':'!','j':'1','K':'Z','k':'z','L':'Y','l':'y',\\\n",
        "        'M':'X','m':'x','N':'W','n':'w','O':'V','o':'v',\\\n",
        "        'P':'U','p':'u','Q':'T','q':'t','R':'S','r':'s',\\\n",
        "        'S':'R','s':'r','T':'Q','t':'q','U':'P','u':'p',\\\n",
        "        'V':'O','v':'o','W':'N','w':'n','X':'M','x':'m',\\\n",
        "        'Y':'L','y':'l','Z':'K','z':'k','!':'J','1':'j',\\\n",
        "        '@':'I','2':'i','#':'H','3':'h','$':'G','4':'g',\\\n",
        "        '%':'F','5':'f','^':'E','6':'e','&':'D','7':'d',\\\n",
        "        '*':'C','8':'c','(':'B','9':'b',')':'A','0':'a',\\\n",
        "        ':':',',',':':','?':'.','.':'?','<':'>','>':'<',\\\n",
        "        \"'\":'\"','\"':\"'\",'+':'-','-':'+','=':';',';':'=',\\\n",
        "        '{':'[','[':'{','}':']',']':'}'}\n",
        "\n",
        "def main():\n",
        "    # Obtain a string of the converted text.\n",
        "    result = convert()\n",
        "\n",
        "    # Open output file and write to it.\n",
        "    output_name = input('Enter the name of the output file: ')\n",
        "    output_file = open(output_name, 'w')\n",
        "    output_file.write(result)\n",
        "    output_file.close()\n",
        "\n",
        "# The convert function asks the user for a file name, opens\n",
        "# the file, and converts its contents using the CODE above.\n",
        "# It then returns a string of the converted text.\n",
        "def convert():\n",
        "    input_name = input('Enter the name of the input file: ')\n",
        "    \n",
        "    input_file = open(input_name, 'r')\n",
        "\n",
        "    result = ''\n",
        "    text = input_file.read()\n",
        "\n",
        "    # If character is space, it is not converted;\n",
        "    # otherwise convert.\n",
        "    for ch in text:\n",
        "\n",
        "        if ch.isspace():\n",
        "            result = result + ch\n",
        "        else:\n",
        "            result = result + CODE[ch]\n",
        "\n",
        "    return result\n",
        "\n",
        "# Call the main function.\n",
        "main()\n",
        "\n",
        "\n",
        "# Part 2\n",
        "\n",
        "# Encryption and decryption are inverse of one another\n",
        "CODE = {'A':')','a':'0','B':'(','b':'9','C':'*','c':'8',\\\n",
        "        'D':'&','d':'7','E':'^','e':'6','F':'%','f':'5',\\\n",
        "        'G':'$','g':'4','H':'#','h':'3','I':'@','i':'2',\\\n",
        "        'J':'!','j':'1','K':'Z','k':'z','L':'Y','l':'y',\\\n",
        "        'M':'X','m':'x','N':'W','n':'w','O':'V','o':'v',\\\n",
        "        'P':'U','p':'u','Q':'T','q':'t','R':'S','r':'s',\\\n",
        "        'S':'R','s':'r','T':'Q','t':'q','U':'P','u':'p',\\\n",
        "        'V':'O','v':'o','W':'N','w':'n','X':'M','x':'m',\\\n",
        "        'Y':'L','y':'l','Z':'K','z':'k','!':'J','1':'j',\\\n",
        "        '@':'I','2':'i','#':'H','3':'h','$':'G','4':'g',\\\n",
        "        '%':'F','5':'f','^':'E','6':'e','&':'D','7':'d',\\\n",
        "        '*':'C','8':'c','(':'B','9':'b',')':'A','0':'a',\\\n",
        "        ':':',',',':':','?':'.','.':'?','<':'>','>':'<',\\\n",
        "        \"'\":'\"','\"':\"'\",'+':'-','-':'+','=':';',';':'=',\\\n",
        "        '{':'[','[':'{','}':']',']':'}'}\n",
        "\n",
        "def main():\n",
        "    # Obtain a string of converted text.\n",
        "    result = convert()\n",
        "\n",
        "    # Write converted text to the screen.\n",
        "    print(result)\n",
        "\n",
        "# The convert function asks the user for a file name, opens\n",
        "# the file, and converts its contents using the CODE above.\n",
        "# It then returns a string of the converted text.\n",
        "def convert():\n",
        "    input_name = input('Enter the name of the input file: ')\n",
        "    \n",
        "    input_file = open(input_name, 'r')\n",
        "\n",
        "    result = ''\n",
        "    text = input_file.read()\n",
        "\n",
        "    # If character is space, it is not converted;\n",
        "    # otherwise convert.\n",
        "    for ch in text:\n",
        "\n",
        "        if ch.isspace():\n",
        "            result = result + ch\n",
        "        else:\n",
        "            result = result + CODE[ch]\n",
        "\n",
        "    return result\n",
        "\n",
        "# Call the main function.\n",
        "main()\n"
      ],
      "execution_count": null,
      "outputs": []
    },
    {
      "cell_type": "markdown",
      "metadata": {
        "id": "VK8jGf5U6Frp",
        "colab_type": "text"
      },
      "source": [
        "> Write a program that opens a specified text file then displays a list of all the unique words found in the file."
      ]
    },
    {
      "cell_type": "code",
      "metadata": {
        "id": "5s7b7cOQ6Hsj",
        "colab_type": "code",
        "colab": {}
      },
      "source": [
        "def main():\n",
        "    # Get name of input file.\n",
        "    input_name = input('Enter the name of the input file: ')\n",
        "    \n",
        "    # Open the input file and read the text.\n",
        "    input_file = open(input_name, 'r')\n",
        "    text = input_file.read()\n",
        "    words = text.split()\n",
        "\n",
        "    # Create set of unique words.\n",
        "    unique_words = set(words)\n",
        "\n",
        "    # Print the results.\n",
        "    print('These are the unique words in the text:')\n",
        "    for word in unique_words:\n",
        "        print(word)\n",
        "\n",
        "    # Close the file.\n",
        "    input_file.close()\n",
        "\n",
        "# Call the main function.\n",
        "main()\n"
      ],
      "execution_count": null,
      "outputs": []
    },
    {
      "cell_type": "markdown",
      "metadata": {
        "id": "M02I6Wzf6NBS",
        "colab_type": "text"
      },
      "source": [
        "> Write a program that reads the contents of a text file. The program should create a dictio-nary in which the keys are the individual words found in the file and the values are the number of times each word appears. For example, if the word “the” appears 128 times, the dictionary would contain an element with 'the' as the key and 128 as the value. The program should either display the frequency of each word or create a second file containing a list of each word and its frequency."
      ]
    },
    {
      "cell_type": "code",
      "metadata": {
        "id": "5SGQUdb-6R06",
        "colab_type": "code",
        "colab": {}
      },
      "source": [
        "def main():\n",
        "    # Set up empty dictionary\n",
        "    counter = {}\n",
        "\n",
        "    # Get input text\n",
        "    input_name = input('Enter the name of the input file: ')\n",
        "    input_file = open(input_name, 'r')\n",
        "    text = input_file.read()\n",
        "    words = text.split()\n",
        "\n",
        "    # Add each unique word to dictionary with a counter of 0\n",
        "    unique_words = set(words)\n",
        "    for word in unique_words:\n",
        "        counter[word] = 0\n",
        "\n",
        "    # For each word in the text increase its counter in the dictionary\n",
        "    for item in words:\n",
        "        counter[item] += 1\n",
        "\n",
        "    # Display results\n",
        "    print(format('word', '15'),'\\t',format('occurrences','15'))\n",
        "    print('----------------------------------------------')\n",
        "    while len(counter)>0:\n",
        "\n",
        "        pair = counter.popitem()\n",
        "        print(format(pair[0],'15'), format(pair[1], '15'))\n",
        "\n",
        "# Call the main function.\n",
        "main()\n"
      ],
      "execution_count": null,
      "outputs": []
    }
  ]
}