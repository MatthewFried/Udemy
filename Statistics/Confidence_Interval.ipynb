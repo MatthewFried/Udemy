{
 "cells": [
  {
   "cell_type": "markdown",
   "metadata": {},
   "source": [
    "# Confidence Intervals and Numpy"
   ]
  },
  {
   "cell_type": "code",
   "execution_count": 25,
   "metadata": {},
   "outputs": [],
   "source": [
    "import math\n",
    "import numpy as np\n",
    "import pandas as pd\n",
    "import matplotlib.pyplot as plt\n",
    "import seaborn as sns\n",
    "from statistics import NormalDist\n",
    "import matplotlib.pyplot as plt\n",
    "from scipy import stats\n",
    "import statsmodels"
   ]
  },
  {
   "cell_type": "code",
   "execution_count": 26,
   "metadata": {},
   "outputs": [
    {
     "data": {
      "text/html": [
       "<div>\n",
       "<style scoped>\n",
       "    .dataframe tbody tr th:only-of-type {\n",
       "        vertical-align: middle;\n",
       "    }\n",
       "\n",
       "    .dataframe tbody tr th {\n",
       "        vertical-align: top;\n",
       "    }\n",
       "\n",
       "    .dataframe thead th {\n",
       "        text-align: right;\n",
       "    }\n",
       "</style>\n",
       "<table border=\"1\" class=\"dataframe\">\n",
       "  <thead>\n",
       "    <tr style=\"text-align: right;\">\n",
       "      <th></th>\n",
       "      <th>mpg</th>\n",
       "      <th>cylinders</th>\n",
       "      <th>displacement</th>\n",
       "      <th>horsepower</th>\n",
       "      <th>weight</th>\n",
       "      <th>acceleration</th>\n",
       "      <th>age</th>\n",
       "    </tr>\n",
       "  </thead>\n",
       "  <tbody>\n",
       "    <tr>\n",
       "      <th>137</th>\n",
       "      <td>14.0</td>\n",
       "      <td>8</td>\n",
       "      <td>302.0</td>\n",
       "      <td>140</td>\n",
       "      <td>4638</td>\n",
       "      <td>16.0</td>\n",
       "      <td>45</td>\n",
       "    </tr>\n",
       "    <tr>\n",
       "      <th>9</th>\n",
       "      <td>15.0</td>\n",
       "      <td>8</td>\n",
       "      <td>390.0</td>\n",
       "      <td>190</td>\n",
       "      <td>3850</td>\n",
       "      <td>8.5</td>\n",
       "      <td>49</td>\n",
       "    </tr>\n",
       "    <tr>\n",
       "      <th>33</th>\n",
       "      <td>16.0</td>\n",
       "      <td>6</td>\n",
       "      <td>225.0</td>\n",
       "      <td>105</td>\n",
       "      <td>3439</td>\n",
       "      <td>15.5</td>\n",
       "      <td>48</td>\n",
       "    </tr>\n",
       "    <tr>\n",
       "      <th>244</th>\n",
       "      <td>32.8</td>\n",
       "      <td>4</td>\n",
       "      <td>78.0</td>\n",
       "      <td>52</td>\n",
       "      <td>1985</td>\n",
       "      <td>19.4</td>\n",
       "      <td>41</td>\n",
       "    </tr>\n",
       "    <tr>\n",
       "      <th>266</th>\n",
       "      <td>27.2</td>\n",
       "      <td>4</td>\n",
       "      <td>119.0</td>\n",
       "      <td>97</td>\n",
       "      <td>2300</td>\n",
       "      <td>14.7</td>\n",
       "      <td>41</td>\n",
       "    </tr>\n",
       "  </tbody>\n",
       "</table>\n",
       "</div>"
      ],
      "text/plain": [
       "      mpg  cylinders  displacement  horsepower  weight  acceleration  age\n",
       "137  14.0          8         302.0         140    4638          16.0   45\n",
       "9    15.0          8         390.0         190    3850           8.5   49\n",
       "33   16.0          6         225.0         105    3439          15.5   48\n",
       "244  32.8          4          78.0          52    1985          19.4   41\n",
       "266  27.2          4         119.0          97    2300          14.7   41"
      ]
     },
     "execution_count": 26,
     "metadata": {},
     "output_type": "execute_result"
    }
   ],
   "source": [
    "#read in the automobile data\n",
    "automobile_data = pd.read_csv('C:/Users/taiku/Documents/automobile_data_processed.csv')\n",
    "\n",
    "automobile_data.sample(5)"
   ]
  },
  {
   "cell_type": "code",
   "execution_count": 27,
   "metadata": {},
   "outputs": [
    {
     "data": {
      "text/plain": [
       "(392, 7)"
      ]
     },
     "execution_count": 27,
     "metadata": {},
     "output_type": "execute_result"
    }
   ],
   "source": [
    "automobile_data.shape"
   ]
  },
  {
   "cell_type": "code",
   "execution_count": 28,
   "metadata": {},
   "outputs": [
    {
     "data": {
      "image/png": "[encoded data removed]",
      "text/plain": [
       "<Figure size 864x576 with 1 Axes>"
      ]
     },
     "metadata": {
      "needs_background": "light"
     },
     "output_type": "display_data"
    }
   ],
   "source": [
    "plt.figure(figsize=(12, 8))\n",
    "\n",
    "sns.boxplot(x='cylinders', y='mpg', data=automobile_data)\n",
    "\n",
    "plt.show()"
   ]
  },
  {
   "cell_type": "code",
   "execution_count": 29,
   "metadata": {},
   "outputs": [
    {
     "data": {
      "text/html": [
       "<div>\n",
       "<style scoped>\n",
       "    .dataframe tbody tr th:only-of-type {\n",
       "        vertical-align: middle;\n",
       "    }\n",
       "\n",
       "    .dataframe tbody tr th {\n",
       "        vertical-align: top;\n",
       "    }\n",
       "\n",
       "    .dataframe thead th {\n",
       "        text-align: right;\n",
       "    }\n",
       "</style>\n",
       "<table border=\"1\" class=\"dataframe\">\n",
       "  <thead>\n",
       "    <tr style=\"text-align: right;\">\n",
       "      <th></th>\n",
       "      <th>mean</th>\n",
       "      <th>count</th>\n",
       "      <th>std</th>\n",
       "    </tr>\n",
       "    <tr>\n",
       "      <th>cylinders</th>\n",
       "      <th></th>\n",
       "      <th></th>\n",
       "      <th></th>\n",
       "    </tr>\n",
       "  </thead>\n",
       "  <tbody>\n",
       "    <tr>\n",
       "      <th>3</th>\n",
       "      <td>20.550000</td>\n",
       "      <td>4</td>\n",
       "      <td>2.564501</td>\n",
       "    </tr>\n",
       "    <tr>\n",
       "      <th>4</th>\n",
       "      <td>29.283920</td>\n",
       "      <td>199</td>\n",
       "      <td>5.670546</td>\n",
       "    </tr>\n",
       "    <tr>\n",
       "      <th>5</th>\n",
       "      <td>27.366667</td>\n",
       "      <td>3</td>\n",
       "      <td>8.228204</td>\n",
       "    </tr>\n",
       "    <tr>\n",
       "      <th>6</th>\n",
       "      <td>19.973494</td>\n",
       "      <td>83</td>\n",
       "      <td>3.828809</td>\n",
       "    </tr>\n",
       "    <tr>\n",
       "      <th>8</th>\n",
       "      <td>14.963107</td>\n",
       "      <td>103</td>\n",
       "      <td>2.836284</td>\n",
       "    </tr>\n",
       "  </tbody>\n",
       "</table>\n",
       "</div>"
      ],
      "text/plain": [
       "                mean  count       std\n",
       "cylinders                            \n",
       "3          20.550000      4  2.564501\n",
       "4          29.283920    199  5.670546\n",
       "5          27.366667      3  8.228204\n",
       "6          19.973494     83  3.828809\n",
       "8          14.963107    103  2.836284"
      ]
     },
     "execution_count": 29,
     "metadata": {},
     "output_type": "execute_result"
    }
   ],
   "source": [
    "#use groupby to set up a table to create all the stats needed for each cylinder we wish to study\n",
    "\n",
    "cylinder_stats = automobile_data.groupby(['cylinders'])['mpg'].agg(['mean', 'count', 'std'])\n",
    "\n",
    "cylinder_stats"
   ]
  },
  {
   "cell_type": "code",
   "execution_count": 30,
   "metadata": {},
   "outputs": [
    {
     "data": {
      "text/html": [
       "<div>\n",
       "<style scoped>\n",
       "    .dataframe tbody tr th:only-of-type {\n",
       "        vertical-align: middle;\n",
       "    }\n",
       "\n",
       "    .dataframe tbody tr th {\n",
       "        vertical-align: top;\n",
       "    }\n",
       "\n",
       "    .dataframe thead th {\n",
       "        text-align: right;\n",
       "    }\n",
       "</style>\n",
       "<table border=\"1\" class=\"dataframe\">\n",
       "  <thead>\n",
       "    <tr style=\"text-align: right;\">\n",
       "      <th></th>\n",
       "      <th>mean</th>\n",
       "      <th>count</th>\n",
       "      <th>std</th>\n",
       "      <th>ci_top</th>\n",
       "      <th>ci_bottom</th>\n",
       "    </tr>\n",
       "    <tr>\n",
       "      <th>cylinders</th>\n",
       "      <th></th>\n",
       "      <th></th>\n",
       "      <th></th>\n",
       "      <th></th>\n",
       "      <th></th>\n",
       "    </tr>\n",
       "  </thead>\n",
       "  <tbody>\n",
       "    <tr>\n",
       "      <th>3</th>\n",
       "      <td>20.550000</td>\n",
       "      <td>4</td>\n",
       "      <td>2.564501</td>\n",
       "      <td>23.063211</td>\n",
       "      <td>18.036789</td>\n",
       "    </tr>\n",
       "    <tr>\n",
       "      <th>4</th>\n",
       "      <td>29.283920</td>\n",
       "      <td>199</td>\n",
       "      <td>5.670546</td>\n",
       "      <td>30.071789</td>\n",
       "      <td>28.496050</td>\n",
       "    </tr>\n",
       "    <tr>\n",
       "      <th>5</th>\n",
       "      <td>27.366667</td>\n",
       "      <td>3</td>\n",
       "      <td>8.228204</td>\n",
       "      <td>36.677755</td>\n",
       "      <td>18.055578</td>\n",
       "    </tr>\n",
       "    <tr>\n",
       "      <th>6</th>\n",
       "      <td>19.973494</td>\n",
       "      <td>83</td>\n",
       "      <td>3.828809</td>\n",
       "      <td>20.797216</td>\n",
       "      <td>19.149772</td>\n",
       "    </tr>\n",
       "    <tr>\n",
       "      <th>8</th>\n",
       "      <td>14.963107</td>\n",
       "      <td>103</td>\n",
       "      <td>2.836284</td>\n",
       "      <td>15.510863</td>\n",
       "      <td>14.415351</td>\n",
       "    </tr>\n",
       "  </tbody>\n",
       "</table>\n",
       "</div>"
      ],
      "text/plain": [
       "                mean  count       std     ci_top  ci_bottom\n",
       "cylinders                                                  \n",
       "3          20.550000      4  2.564501  23.063211  18.036789\n",
       "4          29.283920    199  5.670546  30.071789  28.496050\n",
       "5          27.366667      3  8.228204  36.677755  18.055578\n",
       "6          19.973494     83  3.828809  20.797216  19.149772\n",
       "8          14.963107    103  2.836284  15.510863  14.415351"
      ]
     },
     "execution_count": 30,
     "metadata": {},
     "output_type": "execute_result"
    }
   ],
   "source": [
    "#prepare the array of confidence intervals for each \n",
    "\n",
    "ci_top = []\n",
    "ci_bottom = []\n",
    "\n",
    "#set up the stats we need for this\n",
    "cylinder_stats = automobile_data.groupby(['cylinders'])['mpg'].agg(['mean', 'count', 'std'])\n",
    "    \n",
    "for i in cylinder_stats.index:\n",
    "    \n",
    "    mean, count, std = cylinder_stats.loc[i]\n",
    "    \n",
    "    ci_top.append(mean + 1.96 * (std / math.sqrt(count)))\n",
    "    ci_bottom.append(mean - 1.96 * (std / math.sqrt(count)))\n",
    "\n",
    "cylinder_stats['ci_top'] = ci_top\n",
    "cylinder_stats['ci_bottom'] = ci_bottom\n",
    "\n",
    "cylinder_stats"
   ]
  },
  {
   "cell_type": "code",
   "execution_count": 31,
   "metadata": {},
   "outputs": [],
   "source": [
    "#setup a general function to output a confidence interval based on a chosen z_score\n",
    "\n",
    "def confidence_interval(data, z_value):\n",
    "    z_score = NormalDist().inv_cdf((1 + z_value) / 2.)   #this gets the z_score using the stats library\n",
    "  \n",
    "    ci_up = (data.mean() + z_score * (data.std() / math.sqrt(data.count())))\n",
    "    ci_down = (data.mean() - z_score * (data.std() / math.sqrt(data.count())))\n",
    "    \n",
    "    return ci_up, ci_down"
   ]
  },
  {
   "cell_type": "markdown",
   "metadata": {},
   "source": [
    "# Scipy Examples via Numpy"
   ]
  },
  {
   "cell_type": "code",
   "execution_count": 34,
   "metadata": {},
   "outputs": [
    {
     "data": {
      "text/html": [
       "<div>\n",
       "<style scoped>\n",
       "    .dataframe tbody tr th:only-of-type {\n",
       "        vertical-align: middle;\n",
       "    }\n",
       "\n",
       "    .dataframe tbody tr th {\n",
       "        vertical-align: top;\n",
       "    }\n",
       "\n",
       "    .dataframe thead th {\n",
       "        text-align: right;\n",
       "    }\n",
       "</style>\n",
       "<table border=\"1\" class=\"dataframe\">\n",
       "  <thead>\n",
       "    <tr style=\"text-align: right;\">\n",
       "      <th></th>\n",
       "      <th>YearsExperience</th>\n",
       "      <th>Salary</th>\n",
       "    </tr>\n",
       "  </thead>\n",
       "  <tbody>\n",
       "    <tr>\n",
       "      <th>16</th>\n",
       "      <td>4.0</td>\n",
       "      <td>55794.0</td>\n",
       "    </tr>\n",
       "    <tr>\n",
       "      <th>19</th>\n",
       "      <td>4.5</td>\n",
       "      <td>61111.0</td>\n",
       "    </tr>\n",
       "    <tr>\n",
       "      <th>4</th>\n",
       "      <td>2.2</td>\n",
       "      <td>39891.0</td>\n",
       "    </tr>\n",
       "    <tr>\n",
       "      <th>10</th>\n",
       "      <td>3.0</td>\n",
       "      <td>60150.0</td>\n",
       "    </tr>\n",
       "    <tr>\n",
       "      <th>5</th>\n",
       "      <td>2.3</td>\n",
       "      <td>40200.0</td>\n",
       "    </tr>\n",
       "    <tr>\n",
       "      <th>29</th>\n",
       "      <td>8.3</td>\n",
       "      <td>101302.0</td>\n",
       "    </tr>\n",
       "    <tr>\n",
       "      <th>20</th>\n",
       "      <td>4.9</td>\n",
       "      <td>67938.0</td>\n",
       "    </tr>\n",
       "    <tr>\n",
       "      <th>11</th>\n",
       "      <td>3.0</td>\n",
       "      <td>60150.0</td>\n",
       "    </tr>\n",
       "    <tr>\n",
       "      <th>21</th>\n",
       "      <td>5.1</td>\n",
       "      <td>66029.0</td>\n",
       "    </tr>\n",
       "    <tr>\n",
       "      <th>9</th>\n",
       "      <td>3.0</td>\n",
       "      <td>60150.0</td>\n",
       "    </tr>\n",
       "  </tbody>\n",
       "</table>\n",
       "</div>"
      ],
      "text/plain": [
       "    YearsExperience    Salary\n",
       "16              4.0   55794.0\n",
       "19              4.5   61111.0\n",
       "4               2.2   39891.0\n",
       "10              3.0   60150.0\n",
       "5               2.3   40200.0\n",
       "29              8.3  101302.0\n",
       "20              4.9   67938.0\n",
       "11              3.0   60150.0\n",
       "21              5.1   66029.0\n",
       "9               3.0   60150.0"
      ]
     },
     "execution_count": 34,
     "metadata": {},
     "output_type": "execute_result"
    }
   ],
   "source": [
    "#upload data and check it out\n",
    "salary_data = pd.read_csv('C:/Users/taiku/Documents/Salary_Data.csv')\n",
    "\n",
    "salary_data.sample(10)"
   ]
  },
  {
   "cell_type": "code",
   "execution_count": 35,
   "metadata": {
    "scrolled": true
   },
   "outputs": [
    {
     "name": "stdout",
     "output_type": "stream",
     "text": [
      "Shape  (37, 2)\n",
      "\n",
      "Nulls and Type:\n",
      "YearsExperience    0\n",
      "Salary             0\n",
      "dtype: int64\n",
      "\n",
      "YearsExperience Min:  1.1\n",
      "YearsExperience Max:  10.5\n",
      "YearsExperience Range:  9.4\n",
      "YearsExperience Mean:  5.118918918918919\n",
      "YearsExperience Median:  4.1\n",
      "Salary Min:  37731.0\n",
      "Salary Max:  122391.0\n",
      "Salary Range:  84660.0\n",
      "Salary Mean:  74117.4054054054\n",
      "Salary Median:  63218.0\n"
     ]
    }
   ],
   "source": [
    "#check the number of rows and columns of the data\n",
    "print(\"Shape \",salary_data.shape)\n",
    "\n",
    "#print the number of nulls per column\n",
    "print(\"\\nNulls and Type:\")\n",
    "print(salary_data.isnull().sum())\n",
    "print()\n",
    "\n",
    "#create a function to use the numpy stats\n",
    "def stats_output(data):\n",
    "    for x in salary_data:\n",
    "        print(x, \"Min: \", np.min(data[x]))\n",
    "        print(x, \"Max: \", np.max(data[x]))\n",
    "        print(x, \"Range: \", np.ptp(data[x]))\n",
    "        print(x, \"Mean: \", np.mean(data[x]))\n",
    "        print(x, \"Median: \", np.median(data[x]))\n",
    "        \n",
    "        \n",
    "#run the function\n",
    "stats_output(salary_data)"
   ]
  }
 ],
 "metadata": {
  "kernelspec": {
   "display_name": "Python 3",
   "language": "python",
   "name": "python3"
  },
  "language_info": {
   "codemirror_mode": {
    "name": "ipython",
    "version": 3
   },
   "file_extension": ".py",
   "mimetype": "text/x-python",
   "name": "python",
   "nbconvert_exporter": "python",
   "pygments_lexer": "ipython3",
   "version": "3.8.5"
  }
 },
 "nbformat": 4,
 "nbformat_minor": 2
}
