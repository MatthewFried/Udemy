{
  "nbformat": 4,
  "nbformat_minor": 0,
  "metadata": {
    "colab": {
      "name": "Day4_Example1.ipynb",
      "provenance": [],
      "authorship_tag": "ABX9TyO1/yGYPdlAyE4O6e38ztwJ",
      "include_colab_link": true
    },
    "kernelspec": {
      "name": "python3",
      "display_name": "Python 3"
    }
  },
  "cells": [
    {
      "cell_type": "markdown",
      "metadata": {
        "id": "view-in-github",
        "colab_type": "text"
      },
      "source": [
        "<a href=\"https://colab.research.google.com/github/MatthewFried/Udemy/blob/master/Day4_Example1.ipynb\" target=\"_parent\"><img src=\"https://colab.research.google.com/assets/colab-badge.svg\" alt=\"Open In Colab\"/></a>"
      ]
    },
    {
      "cell_type": "markdown",
      "metadata": {
        "id": "s43ZWWqJW-3T"
      },
      "source": [
        "#Day4_Example1"
      ]
    },
    {
      "cell_type": "markdown",
      "metadata": {
        "id": "spapfv-gar8V"
      },
      "source": [
        "#**Testing Data Metrics**#\n",
        "\n",
        "We will evaluate the performance of classification models facilitated through a combination of calculating certain types of performance metrics and generating model performance evaluation graphics. We will be testing these performance metrics via Python code functions we design and then compare to results of those pre-built Python functions that automatically calculate those same metrics. You will also be creating graphical output via Python code that can be used to evaluate the performance of classification models alongside our analysis.\n",
        "\n",
        "The data set we use for this work is comprised of 181 labeled binary observations. The classifications are either ‘0’ or ‘1’. \n",
        "\n",
        "A classification model has been used to “predict” the actual classifications for each observation, and its algorithm works by estimating the probability that the correct classification for each observation is a ‘1’. The data set includes three attributes that we will make use of for our analysis:\n",
        "\n",
        "1.  **class**: the actual classification for the observation\n",
        "2.  **scored.class**: the predicted classification for the observation (can only be ‘0’ or ‘1’; identified by comparing the classification model’s probability score (i.e., the likelihood that the correct classification\n",
        "3.  **scored.probability**: the classification model’s probability score (i.e., the likelihood that the correct classification for an observation is a ‘1’) for the observation\n",
        "\n",
        "In our analysis we will create a confusion matrix and compare our results against the regular Python functions."
      ]
    },
    {
      "cell_type": "code",
      "metadata": {
        "id": "g9Db6SLqfA2a",
        "colab": {
          "base_uri": "https://localhost:8080/",
          "height": 274
        },
        "outputId": "8aeffc4f-d6b5-470a-e67b-e0f1c667f960"
      },
      "source": [
        "# load all libraries\n",
        "import pandas as pd \n",
        "import numpy as np\n",
        "import matplotlib.pyplot as plt\n",
        "import missingno as msno\n",
        "import seaborn as sns\n",
        "from sklearn.metrics import confusion_matrix, classification_report \n",
        "from sklearn.metrics import accuracy_score, recall_score, precision_score, f1_score, roc_auc_score, roc_curve\n",
        "from yellowbrick.classifier import ROCAUC\n",
        "\n",
        "\n",
        "df = pd.read_csv(\"https://raw.githubusercontent.com/MatthewFried/Udemy/master/Day4/Day4%20Data.csv\")\n",
        "\n",
        "#create a second stored value of original data as a safety\n",
        "df_orignal = df\n",
        "\n",
        "# check the dataset uploaded as expected\n",
        "print(\"Observations: {}\".format(df.shape[0]))\n",
        "df.head()"
      ],
      "execution_count": null,
      "outputs": [
        {
          "output_type": "stream",
          "text": [
            "/usr/local/lib/python3.6/dist-packages/sklearn/utils/deprecation.py:144: FutureWarning: The sklearn.metrics.classification module is  deprecated in version 0.22 and will be removed in version 0.24. The corresponding classes / functions should instead be imported from sklearn.metrics. Anything that cannot be imported from sklearn.metrics is now part of the private API.\n",
            "  warnings.warn(message, FutureWarning)\n"
          ],
          "name": "stderr"
        },
        {
          "output_type": "stream",
          "text": [
            "Observations: 181\n"
          ],
          "name": "stdout"
        },
        {
          "output_type": "execute_result",
          "data": {
            "text/html": [
              "<div>\n",
              "<style scoped>\n",
              "    .dataframe tbody tr th:only-of-type {\n",
              "        vertical-align: middle;\n",
              "    }\n",
              "\n",
              "    .dataframe tbody tr th {\n",
              "        vertical-align: top;\n",
              "    }\n",
              "\n",
              "    .dataframe thead th {\n",
              "        text-align: right;\n",
              "    }\n",
              "</style>\n",
              "<table border=\"1\" class=\"dataframe\">\n",
              "  <thead>\n",
              "    <tr style=\"text-align: right;\">\n",
              "      <th></th>\n",
              "      <th>pregnant</th>\n",
              "      <th>glucose</th>\n",
              "      <th>diastolic</th>\n",
              "      <th>skinfold</th>\n",
              "      <th>insulin</th>\n",
              "      <th>bmi</th>\n",
              "      <th>pedigree</th>\n",
              "      <th>age</th>\n",
              "      <th>class</th>\n",
              "      <th>scored.class</th>\n",
              "      <th>scored.probability</th>\n",
              "    </tr>\n",
              "  </thead>\n",
              "  <tbody>\n",
              "    <tr>\n",
              "      <th>0</th>\n",
              "      <td>7</td>\n",
              "      <td>124</td>\n",
              "      <td>70</td>\n",
              "      <td>33</td>\n",
              "      <td>215</td>\n",
              "      <td>25.5</td>\n",
              "      <td>0.161</td>\n",
              "      <td>37</td>\n",
              "      <td>0</td>\n",
              "      <td>0</td>\n",
              "      <td>0.328452</td>\n",
              "    </tr>\n",
              "    <tr>\n",
              "      <th>1</th>\n",
              "      <td>2</td>\n",
              "      <td>122</td>\n",
              "      <td>76</td>\n",
              "      <td>27</td>\n",
              "      <td>200</td>\n",
              "      <td>35.9</td>\n",
              "      <td>0.483</td>\n",
              "      <td>26</td>\n",
              "      <td>0</td>\n",
              "      <td>0</td>\n",
              "      <td>0.273190</td>\n",
              "    </tr>\n",
              "    <tr>\n",
              "      <th>2</th>\n",
              "      <td>3</td>\n",
              "      <td>107</td>\n",
              "      <td>62</td>\n",
              "      <td>13</td>\n",
              "      <td>48</td>\n",
              "      <td>22.9</td>\n",
              "      <td>0.678</td>\n",
              "      <td>23</td>\n",
              "      <td>1</td>\n",
              "      <td>0</td>\n",
              "      <td>0.109660</td>\n",
              "    </tr>\n",
              "    <tr>\n",
              "      <th>3</th>\n",
              "      <td>1</td>\n",
              "      <td>91</td>\n",
              "      <td>64</td>\n",
              "      <td>24</td>\n",
              "      <td>0</td>\n",
              "      <td>29.2</td>\n",
              "      <td>0.192</td>\n",
              "      <td>21</td>\n",
              "      <td>0</td>\n",
              "      <td>0</td>\n",
              "      <td>0.055998</td>\n",
              "    </tr>\n",
              "    <tr>\n",
              "      <th>4</th>\n",
              "      <td>4</td>\n",
              "      <td>83</td>\n",
              "      <td>86</td>\n",
              "      <td>19</td>\n",
              "      <td>0</td>\n",
              "      <td>29.3</td>\n",
              "      <td>0.317</td>\n",
              "      <td>34</td>\n",
              "      <td>0</td>\n",
              "      <td>0</td>\n",
              "      <td>0.100491</td>\n",
              "    </tr>\n",
              "  </tbody>\n",
              "</table>\n",
              "</div>"
            ],
            "text/plain": [
              "   pregnant  glucose  diastolic  ...  class  scored.class  scored.probability\n",
              "0         7      124         70  ...      0             0            0.328452\n",
              "1         2      122         76  ...      0             0            0.273190\n",
              "2         3      107         62  ...      1             0            0.109660\n",
              "3         1       91         64  ...      0             0            0.055998\n",
              "4         4       83         86  ...      0             0            0.100491\n",
              "\n",
              "[5 rows x 11 columns]"
            ]
          },
          "metadata": {
            "tags": []
          },
          "execution_count": 1
        }
      ]
    },
    {
      "cell_type": "code",
      "metadata": {
        "id": "8CloOeLW5cI9",
        "colab": {
          "base_uri": "https://localhost:8080/"
        },
        "outputId": "f36ef91d-d40b-4460-f31e-1826215ed510"
      },
      "source": [
        "#check how many data points there are\n",
        "len(df)"
      ],
      "execution_count": null,
      "outputs": [
        {
          "output_type": "execute_result",
          "data": {
            "text/plain": [
              "181"
            ]
          },
          "metadata": {
            "tags": []
          },
          "execution_count": 2
        }
      ]
    },
    {
      "cell_type": "code",
      "metadata": {
        "id": "iecdQ5Wc5hVZ",
        "colab": {
          "base_uri": "https://localhost:8080/"
        },
        "outputId": "44a06e99-0981-48c3-e1fc-97667aa120b0"
      },
      "source": [
        "#check that there is no null data that we would need to clean first\n",
        "df.isnull().sum()"
      ],
      "execution_count": null,
      "outputs": [
        {
          "output_type": "execute_result",
          "data": {
            "text/plain": [
              "pregnant              0\n",
              "glucose               0\n",
              "diastolic             0\n",
              "skinfold              0\n",
              "insulin               0\n",
              "bmi                   0\n",
              "pedigree              0\n",
              "age                   0\n",
              "class                 0\n",
              "scored.class          0\n",
              "scored.probability    0\n",
              "dtype: int64"
            ]
          },
          "metadata": {
            "tags": []
          },
          "execution_count": 3
        }
      ]
    },
    {
      "cell_type": "markdown",
      "metadata": {
        "id": "yWrripxYfO71"
      },
      "source": [
        "##**Confusion Matrix**##\n",
        "\n",
        "Here we create our confusion matrix and study the different, relevant points. We have four sections in the confusion matrix:\n",
        "\n",
        "1. **True Positives** (TP): True positives are the cases when the actual class of the data point was 1(True) and the predicted is also 1(True)\n",
        "2. **True Negatives** (TN): True negatives are the cases when the actual class of the data point was 0(False) and the predicted is also 0(False)\n",
        "3. **False Positives** (FP): False positives are the cases when the actual class of the data point was 0(False) and the predicted is 1(True). False is because the model has predicted incorrectly and positive because the class predicted was a positive one.\n",
        "4. **False Negatives** (FN): False negatives are the cases when the actual class of the data point was 1(True) and the predicted is 0(False). False is because the model has predicted incorrectly and negative because the class predicted was a negative one.\n",
        "\n",
        "We would like to investigate this data to minimize false positives and false negatives.  To this end we will look at the metrics defined below: accuracy, precision, recall, and f1.  "
      ]
    },
    {
      "cell_type": "code",
      "metadata": {
        "id": "d_u0t7ocn1pY",
        "colab": {
          "base_uri": "https://localhost:8080/",
          "height": 110
        },
        "outputId": "5fef7472-90cc-4f77-ec61-4673191a0c7c"
      },
      "source": [
        "y_predict = df['scored.class']\n",
        "y_test = df['class'] \n",
        "\n",
        "pd.DataFrame(confusion_matrix(y_test, y_predict), columns=[\"Predict 0\",\"Predict 1\",],index=[\"True 0\", \"True 1\"])"
      ],
      "execution_count": null,
      "outputs": [
        {
          "output_type": "execute_result",
          "data": {
            "text/html": [
              "<div>\n",
              "<style scoped>\n",
              "    .dataframe tbody tr th:only-of-type {\n",
              "        vertical-align: middle;\n",
              "    }\n",
              "\n",
              "    .dataframe tbody tr th {\n",
              "        vertical-align: top;\n",
              "    }\n",
              "\n",
              "    .dataframe thead th {\n",
              "        text-align: right;\n",
              "    }\n",
              "</style>\n",
              "<table border=\"1\" class=\"dataframe\">\n",
              "  <thead>\n",
              "    <tr style=\"text-align: right;\">\n",
              "      <th></th>\n",
              "      <th>Predict 0</th>\n",
              "      <th>Predict 1</th>\n",
              "    </tr>\n",
              "  </thead>\n",
              "  <tbody>\n",
              "    <tr>\n",
              "      <th>True 0</th>\n",
              "      <td>119</td>\n",
              "      <td>5</td>\n",
              "    </tr>\n",
              "    <tr>\n",
              "      <th>True 1</th>\n",
              "      <td>30</td>\n",
              "      <td>27</td>\n",
              "    </tr>\n",
              "  </tbody>\n",
              "</table>\n",
              "</div>"
            ],
            "text/plain": [
              "        Predict 0  Predict 1\n",
              "True 0        119          5\n",
              "True 1         30         27"
            ]
          },
          "metadata": {
            "tags": []
          },
          "execution_count": 4
        }
      ]
    },
    {
      "cell_type": "code",
      "metadata": {
        "id": "-TiHEX9KCy0w",
        "colab": {
          "base_uri": "https://localhost:8080/",
          "height": 172
        },
        "outputId": "37272318-5e20-4dad-8ec8-ef50c43aaf88"
      },
      "source": [
        "#cross tab\n",
        "pd.crosstab(y_test,y_predict,margins=True, margins_name=\"Total\",dropna=False)"
      ],
      "execution_count": null,
      "outputs": [
        {
          "output_type": "execute_result",
          "data": {
            "text/html": [
              "<div>\n",
              "<style scoped>\n",
              "    .dataframe tbody tr th:only-of-type {\n",
              "        vertical-align: middle;\n",
              "    }\n",
              "\n",
              "    .dataframe tbody tr th {\n",
              "        vertical-align: top;\n",
              "    }\n",
              "\n",
              "    .dataframe thead th {\n",
              "        text-align: right;\n",
              "    }\n",
              "</style>\n",
              "<table border=\"1\" class=\"dataframe\">\n",
              "  <thead>\n",
              "    <tr style=\"text-align: right;\">\n",
              "      <th>scored.class</th>\n",
              "      <th>0</th>\n",
              "      <th>1</th>\n",
              "      <th>Total</th>\n",
              "    </tr>\n",
              "    <tr>\n",
              "      <th>class</th>\n",
              "      <th></th>\n",
              "      <th></th>\n",
              "      <th></th>\n",
              "    </tr>\n",
              "  </thead>\n",
              "  <tbody>\n",
              "    <tr>\n",
              "      <th>0</th>\n",
              "      <td>119</td>\n",
              "      <td>5</td>\n",
              "      <td>124</td>\n",
              "    </tr>\n",
              "    <tr>\n",
              "      <th>1</th>\n",
              "      <td>30</td>\n",
              "      <td>27</td>\n",
              "      <td>57</td>\n",
              "    </tr>\n",
              "    <tr>\n",
              "      <th>Total</th>\n",
              "      <td>149</td>\n",
              "      <td>32</td>\n",
              "      <td>181</td>\n",
              "    </tr>\n",
              "  </tbody>\n",
              "</table>\n",
              "</div>"
            ],
            "text/plain": [
              "scored.class    0   1  Total\n",
              "class                       \n",
              "0             119   5    124\n",
              "1              30  27     57\n",
              "Total         149  32    181"
            ]
          },
          "metadata": {
            "tags": []
          },
          "execution_count": 5
        }
      ]
    },
    {
      "cell_type": "code",
      "metadata": {
        "id": "eBRpzvcuFiic",
        "colab": {
          "base_uri": "https://localhost:8080/"
        },
        "outputId": "98453569-5ee5-4f37-bc99-6fedbf3a2654"
      },
      "source": [
        "#Look at y_predict value counts\n",
        "y_predict.value_counts()"
      ],
      "execution_count": null,
      "outputs": [
        {
          "output_type": "execute_result",
          "data": {
            "text/plain": [
              "0    149\n",
              "1     32\n",
              "Name: scored.class, dtype: int64"
            ]
          },
          "metadata": {
            "tags": []
          },
          "execution_count": 6
        }
      ]
    },
    {
      "cell_type": "code",
      "metadata": {
        "id": "kC0tl1LEFwJO",
        "colab": {
          "base_uri": "https://localhost:8080/"
        },
        "outputId": "6b6c2e8b-b38f-4810-a20d-83df401ce331"
      },
      "source": [
        "#Look at y_test value counts\n",
        "y_test.value_counts()"
      ],
      "execution_count": null,
      "outputs": [
        {
          "output_type": "execute_result",
          "data": {
            "text/plain": [
              "0    124\n",
              "1     57\n",
              "Name: class, dtype: int64"
            ]
          },
          "metadata": {
            "tags": []
          },
          "execution_count": 7
        }
      ]
    },
    {
      "cell_type": "code",
      "metadata": {
        "id": "Qg20NPU2GiRt",
        "colab": {
          "base_uri": "https://localhost:8080/",
          "height": 265
        },
        "outputId": "d674e025-c0bd-4838-8fb8-77a82ffb23a9"
      },
      "source": [
        "#picture of cofusion matrix with seaborn\n",
        "sns.heatmap(confusion_matrix(y_test, y_predict), annot=True)\n",
        "plt.show()"
      ],
      "execution_count": null,
      "outputs": [
        {
          "output_type": "display_data",
          "data": {
            "image/png": "[encoded data removed]",
            "text/plain": [
              "<Figure size 432x288 with 2 Axes>"
            ]
          },
          "metadata": {
            "tags": [],
            "needs_background": "light"
          }
        }
      ]
    },
    {
      "cell_type": "code",
      "metadata": {
        "id": "qi9qPsq4DlHx",
        "colab": {
          "base_uri": "https://localhost:8080/",
          "height": 141
        },
        "outputId": "63c776b8-75d4-4350-9571-70ee953b22c8"
      },
      "source": [
        "#normalized cross tab\n",
        "pd.crosstab(y_test,y_predict,normalize=True)"
      ],
      "execution_count": null,
      "outputs": [
        {
          "output_type": "execute_result",
          "data": {
            "text/html": [
              "<div>\n",
              "<style scoped>\n",
              "    .dataframe tbody tr th:only-of-type {\n",
              "        vertical-align: middle;\n",
              "    }\n",
              "\n",
              "    .dataframe tbody tr th {\n",
              "        vertical-align: top;\n",
              "    }\n",
              "\n",
              "    .dataframe thead th {\n",
              "        text-align: right;\n",
              "    }\n",
              "</style>\n",
              "<table border=\"1\" class=\"dataframe\">\n",
              "  <thead>\n",
              "    <tr style=\"text-align: right;\">\n",
              "      <th>scored.class</th>\n",
              "      <th>0</th>\n",
              "      <th>1</th>\n",
              "    </tr>\n",
              "    <tr>\n",
              "      <th>class</th>\n",
              "      <th></th>\n",
              "      <th></th>\n",
              "    </tr>\n",
              "  </thead>\n",
              "  <tbody>\n",
              "    <tr>\n",
              "      <th>0</th>\n",
              "      <td>0.657459</td>\n",
              "      <td>0.027624</td>\n",
              "    </tr>\n",
              "    <tr>\n",
              "      <th>1</th>\n",
              "      <td>0.165746</td>\n",
              "      <td>0.149171</td>\n",
              "    </tr>\n",
              "  </tbody>\n",
              "</table>\n",
              "</div>"
            ],
            "text/plain": [
              "scored.class         0         1\n",
              "class                           \n",
              "0             0.657459  0.027624\n",
              "1             0.165746  0.149171"
            ]
          },
          "metadata": {
            "tags": []
          },
          "execution_count": 9
        }
      ]
    },
    {
      "cell_type": "code",
      "metadata": {
        "id": "fqSYbwk158rA",
        "colab": {
          "base_uri": "https://localhost:8080/"
        },
        "outputId": "b78145c0-ff73-460e-9039-87de7b77a170"
      },
      "source": [
        "#checking the value counts with 10 bins\n",
        "df['scored.probability'].value_counts(sort=True, bins=10)"
      ],
      "execution_count": null,
      "outputs": [
        {
          "output_type": "execute_result",
          "data": {
            "text/plain": [
              "(0.0213, 0.116]    44\n",
              "(0.116, 0.208]     39\n",
              "(0.208, 0.3]       24\n",
              "(0.3, 0.392]       21\n",
              "(0.392, 0.485]     17\n",
              "(0.485, 0.577]      9\n",
              "(0.669, 0.762]      8\n",
              "(0.577, 0.669]      8\n",
              "(0.854, 0.946]      6\n",
              "(0.762, 0.854]      5\n",
              "Name: scored.probability, dtype: int64"
            ]
          },
          "metadata": {
            "tags": []
          },
          "execution_count": 10
        }
      ]
    },
    {
      "cell_type": "code",
      "metadata": {
        "id": "-lcSx8qb6uBe",
        "colab": {
          "base_uri": "https://localhost:8080/"
        },
        "outputId": "bf7aec21-52d0-4ee6-f3b3-7da8483d18ef"
      },
      "source": [
        "#scored.probability with 2 bins\n",
        "df['scored.probability'].value_counts(sort=True, bins=2)"
      ],
      "execution_count": null,
      "outputs": [
        {
          "output_type": "execute_result",
          "data": {
            "text/plain": [
              "(0.0213, 0.485]    145\n",
              "(0.485, 0.946]      36\n",
              "Name: scored.probability, dtype: int64"
            ]
          },
          "metadata": {
            "tags": []
          },
          "execution_count": 11
        }
      ]
    },
    {
      "cell_type": "markdown",
      "metadata": {
        "id": "uaFH8Ui56gwy"
      },
      "source": [
        "The above value counts were binned. "
      ]
    },
    {
      "cell_type": "markdown",
      "metadata": {
        "id": "6g2f1q9UfodX"
      },
      "source": [
        "##**Metrics**##\n",
        "\n",
        "Here we create the relevant metrics.\n",
        "* **Accuracy** is the most intuitive performance measure.  It is a ratio of correctly predicted observation to the total observations. Accuracy is a great measure when you have symmetric datasets where values of false positive and false negatives are almost same.\n",
        "  * TP+TN/TP+FP+FN+TN\n",
        "* **Precision** is the ratio of correctly predicted positive observations to the total predicted positive observations.\n",
        " * TP/TP+FP\n",
        "* **Recall** (or sensitivity) is the ratio of correctly predicted positive observations to the all observations.\n",
        " * TP/TP+FN\n",
        "* **F1** Score is the weighted average of Precision and Recall. This score takes both false positives and false negatives into account. F1 is usually more useful than accuracy, especially if you have an uneven class distribution.  If the cost of false positives and false negatives are very different, it’s better to look at both Precision and Recall rather than Accuracy.\n",
        " * 2*(Recall * Precision) / (Recall + Precision)\n"
      ]
    },
    {
      "cell_type": "code",
      "metadata": {
        "id": "m19A2M_p8hIC"
      },
      "source": [
        "#scores\n",
        "accuracy = accuracy_score(y_test, y_predict)\n",
        "recall = recall_score(y_test, y_predict)\n",
        "precision = precision_score(y_test, y_predict)\n",
        "f1 = f1_score(y_test, y_predict)"
      ],
      "execution_count": null,
      "outputs": []
    },
    {
      "cell_type": "code",
      "metadata": {
        "id": "xqbavzOu9KtI",
        "colab": {
          "base_uri": "https://localhost:8080/"
        },
        "outputId": "d8a64bce-3e16-4881-d7dd-ea853514356e"
      },
      "source": [
        "#function list\n",
        "\n",
        "#create a function to get our necessary values\n",
        "def confusion_matrix_values(y_predict, y_test):\n",
        "  tp = ((y_test == 1) & (y_test == y_predict)).sum()  \n",
        "  tn = ((y_test == 0) & (y_test == y_predict)).sum() \n",
        "  fp = ((y_test == 0) & (y_test != y_predict)).sum()  \n",
        "  fn = ((y_test == 1) & (y_test != y_predict)).sum()  \n",
        "  return tp, tn, fp, fn \n",
        "\n",
        "#function for accuracy\n",
        "def func_accuracy(actual, predicted):\n",
        "  tp, tn, fp, fn = confusion_matrix_values(y_predict, y_test)\n",
        "  val = (tp + tn) / (tp + tn + fp + fn)\n",
        "  return val\n",
        "\n",
        "#function for recall\n",
        "def func_recall(y_predict,y_test):\n",
        "  tp, tn, fp, fn = confusion_matrix_values(y_predict, y_test)\n",
        "  val = tp / (tp + fn)\n",
        "  return val\n",
        "\n",
        "#function for precision\n",
        "def func_precision(y_predict, y_test):\n",
        "  tp, tn, fp, fn = confusion_matrix_values(y_predict, y_test)\n",
        "  val = tp / (tp + fp)\n",
        "  return val\n",
        "\n",
        "#function for specificity\n",
        "def func_specificity(y_predict, y_test):\n",
        " tp, tn, fp, fn = confusion_matrix_values(y_predict, y_test)\n",
        " return (tn/(tn+fp))\n",
        "\n",
        "#function for f1\n",
        "def func_f1(y_predict,y_test):\n",
        "  tp, tn, fp, fn = confusion_matrix_values(y_predict, y_test)\n",
        "  pre = tp / (tp + fp)\n",
        "  rec = tp / (tp + fn)\n",
        "  val = (2 * pre * rec) / (pre + rec)\n",
        "  return val\n",
        "\n",
        "#function to get the stats of all of them\n",
        "def get_stats(x,y):\n",
        "  acc = func_accuracy(x,y)\n",
        "  rec = func_recall(x,y)\n",
        "  pre = func_precision(x,y)\n",
        "  spe = func_specificity(x,y)\n",
        "  f1 = func_f1(x,y)\n",
        "  return acc, rec, pre, spe, f1\n",
        "\n",
        "a, b, c, d, e = get_stats(y_predict, y_test,)\n",
        "\n",
        "#output of comparison\n",
        "print('Accuracy:\\n',a,'\\n',accuracy,'\\n')\n",
        "print('Recall:\\n',b,'\\n',recall,'\\n')\n",
        "print('Precision:\\n',c,'\\n',precision,'\\n')\n",
        "print('F1:\\n',e,'\\n',f1,'\\n')\n",
        "print('Specificity:\\n',d,'\\n')\n"
      ],
      "execution_count": null,
      "outputs": [
        {
          "output_type": "stream",
          "text": [
            "Accuracy:\n",
            " 0.8066298342541437 \n",
            " 0.8066298342541437 \n",
            "\n",
            "Recall:\n",
            " 0.47368421052631576 \n",
            " 0.47368421052631576 \n",
            "\n",
            "Precision:\n",
            " 0.84375 \n",
            " 0.84375 \n",
            "\n",
            "F1:\n",
            " 0.6067415730337079 \n",
            " 0.6067415730337079 \n",
            "\n",
            "Specificity:\n",
            " 0.9596774193548387 \n",
            "\n"
          ],
          "name": "stdout"
        }
      ]
    },
    {
      "cell_type": "code",
      "metadata": {
        "id": "jjyXUhb2MbN4",
        "colab": {
          "base_uri": "https://localhost:8080/"
        },
        "outputId": "79e3cc2e-09ea-429c-c7aa-38644bbeb50c"
      },
      "source": [
        "#classification report\n",
        "print(classification_report(y_test,y_predict,digits=7))"
      ],
      "execution_count": null,
      "outputs": [
        {
          "output_type": "stream",
          "text": [
            "              precision    recall  f1-score   support\n",
            "\n",
            "           0  0.7986577 0.9596774 0.8717949       124\n",
            "           1  0.8437500 0.4736842 0.6067416        57\n",
            "\n",
            "    accuracy                      0.8066298       181\n",
            "   macro avg  0.8212039 0.7166808 0.7392682       181\n",
            "weighted avg  0.8128580 0.8066298 0.7883250       181\n",
            "\n"
          ],
          "name": "stdout"
        }
      ]
    },
    {
      "cell_type": "markdown",
      "metadata": {
        "id": "RvIrgmggft0u"
      },
      "source": [
        "##**ROC and AUC**##\n",
        "\n",
        "Here we create our ROC (Receiver Operating Characteristic) and AUC (Area Under the Curve) statistics. The ROC chart provides a means of comparison between classification models. The ROC chart shows false positive rate (1-specificity) on the X-axis, the probability of target=1 when its true value is 0, against true positive rate (sensitivity) on Y-axis, the probability of target=1 when its true value is 1. Ideally, the curve will climb quickly toward the top-left meaning the model correctly predicted the cases.  We use the built in Python functions to do this. (I tried doing this myself (without using the libraries), but I do not understand how to do get a list, I was only getting out two numbers - fpr, tpr.)"
      ]
    },
    {
      "cell_type": "code",
      "metadata": {
        "id": "Z552tqzkTrIv",
        "colab": {
          "base_uri": "https://localhost:8080/"
        },
        "outputId": "3b7ab39e-da54-4d26-c89c-0b5d5278e738"
      },
      "source": [
        "#roc function in Python\n",
        "y_prob = df['scored.probability']\n",
        "\n",
        "r_probs = [0 for _ in range(len(y_test))]\n",
        "real_auc = roc_auc_score(y_test,y_prob)\n",
        "fake_auc = roc_auc_score(y_test, r_probs)\n",
        "\n",
        "print('Our data = %.5f' % (real_auc))\n",
        "print('Random data = %.5f' % (fake_auc))"
      ],
      "execution_count": null,
      "outputs": [
        {
          "output_type": "stream",
          "text": [
            "Our data = 0.85031\n",
            "Random data = 0.50000\n"
          ],
          "name": "stdout"
        }
      ]
    },
    {
      "cell_type": "code",
      "metadata": {
        "id": "qy97LUv7ZB4b",
        "colab": {
          "base_uri": "https://localhost:8080/",
          "height": 294
        },
        "outputId": "ce2060b5-43f7-447f-a4df-c8b23b456465"
      },
      "source": [
        "fake_fpr, r_tpr, _ = roc_curve(y_test, r_probs)\n",
        "real_fpr, rf_tpr, _ = roc_curve(y_test, y_prob)\n",
        "\n",
        "plt.plot(fake_fpr, r_tpr, linestyle='--', label='Random prediction (AUROC = %0.3f)' % fake_auc)\n",
        "plt.plot(real_fpr, rf_tpr, marker='.', label='Random Forest (AUROC = %0.3f)' % real_auc)\n",
        "\n",
        "# Title\n",
        "plt.title('ROC Plot')\n",
        "# Axis labels\n",
        "plt.xlabel('False Positive Rate')\n",
        "plt.ylabel('True Positive Rate')\n",
        "# Show legend\n",
        "plt.legend() # \n",
        "# Show plot\n",
        "plt.show()"
      ],
      "execution_count": null,
      "outputs": [
        {
          "output_type": "display_data",
          "data": {
            "image/png": "[encoded data removed]",
            "text/plain": [
              "<Figure size 432x288 with 1 Axes>"
            ]
          },
          "metadata": {
            "tags": [],
            "needs_background": "light"
          }
        }
      ]
    },
    {
      "cell_type": "markdown",
      "metadata": {
        "id": "RFc0czbJ7UVP"
      },
      "source": [
        "#**Summary**#\n",
        "\n",
        "We have a large area under the curve, rising rapidly, as described above. Our general plan and process output the same numbers as the Python libraries as well. Overall, the model seems to have a swift pick up and hits 1 at around .8."
      ]
    }
  ]
}