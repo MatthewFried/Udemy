{
  "nbformat": 4,
  "nbformat_minor": 0,
  "metadata": {
    "colab": {
      "name": "8 Strings.ipynb",
      "provenance": [],
      "authorship_tag": "ABX9TyNj9qNP1Wb3hfdVPcRJs9Tq",
      "include_colab_link": true
    },
    "kernelspec": {
      "name": "python3",
      "display_name": "Python 3"
    }
  },
  "cells": [
    {
      "cell_type": "markdown",
      "metadata": {
        "id": "view-in-github",
        "colab_type": "text"
      },
      "source": [
        "<a href=\"https://colab.research.google.com/github/MatthewFried/Udemy/blob/master/8_Strings.ipynb\" target=\"_parent\"><img src=\"https://colab.research.google.com/assets/colab-badge.svg\" alt=\"Open In Colab\"/></a>"
      ]
    },
    {
      "cell_type": "markdown",
      "metadata": {
        "id": "pnCE8xG15V53",
        "colab_type": "text"
      },
      "source": [
        "# __Strings__"
      ]
    },
    {
      "cell_type": "code",
      "metadata": {
        "id": "DK7zmKtq4gwb",
        "colab_type": "code",
        "colab": {
          "base_uri": "https://localhost:8080/",
          "height": 34
        },
        "outputId": "5747a407-9b53-4b4b-8875-7790bf33e961"
      },
      "source": [
        "# string is a collection of characters\n",
        "name = 'Hamlet'\n",
        "for ch in name:\n",
        "  print(ch, end = \" | \")"
      ],
      "execution_count": null,
      "outputs": [
        {
          "output_type": "stream",
          "text": [
            "H | a | m | l | e | t | "
          ],
          "name": "stdout"
        }
      ]
    },
    {
      "cell_type": "code",
      "metadata": {
        "id": "vYklUnBHB1E1",
        "colab_type": "code",
        "colab": {
          "base_uri": "https://localhost:8080/",
          "height": 34
        },
        "outputId": "25b65801-362d-4ee0-a95d-826322fa9475"
      },
      "source": [
        "name = \"Macbeth\"\n",
        "print(name[2:5])"
      ],
      "execution_count": null,
      "outputs": [
        {
          "output_type": "stream",
          "text": [
            "cbe\n"
          ],
          "name": "stdout"
        }
      ]
    },
    {
      "cell_type": "code",
      "metadata": {
        "id": "GQEv1eQs5fn7",
        "colab_type": "code",
        "colab": {
          "base_uri": "https://localhost:8080/",
          "height": 52
        },
        "outputId": "105d944b-3638-4a0a-a7f6-9644f24582ba"
      },
      "source": [
        "#count how many times an 's' appears in the sentence\n",
        "count = 0\n",
        "my_string = input('Enter a sentence: ')\n",
        "for ch in my_string:\n",
        "  if ch == 'S' or ch == 's':\n",
        "    count += 1\n",
        "\n",
        "print(f'The letter S appears {count} times.')"
      ],
      "execution_count": null,
      "outputs": [
        {
          "output_type": "stream",
          "text": [
            "Enter a sentence: The strange and staid sisters of salem sought to steady their stead on stirrups\n",
            "The letter S appears 11 times.\n"
          ],
          "name": "stdout"
        }
      ]
    },
    {
      "cell_type": "code",
      "metadata": {
        "id": "borrxcrG5xZh",
        "colab_type": "code",
        "colab": {
          "base_uri": "https://localhost:8080/",
          "height": 34
        },
        "outputId": "d01f60ec-1f1b-4be0-b517-622507cf23db"
      },
      "source": [
        "#the letters have an index as well\n",
        "my_string = 'The Winter of My Discontent'\n",
        "print(my_string[0], my_string[6], my_string[11], my_string[-1])\n"
      ],
      "execution_count": null,
      "outputs": [
        {
          "output_type": "stream",
          "text": [
            "T n o t\n"
          ],
          "name": "stdout"
        }
      ]
    },
    {
      "cell_type": "code",
      "metadata": {
        "id": "rVxHY0fE6NGG",
        "colab_type": "code",
        "colab": {
          "base_uri": "https://localhost:8080/",
          "height": 52
        },
        "outputId": "b0d9bd52-3cf4-47c6-ffd3-735716bc9783"
      },
      "source": [
        "my_string = 'The Winter of My Discontent'\n",
        "print(my_string[:-5])\n",
        "print(my_string[-5:])"
      ],
      "execution_count": null,
      "outputs": [
        {
          "output_type": "stream",
          "text": [
            "The Winter of My Disco\n",
            "ntent\n"
          ],
          "name": "stdout"
        }
      ]
    },
    {
      "cell_type": "code",
      "metadata": {
        "id": "D8toIqIW6oc8",
        "colab_type": "code",
        "colab": {
          "base_uri": "https://localhost:8080/",
          "height": 34
        },
        "outputId": "deaba165-8dc4-4d44-cabc-6da14ba0c2f2"
      },
      "source": [
        "letters = 'ABCDEFGHIJKLMNOPQRSTUVWXYZ'\n",
        "print(letters[0:26:2])"
      ],
      "execution_count": null,
      "outputs": [
        {
          "output_type": "stream",
          "text": [
            "ACEGIKMOQSUWY\n"
          ],
          "name": "stdout"
        }
      ]
    },
    {
      "cell_type": "code",
      "metadata": {
        "id": "HQ0FmDjI6WtO",
        "colab_type": "code",
        "colab": {
          "base_uri": "https://localhost:8080/",
          "height": 34
        },
        "outputId": "be50ad39-1014-4ec9-f23e-c86393934661"
      },
      "source": [
        "#the len function\n",
        "my_string = 'The Winter of My Discontent'\n",
        "print(len(my_string))"
      ],
      "execution_count": null,
      "outputs": [
        {
          "output_type": "stream",
          "text": [
            "27\n"
          ],
          "name": "stdout"
        }
      ]
    },
    {
      "cell_type": "code",
      "metadata": {
        "id": "fMNkao2m6a3S",
        "colab_type": "code",
        "colab": {
          "base_uri": "https://localhost:8080/",
          "height": 34
        },
        "outputId": "7ad1c8f9-93cd-40e5-a16a-78ffcab10055"
      },
      "source": [
        "#string concetenation\n",
        "x = 'hot'\n",
        "y = 'dog'\n",
        "print(x+y)"
      ],
      "execution_count": null,
      "outputs": [
        {
          "output_type": "stream",
          "text": [
            "hotdog\n"
          ],
          "name": "stdout"
        }
      ]
    },
    {
      "cell_type": "markdown",
      "metadata": {
        "id": "bAd44FP169E2",
        "colab_type": "text"
      },
      "source": [
        "### Search A String"
      ]
    },
    {
      "cell_type": "code",
      "metadata": {
        "id": "4rS5aI4o6zep",
        "colab_type": "code",
        "colab": {
          "base_uri": "https://localhost:8080/",
          "height": 34
        },
        "outputId": "d12e8500-dbc8-43c5-adcb-702b0ff40d0a"
      },
      "source": [
        "#search a string\n",
        "text = 'Four score and seven years ago'\n",
        "if 'seven' in text:     \n",
        "  print('The string \\'seven\\' was found.')\n",
        "else:\n",
        "  print('The string \"seven\" was not found.')"
      ],
      "execution_count": null,
      "outputs": [
        {
          "output_type": "stream",
          "text": [
            "The string 'seven' was found.\n"
          ],
          "name": "stdout"
        }
      ]
    },
    {
      "cell_type": "code",
      "metadata": {
        "id": "m9n7tw7w6_WS",
        "colab_type": "code",
        "colab": {
          "base_uri": "https://localhost:8080/",
          "height": 34
        },
        "outputId": "571e22cc-a203-4f59-c396-bc0a197dab68"
      },
      "source": [
        "text = 'Four score and seven years ago'\n",
        "if 'eight' not in text:     \n",
        "  print('The string \"eight\" was not found.')\n",
        "else:\n",
        "  print('The string \"eight\" was found.')"
      ],
      "execution_count": null,
      "outputs": [
        {
          "output_type": "stream",
          "text": [
            "The string \"eight\" was not found.\n"
          ],
          "name": "stdout"
        }
      ]
    },
    {
      "cell_type": "markdown",
      "metadata": {
        "id": "Nq8pGeB57N6T",
        "colab_type": "text"
      },
      "source": [
        "### String Methods\n"
      ]
    },
    {
      "cell_type": "code",
      "metadata": {
        "id": "Had_HQ_j7T8w",
        "colab_type": "code",
        "colab": {}
      },
      "source": [
        "string1 = '1200'\n",
        "if string1.isdigit():\n",
        "  print(f’{string1} contains only digits.’)\n",
        "else:\n",
        "  print(f’{string1} contains characters other than digits.’)"
      ],
      "execution_count": null,
      "outputs": []
    },
    {
      "cell_type": "code",
      "metadata": {
        "id": "XxM2nzXt7jVs",
        "colab_type": "code",
        "colab": {
          "base_uri": "https://localhost:8080/",
          "height": 34
        },
        "outputId": "28b9d444-344f-4877-b978-01817a824a4c"
      },
      "source": [
        "letters = 'WXYZ'\n",
        "print(letters, letters.lower())"
      ],
      "execution_count": null,
      "outputs": [
        {
          "output_type": "stream",
          "text": [
            "WXYZ wxyz\n"
          ],
          "name": "stdout"
        }
      ]
    },
    {
      "cell_type": "code",
      "metadata": {
        "id": "cKz1L2uQ7mOW",
        "colab_type": "code",
        "colab": {
          "base_uri": "https://localhost:8080/",
          "height": 34
        },
        "outputId": "3160f5c6-ab0a-4e97-fd24-3c99b7346c97"
      },
      "source": [
        "letters = 'abcd'\n",
        "print(letters, letters.upper())"
      ],
      "execution_count": null,
      "outputs": [
        {
          "output_type": "stream",
          "text": [
            "abcd ABCD\n"
          ],
          "name": "stdout"
        }
      ]
    },
    {
      "cell_type": "code",
      "metadata": {
        "id": "SeHMmU5Y71DK",
        "colab_type": "code",
        "colab": {
          "base_uri": "https://localhost:8080/",
          "height": 50
        },
        "outputId": "af923bbc-1048-40ce-8239-448eabffecb7"
      },
      "source": [
        "#endswith\n",
        "filename = input('Enter the filename: ')\n",
        "if filename.endswith('.txt'):\n",
        "    print('That is the name of a text file.')\n",
        "elif filename.endswith('.py'):\n",
        "    print('That is the name of a Python source file.')\n",
        "elif filename.endswith('.doc'):\n",
        "    print('That is the name of a word processing document.')\n",
        "else:\n",
        "    print('Unknown file type.')"
      ],
      "execution_count": null,
      "outputs": [
        {
          "output_type": "stream",
          "text": [
            "Enter the filename: sdlf;j.py\n",
            "That is the name of a Python source file.\n"
          ],
          "name": "stdout"
        }
      ]
    },
    {
      "cell_type": "code",
      "metadata": {
        "id": "iOwL5BB08EMB",
        "colab_type": "code",
        "colab": {
          "base_uri": "https://localhost:8080/",
          "height": 52
        },
        "outputId": "e8078abd-2ef6-4574-eebd-e280f04bf071"
      },
      "source": [
        "#silly things with string\n",
        "print('Hello' * 5)\n",
        "\n",
        "theList = [1,2,3,4,5]*2\n",
        "print(theList)"
      ],
      "execution_count": null,
      "outputs": [
        {
          "output_type": "stream",
          "text": [
            "HelloHelloHelloHelloHello\n",
            "[1, 2, 3, 4, 5, 1, 2, 3, 4, 5]\n"
          ],
          "name": "stdout"
        }
      ]
    },
    {
      "cell_type": "code",
      "metadata": {
        "id": "b3Btq6-i8OVz",
        "colab_type": "code",
        "colab": {
          "base_uri": "https://localhost:8080/",
          "height": 34
        },
        "outputId": "a1270f7e-09a2-4f4a-ea2d-12069f5f3a66"
      },
      "source": [
        "my_string = 'One,two,three,four'\n",
        "\n",
        "# Split the string.\n",
        "word_list = my_string.split(',')\n",
        "print(word_list)"
      ],
      "execution_count": null,
      "outputs": [
        {
          "output_type": "stream",
          "text": [
            "['One,', 'wo,', 'hree,four']\n"
          ],
          "name": "stdout"
        }
      ]
    },
    {
      "cell_type": "code",
      "metadata": {
        "id": "WzYd1ASU8ZM7",
        "colab_type": "code",
        "colab": {
          "base_uri": "https://localhost:8080/",
          "height": 302
        },
        "outputId": "59af53b5-c1d0-4ef1-d7a4-130536279fb3"
      },
      "source": [
        "def display_tokens(data, delimiter):\n",
        "  tokens = data.split(delimiter)\n",
        "  for item in tokens:\n",
        "   print(f'Token: {item}')\n",
        "\n",
        "# Strings to tokenize\n",
        "str1 = 'one two three four'\n",
        "str2 = '10:20:30:40:50'\n",
        "str3 = 'a/b/c/d/e/f'\n",
        "\n",
        "display_tokens(str1, ' ')\n",
        "print()\n",
        "display_tokens(str2, ':')\n",
        "print()\n",
        "display_tokens(str3, '/')"
      ],
      "execution_count": null,
      "outputs": [
        {
          "output_type": "stream",
          "text": [
            "Token: one\n",
            "Token: two\n",
            "Token: three\n",
            "Token: four\n",
            "\n",
            "Token: 10\n",
            "Token: 20\n",
            "Token: 30\n",
            "Token: 40\n",
            "Token: 50\n",
            "\n",
            "Token: a\n",
            "Token: b\n",
            "Token: c\n",
            "Token: d\n",
            "Token: e\n",
            "Token: f\n"
          ],
          "name": "stdout"
        }
      ]
    }
  ]
}