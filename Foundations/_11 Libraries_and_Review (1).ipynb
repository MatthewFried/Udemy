{
  "nbformat": 4,
  "nbformat_minor": 0,
  "metadata": {
    "colab": {
      "name": "Python Review.ipynb",
      "provenance": [],
      "authorship_tag": "ABX9TyMrc3DXMKfibAw4nDh8tTlk",
      "include_colab_link": true
    },
    "kernelspec": {
      "name": "python3",
      "display_name": "Python 3"
    }
  },
  "cells": [
    {
      "cell_type": "markdown",
      "metadata": {
        "id": "view-in-github",
        "colab_type": "text"
      },
      "source": [
        "<a href=\"https://colab.research.google.com/github/MatthewFried/Udemy/blob/master/Python_Review.ipynb\" target=\"_parent\"><img src=\"https://colab.research.google.com/assets/colab-badge.svg\" alt=\"Open In Colab\"/></a>"
      ]
    },
    {
      "cell_type": "markdown",
      "metadata": {
        "id": "FEVFNdZ-CIHJ"
      },
      "source": [
        "#Python Review"
      ]
    },
    {
      "cell_type": "code",
      "metadata": {
        "colab": {
          "base_uri": "https://localhost:8080/"
        },
        "id": "wV__jH3DCGV0",
        "outputId": "1d543265-6297-430c-b0c0-8d78101699bb"
      },
      "source": [
        "#if statement\r\n",
        "\r\n",
        "x = int(input('Give me a number '))\r\n",
        "\r\n",
        "if x <= 2 or x >6:\r\n",
        "  print('Less than or equal to 2 or greater than 6')\r\n",
        "elif x is 3:\r\n",
        "  print('It is 3')\r\n",
        "else:\r\n",
        "  print('It is 4, 5, or 6')"
      ],
      "execution_count": null,
      "outputs": [
        {
          "output_type": "stream",
          "text": [
            "Give me a number 3\n",
            "It is 3\n"
          ],
          "name": "stdout"
        }
      ]
    },
    {
      "cell_type": "code",
      "metadata": {
        "colab": {
          "base_uri": "https://localhost:8080/"
        },
        "id": "E7zSADf6CtVR",
        "outputId": "fb1ce50b-9663-4c45-c84d-db3aed1d4957"
      },
      "source": [
        "#loops \r\n",
        "\r\n",
        "x = 5\r\n",
        "while x < 10:\r\n",
        "  print(x, end = \" | \")\r\n",
        "  x += 1\r\n",
        "\r\n",
        "print()\r\n",
        "\r\n",
        "for i in range(1,10):\r\n",
        "  print(i, end = \" --- \")"
      ],
      "execution_count": null,
      "outputs": [
        {
          "output_type": "stream",
          "text": [
            "5 | 6 | 7 | 8 | 9 | \n",
            "1 --- 2 --- 3 --- 4 --- 5 --- 6 --- 7 --- 8 --- 9 --- "
          ],
          "name": "stdout"
        }
      ]
    },
    {
      "cell_type": "code",
      "metadata": {
        "colab": {
          "base_uri": "https://localhost:8080/"
        },
        "id": "WD4NA0r5DPIO",
        "outputId": "a0fe2079-7cdd-4975-9ed6-7628eac83885"
      },
      "source": [
        "#functions\r\n",
        "\r\n",
        "#function with defualt parameter\r\n",
        "def square(number = 3):\r\n",
        "  return number**2\r\n",
        "\r\n",
        "x = 4\r\n",
        "print(square(x))\r\n",
        "\r\n",
        "\r\n",
        "#function that accepts multiple arguments\r\n",
        "#returns multiple arguments\r\n",
        "def arg(key, value):\r\n",
        "  return key*2, value*2\r\n",
        "\r\n",
        "k = 1\r\n",
        "v = 10\r\n",
        "\r\n",
        "#name which argument each input is\r\n",
        "first, second = arg(key = k, value = v)\r\n",
        "print(first, second)\r\n",
        "\r\n",
        "\r\n",
        "#function that accepts any number of arguments\r\n",
        "def average(*args):\r\n",
        "  return sum(args)/len(args)\r\n",
        "\r\n",
        "print(average(1,2,3,4,5,6))\r\n",
        "\r\n",
        "#passing an individual element\r\n",
        "grades = [88, 75, 96, 55, 83]\r\n",
        "print(average(*grades))"
      ],
      "execution_count": null,
      "outputs": [
        {
          "output_type": "stream",
          "text": [
            "16\n",
            "2 20\n",
            "3.5\n",
            "79.4\n"
          ],
          "name": "stdout"
        }
      ]
    },
    {
      "cell_type": "code",
      "metadata": {
        "colab": {
          "base_uri": "https://localhost:8080/"
        },
        "id": "v8yBkWyqDa-R",
        "outputId": "6a1251a2-7b3a-4e6e-94f1-c6cfd0ab5dd3"
      },
      "source": [
        "#random numbers\r\n",
        "\r\n",
        "import random\r\n",
        "\r\n",
        "for roll in range(10):\r\n",
        "  print(random.randrange(1, 7), end=' ')"
      ],
      "execution_count": null,
      "outputs": [
        {
          "output_type": "stream",
          "text": [
            "6 3 2 3 6 4 6 5 2 6 "
          ],
          "name": "stdout"
        }
      ]
    },
    {
      "cell_type": "code",
      "metadata": {
        "colab": {
          "base_uri": "https://localhost:8080/"
        },
        "id": "ZCecQAIWY3xS",
        "outputId": "9a307269-a9c7-4ff8-ee0f-e54a7e0697bc"
      },
      "source": [
        "#lists\r\n",
        "c = [5,'Mary', 3.4]\r\n",
        "print(c[0])\r\n",
        "print(c[-1])"
      ],
      "execution_count": null,
      "outputs": [
        {
          "output_type": "stream",
          "text": [
            "5\n",
            "3.4\n"
          ],
          "name": "stdout"
        }
      ]
    },
    {
      "cell_type": "code",
      "metadata": {
        "colab": {
          "base_uri": "https://localhost:8080/"
        },
        "id": "g1CJVxn_ZII5",
        "outputId": "5c3dd005-ca1c-42a3-b846-e2eff6c8c693"
      },
      "source": [
        "a_list = []\r\n",
        "b_list = []\r\n",
        "\r\n",
        "for number in range(1, 6):\r\n",
        "  a_list += [number]\r\n",
        "  b_list.append(number)\r\n",
        "\r\n",
        "print(a_list)\r\n",
        "print(b_list)"
      ],
      "execution_count": null,
      "outputs": [
        {
          "output_type": "stream",
          "text": [
            "[1, 2, 3, 4, 5]\n",
            "[1, 2, 3, 4, 5]\n"
          ],
          "name": "stdout"
        }
      ]
    },
    {
      "cell_type": "code",
      "metadata": {
        "colab": {
          "base_uri": "https://localhost:8080/"
        },
        "id": "qbaq0kemZ0FS",
        "outputId": "16618d60-b445-4a29-fb8d-5b1e1d0519b3"
      },
      "source": [
        "#slicing\r\n",
        "numbers = [2, 3, 5, 7, 11, 13, 17, 19]\r\n",
        "print(numbers[2:6])\r\n",
        "print(numbers[:6])\r\n",
        "print(numbers[6:])\r\n",
        "print(numbers[::3])\r\n",
        "print(numbers[::-1])"
      ],
      "execution_count": null,
      "outputs": [
        {
          "output_type": "stream",
          "text": [
            "[5, 7, 11, 13]\n",
            "[2, 3, 5, 7, 11, 13]\n",
            "[17, 19]\n",
            "[2, 7, 17]\n",
            "[19, 17, 13, 11, 7, 5, 3, 2]\n"
          ],
          "name": "stdout"
        }
      ]
    },
    {
      "cell_type": "code",
      "metadata": {
        "colab": {
          "base_uri": "https://localhost:8080/"
        },
        "id": "FiDokyT-aiB6",
        "outputId": "c10e700f-f3a6-4f1c-d6dd-9b8584fb036d"
      },
      "source": [
        "#modify lists\r\n",
        "numbers[1:3] = ['first','second']\r\n",
        "print(numbers)\r\n",
        "\r\n",
        "#puts 100 in every second spot\r\n",
        "#uses 4*100 to make [100,100,100,100]\r\n",
        "numbers[::2] = 4*[100]\r\n",
        "print(numbers)\r\n",
        "\r\n",
        "#delete from list using del\r\n",
        "del numbers[0:2]\r\n",
        "print(numbers)"
      ],
      "execution_count": null,
      "outputs": [
        {
          "output_type": "stream",
          "text": [
            "[2, 'first', 'second', 7, 11, 13, 17, 19]\n",
            "[100, 'first', 100, 7, 100, 13, 100, 19]\n",
            "[100, 7, 100, 13, 100, 19]\n"
          ],
          "name": "stdout"
        }
      ]
    },
    {
      "cell_type": "code",
      "metadata": {
        "colab": {
          "base_uri": "https://localhost:8080/"
        },
        "id": "a0V_ZoAtbOeN",
        "outputId": "4c8b6ef6-ceff-4400-a85f-20d1984f0bb2"
      },
      "source": [
        "#sorting lists\r\n",
        "numbers = [10, 3, 7, 1, 9, 4, 2, 8, 5, 6]\r\n",
        "\r\n",
        "numbers.sort()\r\n",
        "print(numbers)\r\n",
        "\r\n",
        "numbers.sort(reverse=True)\r\n",
        "print(numbers)"
      ],
      "execution_count": null,
      "outputs": [
        {
          "output_type": "stream",
          "text": [
            "[1, 2, 3, 4, 5, 6, 7, 8, 9, 10]\n",
            "[10, 9, 8, 7, 6, 5, 4, 3, 2, 1]\n"
          ],
          "name": "stdout"
        }
      ]
    },
    {
      "cell_type": "code",
      "metadata": {
        "colab": {
          "base_uri": "https://localhost:8080/"
        },
        "id": "kbrF-AjggRUU",
        "outputId": "6149a0ba-2554-4f03-8cf1-2a46ef535baa"
      },
      "source": [
        "numbers = [10, 3, 7, 1, 9, 4, 2, 8, 5, 6,3,3,1]\r\n",
        "\r\n",
        "print(100 in numbers)\r\n",
        "print(3 not in numbers)\r\n",
        "\r\n",
        "numbers.insert(1,'red')\r\n",
        "print(numbers)\r\n",
        "\r\n",
        "numbers.append('more')\r\n",
        "print(numbers)\r\n",
        "\r\n",
        "#extend to add all the elements of another sequence to the end of a list\r\n",
        "numbers.extend(['indigo', 'violet'])\r\n",
        "print(numbers)\r\n",
        "\r\n",
        "#remove deletes the first element with a specified value\r\n",
        "numbers.remove(9)\r\n",
        "print(numbers)\r\n",
        "\r\n",
        "#count searches for its argument and returns the number of times it is found\r\n",
        "for i in range(1, 6):\r\n",
        "  print(f'{i} appears {numbers.count(i)} times in responses')\r\n",
        "\r\n",
        "#reverse the list elements\r\n",
        "numbers.reverse()\r\n",
        "print(numbers)\r\n",
        "\r\n",
        "#copy a list\r\n",
        "new_numbers = numbers.copy()\r\n",
        "print(\"New numbers\", new_numbers)\r\n",
        "\r\n",
        "#clear the list\r\n",
        "numbers.clear()\r\n",
        "print(numbers)"
      ],
      "execution_count": null,
      "outputs": [
        {
          "output_type": "stream",
          "text": [
            "False\n",
            "False\n",
            "[10, 'red', 3, 7, 1, 9, 4, 2, 8, 5, 6, 3, 3, 1]\n",
            "[10, 'red', 3, 7, 1, 9, 4, 2, 8, 5, 6, 3, 3, 1, 'more']\n",
            "[10, 'red', 3, 7, 1, 9, 4, 2, 8, 5, 6, 3, 3, 1, 'more', 'indigo', 'violet']\n",
            "[10, 'red', 3, 7, 1, 4, 2, 8, 5, 6, 3, 3, 1, 'more', 'indigo', 'violet']\n",
            "1 appears 2 times in responses\n",
            "2 appears 1 times in responses\n",
            "3 appears 3 times in responses\n",
            "4 appears 1 times in responses\n",
            "5 appears 1 times in responses\n",
            "['violet', 'indigo', 'more', 1, 3, 3, 6, 5, 8, 2, 4, 1, 7, 3, 'red', 10]\n",
            "New numbers ['violet', 'indigo', 'more', 1, 3, 3, 6, 5, 8, 2, 4, 1, 7, 3, 'red', 10]\n",
            "[]\n"
          ],
          "name": "stdout"
        }
      ]
    },
    {
      "cell_type": "code",
      "metadata": {
        "colab": {
          "base_uri": "https://localhost:8080/"
        },
        "id": "593cmnZDjE1h",
        "outputId": "066f17e6-16cf-4940-f80b-6c02b2471651"
      },
      "source": [
        "#list comprehension\r\n",
        "list2 = [item for item in range(1, 6)]\r\n",
        "print(list2)\r\n",
        "\r\n",
        "#operations in a list comprehension\r\n",
        "list3 = [item ** 3 for item in range(1, 6)]\r\n",
        "print(list3)\r\n",
        "\r\n",
        "#filtering in a list comprehension\r\n",
        "list4 = [item for item in range(1, 11) if item % 2 == 0]\r\n",
        "print(list4)\r\n",
        "\r\n",
        "#process one list comprehension with another\r\n"
      ],
      "execution_count": null,
      "outputs": [
        {
          "output_type": "stream",
          "text": [
            "[1, 2, 3, 4, 5]\n",
            "[1, 8, 27, 64, 125]\n",
            "[2, 4, 6, 8, 10]\n"
          ],
          "name": "stdout"
        }
      ]
    },
    {
      "cell_type": "markdown",
      "metadata": {
        "id": "UFWRqJDEmbqU"
      },
      "source": [
        "A **generator expression** is similar to a list comprehension, but creates an iterable generator object that produces values on demand. This is known as lazy evaluation. List comprehensions use greedy evaluation—they create lists immediately when you execute them. For large numbers of items, creating a list can take substantial memory and time. So generator expressions can reduce your program’s memory consumption and improve performance if the whole list is not needed at once.\r\n",
        "\r\n",
        "Generator expressions have the same capabilities as list comprehensions, but you define them in parentheses instead of square brackets. "
      ]
    },
    {
      "cell_type": "code",
      "metadata": {
        "colab": {
          "base_uri": "https://localhost:8080/"
        },
        "id": "APCBqP5-mTLu",
        "outputId": "46a80a8c-a394-44f1-d91a-7fe37c1dccee"
      },
      "source": [
        "numbers = [10, 3, 7, 1, 9, 4, 2, 8, 5, 6]\r\n",
        "for value in (x ** 2 for x in numbers if x % 2 != 0):\r\n",
        "  print(value, end=' ')"
      ],
      "execution_count": null,
      "outputs": [
        {
          "output_type": "stream",
          "text": [
            "9 49 1 81 25 "
          ],
          "name": "stdout"
        }
      ]
    },
    {
      "cell_type": "markdown",
      "metadata": {
        "id": "JmzkcCw5m1sx"
      },
      "source": [
        "###Filter, Map and Reduce\r\n",
        "\r\n",
        "Python functions are objects that you can assign to variables, pass to other functions and return from functions. Functions that receive other functions as arguments are a functional-style capability called higher-order functions. For example, filter’s first argument must be a function that receives one argument and returns True if the value should be included in the result. The function is_odd returns True if its argument is odd. The filter function calls is_odd once for each value in its second argument’s iterable (numbers)."
      ]
    },
    {
      "cell_type": "code",
      "metadata": {
        "colab": {
          "base_uri": "https://localhost:8080/"
        },
        "id": "VZmdlh3Um3ON",
        "outputId": "97166029-6307-408e-fde8-7a6dc8aedc4e"
      },
      "source": [
        "numbers = [10, 3, 7, 1, 9, 4, 2, 8, 5, 6]\r\n",
        "\r\n",
        "def is_odd(x):\r\n",
        " \"\"\"Returns True only if x is odd.\"\"\"\r\n",
        " return x % 2 != 0\r\n",
        "\r\n",
        "k = list(filter(is_odd, numbers))\r\n",
        "print(k)"
      ],
      "execution_count": null,
      "outputs": [
        {
          "output_type": "stream",
          "text": [
            "[3, 7, 1, 9, 5]\n"
          ],
          "name": "stdout"
        }
      ]
    },
    {
      "cell_type": "code",
      "metadata": {
        "colab": {
          "base_uri": "https://localhost:8080/"
        },
        "id": "mYxf7ZT5nZaN",
        "outputId": "f9c660ed-5a90-4c0b-e370-889954260c15"
      },
      "source": [
        "#usinga lambda as a simpler alternative\r\n",
        "m = list(filter(lambda x: x % 2 != 0, numbers))\r\n",
        "print(m)"
      ],
      "execution_count": null,
      "outputs": [
        {
          "output_type": "stream",
          "text": [
            "[3, 7, 1, 9, 5]\n"
          ],
          "name": "stdout"
        }
      ]
    },
    {
      "cell_type": "code",
      "metadata": {
        "colab": {
          "base_uri": "https://localhost:8080/"
        },
        "id": "6I81AFA-n2pj",
        "outputId": "94323ad8-8624-412a-e5a9-3682cc8327c3"
      },
      "source": [
        "#mapping\r\n",
        "n = list(map(lambda x: x ** 2, numbers))\r\n",
        "print(n)\r\n",
        "\r\n",
        "#the above is equivalent to\r\n",
        "o = [item ** 2 for item in numbers]\r\n",
        "print(o)"
      ],
      "execution_count": null,
      "outputs": [
        {
          "output_type": "stream",
          "text": [
            "[100, 9, 49, 1, 81, 16, 4, 64, 25, 36]\n",
            "[100, 9, 49, 1, 81, 16, 4, 64, 25, 36]\n"
          ],
          "name": "stdout"
        }
      ]
    },
    {
      "cell_type": "code",
      "metadata": {
        "colab": {
          "base_uri": "https://localhost:8080/"
        },
        "id": "hbTzNYmmoGCX",
        "outputId": "7851be33-8815-4a0e-d38e-6839944f151e"
      },
      "source": [
        "#filter and map together\r\n",
        "'''First, filter returns an iterable representing only the odd values of numbers. \r\n",
        "Then map returns an iterable representing the squares of the filtered values. \r\n",
        "Finally, list uses map’s iterable to create the list.'''\r\n",
        "\r\n",
        "p = list(map(lambda x: x ** 2, filter(lambda x: x % 2 != 0, numbers)))\r\n",
        "print(p)\r\n",
        "\r\n",
        "#it is the same to do\r\n",
        "[x ** 2 for x in numbers if x % 2 != 0]"
      ],
      "execution_count": null,
      "outputs": [
        {
          "output_type": "stream",
          "text": [
            "[9, 49, 1, 81, 25]\n"
          ],
          "name": "stdout"
        },
        {
          "output_type": "execute_result",
          "data": {
            "text/plain": [
              "[9, 49, 1, 81, 25]"
            ]
          },
          "metadata": {
            "tags": []
          },
          "execution_count": 17
        }
      ]
    },
    {
      "cell_type": "markdown",
      "metadata": {
        "id": "EmYPm2PCojs2"
      },
      "source": [
        "###Zip\r\n",
        "\r\n",
        "zip enables you to iterate over multiple iterables of data at the same time. The function receives as arguments any number of iterables and returns an iterator that produces tuples containing the elements at the same index in each. "
      ]
    },
    {
      "cell_type": "code",
      "metadata": {
        "colab": {
          "base_uri": "https://localhost:8080/"
        },
        "id": "0DmYEhCqoXgD",
        "outputId": "d07b27b5-c347-4144-cab5-babfe7846ed8"
      },
      "source": [
        "names = ['Bob', 'Sue', 'Amanda']\r\n",
        "grade_point_averages = [3.5, 4.0, 3.75]\r\n",
        "\r\n",
        "for name, gpa in zip(names, grade_point_averages):\r\n",
        "  print(f'Name={name}; GPA={gpa}')"
      ],
      "execution_count": null,
      "outputs": [
        {
          "output_type": "stream",
          "text": [
            "Name=Bob; GPA=3.5\n",
            "Name=Sue; GPA=4.0\n",
            "Name=Amanda; GPA=3.75\n"
          ],
          "name": "stdout"
        }
      ]
    },
    {
      "cell_type": "markdown",
      "metadata": {
        "id": "LceVZzIpo3gH"
      },
      "source": [
        "###2D Lists\r\n",
        "\r\n"
      ]
    },
    {
      "cell_type": "code",
      "metadata": {
        "colab": {
          "base_uri": "https://localhost:8080/"
        },
        "id": "xEFdrlUapE0a",
        "outputId": "404fb1af-eab3-48f8-8f06-b04bd69ce947"
      },
      "source": [
        "#2D set up\r\n",
        "a = [[77, 68, 86, 73], [96, 87, 89, 81], [70, 90, 86, 81]]\r\n",
        "print(a)\r\n",
        "\r\n",
        "print()\r\n",
        "\r\n",
        "#iterate over the 2D list\r\n",
        "for row in a:\r\n",
        "  for item in row:\r\n",
        "    print(item, end=' ')\r\n",
        "  print()"
      ],
      "execution_count": null,
      "outputs": [
        {
          "output_type": "stream",
          "text": [
            "[[77, 68, 86, 73], [96, 87, 89, 81], [70, 90, 86, 81]]\n",
            "\n",
            "77 68 86 73 \n",
            "96 87 89 81 \n",
            "70 90 86 81 \n"
          ],
          "name": "stdout"
        }
      ]
    },
    {
      "cell_type": "markdown",
      "metadata": {
        "id": "LeGfyJjrqRMi"
      },
      "source": [
        "##Numpy"
      ]
    },
    {
      "cell_type": "code",
      "metadata": {
        "colab": {
          "base_uri": "https://localhost:8080/"
        },
        "id": "kI9fH4WjqUlp",
        "outputId": "032cf482-a149-421c-ae86-a46ac2bf3c44"
      },
      "source": [
        "import numpy as np\r\n",
        "\r\n",
        "numbers = np.array([2, 3, 5, 7, 11])\r\n",
        "numbers2D = np.array([[1, 2, 3], [4, 5, 6]])\r\n",
        "\r\n",
        "#show type\r\n",
        "print(numbers.dtype)\r\n",
        "\r\n",
        "#determine dimensions\r\n",
        "print(numbers.shape)\r\n",
        "print(numbers2D.shape)\r\n",
        "\r\n",
        "#an array’s total number of elements with the attribute size\r\n",
        "print(\"Numbers2D elements: \", numbers2D.size)"
      ],
      "execution_count": null,
      "outputs": [
        {
          "output_type": "stream",
          "text": [
            "int64\n",
            "(5,)\n",
            "(2, 3)\n",
            "Numbers2D elements:  6\n"
          ],
          "name": "stdout"
        }
      ]
    },
    {
      "cell_type": "code",
      "metadata": {
        "colab": {
          "base_uri": "https://localhost:8080/"
        },
        "id": "9xlAxaFprJtO",
        "outputId": "360ad35e-28da-4468-ad34-e066a824b807"
      },
      "source": [
        "#iterate through multidimensional array\r\n",
        "for row in numbers2D:\r\n",
        "  for column in row:\r\n",
        "    print(column, end=' ')\r\n",
        "  print()"
      ],
      "execution_count": null,
      "outputs": [
        {
          "output_type": "stream",
          "text": [
            "1 2 3 \n",
            "4 5 6 \n"
          ],
          "name": "stdout"
        }
      ]
    },
    {
      "cell_type": "code",
      "metadata": {
        "colab": {
          "base_uri": "https://localhost:8080/"
        },
        "id": "TwbVerObrR4_",
        "outputId": "80fab2a1-c6c3-478c-d026-9b80d54026d7"
      },
      "source": [
        "#iterate after flattening\r\n",
        "for i in numbers2D.flat:\r\n",
        "  print(i, end=\" \")"
      ],
      "execution_count": null,
      "outputs": [
        {
          "output_type": "stream",
          "text": [
            "1 2 3 4 5 6 "
          ],
          "name": "stdout"
        }
      ]
    },
    {
      "cell_type": "code",
      "metadata": {
        "colab": {
          "base_uri": "https://localhost:8080/"
        },
        "id": "3ynJFgsnreog",
        "outputId": "eb94b2a2-1136-42a8-d57e-cf8b39921153"
      },
      "source": [
        "#filling arrays\r\n",
        "np.arange(5)"
      ],
      "execution_count": null,
      "outputs": [
        {
          "output_type": "execute_result",
          "data": {
            "text/plain": [
              "array([0, 1, 2, 3, 4])"
            ]
          },
          "metadata": {
            "tags": []
          },
          "execution_count": 25
        }
      ]
    },
    {
      "cell_type": "code",
      "metadata": {
        "colab": {
          "base_uri": "https://localhost:8080/"
        },
        "id": "mHzCApRvrnRZ",
        "outputId": "e836b607-e185-4dba-a7e0-dbaeb1570423"
      },
      "source": [
        "np.arange(4, 15)"
      ],
      "execution_count": null,
      "outputs": [
        {
          "output_type": "execute_result",
          "data": {
            "text/plain": [
              "array([ 4,  5,  6,  7,  8,  9, 10, 11, 12, 13, 14])"
            ]
          },
          "metadata": {
            "tags": []
          },
          "execution_count": 26
        }
      ]
    },
    {
      "cell_type": "code",
      "metadata": {
        "colab": {
          "base_uri": "https://localhost:8080/"
        },
        "id": "yXlEcsyjrq-_",
        "outputId": "678457c1-24fd-4d5f-f8ae-fbb39178de9c"
      },
      "source": [
        "np.arange(20,7,-3)"
      ],
      "execution_count": null,
      "outputs": [
        {
          "output_type": "execute_result",
          "data": {
            "text/plain": [
              "array([20, 17, 14, 11,  8])"
            ]
          },
          "metadata": {
            "tags": []
          },
          "execution_count": 27
        }
      ]
    },
    {
      "cell_type": "code",
      "metadata": {
        "colab": {
          "base_uri": "https://localhost:8080/"
        },
        "id": "ZmpdpbUdryF_",
        "outputId": "07ab700e-38e8-49eb-f4a8-9e7a7adcd770"
      },
      "source": [
        "np.linspace(0.0, 1.0, num=5)"
      ],
      "execution_count": null,
      "outputs": [
        {
          "output_type": "execute_result",
          "data": {
            "text/plain": [
              "array([0.  , 0.25, 0.5 , 0.75, 1.  ])"
            ]
          },
          "metadata": {
            "tags": []
          },
          "execution_count": 28
        }
      ]
    },
    {
      "cell_type": "code",
      "metadata": {
        "colab": {
          "base_uri": "https://localhost:8080/"
        },
        "id": "DifklV6grzaX",
        "outputId": "fa0a824a-29d7-42f5-d21a-396b2f9ae7b4"
      },
      "source": [
        "#testing times\r\n",
        "import random\r\n",
        "\r\n",
        "%timeit rolls_list = [random.randrange(1, 7) for i in range(0, 6_000_000)]\r\n",
        "%timeit rolls_array = np.random.randint(1, 7, 6_000_000)"
      ],
      "execution_count": null,
      "outputs": [
        {
          "output_type": "stream",
          "text": [
            "1 loop, best of 3: 5.81 s per loop\n",
            "10 loops, best of 3: 63.8 ms per loop\n"
          ],
          "name": "stdout"
        }
      ]
    },
    {
      "cell_type": "code",
      "metadata": {
        "colab": {
          "base_uri": "https://localhost:8080/"
        },
        "id": "a-SavLTBsS2j",
        "outputId": "460791da-bd05-41fe-c2f4-7839a26138be"
      },
      "source": [
        "#numpy evaluations\r\n",
        "grades = np.array([[87, 96, 70], [100, 87, 90],[94, 77, 90], [100, 81, 82]])\r\n",
        "\r\n",
        "def stats(info):\r\n",
        "  print(info.sum())\r\n",
        "  print(info.min())\r\n",
        "  print(info.max())\r\n",
        "  print(info.mean())\r\n",
        "  print(info.std())\r\n",
        "  print(info.var())\r\n",
        "\r\n",
        "stats(grades)\r\n",
        "\r\n"
      ],
      "execution_count": null,
      "outputs": [
        {
          "output_type": "stream",
          "text": [
            "1054\n",
            "70\n",
            "100\n",
            "87.83333333333333\n",
            "8.792357792739987\n",
            "77.30555555555556\n"
          ],
          "name": "stdout"
        }
      ]
    },
    {
      "cell_type": "code",
      "metadata": {
        "colab": {
          "base_uri": "https://localhost:8080/"
        },
        "id": "VYPV7kOctXcD",
        "outputId": "6ea9e6a7-539c-49a4-d15f-fbb1933f5d32"
      },
      "source": [
        "#row calculation\r\n",
        "print(grades.std(axis = 0))\r\n",
        "\r\n",
        "#column calculation\r\n",
        "print(grades.std(axis=1))"
      ],
      "execution_count": null,
      "outputs": [
        {
          "output_type": "stream",
          "text": [
            "[5.35607132 7.15454401 8.18535277]\n",
            "[10.78064109  5.55777733  7.25718035  8.7305339 ]\n"
          ],
          "name": "stdout"
        }
      ]
    },
    {
      "cell_type": "code",
      "metadata": {
        "colab": {
          "base_uri": "https://localhost:8080/"
        },
        "id": "wUtNOuk5tuEL",
        "outputId": "978f4659-eab5-48fd-d6cb-4ebd954f7850"
      },
      "source": [
        "#slicing\r\n",
        "print(grades)\r\n",
        "\r\n",
        "print()\r\n",
        "\r\n",
        "print(\"grades[1]\\t\", grades[1])\r\n",
        "print()\r\n",
        "print(\"grades[0:2]\\n\", grades[0:2])"
      ],
      "execution_count": null,
      "outputs": [
        {
          "output_type": "stream",
          "text": [
            "[[ 87  96  70]\n",
            " [100  87  90]\n",
            " [ 94  77  90]\n",
            " [100  81  82]]\n",
            "\n",
            "grades[1]\t [100  87  90]\n",
            "\n",
            "grades[0:2]\n",
            " [[ 87  96  70]\n",
            " [100  87  90]]\n"
          ],
          "name": "stdout"
        }
      ]
    },
    {
      "cell_type": "code",
      "metadata": {
        "colab": {
          "base_uri": "https://localhost:8080/"
        },
        "id": "ppmF5JbCumfE",
        "outputId": "d87d58d4-76f1-4328-9568-48aecebfca68"
      },
      "source": [
        "#print the first column\r\n",
        "grades[:,0]"
      ],
      "execution_count": null,
      "outputs": [
        {
          "output_type": "execute_result",
          "data": {
            "text/plain": [
              "array([ 87, 100,  94, 100])"
            ]
          },
          "metadata": {
            "tags": []
          },
          "execution_count": 33
        }
      ]
    },
    {
      "cell_type": "code",
      "metadata": {
        "colab": {
          "base_uri": "https://localhost:8080/"
        },
        "id": "PgsmLSmtuq2Q",
        "outputId": "d917308d-f44f-4ef9-cdd7-e20569c5c79b"
      },
      "source": [
        "#print the second and third columns\r\n",
        "grades[:,1:3]"
      ],
      "execution_count": null,
      "outputs": [
        {
          "output_type": "execute_result",
          "data": {
            "text/plain": [
              "array([[96, 70],\n",
              "       [87, 90],\n",
              "       [77, 90],\n",
              "       [81, 82]])"
            ]
          },
          "metadata": {
            "tags": []
          },
          "execution_count": 34
        }
      ]
    },
    {
      "cell_type": "code",
      "metadata": {
        "colab": {
          "base_uri": "https://localhost:8080/"
        },
        "id": "azdAao_euzru",
        "outputId": "1d986a4f-2f6a-4bf5-b8dd-d0da4dd0963e"
      },
      "source": [
        "#print column 0 and 2\r\n",
        "grades[:, [0, 2]]"
      ],
      "execution_count": null,
      "outputs": [
        {
          "output_type": "execute_result",
          "data": {
            "text/plain": [
              "array([[ 87,  70],\n",
              "       [100,  90],\n",
              "       [ 94,  90],\n",
              "       [100,  82]])"
            ]
          },
          "metadata": {
            "tags": []
          },
          "execution_count": 35
        }
      ]
    },
    {
      "cell_type": "markdown",
      "metadata": {
        "id": "JA4uvYKXvfor"
      },
      "source": [
        "###Flatten and Ravel"
      ]
    },
    {
      "cell_type": "code",
      "metadata": {
        "colab": {
          "base_uri": "https://localhost:8080/"
        },
        "id": "ubYK0SNrviXW",
        "outputId": "131e95cf-a46d-4e81-90f2-ae5a17ed93c3"
      },
      "source": [
        "#flatten the grades, this is a deep copy\r\n",
        "\r\n",
        "flattened = grades.flatten()\r\n",
        "print(flattened)"
      ],
      "execution_count": null,
      "outputs": [
        {
          "output_type": "stream",
          "text": [
            "[ 87  96  70 100  87  90  94  77  90 100  81  82]\n"
          ],
          "name": "stdout"
        }
      ]
    },
    {
      "cell_type": "code",
      "metadata": {
        "colab": {
          "base_uri": "https://localhost:8080/"
        },
        "id": "v2gVVMLPvsuG",
        "outputId": "2a1b720b-60f6-4112-b39a-bf72a6ad6204"
      },
      "source": [
        "#ravel produces a view of the original array, which shares the grades array’s data\r\n",
        "\r\n",
        "raveled = grades.ravel()\r\n",
        "print(raveled)"
      ],
      "execution_count": null,
      "outputs": [
        {
          "output_type": "stream",
          "text": [
            "[ 87  96  70 100  87  90  94  77  90 100  81  82]\n"
          ],
          "name": "stdout"
        }
      ]
    },
    {
      "cell_type": "code",
      "metadata": {
        "colab": {
          "base_uri": "https://localhost:8080/"
        },
        "id": "gWmF8cYMv5O2",
        "outputId": "f5e0fab8-8be5-4550-caa4-72075c911eab"
      },
      "source": [
        "#transpose data\r\n",
        "grades.T"
      ],
      "execution_count": null,
      "outputs": [
        {
          "output_type": "execute_result",
          "data": {
            "text/plain": [
              "array([[ 87, 100,  94, 100],\n",
              "       [ 96,  87,  77,  81],\n",
              "       [ 70,  90,  90,  82]])"
            ]
          },
          "metadata": {
            "tags": []
          },
          "execution_count": 38
        }
      ]
    },
    {
      "cell_type": "markdown",
      "metadata": {
        "id": "BecSd3PNwDwK"
      },
      "source": [
        "##Pandas"
      ]
    },
    {
      "cell_type": "code",
      "metadata": {
        "colab": {
          "base_uri": "https://localhost:8080/"
        },
        "id": "V70febUowFQi",
        "outputId": "79df866b-d6bf-4a0d-bc52-39c06eb52e37"
      },
      "source": [
        "import pandas as pd\r\n",
        "\r\n",
        "grades = pd.Series([87, 100, 94])\r\n",
        "\r\n",
        "#this has all the same .count(), .mean(), .min(), .max()\r\n",
        "#use describe for all stats\r\n",
        "print(grades.describe())\r\n"
      ],
      "execution_count": null,
      "outputs": [
        {
          "output_type": "stream",
          "text": [
            "count      3.000000\n",
            "mean      93.666667\n",
            "std        6.506407\n",
            "min       87.000000\n",
            "25%       90.500000\n",
            "50%       94.000000\n",
            "75%       97.000000\n",
            "max      100.000000\n",
            "dtype: float64\n"
          ],
          "name": "stdout"
        }
      ]
    },
    {
      "cell_type": "code",
      "metadata": {
        "id": "R7wk8U7YwbnJ"
      },
      "source": [
        "#naming the index\r\n",
        "#either approach is the same\r\n",
        "\r\n",
        "grades = pd.Series([87, 100, 94], index=['Wally', 'Eva', 'Sam'])\r\n",
        "grades = pd.Series({'Wally': 87, 'Eva': 100, 'Sam': 94})"
      ],
      "execution_count": null,
      "outputs": []
    }
  ]
}
