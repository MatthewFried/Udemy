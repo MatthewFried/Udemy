{
  "nbformat": 4,
  "nbformat_minor": 0,
  "metadata": {
    "colab": {
      "name": "3 Decision_Statements.ipynb",
      "provenance": [],
      "authorship_tag": "ABX9TyNhhhzftPoog3oZxiqh3hEB",
      "include_colab_link": true
    },
    "kernelspec": {
      "name": "python3",
      "display_name": "Python 3"
    }
  },
  "cells": [
    {
      "cell_type": "markdown",
      "metadata": {
        "id": "view-in-github",
        "colab_type": "text"
      },
      "source": [
        "<a href=\"https://colab.research.google.com/github/MatthewFried/Udemy/blob/master/3_Decision_Statements.ipynb\" target=\"_parent\"><img src=\"https://colab.research.google.com/assets/colab-badge.svg\" alt=\"Open In Colab\"/></a>"
      ]
    },
    {
      "cell_type": "markdown",
      "metadata": {
        "id": "6sltw87811Hb",
        "colab_type": "text"
      },
      "source": [
        "#**If Statements**#\n",
        "\n",
        "Here we discuss if statements."
      ]
    },
    {
      "cell_type": "code",
      "metadata": {
        "id": "Gj5_HjMy1lYh",
        "colab_type": "code",
        "colab": {}
      },
      "source": [
        "x = 5\n",
        "y = int(input(\"Give me a number please \"))\n",
        "\n",
        "if x == y:  \n",
        "  print(\"They are the same\")\n",
        "\n",
        "if x != y:\n",
        "  print(\"They are not the same\")"
      ],
      "execution_count": null,
      "outputs": []
    },
    {
      "cell_type": "code",
      "metadata": {
        "id": "FRQgrJ4N2JM4",
        "colab_type": "code",
        "colab": {
          "base_uri": "https://localhost:8080/",
          "height": 52
        },
        "outputId": "86abbaac-8837-4c82-9fb9-9ee715fdf037"
      },
      "source": [
        "amount = int(input(\"How many will you be purchasing? \"))\n",
        "\n",
        "if amount <=5:\n",
        "  print(\"The discount is $7\")\n",
        "elif amount <=10:\n",
        "  print(\"The discount is $10\")\n",
        "elif amount <=15:\n",
        "  print(\"The discount is $13\")\n",
        "else:\n",
        "  print(\"The discount is $20\")\n",
        "\n"
      ],
      "execution_count": null,
      "outputs": [
        {
          "output_type": "stream",
          "text": [
            "How many will you be purchasing? 14\n",
            "The discount is $13\n"
          ],
          "name": "stdout"
        }
      ]
    },
    {
      "cell_type": "markdown",
      "metadata": {
        "id": "VYwGFMU-27dd",
        "colab_type": "text"
      },
      "source": [
        "##**Comparing Strings**##\n",
        "\n",
        "Here we show how to compare strings"
      ]
    },
    {
      "cell_type": "code",
      "metadata": {
        "id": "RIcUBUv22_em",
        "colab_type": "code",
        "colab": {}
      },
      "source": [
        "name1 = 'Macy'\n",
        "name2 = 'Mark'\n",
        "\n",
        "if name1 == name2:\n",
        "  print('Same.')\n",
        "else:\n",
        "  print('NOT the same.')"
      ],
      "execution_count": null,
      "outputs": []
    },
    {
      "cell_type": "code",
      "metadata": {
        "id": "sAqW6h-G3I0q",
        "colab_type": "code",
        "colab": {}
      },
      "source": [
        "#A different comparison\n",
        "name1 = 'Macy'\n",
        "name2 = 'Mark'\n",
        " \n",
        "if name1 > name2:\n",
        "     print('name1 greater')\n",
        "else:\n",
        "     print('name2 greater')"
      ],
      "execution_count": null,
      "outputs": []
    },
    {
      "cell_type": "code",
      "metadata": {
        "id": "WsdwW5c83dhv",
        "colab_type": "code",
        "colab": {
          "base_uri": "https://localhost:8080/",
          "height": 70
        },
        "outputId": "b3e9ce65-7b36-4cc7-c603-1bfdb74e4bb0"
      },
      "source": [
        "# This program determines whether a bank customer\n",
        "# qualifies for a loan.\n",
        "\n",
        "MIN_SALARY = 30000.0\n",
        "MIN_YEARS = 2 \n",
        "\n",
        "# Get the customer's annual salary.\n",
        "salary = float(input('Enter your annual salary: '))\n",
        "\n",
        "# Get the number of years on the current job.\n",
        "years_on_job = int(input('Enter the number of years employed: '))\n",
        "\n",
        "# Determine whether the customer qualifies.\n",
        "if salary >= MIN_SALARY:\n",
        "  if years_on_job >= MIN_YEARS:\n",
        "    print('You qualify for the loan.')\n",
        "  else:\n",
        "      print(f'You must have been employed for at least {MIN_YEARS} years to qualify.')\n",
        "else:\n",
        "  print(f'You must earn at least $'\n",
        "  f'{MIN_SALARY:,.2f} '\n",
        "  f'per year to qualify.')"
      ],
      "execution_count": null,
      "outputs": [
        {
          "output_type": "stream",
          "text": [
            "Enter your annual salary: 25000\n",
            "Enter the number of years employed: 1\n",
            "You must earn at least $30,000.00 per year to qualify.\n"
          ],
          "name": "stdout"
        }
      ]
    },
    {
      "cell_type": "code",
      "metadata": {
        "id": "KY2Jit8Q4WI4",
        "colab_type": "code",
        "colab": {}
      },
      "source": [
        "#The problem above but now with 'and'\n",
        "MIN_SALARY = 30000.0 \n",
        "MIN_YEARS = 2\n",
        "\n",
        "salary = float(input('Enter your annual salary: '))\n",
        "years_on_job = int(input('Enter the number of years employed: '))\n",
        "\n",
        "if salary >= MIN_SALARY and years_on_job >= MIN_YEARS:\n",
        "  print('You qualify for the loan.')\n",
        "else:\n",
        "  print('You do not qualify for this loan.')"
      ],
      "execution_count": null,
      "outputs": []
    },
    {
      "cell_type": "code",
      "metadata": {
        "id": "mt2kwgZi4ryA",
        "colab_type": "code",
        "colab": {}
      },
      "source": [
        "#An 'or' example\n",
        "x = 21\n",
        "if x < 20 or x > 40:\n",
        "  print(\"Not between 20 and 40\")"
      ],
      "execution_count": null,
      "outputs": []
    },
    {
      "cell_type": "code",
      "metadata": {
        "id": "nG1Yf4tr-u0N",
        "colab_type": "code",
        "colab": {
          "base_uri": "https://localhost:8080/",
          "height": 34
        },
        "outputId": "869d0700-a5a7-4226-b131-9466a578c6ad"
      },
      "source": [
        "#An 'not' example\n",
        "x = 19\n",
        "if not(x> 20 and x < 40):\n",
        "  print(\"Not between 20 and 40\")"
      ],
      "execution_count": null,
      "outputs": [
        {
          "output_type": "stream",
          "text": [
            "Not between 20 and 40\n"
          ],
          "name": "stdout"
        }
      ]
    },
    {
      "cell_type": "code",
      "metadata": {
        "id": "o-Nk-IRo450o",
        "colab_type": "code",
        "colab": {}
      },
      "source": [
        "#keep track of things with booleans\n",
        "if sales >= 25:\n",
        "     sales_quota_met = True\n",
        "else:\n",
        "     sales_quota_met = False"
      ],
      "execution_count": null,
      "outputs": []
    },
    {
      "cell_type": "markdown",
      "metadata": {
        "id": "MBL2O5Zg5Gzd",
        "colab_type": "text"
      },
      "source": [
        "##**Practice If Statement Excercises**##\n",
        "\n",
        "Here we go over some longer type problems"
      ]
    },
    {
      "cell_type": "markdown",
      "metadata": {
        "id": "UT3WgOTL70lZ",
        "colab_type": "text"
      },
      "source": [
        "1. The area of a rectangle is the rectangle’s length times its width. Write a program that asks for the length and width of two rectangles. The program should tell the user which rectangle has the greater area, or if the areas are the same."
      ]
    },
    {
      "cell_type": "code",
      "metadata": {
        "id": "_D3bki6L718R",
        "colab_type": "code",
        "colab": {}
      },
      "source": [
        "lengthA = float(input('Enter length A: '))\n",
        "widthA = float(input('Enter width A: '))\n",
        "lengthB = float(input('Enter length B: '))\n",
        "widthB = float(input('Enter width B: '))\n",
        "\n",
        "# Calculate area\n",
        "areaA = lengthA * widthA\n",
        "areaB = lengthB * widthB\n",
        "\n",
        "# Print area comparison\n",
        "print ('Area A:', format(areaA, '.2f'))\n",
        "print ('Area B:', format(areaB, '.2f'))\n",
        "if  areaA > areaB:\n",
        "    print ('Area A is greater than Area B.')\n",
        "elif  areaA < areaB:\n",
        "    print ('Area B is greater than Area A.')\n",
        "else:\n",
        "    print ('Area A is equal to Area B.')\n"
      ],
      "execution_count": null,
      "outputs": []
    },
    {
      "cell_type": "markdown",
      "metadata": {
        "id": "T6y49SvS8B_p",
        "colab_type": "text"
      },
      "source": [
        "2. Write a program that asks the user to enter a person’s age. The program should display a message indicating whether the person is an infant, a child, a teenager, or an adult. Following are the guidelines:\n",
        "\n",
        "* If the person is 1 year old or less, he or she is an infant.\n",
        "* If the person is older than 1 year, but younger than 13 years, he or she is a child.\n",
        "* If the person is at least 13 years old, but less than 20 years old, he or she is a teenager.\n",
        "* If the person is at least 20 years old, he or she is an adult."
      ]
    },
    {
      "cell_type": "code",
      "metadata": {
        "id": "VmrR2JGH5NXF",
        "colab_type": "code",
        "colab": {}
      },
      "source": [
        "age = int(input('Enter age: '))\n",
        "\n",
        "# Determine if the person is an infant, child,\n",
        "# teenager, or adult, and display the result.\n",
        "if age <= 1:\n",
        "    print('Infant')\n",
        "elif age > 1 and age < 13:\n",
        "    print('Child')\n",
        "elif age > 13 and age < 20:\n",
        "    print('Teenager')\n",
        "else:\n",
        "    print ('Adult')\n"
      ],
      "execution_count": null,
      "outputs": []
    },
    {
      "cell_type": "markdown",
      "metadata": {
        "id": "tSCbFrrg8iJV",
        "colab_type": "text"
      },
      "source": [
        "3. Create a change-counting game that gets the user to enter the number of coins required to make exactly one dollar. The program should prompt the user to enter the number of pennies, nickels, dimes, and quarters. If the total value of the coins entered is equal to one dollar, the program should congratulate the user for winning the game. Otherwise, the program should display a message indicating whether the amount entered was more than or less than one dollar."
      ]
    },
    {
      "cell_type": "code",
      "metadata": {
        "id": "11fX0Qrr8pQP",
        "colab_type": "code",
        "colab": {}
      },
      "source": [
        "PENNY_VALUE = 1\n",
        "NICKEL_VALUE = 5\n",
        "DIME_VALUE = 10\n",
        "QUARTER_VALUE = 25\n",
        "PENNIES_IN_DOLLAR = 100\n",
        "\n",
        "numPennies = int(input('Enter the number of pennies: '))\n",
        "numNickels = int(input('Enter the number of nickels: '))\n",
        "numDimes = int(input('Enter the number of dimes: '))\n",
        "numQuarters = int(input('Enter the number of quarters: '))\n",
        "\n",
        "# Sum the pennies, nickels, dimes and quarters\n",
        "# to obtain total cent value.\n",
        "totalCentValue = (numPennies * PENNY_VALUE) + (numNickels * NICKEL_VALUE)+ (numDimes * DIME_VALUE) + (numQuarters * QUARTER_VALUE)\n",
        "\n",
        "# Calculate the total value in dollars\n",
        "totalDollars = totalCentValue / PENNIES_IN_DOLLAR\n",
        "\n",
        "if totalDollars > 1.0:\n",
        "    # The amount was more than one dollar.\n",
        "    print('Sorry, the amount you entered was more than one dollar.')\n",
        "elif totalDollars < 1.0:\n",
        "    # The amount was less than one dollar.\n",
        "    print('Sorry, the amount you entered was less than one dollar.')\n",
        "else:\n",
        "    # The amount was exactly one dollar.\n",
        "    print('Congratulations!')\n"
      ],
      "execution_count": null,
      "outputs": []
    }
  ]
}
