{
  "nbformat": 4,
  "nbformat_minor": 0,
  "metadata": {
    "colab": {
      "name": "Libraries and Review.ipynb",
      "provenance": []
    },
    "kernelspec": {
      "name": "python3",
      "display_name": "Python 3"
    }
  },
  "cells": [
    {
      "cell_type": "markdown",
      "metadata": {
        "id": "to6UPKutIB59",
        "colab_type": "text"
      },
      "source": [
        "# Data Types\n",
        "\n",
        "* Tuples ( ) A collection of different things.  Tuples are immutable (they cannot be changed after creation)\n",
        "\n",
        "* Lists [ ] Listst are mutable. They are typically used to collect items of the same type. The \"+\" symbol means: concatenate\n",
        "\n",
        "* Arrays [ ] Vectors and matrices are for numeric data manipulation.  They are from numpy.  The \"+\" symbol means to add, while the .dot will do scalar multiplication\n",
        "\n",
        "* Dicitonaries { } These are unordered (key/value) pairs. One can use *dict* or one can use curly braces.\n",
        "\n",
        "* DataFrame These are powerful containers from pandas"
      ]
    },
    {
      "cell_type": "code",
      "metadata": {
        "id": "n9tqU0-NH8ZY",
        "colab_type": "code",
        "colab": {
          "base_uri": "https://localhost:8080/",
          "height": 51
        },
        "outputId": "89b2a746-dbd8-4228-e977-28a6b30360c6"
      },
      "source": [
        "#Tuple\n",
        "import numpy as np\n",
        "\n",
        "theTuple = ('12345', np.arange(0,10,2), \"abcdefg\")\n",
        "print(theTuple)\n",
        "print(theTuple[2])"
      ],
      "execution_count": null,
      "outputs": [
        {
          "output_type": "stream",
          "text": [
            "('12345', array([0, 2, 4, 6, 8]), 'abcdefg')\n",
            "abcdefg\n"
          ],
          "name": "stdout"
        }
      ]
    },
    {
      "cell_type": "code",
      "metadata": {
        "id": "ZEDAI1QBJSHI",
        "colab_type": "code",
        "colab": {
          "base_uri": "https://localhost:8080/",
          "height": 51
        },
        "outputId": "07362c0b-b06f-4289-cd16-eba66c0afb86"
      },
      "source": [
        "#Lists\n",
        "theList = ['abc']\n",
        "theList.append('def')\n",
        "anotherList = [np.arange(0,10,2)]\n",
        "\n",
        "print(theList)\n",
        "print(theList + anotherList)"
      ],
      "execution_count": null,
      "outputs": [
        {
          "output_type": "stream",
          "text": [
            "['abc', 'def']\n",
            "['abc', 'def', array([0, 2, 4, 6, 8])]\n"
          ],
          "name": "stdout"
        }
      ]
    },
    {
      "cell_type": "code",
      "metadata": {
        "id": "rhrJccAaJwmT",
        "colab_type": "code",
        "colab": {
          "base_uri": "https://localhost:8080/",
          "height": 51
        },
        "outputId": "b4e9842c-937d-410b-a9d8-08ed2bf44e0b"
      },
      "source": [
        "#Arrays\n",
        "theArray = np.array(anotherList)\n",
        "array2 = np.array(np.arange(0,10,2))\n",
        "print(theArray+array2)\n",
        "\n",
        "print(theArray.dot(array2))"
      ],
      "execution_count": null,
      "outputs": [
        {
          "output_type": "stream",
          "text": [
            "[[ 0  4  8 12 16]]\n",
            "[120]\n"
          ],
          "name": "stdout"
        }
      ]
    },
    {
      "cell_type": "code",
      "metadata": {
        "id": "WQ95LCmeKOIY",
        "colab_type": "code",
        "colab": {
          "base_uri": "https://localhost:8080/",
          "height": 102
        },
        "outputId": "24ac4395-f1f6-4614-ed50-d89db6260a37"
      },
      "source": [
        "#Dictionaries\n",
        "theDict = {'Mary': 1, 'Larry': 2, 'Barry': 3}\n",
        "theDict2 = dict(one = 123, two = 456, info = 'INFORMATION')\n",
        "\n",
        "print(theDict)\n",
        "print(theDict2)\n",
        "\n",
        "print(theDict.values())\n",
        "print(theDict.keys())\n",
        "\n",
        "theDict['Harry'] = 'applesauce'\n",
        "print(theDict)"
      ],
      "execution_count": null,
      "outputs": [
        {
          "output_type": "stream",
          "text": [
            "{'Mary': 1, 'Larry': 2, 'Barry': 3}\n",
            "{'one': 123, 'two': 456, 'info': 'INFORMATION'}\n",
            "dict_values([1, 2, 3])\n",
            "dict_keys(['Mary', 'Larry', 'Barry'])\n",
            "{'Mary': 1, 'Larry': 2, 'Barry': 3, 'Harry': 'applesauce'}\n"
          ],
          "name": "stdout"
        }
      ]
    },
    {
      "cell_type": "markdown",
      "metadata": {
        "id": "IlvXiDBYNZaX",
        "colab_type": "text"
      },
      "source": [
        "##Vectors and Arrays\n",
        "\n",
        "Vectors and arrays are part of numpy. A vector is not a 1-dimensional matrix. It cannot be transposed. \n",
        "\n",
        "Several matlab commands are similarly represented in Python."
      ]
    },
    {
      "cell_type": "code",
      "metadata": {
        "id": "Ul6ypMMGNcRW",
        "colab_type": "code",
        "colab": {
          "base_uri": "https://localhost:8080/",
          "height": 85
        },
        "outputId": "610fcfe6-68a7-43c9-d849-0138629d8799"
      },
      "source": [
        "import numpy as np\n",
        "\n",
        "print(np.zeros(5))\n",
        "print()\n",
        "print(np.zeros((2,5)))"
      ],
      "execution_count": null,
      "outputs": [
        {
          "output_type": "stream",
          "text": [
            "[0. 0. 0. 0. 0.]\n",
            "\n",
            "[[0. 0. 0. 0. 0.]\n",
            " [0. 0. 0. 0. 0.]]\n"
          ],
          "name": "stdout"
        }
      ]
    },
    {
      "cell_type": "code",
      "metadata": {
        "id": "p2eZlfV4Ns5I",
        "colab_type": "code",
        "colab": {
          "base_uri": "https://localhost:8080/",
          "height": 136
        },
        "outputId": "7788459e-6626-47e3-e824-b81a9c5fdf56"
      },
      "source": [
        "print(np.arange(1,3,.2))\n",
        "print()\n",
        "\n",
        "#same as the matlab command\n",
        "#breaks the range into k units\n",
        "print(np.linspace(0,10,11))\n",
        "print()\n",
        "\n",
        "#vectors cannot be transposed, matrices can\n",
        "x = np.array([ [9,8,7], [6,5,4]])\n",
        "print(x.T)"
      ],
      "execution_count": null,
      "outputs": [
        {
          "output_type": "stream",
          "text": [
            "[1.  1.2 1.4 1.6 1.8 2.  2.2 2.4 2.6 2.8]\n",
            "\n",
            "[ 0.  1.  2.  3.  4.  5.  6.  7.  8.  9. 10.]\n",
            "\n",
            "[[9 6]\n",
            " [8 5]\n",
            " [7 4]]\n"
          ],
          "name": "stdout"
        }
      ]
    },
    {
      "cell_type": "markdown",
      "metadata": {
        "id": "_icOS4ftO1YP",
        "colab_type": "text"
      },
      "source": [
        "###Example\n",
        "\n",
        "This example is typical of matlab. Python can run the same way."
      ]
    },
    {
      "cell_type": "code",
      "metadata": {
        "id": "-vBJyEJcO7Ux",
        "colab_type": "code",
        "colab": {
          "base_uri": "https://localhost:8080/",
          "height": 279
        },
        "outputId": "d6fd9b3c-b373-4ef2-818d-a21bd4cac540"
      },
      "source": [
        "import numpy as np\n",
        "import matplotlib.pyplot as plt\n",
        "\n",
        "t = np.r_[0:10:.1]\n",
        "frequency = .5\n",
        "x = np.sin(2*np.pi*frequency*t)\n",
        "plt.plot(t,x)\n",
        "plt.xlabel('The Time')\n",
        "plt.ylabel('The Values')\n",
        "\n",
        "plt.show()"
      ],
      "execution_count": null,
      "outputs": [
        {
          "output_type": "display_data",
          "data": {
            "image/png": "[encoded data removed]",
            "text/plain": [
              "<Figure size 432x288 with 1 Axes>"
            ]
          },
          "metadata": {
            "tags": [],
            "needs_background": "light"
          }
        }
      ]
    },
    {
      "cell_type": "markdown",
      "metadata": {
        "id": "3iA4NNSgP-ba",
        "colab_type": "text"
      },
      "source": [
        "#Using Pandas\n",
        "\n"
      ]
    },
    {
      "cell_type": "code",
      "metadata": {
        "id": "mOY21z5gQBJq",
        "colab_type": "code",
        "colab": {
          "base_uri": "https://localhost:8080/",
          "height": 120
        },
        "outputId": "4966f82a-89c1-4022-e78f-72299198f362"
      },
      "source": [
        "import numpy as np\n",
        "import pandas as pd\n",
        "\n",
        "t = np.arange(0,10,.1)\n",
        "x = np.sin(t)\n",
        "y = np.cos(t)\n",
        "\n",
        "#set up the dataframe\n",
        "df = pd.DataFrame({'Time':t,'x':x,'y':y})\n",
        "\n",
        "#see the beginning of the data frame\n",
        "print(df.head())"
      ],
      "execution_count": null,
      "outputs": [
        {
          "output_type": "stream",
          "text": [
            "   Time         x         y\n",
            "0   0.0  0.000000  1.000000\n",
            "1   0.1  0.099833  0.995004\n",
            "2   0.2  0.198669  0.980067\n",
            "3   0.3  0.295520  0.955336\n",
            "4   0.4  0.389418  0.921061\n"
          ],
          "name": "stdout"
        }
      ]
    },
    {
      "cell_type": "code",
      "metadata": {
        "id": "FFLs-VSgeXbw",
        "colab_type": "code",
        "colab": {
          "base_uri": "https://localhost:8080/",
          "height": 221
        },
        "outputId": "42e4a8c2-4ad2-43b0-f51e-31d46d340f9d"
      },
      "source": [
        "#columns are addressed through their names\n",
        "#either this way\n",
        "df.Time\n",
        "\n",
        "#or this way\n",
        "df['Time']"
      ],
      "execution_count": null,
      "outputs": [
        {
          "output_type": "execute_result",
          "data": {
            "text/plain": [
              "0     0.0\n",
              "1     0.1\n",
              "2     0.2\n",
              "3     0.3\n",
              "4     0.4\n",
              "     ... \n",
              "95    9.5\n",
              "96    9.6\n",
              "97    9.7\n",
              "98    9.8\n",
              "99    9.9\n",
              "Name: Time, Length: 100, dtype: float64"
            ]
          },
          "metadata": {
            "tags": []
          },
          "execution_count": 24
        }
      ]
    },
    {
      "cell_type": "code",
      "metadata": {
        "id": "LDgB1kfYe5eS",
        "colab_type": "code",
        "colab": {
          "base_uri": "https://localhost:8080/",
          "height": 255
        },
        "outputId": "4bedac08-c6a3-46d1-ee64-e3d6a5e99dbf"
      },
      "source": [
        "#to look at more than one column use a list\n",
        "data = df[['Time','y']]\n",
        "print(data)"
      ],
      "execution_count": null,
      "outputs": [
        {
          "output_type": "stream",
          "text": [
            "    Time         y\n",
            "0    0.0  1.000000\n",
            "1    0.1  0.995004\n",
            "2    0.2  0.980067\n",
            "3    0.3  0.955336\n",
            "4    0.4  0.921061\n",
            "..   ...       ...\n",
            "95   9.5 -0.997172\n",
            "96   9.6 -0.984688\n",
            "97   9.7 -0.962365\n",
            "98   9.8 -0.930426\n",
            "99   9.9 -0.889191\n",
            "\n",
            "[100 rows x 2 columns]\n"
          ],
          "name": "stdout"
        }
      ]
    },
    {
      "cell_type": "code",
      "metadata": {
        "id": "7RYeyjk0fEbb",
        "colab_type": "code",
        "colab": {
          "base_uri": "https://localhost:8080/",
          "height": 235
        },
        "outputId": "b59e39c9-d0c9-4d65-fbe7-9033bd412f16"
      },
      "source": [
        "#to extract rows use slicers\n",
        "data[4:10]"
      ],
      "execution_count": null,
      "outputs": [
        {
          "output_type": "execute_result",
          "data": {
            "text/html": [
              "<div>\n",
              "<style scoped>\n",
              "    .dataframe tbody tr th:only-of-type {\n",
              "        vertical-align: middle;\n",
              "    }\n",
              "\n",
              "    .dataframe tbody tr th {\n",
              "        vertical-align: top;\n",
              "    }\n",
              "\n",
              "    .dataframe thead th {\n",
              "        text-align: right;\n",
              "    }\n",
              "</style>\n",
              "<table border=\"1\" class=\"dataframe\">\n",
              "  <thead>\n",
              "    <tr style=\"text-align: right;\">\n",
              "      <th></th>\n",
              "      <th>Time</th>\n",
              "      <th>y</th>\n",
              "    </tr>\n",
              "  </thead>\n",
              "  <tbody>\n",
              "    <tr>\n",
              "      <th>4</th>\n",
              "      <td>0.4</td>\n",
              "      <td>0.921061</td>\n",
              "    </tr>\n",
              "    <tr>\n",
              "      <th>5</th>\n",
              "      <td>0.5</td>\n",
              "      <td>0.877583</td>\n",
              "    </tr>\n",
              "    <tr>\n",
              "      <th>6</th>\n",
              "      <td>0.6</td>\n",
              "      <td>0.825336</td>\n",
              "    </tr>\n",
              "    <tr>\n",
              "      <th>7</th>\n",
              "      <td>0.7</td>\n",
              "      <td>0.764842</td>\n",
              "    </tr>\n",
              "    <tr>\n",
              "      <th>8</th>\n",
              "      <td>0.8</td>\n",
              "      <td>0.696707</td>\n",
              "    </tr>\n",
              "    <tr>\n",
              "      <th>9</th>\n",
              "      <td>0.9</td>\n",
              "      <td>0.621610</td>\n",
              "    </tr>\n",
              "  </tbody>\n",
              "</table>\n",
              "</div>"
            ],
            "text/plain": [
              "   Time         y\n",
              "4   0.4  0.921061\n",
              "5   0.5  0.877583\n",
              "6   0.6  0.825336\n",
              "7   0.7  0.764842\n",
              "8   0.8  0.696707\n",
              "9   0.9  0.621610"
            ]
          },
          "metadata": {
            "tags": []
          },
          "execution_count": 28
        }
      ]
    },
    {
      "cell_type": "code",
      "metadata": {
        "id": "MZApIZk8fMyV",
        "colab_type": "code",
        "colab": {
          "base_uri": "https://localhost:8080/",
          "height": 235
        },
        "outputId": "a3a5aa32-6e0d-4d9b-c0c6-f378ef134def"
      },
      "source": [
        "#you can also look at parts of a dataframe in one step\n",
        "df[['Time','x']] [3:9]"
      ],
      "execution_count": null,
      "outputs": [
        {
          "output_type": "execute_result",
          "data": {
            "text/html": [
              "<div>\n",
              "<style scoped>\n",
              "    .dataframe tbody tr th:only-of-type {\n",
              "        vertical-align: middle;\n",
              "    }\n",
              "\n",
              "    .dataframe tbody tr th {\n",
              "        vertical-align: top;\n",
              "    }\n",
              "\n",
              "    .dataframe thead th {\n",
              "        text-align: right;\n",
              "    }\n",
              "</style>\n",
              "<table border=\"1\" class=\"dataframe\">\n",
              "  <thead>\n",
              "    <tr style=\"text-align: right;\">\n",
              "      <th></th>\n",
              "      <th>Time</th>\n",
              "      <th>x</th>\n",
              "    </tr>\n",
              "  </thead>\n",
              "  <tbody>\n",
              "    <tr>\n",
              "      <th>3</th>\n",
              "      <td>0.3</td>\n",
              "      <td>0.295520</td>\n",
              "    </tr>\n",
              "    <tr>\n",
              "      <th>4</th>\n",
              "      <td>0.4</td>\n",
              "      <td>0.389418</td>\n",
              "    </tr>\n",
              "    <tr>\n",
              "      <th>5</th>\n",
              "      <td>0.5</td>\n",
              "      <td>0.479426</td>\n",
              "    </tr>\n",
              "    <tr>\n",
              "      <th>6</th>\n",
              "      <td>0.6</td>\n",
              "      <td>0.564642</td>\n",
              "    </tr>\n",
              "    <tr>\n",
              "      <th>7</th>\n",
              "      <td>0.7</td>\n",
              "      <td>0.644218</td>\n",
              "    </tr>\n",
              "    <tr>\n",
              "      <th>8</th>\n",
              "      <td>0.8</td>\n",
              "      <td>0.717356</td>\n",
              "    </tr>\n",
              "  </tbody>\n",
              "</table>\n",
              "</div>"
            ],
            "text/plain": [
              "   Time         x\n",
              "3   0.3  0.295520\n",
              "4   0.4  0.389418\n",
              "5   0.5  0.479426\n",
              "6   0.6  0.564642\n",
              "7   0.7  0.644218\n",
              "8   0.8  0.717356"
            ]
          },
          "metadata": {
            "tags": []
          },
          "execution_count": 29
        }
      ]
    },
    {
      "cell_type": "code",
      "metadata": {
        "id": "OTblKkqqfXP_",
        "colab_type": "code",
        "colab": {
          "base_uri": "https://localhost:8080/",
          "height": 136
        },
        "outputId": "a0a76d3c-918d-47a9-8b9b-f41a06f88b65"
      },
      "source": [
        "#use iloc for a more standardized notation\n",
        "#this represents as rows than columns\n",
        "print(df.iloc[4:10, [1,2]])"
      ],
      "execution_count": null,
      "outputs": [
        {
          "output_type": "stream",
          "text": [
            "          x         y\n",
            "4  0.389418  0.921061\n",
            "5  0.479426  0.877583\n",
            "6  0.564642  0.825336\n",
            "7  0.644218  0.764842\n",
            "8  0.717356  0.696707\n",
            "9  0.783327  0.621610\n"
          ],
          "name": "stdout"
        }
      ]
    },
    {
      "cell_type": "markdown",
      "metadata": {
        "id": "CKUmyaSVIsD9",
        "colab_type": "text"
      },
      "source": [
        "###Confusing Points\n",
        "\n",
        "* numpy handles rows first. So x[0] is the first row of an array\n",
        "* pandas handles columns first. So df['values'][0] is the first element of the column values\n",
        "* ```df.iloc[15]``` will extract the 15th row\n",
        "* ```df.iloc[1:3,9]``` will extract the columns 1 through 3, row 9\n"
      ]
    },
    {
      "cell_type": "markdown",
      "metadata": {
        "id": "XhxOuIkhJidI",
        "colab_type": "text"
      },
      "source": [
        "## Grouping\n",
        "\n",
        "Grouping allows you to do pivot tables in Python."
      ]
    },
    {
      "cell_type": "code",
      "metadata": {
        "id": "T7j3ZOfSflA2",
        "colab_type": "code",
        "colab": {
          "base_uri": "https://localhost:8080/",
          "height": 365
        },
        "outputId": "58286443-f15a-4471-d2af-f8c4ac6959bf"
      },
      "source": [
        "import pandas as pd\n",
        "import matplotlib.pyplot as plt\n",
        "\n",
        "#create a data frame using pandas to hold information\n",
        "#the setup is 'similar' to a dictionary\n",
        "data = pd.DataFrame({'Gender': ['f','f','m','f','m','m','f','f','f','m','f','m','m','f'], 'Movies': [3.4, 3.5, 2.7, 2.9, 3.2, 3.6, 2.5, 3.9, 2.3, 2.2, 3.1, 3.6, 3.7, 4.1]})\n",
        "\n",
        "#grouped the data\n",
        "grouped = data.groupby('Gender')\n",
        "\n",
        "#get the stats\n",
        "print(grouped.describe())\n",
        "\n",
        "#plot the data\n",
        "grouped.boxplot()\n",
        "plt.show()"
      ],
      "execution_count": null,
      "outputs": [
        {
          "output_type": "stream",
          "text": [
            "       Movies                                                \n",
            "        count      mean       std  min    25%   50%  75%  max\n",
            "Gender                                                       \n",
            "f         8.0  3.212500  0.635694  2.3  2.800  3.25  3.6  4.1\n",
            "m         6.0  3.166667  0.602218  2.2  2.825  3.40  3.6  3.7\n"
          ],
          "name": "stdout"
        },
        {
          "output_type": "display_data",
          "data": {
            "image/png": "[encoded data removed]",
            "text/plain": [
              "<Figure size 432x288 with 2 Axes>"
            ]
          },
          "metadata": {
            "tags": [],
            "needs_background": "light"
          }
        }
      ]
    },
    {
      "cell_type": "code",
      "metadata": {
        "id": "tnRfFNcYDNUX",
        "colab_type": "code",
        "colab": {
          "base_uri": "https://localhost:8080/",
          "height": 323
        },
        "outputId": "4dba76aa-2d81-439e-d298-e2a5636d1fc1"
      },
      "source": [
        "#use above and reorganize\n",
        "df_female = grouped.get_group('f')\n",
        "values_female = grouped.get_group('f').values\n",
        "\n",
        "print(df_female)\n",
        "print()\n",
        "print(values_female)"
      ],
      "execution_count": null,
      "outputs": [
        {
          "output_type": "stream",
          "text": [
            "   Gender  Movies\n",
            "0       f     3.4\n",
            "1       f     3.5\n",
            "3       f     2.9\n",
            "6       f     2.5\n",
            "7       f     3.9\n",
            "8       f     2.3\n",
            "10      f     3.1\n",
            "13      f     4.1\n",
            "\n",
            "[['f' 3.4]\n",
            " ['f' 3.5]\n",
            " ['f' 2.9]\n",
            " ['f' 2.5]\n",
            " ['f' 3.9]\n",
            " ['f' 2.3]\n",
            " ['f' 3.1]\n",
            " ['f' 4.1]]\n"
          ],
          "name": "stdout"
        }
      ]
    },
    {
      "cell_type": "markdown",
      "metadata": {
        "id": "G7Ujut9FDclD",
        "colab_type": "text"
      },
      "source": [
        "##Running a General Linear Model"
      ]
    },
    {
      "cell_type": "code",
      "metadata": {
        "id": "MelPnxZ2DXc5",
        "colab_type": "code",
        "colab": {
          "base_uri": "https://localhost:8080/",
          "height": 442
        },
        "outputId": "bd14f72f-7abe-4370-93b7-a19b445f0f1d"
      },
      "source": [
        "import numpy as np\n",
        "import pandas as pd\n",
        "import statsmodels.formula.api as sm\n",
        "\n",
        "#generate data\n",
        "x = np.arange(100)\n",
        "y = .5*x-20 + np.random.randn(len(x))\n",
        "df = pd.DataFrame({'x':x, 'y':y})\n",
        "\n",
        "#get the model\n",
        "model = sm.ols('y~x', data= df).fit()\n",
        "print(model.summary())\n"
      ],
      "execution_count": null,
      "outputs": [
        {
          "output_type": "stream",
          "text": [
            "                            OLS Regression Results                            \n",
            "==============================================================================\n",
            "Dep. Variable:                      y   R-squared:                       0.995\n",
            "Model:                            OLS   Adj. R-squared:                  0.995\n",
            "Method:                 Least Squares   F-statistic:                 1.823e+04\n",
            "Date:                Wed, 09 Sep 2020   Prob (F-statistic):          3.89e-113\n",
            "Time:                        04:13:41   Log-Likelihood:                -147.12\n",
            "No. Observations:                 100   AIC:                             298.2\n",
            "Df Residuals:                      98   BIC:                             303.5\n",
            "Df Model:                           1                                         \n",
            "Covariance Type:            nonrobust                                         \n",
            "==============================================================================\n",
            "                 coef    std err          t      P>|t|      [0.025      0.975]\n",
            "------------------------------------------------------------------------------\n",
            "Intercept    -20.0263      0.211    -94.780      0.000     -20.446     -19.607\n",
            "x              0.4978      0.004    135.000      0.000       0.490       0.505\n",
            "==============================================================================\n",
            "Omnibus:                        1.445   Durbin-Watson:                   2.108\n",
            "Prob(Omnibus):                  0.486   Jarque-Bera (JB):                1.480\n",
            "Skew:                          -0.225   Prob(JB):                        0.477\n",
            "Kurtosis:                       2.610   Cond. No.                         114.\n",
            "==============================================================================\n",
            "\n",
            "Warnings:\n",
            "[1] Standard Errors assume that the covariance matrix of the errors is correctly specified.\n"
          ],
          "name": "stdout"
        }
      ]
    },
    {
      "cell_type": "markdown",
      "metadata": {
        "id": "aJRaZ6r2Ey0m",
        "colab_type": "text"
      },
      "source": [
        "##Example of Seaborn"
      ]
    },
    {
      "cell_type": "code",
      "metadata": {
        "id": "08NsnX_UEmKJ",
        "colab_type": "code",
        "colab": {
          "base_uri": "https://localhost:8080/",
          "height": 279
        },
        "outputId": "f92fef25-048b-479f-a3a9-3cd71f4ea16a"
      },
      "source": [
        "import pandas as pd\n",
        "import seaborn as sns\n",
        "\n",
        "x = np.linspace(1,7,50)\n",
        "y = 3 + 2*x+1.5*np.random.randn(len(x))\n",
        "df = pd.DataFrame({'x':x,'y':y})\n",
        "\n",
        "sns.regplot('x','y',data=df)\n",
        "plt.show()"
      ],
      "execution_count": null,
      "outputs": [
        {
          "output_type": "display_data",
          "data": {
            "image/png": "[encoded data removed]",
            "text/plain": [
              "<Figure size 432x288 with 1 Axes>"
            ]
          },
          "metadata": {
            "tags": [],
            "needs_background": "light"
          }
        }
      ]
    },
    {
      "cell_type": "markdown",
      "metadata": {
        "id": "4MlDDlU9F4Ag",
        "colab_type": "text"
      },
      "source": [
        "##Read in a CSV File\n",
        "\n",
        "Place a CSV file into a dataframe in order to check it out. "
      ]
    },
    {
      "cell_type": "code",
      "metadata": {
        "id": "JnJmtzgxF-um",
        "colab_type": "code",
        "colab": {}
      },
      "source": [
        "theFile = 'data.txt'\n",
        "\n",
        "#load into a dataFrame\n",
        "df = pd.read_csv(theFile)\n",
        "df.head()\n",
        "df.tail()\n",
        "\n",
        "#load with headers\n",
        "#if data has no headers and it isn't specified, the first row is assumed to be the header\n",
        "df = pd.read_csv('data.txt', header = None)\n",
        "\n",
        "#load into numpy array\n",
        "data = np.loadtxt('data.txt', delimiter=',')\n",
        "\n",
        "\n",
        "#get data from Excel\n",
        "from pandas import ExcelWriter\n",
        "from pandas import ExcelFile\n",
        "\n",
        "df = pd.read_excel('File.xlsx', sheetname='Sheet1')\n",
        "\n"
      ],
      "execution_count": null,
      "outputs": []
    },
    {
      "cell_type": "markdown",
      "metadata": {
        "id": "sHrlhmmCI-j5",
        "colab_type": "text"
      },
      "source": [
        "##Types of Data\n",
        "\n",
        "1. Boolean - true or false. Two categories. For instance, smoker/non-smoker\n",
        "2. Nominal - classifications with more than two categories. E.g. Married/ single/ divorced/ widowed\n",
        "3. Ordinal - Ordered data with a logical sequence. E.g. A little, a lot, a ton\n",
        "4. Numerical - continuous and discrete \n",
        "\n"
      ]
    },
    {
      "cell_type": "markdown",
      "metadata": {
        "id": "95TAbueJKV4N",
        "colab_type": "text"
      },
      "source": [
        "##Plotting Data"
      ]
    },
    {
      "cell_type": "code",
      "metadata": {
        "id": "mc_JV2jtKYnQ",
        "colab_type": "code",
        "colab": {
          "base_uri": "https://localhost:8080/",
          "height": 265
        },
        "outputId": "eeddec22-8fab-4e70-c7bd-2d72fccc92a2"
      },
      "source": [
        "import numpy as np\n",
        "import matplotlib.pyplot as plt\n",
        "import pandas as pd\n",
        "import scipy.stats as stats\n",
        "import seaborn as sns\n",
        "\n",
        "x = np.random.randn(500)\n",
        "plt.plot(x, '.')\n",
        "plt.show()"
      ],
      "execution_count": null,
      "outputs": [
        {
          "output_type": "display_data",
          "data": {
            "image/png": "[encoded data removed]",
            "text/plain": [
              "<Figure size 432x288 with 1 Axes>"
            ]
          },
          "metadata": {
            "tags": [],
            "needs_background": "light"
          }
        }
      ]
    },
    {
      "cell_type": "code",
      "metadata": {
        "id": "v7_xk9Y6Kv_1",
        "colab_type": "code",
        "colab": {
          "base_uri": "https://localhost:8080/",
          "height": 265
        },
        "outputId": "6349a820-093a-4605-aaa0-eff5714ec6fe"
      },
      "source": [
        "#histogram\n",
        "plt.hist(x,bins = 25)\n",
        "plt.show()"
      ],
      "execution_count": null,
      "outputs": [
        {
          "output_type": "display_data",
          "data": {
            "image/png": "[encoded data removed]",
            "text/plain": [
              "<Figure size 432x288 with 1 Axes>"
            ]
          },
          "metadata": {
            "tags": [],
            "needs_background": "light"
          }
        }
      ]
    },
    {
      "cell_type": "markdown",
      "metadata": {
        "id": "jcN5qxrDOM9Y",
        "colab_type": "text"
      },
      "source": [
        "###KDE Plot\n",
        "\n",
        "Kernel density estimation or KDE is a non-parametric way to estimate the probability density function of a random variable. The KDE finds probability density function (PDF) for a given dataset. It smooths the values of the PDF.\n",
        "\n",
        "There are different choices for kernels."
      ]
    },
    {
      "cell_type": "code",
      "metadata": {
        "id": "jJoZJKClOaAt",
        "colab_type": "code",
        "colab": {
          "base_uri": "https://localhost:8080/",
          "height": 282
        },
        "outputId": "5ed9c316-5266-4c2d-9704-1b3578445010"
      },
      "source": [
        "x = [-5,2,-4.5,1.3,2.7,6.3,-.8,-.1,.1,2.1,4.5]\n",
        "sns.kdeplot(x)"
      ],
      "execution_count": null,
      "outputs": [
        {
          "output_type": "execute_result",
          "data": {
            "text/plain": [
              "<matplotlib.axes._subplots.AxesSubplot at 0x7fc9d706f748>"
            ]
          },
          "metadata": {
            "tags": []
          },
          "execution_count": 20
        },
        {
          "output_type": "display_data",
          "data": {
            "image/png": "[encoded data removed]",
            "text/plain": [
              "<Figure size 432x288 with 1 Axes>"
            ]
          },
          "metadata": {
            "tags": [],
            "needs_background": "light"
          }
        }
      ]
    },
    {
      "cell_type": "code",
      "metadata": {
        "id": "YLxSErisP41J",
        "colab_type": "code",
        "colab": {
          "base_uri": "https://localhost:8080/",
          "height": 282
        },
        "outputId": "84c7e0f3-bc5a-4499-c598-9e065b808b8e"
      },
      "source": [
        "#cumulative frequency\n",
        "x = np.random.randn(500)\n",
        "plt.plot(stats.cumfreq(x,numbins= 25)[0])"
      ],
      "execution_count": null,
      "outputs": [
        {
          "output_type": "execute_result",
          "data": {
            "text/plain": [
              "[<matplotlib.lines.Line2D at 0x7fc9d6ce3518>]"
            ]
          },
          "metadata": {
            "tags": []
          },
          "execution_count": 22
        },
        {
          "output_type": "display_data",
          "data": {
            "image/png": "[encoded data removed]",
            "text/plain": [
              "<Figure size 432x288 with 1 Axes>"
            ]
          },
          "metadata": {
            "tags": [],
            "needs_background": "light"
          }
        }
      ]
    },
    {
      "cell_type": "code",
      "metadata": {
        "id": "cN_-0F7LQJ6J",
        "colab_type": "code",
        "colab": {
          "base_uri": "https://localhost:8080/",
          "height": 401
        },
        "outputId": "796a81e0-19d7-4bb4-9915-93cb501c127b"
      },
      "source": [
        "#boxplot\n",
        "plt.boxplot(x, sym='*')\n",
        "\n",
        "#shows the first and third quartiel as well as the mean\n",
        "#generally the whiskers are 1.5 std out"
      ],
      "execution_count": null,
      "outputs": [
        {
          "output_type": "execute_result",
          "data": {
            "text/plain": [
              "{'boxes': [<matplotlib.lines.Line2D at 0x7fc9d6c76ba8>],\n",
              " 'caps': [<matplotlib.lines.Line2D at 0x7fc9d6c4c6a0>,\n",
              "  <matplotlib.lines.Line2D at 0x7fc9d6c4ca20>],\n",
              " 'fliers': [<matplotlib.lines.Line2D at 0x7fc9d6c57160>],\n",
              " 'means': [],\n",
              " 'medians': [<matplotlib.lines.Line2D at 0x7fc9d6c4cda0>],\n",
              " 'whiskers': [<matplotlib.lines.Line2D at 0x7fc9d6c3ff60>,\n",
              "  <matplotlib.lines.Line2D at 0x7fc9d6c4c320>]}"
            ]
          },
          "metadata": {
            "tags": []
          },
          "execution_count": 23
        },
        {
          "output_type": "display_data",
          "data": {
            "image/png": "[encoded data removed]",
            "text/plain": [
              "<Figure size 432x288 with 1 Axes>"
            ]
          },
          "metadata": {
            "tags": [],
            "needs_background": "light"
          }
        }
      ]
    },
    {
      "cell_type": "code",
      "metadata": {
        "id": "OwQCRmyvQwfn",
        "colab_type": "code",
        "colab": {
          "base_uri": "https://localhost:8080/",
          "height": 296
        },
        "outputId": "e1d7b764-bc26-42bc-b8b4-4bc2a87ec315"
      },
      "source": [
        "#violin plots have a vertical axis as the boxplot and a horizontal axis as a symmetrical KDE\n",
        "nd = stats.norm(loc = -10,scale = 1.75)\n",
        "data = nd.rvs(size=(100))\n",
        "\n",
        "nd2 = stats.norm(loc = 15, scale = 4.5)\n",
        "data2 = nd2.rvs(size=(100))\n",
        "\n",
        "df = pd.DataFrame({'Girls':data, 'Boys':data2})\n",
        "sns.violinplot(df['Girls'])\n",
        "sns.violinplot(df['Boys'])"
      ],
      "execution_count": null,
      "outputs": [
        {
          "output_type": "execute_result",
          "data": {
            "text/plain": [
              "<matplotlib.axes._subplots.AxesSubplot at 0x7fc9d68c7e48>"
            ]
          },
          "metadata": {
            "tags": []
          },
          "execution_count": 32
        },
        {
          "output_type": "display_data",
          "data": {
            "image/png": "[encoded data removed]",
            "text/plain": [
              "<Figure size 432x288 with 1 Axes>"
            ]
          },
          "metadata": {
            "tags": [],
            "needs_background": "light"
          }
        }
      ]
    },
    {
      "cell_type": "code",
      "metadata": {
        "id": "W0js8SzxSPyr",
        "colab_type": "code",
        "colab": {
          "base_uri": "https://localhost:8080/",
          "height": 279
        },
        "outputId": "9e09c2b2-b90c-41cd-8aa7-1816bae99fdc"
      },
      "source": [
        "#grouped by charts\n",
        "df = pd.DataFrame(np.random.rand(10,4),columns = ['a','b','c','d'])\n",
        "df.plot(kind = 'bar',grid = False)"
      ],
      "execution_count": null,
      "outputs": [
        {
          "output_type": "execute_result",
          "data": {
            "text/plain": [
              "<matplotlib.axes._subplots.AxesSubplot at 0x7fc9d7037f28>"
            ]
          },
          "metadata": {
            "tags": []
          },
          "execution_count": 36
        },
        {
          "output_type": "display_data",
          "data": {
            "image/png": "[encoded data removed]",
            "text/plain": [
              "<Figure size 432x288 with 1 Axes>"
            ]
          },
          "metadata": {
            "tags": [],
            "needs_background": "light"
          }
        }
      ]
    },
    {
      "cell_type": "code",
      "metadata": {
        "id": "2biXs9_MSw-b",
        "colab_type": "code",
        "colab": {
          "base_uri": "https://localhost:8080/",
          "height": 296
        },
        "outputId": "1561a9b2-d760-41bc-b047-051b138ba7b7"
      },
      "source": [
        "#bivariate scatter plots\n",
        "\n",
        "df = pd.DataFrame(np.random.rand(50,4),columns = ['a','b','c','d'])\n",
        "df.plot(kind = 'scatter',x = 'a', y = 'b', s = df['c']*300)"
      ],
      "execution_count": null,
      "outputs": [
        {
          "output_type": "execute_result",
          "data": {
            "text/plain": [
              "<matplotlib.axes._subplots.AxesSubplot at 0x7fc9d667e5f8>"
            ]
          },
          "metadata": {
            "tags": []
          },
          "execution_count": 37
        },
        {
          "output_type": "display_data",
          "data": {
            "image/png": "[encoded data removed]",
            "text/plain": [
              "<Figure size 432x288 with 1 Axes>"
            ]
          },
          "metadata": {
            "tags": [],
            "needs_background": "light"
          }
        }
      ]
    },
    {
      "cell_type": "markdown",
      "metadata": {
        "id": "KPZbsb15mJBV",
        "colab_type": "text"
      },
      "source": [
        "#Some Other Really Useful Tools\n",
        "\n",
        "* zip\n",
        "* map\n",
        "* filter"
      ]
    },
    {
      "cell_type": "code",
      "metadata": {
        "id": "sB8ju92ImLyw",
        "colab_type": "code",
        "colab": {
          "base_uri": "https://localhost:8080/",
          "height": 34
        },
        "outputId": "969dfd63-7b9e-42cd-9607-845b24fedd76"
      },
      "source": [
        "#zip - often times you need to convert one thing to another form\n",
        "list_1 = [1,2,3]\n",
        "list_2 = [4,5,6]\n",
        "x = [x for x in zip(list_1,list_2)]\n",
        "print(x)\n"
      ],
      "execution_count": 2,
      "outputs": [
        {
          "output_type": "stream",
          "text": [
            "[(1, 4), (2, 5), (3, 6)]\n"
          ],
          "name": "stdout"
        }
      ]
    },
    {
      "cell_type": "code",
      "metadata": {
        "id": "k_-28Wjvnzr_",
        "colab_type": "code",
        "colab": {
          "base_uri": "https://localhost:8080/",
          "height": 34
        },
        "outputId": "9616ccdc-7426-406e-b770-43e62794e117"
      },
      "source": [
        "#a typical approach for zip is below\n",
        "thing_1 = ['a','b','c']\n",
        "thing_2 = [1,2,3]\n",
        "test = list(zip(thing_1,thing_2))\n",
        "\n",
        "print (test)"
      ],
      "execution_count": 4,
      "outputs": [
        {
          "output_type": "stream",
          "text": [
            "[('a', 1), ('b', 2), ('c', 3)]\n"
          ],
          "name": "stdout"
        }
      ]
    },
    {
      "cell_type": "code",
      "metadata": {
        "id": "8cZzDCnhmjrB",
        "colab_type": "code",
        "colab": {
          "base_uri": "https://localhost:8080/",
          "height": 51
        },
        "outputId": "aaa0091d-da0b-4f44-8c50-a8b1b45ace28"
      },
      "source": [
        "#The asterisk (*) performs argument unpacking\n",
        "first, second = zip(*x)\n",
        "\n",
        "print(first)\n",
        "print(second)"
      ],
      "execution_count": 3,
      "outputs": [
        {
          "output_type": "stream",
          "text": [
            "(1, 2, 3)\n",
            "(4, 5, 6)\n"
          ],
          "name": "stdout"
        }
      ]
    },
    {
      "cell_type": "code",
      "metadata": {
        "id": "2syQcW7jobIG",
        "colab_type": "code",
        "colab": {
          "base_uri": "https://localhost:8080/",
          "height": 34
        },
        "outputId": "082ae94d-e347-481d-d129-1c83e2cf2960"
      },
      "source": [
        "#using map\n",
        "def func1(x):\n",
        "  return x*2\n",
        "\n",
        "test_list = [1,2,3]\n",
        "\n",
        "#use map to do func1 to each spot in test_list\n",
        "#make sure to convert map into something, such as a list\n",
        "x = list(map(func1,test_list))\n",
        "print(x)"
      ],
      "execution_count": 7,
      "outputs": [
        {
          "output_type": "stream",
          "text": [
            "[2, 4, 6]\n"
          ],
          "name": "stdout"
        }
      ]
    },
    {
      "cell_type": "code",
      "metadata": {
        "id": "HoimlYpPo2Bm",
        "colab_type": "code",
        "colab": {
          "base_uri": "https://localhost:8080/",
          "height": 34
        },
        "outputId": "61657fd1-70fc-419f-d4d6-4d3d45f49216"
      },
      "source": [
        "#using filter\n",
        "def func2(x):\n",
        "  return x < 5\n",
        "\n",
        "test = [1,4,7,9]\n",
        "x = list(filter(func2,test))\n",
        "print(x)\n"
      ],
      "execution_count": 8,
      "outputs": [
        {
          "output_type": "stream",
          "text": [
            "[1, 4]\n"
          ],
          "name": "stdout"
        }
      ]
    },
    {
      "cell_type": "code",
      "metadata": {
        "id": "bULleFhnpcTU",
        "colab_type": "code",
        "colab": {
          "base_uri": "https://localhost:8080/",
          "height": 34
        },
        "outputId": "53908357-d959-460b-b785-a440768bd9b9"
      },
      "source": [
        "#using binary\n",
        "x = 361\n",
        "y = bin(x)\n",
        "z = y[2:]\n",
        "\n",
        "print(y,\"\\t\", z)"
      ],
      "execution_count": 9,
      "outputs": [
        {
          "output_type": "stream",
          "text": [
            "0b101101001 \t 101101001\n"
          ],
          "name": "stdout"
        }
      ]
    },
    {
      "cell_type": "markdown",
      "metadata": {
        "id": "gzZFanuS0t5A",
        "colab_type": "text"
      },
      "source": [
        "#Deep Copies"
      ]
    },
    {
      "cell_type": "code",
      "metadata": {
        "id": "bctM7Nnl0wNX",
        "colab_type": "code",
        "colab": {
          "base_uri": "https://localhost:8080/",
          "height": 51
        },
        "outputId": "eaa1046e-3c78-4b8c-a227-c0b05f01b285"
      },
      "source": [
        "#when copying, a simple assignment will mean that BOTH now refer to the same place\n",
        "test = [1,2,3]\n",
        "copy_vals = test\n",
        "copy_vals.append(100)\n",
        "\n",
        "print(test)\n",
        "print(copy_vals)"
      ],
      "execution_count": 13,
      "outputs": [
        {
          "output_type": "stream",
          "text": [
            "[1, 2, 3, 100]\n",
            "[1, 2, 3, 100]\n"
          ],
          "name": "stdout"
        }
      ]
    },
    {
      "cell_type": "code",
      "metadata": {
        "id": "9rAJ1GaD1CDP",
        "colab_type": "code",
        "colab": {
          "base_uri": "https://localhost:8080/",
          "height": 51
        },
        "outputId": "3da3a7f2-12e0-46ee-efdd-8fc6552ab1c9"
      },
      "source": [
        "#instead use a deepcopy\n",
        "#notice that the library for this is imported\n",
        "import copy \n",
        "\n",
        "test = [1,2,3]\n",
        "copy_nums = copy.deepcopy(test)\n",
        "copy_nums.append(100)\n",
        "\n",
        "print(test)\n",
        "print(copy_nums)"
      ],
      "execution_count": 14,
      "outputs": [
        {
          "output_type": "stream",
          "text": [
            "[1, 2, 3]\n",
            "[1, 2, 3, 100]\n"
          ],
          "name": "stdout"
        }
      ]
    }
  ]
}
