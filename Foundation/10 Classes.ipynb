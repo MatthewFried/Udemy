{
  "nbformat": 4,
  "nbformat_minor": 0,
  "metadata": {
    "colab": {
      "name": "10 Classes.ipynb",
      "provenance": [],
      "authorship_tag": "ABX9TyP9HCq+v1pbCq5TSBKCkXSz",
      "include_colab_link": true
    },
    "kernelspec": {
      "name": "python3",
      "display_name": "Python 3"
    }
  },
  "cells": [
    {
      "cell_type": "markdown",
      "metadata": {
        "id": "view-in-github",
        "colab_type": "text"
      },
      "source": [
        "<a href=\"https://colab.research.google.com/github/MatthewFried/Udemy/blob/master/10_Classes.ipynb\" target=\"_parent\"><img src=\"https://colab.research.google.com/assets/colab-badge.svg\" alt=\"Open In Colab\"/></a>"
      ]
    },
    {
      "cell_type": "markdown",
      "metadata": {
        "id": "pRj-MswHBA0-",
        "colab_type": "text"
      },
      "source": [
        "# Classes\n",
        "\n",
        "A class is code that specifies the data attributes and methods for a particular type of object."
      ]
    },
    {
      "cell_type": "code",
      "metadata": {
        "id": "ga5gkPraA-a9",
        "colab_type": "code",
        "colab": {
          "base_uri": "https://localhost:8080/",
          "height": 67
        },
        "outputId": "14b652aa-555d-41be-ffc5-e71ec5f01083"
      },
      "source": [
        "import random\n",
        "\n",
        "#when sideup has __ in front it becomes private\n",
        "\n",
        "class Coin: \n",
        "  def __init__(self):\n",
        "    self.__sideup = 'Heads'\n",
        "    \n",
        "  def toss(self):\n",
        "    if random.randint(0, 1) == 0:\n",
        "      self.__sideup = 'Heads'\n",
        "    else:\n",
        "      self.__sideup = 'Tails'\n",
        "      \n",
        "  def get_sideup(self):\n",
        "    return self.__sideup\n",
        "\n",
        "\n",
        "def main():\n",
        "  my_coin = Coin()\n",
        "  print('This side is up:', my_coin.get_sideup())\n",
        "  print('I am tossing the coin ...')\n",
        "  my_coin.toss()\n",
        "  print('This side is up:', my_coin.get_sideup())\n",
        "\n",
        "\n",
        "if __name__ == '__main__':\n",
        "  main()"
      ],
      "execution_count": null,
      "outputs": [
        {
          "output_type": "stream",
          "text": [
            "This side is up: Heads\n",
            "I am tossing the coin ...\n",
            "This side is up: Tails\n"
          ],
          "name": "stdout"
        }
      ]
    },
    {
      "cell_type": "code",
      "metadata": {
        "id": "R9kCLNw7Ce6Q",
        "colab_type": "code",
        "colab": {}
      },
      "source": [
        "class BankAccount:\n",
        "\n",
        "  def __init__(self, bal):\n",
        "    self.__balance = bal\n",
        "    \n",
        "  def deposit(self, amount):\n",
        "    self.__balance += amount\n",
        " \n",
        "  def withdraw(self, amount):\n",
        "    if self.__balance >= amount:\n",
        "      self.__balance −= amount\n",
        "    else:\n",
        "      print('Error: Insufficient funds')\n",
        "      \n",
        "  def get_balance(self):\n",
        "    return self._ _balance\n",
        "\n",
        "  def __str__(self):\n",
        "    return f'The balance is ${self._ _balance:,.2f}'\n",
        "\n",
        "\n",
        "def main():\n",
        "  start_bal = float(input('Enter your starting balance: '))\n",
        "  savings = bankaccount.BankAccount(start_bal)\n",
        "  \n",
        "  pay = float(input('How much were you paid this week? '))\n",
        "  print('I will deposit that into your account.')\n",
        "  savings.deposit(pay)\n",
        "  print(f'Your account balance is ${savings.get_balance():,.2f}.')\n",
        "  \n",
        "  cash = float(input(‘How much would you like to withdraw? '))\n",
        "  print('I will withdraw that from your account.')\n",
        "  savings.withdraw(cash)\n",
        "  print(f'Your account balance is ${savings.get_balance():,.2f}.')\n",
        "\n",
        "  print(savings)\n",
        "  \n",
        "if _ _name_ _ == '_ _main_ _':\n",
        "  main()"
      ],
      "execution_count": null,
      "outputs": []
    },
    {
      "cell_type": "markdown",
      "metadata": {
        "id": "JTO6hCu7DmPD",
        "colab_type": "text"
      },
      "source": [
        "# Instances of a class"
      ]
    },
    {
      "cell_type": "code",
      "metadata": {
        "id": "mZfwFk64DoNK",
        "colab_type": "code",
        "colab": {}
      },
      "source": [
        "# Create two objects from the Coin class.\n",
        "coin1 = coin.Coin()\n",
        "coin2 = coin.Coin()\n",
        "\n",
        "print('I have three coins with these sides up:')\n",
        "print(coin1.get_sideup())\n",
        "print(coin2.get_sideup())\n",
        "print()\n",
        "\n",
        "print('I am tossing the two coins coins ...')\n",
        "print()\n",
        "coin1.toss()\n",
        "coin2.toss()\n",
        "coin3.toss()\n",
        "\n",
        "print('Now here are the sides that are up:')\n",
        "print(coin1.get_sideup())\n",
        "print(coin2.get_sideup())\n",
        "print(coin3.get_sideup())\n",
        "print()"
      ],
      "execution_count": null,
      "outputs": []
    },
    {
      "cell_type": "code",
      "metadata": {
        "id": "oVY30gwhELfB",
        "colab_type": "code",
        "colab": {}
      },
      "source": [
        "#the cell phone class\n",
        "#using getters and setters\n",
        "\n",
        "class CellPhone:\n",
        "  \n",
        "  def __init__(self, manufact, model, price):\n",
        "    self.__manufact = manufact\n",
        "    self.__model = model\n",
        "    self.__retail_price = price\n",
        "    \n",
        "  def set_manufact(self, manufact):\n",
        "    self.__manufact = manufact\n",
        "    \n",
        "  def set_model(self, model):\n",
        "    self.__model = model\n",
        "    \n",
        "  def set_retail_price(self, price):\n",
        "    self.__retail_price = price\n",
        "    \n",
        "  def get_manufact(self):\n",
        "    return self.__manufact\n",
        "    \n",
        "  def get_model(self):\n",
        "    return self.__model\n",
        "    \n",
        "  def get_retail_price(self):\n",
        "    return self.__retail_price\n",
        "\n",
        "\n",
        "def main():\n",
        "  man = input('Enter the manufacturer: ')\n",
        "  mod = input('Enter the model number: ')\n",
        "  retail = float(input('Enter the retail price: '))\n",
        "  \n",
        "  phone = cellphone.CellPhone(man, mod, retail)\n",
        "  \n",
        "  print('Here is the data that you entered:')\n",
        "  print(f'Manufacturer: {phone.get_manufact()}')\n",
        "  print(f'Model Number: {phone.get_model()}')\n",
        "  print(f'Retail Price: ${phone.get_retail_price():,.2f}')\n",
        "  \n",
        "if __name__ == '__main__':\n",
        "  main()"
      ],
      "execution_count": null,
      "outputs": []
    },
    {
      "cell_type": "code",
      "metadata": {
        "id": "uXC4F-nnE8cZ",
        "colab_type": "code",
        "colab": {}
      },
      "source": [
        "#implementation of cell phone\n",
        "\n",
        "def main():\n",
        "  phones = make_list()\n",
        "  \n",
        "  print('Here is the data you entered:')\n",
        "  display_list(phones)\n",
        "  \n",
        "  \n",
        "def make_list():\n",
        "  phone_list = []\n",
        "  print('Enter data for five phones.')\n",
        "  for count in range(1, 6):\n",
        "    print('Phone number ' + str(count) + ':')\n",
        "    man = input('Enter the manufacturer: ')\n",
        "    mod = input('Enter the model number: ')\n",
        "    retail = float(input('Enter the retail price: '))\n",
        "    print()\n",
        "    \n",
        "    phone = cellphone.CellPhone(man, mod, retail)\n",
        "    phone_list.append(phone)\n",
        "    \n",
        "return phone_list\n",
        "\n",
        "\n",
        "def display_list(phone_list):\n",
        "  for item in phone_list:\n",
        "    print(item.get_manufact())\n",
        "    print(item.get_model())\n",
        "    print(item.get_retail_price())\n",
        "    print()\n",
        "    \n",
        "if _ _name_ _ == '_ _main_ _':\n",
        "  main()"
      ],
      "execution_count": null,
      "outputs": []
    },
    {
      "cell_type": "markdown",
      "metadata": {
        "id": "FPL0JsjUGHQ9",
        "colab_type": "text"
      },
      "source": [
        "## An Aside\n",
        "\n",
        "The pickle module helps to serialize objects. This means changing an object to a stream of bytes that can be saved to a file. The pickle module’s dump function serializes (pickles) an object and writes it to a file, and the load function retrieves an object from a file and deserializes (unpickles) it.  One can pickle (and unpickle) objects as well.\n",
        "\n",
        "We will not be discussing pickling"
      ]
    },
    {
      "cell_type": "markdown",
      "metadata": {
        "id": "MPbyIBLSGxI5",
        "colab_type": "text"
      },
      "source": [
        "# Worked Examples"
      ]
    },
    {
      "cell_type": "markdown",
      "metadata": {
        "id": "lbsXqDFAGzxI",
        "colab_type": "text"
      },
      "source": [
        "Write a class named Pet, which should have the following data attributes:\n",
        "\n",
        "* __name (for the name of a pet)\n",
        "* __animal_type (for the type of animal that a pet is. Example values are ‘Dog’, ‘Cat’, and ‘Bird’)\n",
        "* __age (for the pet’s age)\n",
        "\n",
        "The Pet class should have an init method that creates these attributes. It should also have the following methods:\n",
        "\n",
        "* set_name: This method assigns a value to the _ _name field.\n",
        "* set_animal_type: This method assigns a value to the _ _animal_type field.\n",
        "* set_age: This method assigns a value to the _ _age field.\n",
        "* get_name: This method returns the value of the _ _ name field.\n",
        "* get_animal_type: This method returns the value of the _ _animal_type field.\n",
        "* get_age: This method returns the value of the _ _age field.\n",
        "\n",
        "Once you have written the class, write a program that creates an object of the class and prompts the user to enter the name, type, and age of his or her pet. This data should be stored as the object’s attributes. Use the object’s accessor methods to retrieve the pet’s name, type, and age and display this data on the screen."
      ]
    },
    {
      "cell_type": "code",
      "metadata": {
        "id": "QW4hWGDgGzJJ",
        "colab_type": "code",
        "colab": {}
      },
      "source": [
        "class Pet:\n",
        "    def __init__(self, name, animal_type, age):\n",
        "        self.__name = name;\n",
        "        self.__animal_type = animal_type\n",
        "        self.__age = age\n",
        "    \n",
        "    def set_name(self, name):\n",
        "        self.__name = name\n",
        "    \n",
        "    def set_animal_type(self, animal_type):\n",
        "        self.__animal_type = animal_type\n",
        "    \n",
        "    def set_age(self, age):\n",
        "        self.__age = age\n",
        "    \n",
        "    def get_name(self):\n",
        "        return self.__name\n",
        "    \n",
        "    def get_animal_type(self):\n",
        "        return self.__animal_type\n",
        "    \n",
        "    def get_age(self):\n",
        "        return self.__age    \n",
        "\n",
        "\n",
        "# Exercise 10-1.py\n",
        "import pet\n",
        "\n",
        "def main():\n",
        "    # Local variables\n",
        "    pet_name = \"\"\n",
        "    pet_type = \"\"\n",
        "    pet_age = 0\n",
        "    \n",
        "    # Get pet data.\n",
        "    pet_name = input('Enter the name of the pet: ')\n",
        "    pet_type = input('Enter the type of animal: ')\n",
        "    pet_age = int(input('Enter the age of the pet: '))\n",
        "\n",
        "    # Create an instance of Pet.\n",
        "    mypet = pet.Pet(pet_name, pet_type, pet_age)\n",
        "\n",
        "    # Display the data that was entered.\n",
        "    print ('Here is the data that you entered: ')\n",
        "    print ('Pet name: ', mypet.get_name())\n",
        "    print ('Animal type: ', mypet.get_animal_type())\n",
        "    print ('Age of pet: ', mypet.get_age())\n",
        "\n",
        "# Call the main function.\n",
        "main()\n"
      ],
      "execution_count": null,
      "outputs": []
    },
    {
      "cell_type": "markdown",
      "metadata": {
        "id": "ywAFn9u8HkCG",
        "colab_type": "text"
      },
      "source": [
        "Write a class named Car that has the following data attributes:\n",
        "\n",
        "* _ _year_model (for the car’s year model)\n",
        "* _ _make (for the make of the car)\n",
        "* _ _speed (for the car’s current speed)\n",
        "\n",
        "The Car class should have an init method that accepts the car’s year model and make as arguments. These values should be assigned to the object’s _ _year_model and _ _make data attributes. It should also assign 0 to the _ _speed data attribute.\n",
        "\n",
        "The class should also have the following methods:\n",
        "\n",
        "* accelerate: The accelerate method should add 5 to the speed data attribute each time it is called.\n",
        "* brake: The brake method should subtract 5 from the speed data attribute each time it is called.\n",
        "* get_speed: The get_speed method should return the current speed.\n",
        "\n",
        "Next, design a program that creates a Car object then calls the accelerate method five times. After each call to the accelerate method, get the current speed of the car and display it. Then call the brake method five times. After each call to the brake method, get the current speed of the car and display it."
      ]
    },
    {
      "cell_type": "code",
      "metadata": {
        "id": "EVrog0nzHwMC",
        "colab_type": "code",
        "colab": {}
      },
      "source": [
        "class Car:\n",
        "    def __init__(self, year_model, make):\n",
        "        self.__year_model = year_model;\n",
        "        self.__make = make\n",
        "        self.__speed = 0\n",
        "        \n",
        "    def accelerate(self):\n",
        "        self.__speed += 5\n",
        "        \n",
        "    def brake(self):\n",
        "        self.__speed -=5\n",
        "        \n",
        "    def get_speed(self):\n",
        "        return self.__speed    \n",
        "\n",
        "\n",
        "# Exercise 10-2.py\n",
        "import car\n",
        "\n",
        "def main():\n",
        "    # Create an instance of Car.\n",
        "    my_car = car.Car('2008', 'Honda Accord')\n",
        "\n",
        "    # Accelerate 5 times.\n",
        "    print('car is accelerating: ')\n",
        "    for i in range(5):\n",
        "        my_car.accelerate()\n",
        "        print ('Current speed: ', my_car.get_speed())\n",
        "    print()\n",
        "    \n",
        "    # Brake 5 times.\n",
        "    print ('car is braking: ')\n",
        "    for i in range(5):\n",
        "        my_car.brake()\n",
        "        print ('Current speed: ', my_car.get_speed())\n",
        "\n",
        "# Call the main function.\n",
        "main()    "
      ],
      "execution_count": null,
      "outputs": []
    },
    {
      "cell_type": "markdown",
      "metadata": {
        "id": "eFT3x3b3H7qy",
        "colab_type": "text"
      },
      "source": [
        "> Design a class that holds the following personal data: name, address, age, and phone number. Write appropriate accessor and mutator methods. Also, write a program that creates three instances of the class. One instance should hold your information, and the other two should hold your friends’ or family members’ information."
      ]
    },
    {
      "cell_type": "code",
      "metadata": {
        "id": "ImVKcOviH8Sd",
        "colab_type": "code",
        "colab": {}
      },
      "source": [
        "class Information:\n",
        "    def __init__(self, name, address, age, phone_number):\n",
        "        self.__name = name\n",
        "        self.__address = address\n",
        "        self.__age = age\n",
        "        self.__phone_number = phone_number\n",
        "\n",
        "\n",
        "    def set_name(self, name):\n",
        "        self.__name = name\n",
        "\n",
        "    def set_address(self, address):\n",
        "        self.__address = address\n",
        "\n",
        "    def set_age(self, age):\n",
        "        self.__age = age\n",
        "\n",
        "    def set_phone_number(self, phone_number):\n",
        "        self.__phone_number = phone_number\n",
        "    \n",
        "    def get_name(self):\n",
        "        return self.__name\n",
        "        \n",
        "    def get_address(self):\n",
        "        return self.__address\n",
        "        \n",
        "    def get_age(self):\n",
        "        return self.__age\n",
        "\n",
        "    def get_phone_number(self):\n",
        "        return self.__phone_number \n",
        "# Exercise 10-3.py\n",
        "import info\n",
        "\n",
        "def main():\n",
        "    # Create three instances of Information\n",
        "    my_info = info.Information('John Doe','111 My Street', \\\n",
        "                               22, '555-555-1281')\n",
        "    mom_info = info.Information('Mom', '222 Any Street', \\\n",
        "                                52, '555-555-1234')\n",
        "    sister_info = info.Information('Jane Doe', '333 Her Street', \\\n",
        "                                   20, '555-555-4444')\n",
        "\n",
        "    print('My information:')\n",
        "    display_info(my_info)\n",
        "    print()\n",
        "    print(\"Mom's information:\")\n",
        "    display_info(mom_info)\n",
        "    print()\n",
        "    print (\"Sis's infomation:\")\n",
        "    display_info(sister_info)\n",
        "\n",
        "def display_info(info):\n",
        "    print('Name: ', info.get_name())\n",
        "    print('Address: ', info.get_address())\n",
        "    print('Age: ', info.get_age())\n",
        "    print('Phone Number: ', info.get_phone_number())\n",
        "\n",
        "# Call the main function.\n",
        "main()"
      ],
      "execution_count": null,
      "outputs": []
    }
  ]
}
