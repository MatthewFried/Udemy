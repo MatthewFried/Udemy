{
  "nbformat": 4,
  "nbformat_minor": 0,
  "metadata": {
    "colab": {
      "name": "1/2 Python_Intro.ipynb",
      "provenance": [],
      "authorship_tag": "ABX9TyOEM8+vBIKv1Zr5AjtzHcwY",
      "include_colab_link": true
    },
    "kernelspec": {
      "name": "python3",
      "display_name": "Python 3"
    }
  },
  "cells": [
    {
      "cell_type": "markdown",
      "metadata": {
        "id": "view-in-github",
        "colab_type": "text"
      },
      "source": [
        "<a href=\"https://colab.research.google.com/github/MatthewFried/Udemy/blob/master/1_2_Python_Intro.ipynb\" target=\"_parent\"><img src=\"https://colab.research.google.com/assets/colab-badge.svg\" alt=\"Open In Colab\"/></a>"
      ]
    },
    {
      "cell_type": "markdown",
      "metadata": {
        "id": "IE6qoxIOflPS",
        "colab_type": "text"
      },
      "source": [
        "# __Introduction to Python__"
      ]
    },
    {
      "cell_type": "code",
      "metadata": {
        "id": "eWSJuYVVQozL",
        "colab_type": "code",
        "colab": {
          "base_uri": "https://localhost:8080/",
          "height": 101
        },
        "outputId": "a7b1cd10-6411-475b-fda5-95350b660d32"
      },
      "source": [
        "    #gathering the user's name and age\n",
        "    name = input(\"What is your name? \") \n",
        "    age = int(input(\"What is your age? \"))\n",
        "\n",
        "    ageInSeconds = age * 365*24*60*60\n",
        "\n",
        "    print(\"\\nYour name is:\\t\" + name + \".\\nAnd your age in seconds is:\\t\" + str(ageInSeconds))"
      ],
      "execution_count": null,
      "outputs": [
        {
          "output_type": "stream",
          "text": [
            "What is your name? Bob\n",
            "What is your age? 11\n",
            "\n",
            "Your name is:\tBob.\n",
            "And your age in seconds is:\t346896000\n"
          ],
          "name": "stdout"
        }
      ]
    },
    {
      "cell_type": "markdown",
      "metadata": {
        "id": "Trfa8h2adOvC",
        "colab_type": "text"
      },
      "source": [
        "##**Getting Info**##\n",
        "\n",
        "The below program explains how to use a float"
      ]
    },
    {
      "cell_type": "code",
      "metadata": {
        "id": "3t5Zm0FZcwKy",
        "colab_type": "code",
        "colab": {
          "base_uri": "https://localhost:8080/",
          "height": 134
        },
        "outputId": "e96fdad8-b4d2-4805-84b0-dfd47311749e"
      },
      "source": [
        "name = input('What is your name? ')\n",
        "age = int(input('What is your age? '))\n",
        "income = float(input('What is your income? '))\n",
        "\n",
        "# Display the data.\n",
        "print('Here is the data you entered:')\n",
        "print('Name:', name)\n",
        "print('Age:', age)\n",
        "print('Income:', income)"
      ],
      "execution_count": null,
      "outputs": [
        {
          "output_type": "stream",
          "text": [
            "What is your name? Bob\n",
            "What is your age? 90\n",
            "What is your income? 11.92\n",
            "Here is the data you entered:\n",
            "Name: Bob\n",
            "Age: 90\n",
            "Income: 11.92\n"
          ],
          "name": "stdout"
        }
      ]
    },
    {
      "cell_type": "markdown",
      "metadata": {
        "id": "rKkgwC4VdhCw",
        "colab_type": "text"
      },
      "source": [
        "###**Doing Calculations**###\n",
        "\n",
        "Here we show some basic mathematical calculations"
      ]
    },
    {
      "cell_type": "code",
      "metadata": {
        "id": "6hCYnWnZdnbr",
        "colab_type": "code",
        "colab": {
          "base_uri": "https://localhost:8080/",
          "height": 50
        },
        "outputId": "5059df3e-a47f-4438-9063-05a91758a474"
      },
      "source": [
        "#Give a 30% discount\n",
        "original_price = float(input(\"Enter the item's original price: \"))\n",
        "\n",
        "print('The sale price is', original_price-original_price*.3)"
      ],
      "execution_count": null,
      "outputs": [
        {
          "output_type": "stream",
          "text": [
            "Enter the item's original price: 21.20\n",
            "The sale price is 14.84\n"
          ],
          "name": "stdout"
        }
      ]
    },
    {
      "cell_type": "markdown",
      "metadata": {
        "id": "1vItdBsvd03Z",
        "colab_type": "text"
      },
      "source": [
        "###**Floating Point and Integer Division**###\n",
        "\n",
        "There are two different ways to divided. Make sure you know which you mean."
      ]
    },
    {
      "cell_type": "code",
      "metadata": {
        "id": "P_ZbLPcOd7v6",
        "colab_type": "code",
        "colab": {
          "base_uri": "https://localhost:8080/",
          "height": 67
        },
        "outputId": "6d3e755c-6fea-479f-c5a0-41bc443c9333"
      },
      "source": [
        "#regular division\n",
        "print(5/2)\n",
        "\n",
        "#integer divsion\n",
        "print(5//2)\n",
        "\n",
        "#mod\n",
        "print(5%2)"
      ],
      "execution_count": null,
      "outputs": [
        {
          "output_type": "stream",
          "text": [
            "2.5\n",
            "2\n",
            "1\n"
          ],
          "name": "stdout"
        }
      ]
    },
    {
      "cell_type": "code",
      "metadata": {
        "id": "v7RO0wLzpJ0y",
        "colab_type": "code",
        "colab": {
          "base_uri": "https://localhost:8080/",
          "height": 34
        },
        "outputId": "4efc757a-a78c-4ba6-d434-5e6bc191e470"
      },
      "source": [
        "#power\n",
        "print(5**2)"
      ],
      "execution_count": null,
      "outputs": [
        {
          "output_type": "stream",
          "text": [
            "25\n"
          ],
          "name": "stdout"
        }
      ]
    },
    {
      "cell_type": "code",
      "metadata": {
        "id": "pSHIXQCbeKJl",
        "colab_type": "code",
        "colab": {
          "base_uri": "https://localhost:8080/",
          "height": 34
        },
        "outputId": "8bbf8cc6-120d-4447-88cc-95fdcbdba89e"
      },
      "source": [
        "test1 = 94\n",
        "test2 = 96\n",
        "test3 = 81\n",
        "average = (test1 + test2 + test3) / 3.0\n",
        "print(average)"
      ],
      "execution_count": null,
      "outputs": [
        {
          "output_type": "stream",
          "text": [
            "90.33333333333333\n"
          ],
          "name": "stdout"
        }
      ]
    },
    {
      "cell_type": "markdown",
      "metadata": {
        "id": "rwfvDKzwfWpO",
        "colab_type": "text"
      },
      "source": [
        "##**Put in a Picture**##\n",
        "\n",
        "https://drive.google.com/file/d/1C1Tk41EKAwgD7OcGJC0ZNhcmRoea881Q/view?usp=sharing\n",
        "\n",
        "![Data](https://drive.google.com/uc?export=view&id=1C1Tk41EKAwgD7OcGJC0ZNhcmRoea881Q)"
      ]
    },
    {
      "cell_type": "code",
      "metadata": {
        "id": "V5ESiMU-kA_H",
        "colab_type": "code",
        "colab": {}
      },
      "source": [
        "#one long line\n",
        "x = y = z = 10\n",
        "\n",
        "#assign different types at once\n",
        "a,b,c = 1,2.4,\"bency\""
      ],
      "execution_count": null,
      "outputs": []
    },
    {
      "cell_type": "code",
      "metadata": {
        "id": "xXH5ePPRkWah",
        "colab_type": "code",
        "colab": {
          "base_uri": "https://localhost:8080/",
          "height": 34
        },
        "outputId": "19ab46c7-fd99-40a1-a1f2-ade263bfd5d1"
      },
      "source": [
        "#complex numbers\n",
        "x = 1 + 3j\n",
        "y = 2 + 4j\n",
        "print(x+y)"
      ],
      "execution_count": null,
      "outputs": [
        {
          "output_type": "stream",
          "text": [
            "(3+7j)\n"
          ],
          "name": "stdout"
        }
      ]
    },
    {
      "cell_type": "code",
      "metadata": {
        "id": "sMWBUdWLkkxq",
        "colab_type": "code",
        "colab": {
          "base_uri": "https://localhost:8080/",
          "height": 34
        },
        "outputId": "fc6f9bce-6004-4339-b858-6ed5376b72d7"
      },
      "source": [
        "#scientific notation\n",
        "x = 3e-10\n",
        "print(x)"
      ],
      "execution_count": null,
      "outputs": [
        {
          "output_type": "stream",
          "text": [
            "3e-10\n"
          ],
          "name": "stdout"
        }
      ]
    },
    {
      "cell_type": "markdown",
      "metadata": {
        "id": "i7sIP8JMqqX0",
        "colab_type": "text"
      },
      "source": [
        "##**Present Value**##\n",
        "\n",
        "Here is an example of using Python to get the present value of an investment. We ask the user for the info and then do the math, based on the known formula.\n",
        "\n",
        "PV = FV / (1 + r)<sup>years</sup>"
      ]
    },
    {
      "cell_type": "code",
      "metadata": {
        "id": "tSpIidp2qTMz",
        "colab_type": "code",
        "colab": {
          "base_uri": "https://localhost:8080/",
          "height": 84
        },
        "outputId": "058f04f4-d2af-4bd9-97a6-d255458886f9"
      },
      "source": [
        "future_value = float(input('Enter the desired future value: '))\n",
        "rate = float(input('Enter the annual interest rate: '))\n",
        "years = int(input('Enter the number of years the money will grow: '))\n",
        "\n",
        "present_value = future_value / (1.0 + rate)**years\n",
        "\n",
        "print('You will need to deposit this amount:', present_value)"
      ],
      "execution_count": null,
      "outputs": [
        {
          "output_type": "stream",
          "text": [
            "Enter the desired future value: 10000\n",
            "Enter the annual interest rate: .05\n",
            "Enter the number of years the money will grow: 16\n",
            "You will need to deposit this amount: 4581.115219914001\n"
          ],
          "name": "stdout"
        }
      ]
    },
    {
      "cell_type": "markdown",
      "metadata": {
        "id": "vdJGyutJelu-",
        "colab_type": "text"
      },
      "source": [
        "##**String Concatenation and Printing**##\n",
        "\n",
        "* We use the plus (+) symbol for string concatenation. \n",
        "* The print function has several important variations"
      ]
    },
    {
      "cell_type": "code",
      "metadata": {
        "id": "iseDLLxKevKg",
        "colab_type": "code",
        "colab": {
          "base_uri": "https://localhost:8080/",
          "height": 33
        },
        "outputId": "df390b22-8034-4319-ae4f-93ced869e464"
      },
      "source": [
        "a = \"hot\"\n",
        "b = \"dog\"\n",
        "print(a+b)"
      ],
      "execution_count": null,
      "outputs": [
        {
          "output_type": "stream",
          "text": [
            "hotdog\n"
          ],
          "name": "stdout"
        }
      ]
    },
    {
      "cell_type": "code",
      "metadata": {
        "id": "FbUZX1YYes6Z",
        "colab_type": "code",
        "colab": {
          "base_uri": "https://localhost:8080/",
          "height": 33
        },
        "outputId": "2c632d9a-eea6-4155-fd29-7ee434977381"
      },
      "source": [
        " #the print function has several options to end it with\n",
        " print('One', end=' | ')\n",
        " print('Two', end=' | ')\n",
        " print('Three')"
      ],
      "execution_count": null,
      "outputs": [
        {
          "output_type": "stream",
          "text": [
            "One | Two | Three\n"
          ],
          "name": "stdout"
        }
      ]
    },
    {
      "cell_type": "code",
      "metadata": {
        "id": "YP0q5wXxe-R0",
        "colab_type": "code",
        "colab": {
          "base_uri": "https://localhost:8080/",
          "height": 50
        },
        "outputId": "7163f249-0f43-4a1f-c89b-ac8a3ecd979a"
      },
      "source": [
        "#here is a separator\n",
        "print('One', 'Two', 'Three', sep=' | ')\n",
        "print('One', 'Two', 'Three', sep='--*--')"
      ],
      "execution_count": null,
      "outputs": [
        {
          "output_type": "stream",
          "text": [
            "One | Two | Three\n",
            "One--*--Two--*--Three\n"
          ],
          "name": "stdout"
        }
      ]
    },
    {
      "cell_type": "code",
      "metadata": {
        "id": "wJOhcdJPfZGq",
        "colab_type": "code",
        "colab": {
          "base_uri": "https://localhost:8080/",
          "height": 33
        },
        "outputId": "a0a694c3-7230-4313-96a4-47a4d4e26fb0"
      },
      "source": [
        "#use the f to refer to a variable\n",
        "name = 'Matthew'\n",
        "print(f'Hello there {name}. It\\'s a pleasure to meet you {name}.')"
      ],
      "execution_count": null,
      "outputs": [
        {
          "output_type": "stream",
          "text": [
            "Hello there Matthew. It's a pleasure to meet you Matthew.\n"
          ],
          "name": "stdout"
        }
      ]
    },
    {
      "cell_type": "code",
      "metadata": {
        "id": "H_dZllGlfwc8",
        "colab_type": "code",
        "colab": {
          "base_uri": "https://localhost:8080/",
          "height": 69
        },
        "outputId": "40517ac0-2312-451a-ae89-87638575cab0"
      },
      "source": [
        "#you can do some math as well\n",
        "discount = .3\n",
        "value = float(input(\"How much is the item?\\n\"))\n",
        "print(f'Your discounted value is {value*(1-discount)}.')"
      ],
      "execution_count": null,
      "outputs": [
        {
          "output_type": "stream",
          "text": [
            "How much is the item?\n",
            "31\n",
            "Your discount is 21.7.\n"
          ],
          "name": "stdout"
        }
      ]
    },
    {
      "cell_type": "code",
      "metadata": {
        "id": "XDYp7HZ1gRDz",
        "colab_type": "code",
        "colab": {
          "base_uri": "https://localhost:8080/",
          "height": 34
        },
        "outputId": "d5794741-6bae-44f3-9486-3c5be6b9de99"
      },
      "source": [
        "#finding a monthly payment with some rounding\n",
        "amount_due = 50000.0\n",
        "monthly_payment = amount_due / 12.0\n",
        "\n",
        "#here we use rounding and comma separators\n",
        "print(f'The monthly payment is ${monthly_payment:,.2f}.')"
      ],
      "execution_count": null,
      "outputs": [
        {
          "output_type": "stream",
          "text": [
            "The monthly payment is $4,166.67.\n"
          ],
          "name": "stdout"
        }
      ]
    },
    {
      "cell_type": "code",
      "metadata": {
        "id": "uzKFGBYagZII",
        "colab_type": "code",
        "colab": {
          "base_uri": "https://localhost:8080/",
          "height": 34
        },
        "outputId": "7c0fa797-1f2b-4cf6-a0f2-974ef986459e"
      },
      "source": [
        "#do some rounding\n",
        "e = 2.7182818284590452353602874713527\n",
        "print(f'{e:.3f}')"
      ],
      "execution_count": null,
      "outputs": [
        {
          "output_type": "stream",
          "text": [
            "2.718\n"
          ],
          "name": "stdout"
        }
      ]
    },
    {
      "cell_type": "code",
      "metadata": {
        "id": "K6_T5Ydhgy6U",
        "colab_type": "code",
        "colab": {
          "base_uri": "https://localhost:8080/",
          "height": 69
        },
        "outputId": "d39f1a82-b857-4d54-afd8-e81591b778bd"
      },
      "source": [
        "#display as a percentage\n",
        "total_loan = float(input(\"What was your total loan? \"))\n",
        "paid_off = float(input(\"How much have you paid off already? \"))\n",
        "\n",
        "percent_paid = (total_loan-paid_off)/total_loan\n",
        "#show to 2 decimal spots\n",
        "print(f'What\\'s left: {percent_paid:.2%}.')"
      ],
      "execution_count": null,
      "outputs": [
        {
          "output_type": "stream",
          "text": [
            "What was your total loan? 252\n",
            "How much have you paid off already? 52\n",
            "What's left: 79.37%.\n"
          ],
          "name": "stdout"
        }
      ]
    },
    {
      "cell_type": "code",
      "metadata": {
        "id": "O9JRj5ZPhjrU",
        "colab_type": "code",
        "colab": {
          "base_uri": "https://localhost:8080/",
          "height": 34
        },
        "outputId": "a254765d-e6a7-4e8d-95e0-1db66a4997ca"
      },
      "source": [
        "#scientific notation\n",
        "number = 2.7182818284590452353602874713527\n",
        "print(f'{number:e}')"
      ],
      "execution_count": null,
      "outputs": [
        {
          "output_type": "stream",
          "text": [
            "2.718282e+00\n"
          ],
          "name": "stdout"
        }
      ]
    },
    {
      "cell_type": "code",
      "metadata": {
        "id": "59q6TunkhpX2",
        "colab_type": "code",
        "colab": {}
      },
      "source": [
        "#named constants\n",
        "INTEREST_RATE = 0.075\n",
        "amount = balance * INTEREST_RATE"
      ],
      "execution_count": null,
      "outputs": []
    },
    {
      "cell_type": "markdown",
      "metadata": {
        "id": "q6ujtRK-l-qz",
        "colab_type": "text"
      },
      "source": [
        "###**In Python...**###\n",
        "\n",
        "Assume there are always several other ways to do the same thing."
      ]
    },
    {
      "cell_type": "code",
      "metadata": {
        "id": "tjMtVgL3mGNo",
        "colab_type": "code",
        "colab": {
          "base_uri": "https://localhost:8080/",
          "height": 54
        },
        "outputId": "01723c0c-3611-4274-b54a-e3e30e7590e1"
      },
      "source": [
        "print('Here is another example of doing the above. This position is the first spot. It is: {0}. We can use it as many times as we like. See here: {0}. \\\n",
        "There are other holders too, such as this: {1}. And there are even names you can use: {other}.'\n",
        "     .format('FIRST SPOT', 'SECOND SPOT', other ='OTHER')) "
      ],
      "execution_count": null,
      "outputs": [
        {
          "output_type": "stream",
          "text": [
            "Here is another example of doing the above. This position is the first spot. It is:  FIRST SPOT. We can use it as many times as we like. See here: FIRST SPOT. There are other holders too, such as this: SECOND SPOT. And there are even names you can use: OTHER.\n"
          ],
          "name": "stdout"
        }
      ]
    },
    {
      "cell_type": "code",
      "metadata": {
        "id": "b036T_BXmrd3",
        "colab_type": "code",
        "colab": {
          "base_uri": "https://localhost:8080/",
          "height": 52
        },
        "outputId": "0a4f06b1-27d7-48c9-9e2e-eef167de1cb2"
      },
      "source": [
        "print(\"It can get really confusing though :{0:25d}. \\nMore info:{1:20.3f}\".format(123456, 00.5942)) "
      ],
      "execution_count": null,
      "outputs": [
        {
          "output_type": "stream",
          "text": [
            "It can get really confusing though :                   123456. \n",
            "More info:               0.594\n"
          ],
          "name": "stdout"
        }
      ]
    },
    {
      "cell_type": "markdown",
      "metadata": {
        "id": "cBRAH6cQjQm0",
        "colab_type": "text"
      },
      "source": [
        "##**Practice Questions**##\n",
        "\n",
        "1. A customer in a store is purchasing five items. Write a program that asks for the price of each item, then displays the subtotal of the sale, the amount of sales tax, and the total. Assume the sales tax is 7 percent."
      ]
    },
    {
      "cell_type": "code",
      "metadata": {
        "id": "GY_vEPQKjUsE",
        "colab_type": "code",
        "colab": {}
      },
      "source": [
        "# Constant for the sales tax rate.\n",
        "TAX_RATE = 0.07\n",
        "\n",
        "# Get the price of each item.\n",
        "item1 = float(input(\"Enter the price of item #1: \"))\n",
        "item2 = float(input(\"Enter the price of item #2: \"))\n",
        "item3 = float(input(\"Enter the price of item #3: \"))\n",
        "item4 = float(input(\"Enter the price of item #4: \"))\n",
        "item5 = float(input(\"Enter the price of item #5: \"))\n",
        "\n",
        "# Calculate the subtotal.\n",
        "subtotal = item1 + item2 + item3 + item4 + item5\n",
        "\n",
        "# Calculate the sales tax.\n",
        "tax = subtotal * TAX_RATE\n",
        "\n",
        "# Calculate the total.\n",
        "total = subtotal + tax\n",
        "\n",
        "# Print the values.\n",
        "print (\"Subtotal: \", format(subtotal, '.2f'))\n",
        "print (\"Sales Tax: \", format(tax, '.2f'))\n",
        "print (\"Total: \", format(total, '.2f'))\n"
      ],
      "execution_count": null,
      "outputs": []
    },
    {
      "cell_type": "markdown",
      "metadata": {
        "id": "mHbBtB_ijq9o",
        "colab_type": "text"
      },
      "source": [
        "2. Write a program that will ask the user to enter the amount of a purchase. The program should then compute the state and county sales tax. Assume the state sales tax is 5 percent and the county sales tax is 2.5 percent. The program should display the amount of the total of the sale (which is the sum of the amount of purchase plus the total sales tax). Hint: Use the value 0.025 to represent 2.5 percent, and 0.05 to represent 5 percent."
      ]
    },
    {
      "cell_type": "code",
      "metadata": {
        "id": "56ttFnDGjsZQ",
        "colab_type": "code",
        "colab": {}
      },
      "source": [
        "# Variable declarations\n",
        "purchase = totalTax = totalSale = 0.0\n",
        "\n",
        "# Constants for the state and county tax rates\n",
        "STATE_TAX_RATE = 0.05\n",
        "COUNTY_TAX_RATE = 0.025\n",
        "\n",
        "# Get the amount of the purchase.\n",
        "purchase = float(input(\"Enter the amount of the purchase: \"))\n",
        "\n",
        "# Calculate the total tax.\n",
        "totalTax = (purchase * STATE_TAX_RATE) + (purchase * COUNTY_TAX_RATE)\n",
        "\n",
        "# Calculate the total of the sale.\n",
        "totalSale = purchase + totalTax\n",
        "\n",
        "# Print information about the sale.\n",
        "print (\"Sale Total:\", format(totalSale, '.2f'))\n"
      ],
      "execution_count": null,
      "outputs": []
    },
    {
      "cell_type": "code",
      "metadata": {
        "id": "zOoXuMALkZLB",
        "colab_type": "code",
        "colab": {
          "base_uri": "https://localhost:8080/",
          "height": 104
        },
        "outputId": "b83d32cc-b37d-4e18-f56e-a0a92914f32d"
      },
      "source": [
        "# This program calculates the ending principal in a bank\n",
        "# account after compounding the interest.\n",
        "\n",
        "p = float(input('Enter the starting principal: '))\n",
        "\n",
        "r = float(input('Enter the annual interest rate: '))\n",
        "\n",
        "print('How many times per year is the interest compounded? ', end='')\n",
        "n = int(input())\n",
        "\n",
        "print('For how many years will the account earn interest? ', end='')\n",
        "t = int(input())\n",
        "\n",
        "# Adjust the interest rate.\n",
        "r = r / 100\n",
        "\n",
        "# Calculate the ending balance.\n",
        "a = p * (1 + float(r) / n) ** (n * t)\n",
        "\n",
        "# Display the ending balance.\n",
        "print('At the end of', t, 'years you will have $', format(a, ',.2f'))\n"
      ],
      "execution_count": null,
      "outputs": [
        {
          "output_type": "stream",
          "text": [
            "Enter the starting principal:  100\n",
            "Enter the annual interest rate: 7\n",
            "How many times per year is the interest compounded? 12\n",
            "For how many years will the account earn interest? 30\n",
            "At the end of 30 years you will have $ 811.65\n"
          ],
          "name": "stdout"
        }
      ]
    }
  ]
}
