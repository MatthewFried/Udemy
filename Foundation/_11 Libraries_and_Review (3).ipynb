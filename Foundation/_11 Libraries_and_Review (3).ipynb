{
  "nbformat": 4,
  "nbformat_minor": 0,
  "metadata": {
    "colab": {
      "name": "Practice Problems, Regex, Simple ML Examples.ipynb",
      "provenance": [],
      "authorship_tag": "ABX9TyNX27+0oSNUNbSaYOtMl1hI",
      "include_colab_link": true
    },
    "kernelspec": {
      "name": "python3",
      "display_name": "Python 3"
    }
  },
  "cells": [
    {
      "cell_type": "markdown",
      "metadata": {
        "id": "view-in-github",
        "colab_type": "text"
      },
      "source": [
        "<a href=\"https://colab.research.google.com/github/MatthewFried/Udemy/blob/master/Foundation/_11%20Libraries_and_Review%20(3).ipynb\" target=\"_parent\"><img src=\"https://colab.research.google.com/assets/colab-badge.svg\" alt=\"Open In Colab\"/></a>"
      ]
    },
    {
      "cell_type": "markdown",
      "metadata": {
        "id": "XHCmJ35ZfCKB"
      },
      "source": [
        "#**Problems and Solutions**\r\n",
        "from the book: Python One-Liners"
      ]
    },
    {
      "cell_type": "code",
      "metadata": {
        "colab": {
          "base_uri": "https://localhost:8080/"
        },
        "id": "LjFfTjvO71gR",
        "outputId": "130664e0-3eb2-4299-eebf-96c3fa9df6ad"
      },
      "source": [
        "#Find the top earner\r\n",
        "employees = {'Alice' : 100000,\r\n",
        "             'Bob' : 99817,\r\n",
        "             'Carol' : 122908,\r\n",
        "             'Frank' : 88123,\r\n",
        "             'Eve' : 93121}\r\n",
        "\r\n",
        "\r\n",
        "top_earners = []\r\n",
        "for key, val in employees.items():\r\n",
        "    if val >= 100000:\r\n",
        "        top_earners.append((key,val))\r\n",
        "\r\n",
        "print(top_earners)"
      ],
      "execution_count": null,
      "outputs": [
        {
          "output_type": "stream",
          "text": [
            "[('Alice', 100000), ('Carol', 122908)]\n"
          ],
          "name": "stdout"
        }
      ]
    },
    {
      "cell_type": "code",
      "metadata": {
        "colab": {
          "base_uri": "https://localhost:8080/"
        },
        "id": "QvXNYZ7O9967",
        "outputId": "95f8282c-e635-4f97-9391-f2df3cfdbdba"
      },
      "source": [
        "#Find all words in a text that are greater than 6 letters and store in a list\r\n",
        "text = '''\r\n",
        "Call me Ishmael. Some years ago - never mind how long precisely - having\r\n",
        "little or no money in my purse, and nothing particular to interest me\r\n",
        "on shore, I thought I would sail about a little and see the watery part\r\n",
        "of the world. It is a way I have of driving off the spleen, and regulating\r\n",
        "the circulation. - Moby Dick'''\r\n",
        "\r\n",
        "# One-Liner\r\n",
        "w = [[x for x in line.split() if len(x)>6] for line in text.split('\\n')]\r\n",
        "\r\n",
        "\r\n",
        "# Result\r\n",
        "print(w)"
      ],
      "execution_count": null,
      "outputs": [
        {
          "output_type": "stream",
          "text": [
            "[[], ['Ishmael.', 'precisely', 'having'], ['little', 'purse,', 'nothing', 'particular', 'interest'], ['shore,', 'thought', 'little', 'watery'], ['world.', 'driving', 'spleen,', 'regulating'], ['circulation.']]\n"
          ],
          "name": "stdout"
        }
      ]
    },
    {
      "cell_type": "code",
      "metadata": {
        "colab": {
          "base_uri": "https://localhost:8080/"
        },
        "id": "RtknxC3V-kJL",
        "outputId": "40b61a13-6df6-47fc-c0d9-e2b337ff36c4"
      },
      "source": [
        "#use map and lambda to look at each sentence in the text and designate it as true if the word anonymous appears in it\r\n",
        "txt = ['lambda functions are anonymous functions.',\r\n",
        "       'anonymous functions dont have a name.',\r\n",
        "       'functions are objects in Python.']\r\n",
        "\r\n",
        "\r\n",
        "## One-Liner\r\n",
        "mark = map(lambda s: (True, s) if 'anonymous' in s else (False, s), txt)\r\n",
        "\r\n",
        "\r\n",
        "## Result\r\n",
        "print(list(mark))"
      ],
      "execution_count": null,
      "outputs": [
        {
          "output_type": "stream",
          "text": [
            "[(True, 'lambda functions are anonymous functions.'), (True, 'anonymous functions dont have a name.'), (False, 'functions are objects in Python.')]\n"
          ],
          "name": "stdout"
        }
      ]
    },
    {
      "cell_type": "code",
      "metadata": {
        "colab": {
          "base_uri": "https://localhost:8080/"
        },
        "id": "0Ec-5Ofj_xZT",
        "outputId": "7c9f1e37-d6cf-4657-c24d-c06fc0014e93"
      },
      "source": [
        "## Data (daily stock prices ($))\r\n",
        "#create a new data set that includes every other data point\r\n",
        "price = [[9.9, 9.8, 9.8, 9.4, 9.5, 9.7],\r\n",
        "         [9.5, 9.4, 9.4, 9.3, 9.2, 9.1],\r\n",
        "         [8.4, 7.9, 7.9, 8.1, 8.0, 8.0],\r\n",
        "         [7.1, 5.9, 4.8, 4.8, 4.7, 3.9]]\r\n",
        "\r\n",
        "\r\n",
        "## One-Liner\r\n",
        "sample = [line[::2] for line in price]\r\n",
        "\r\n",
        "\r\n",
        "## Result\r\n",
        "print(sample)"
      ],
      "execution_count": null,
      "outputs": [
        {
          "output_type": "stream",
          "text": [
            "[[9.9, 9.8, 9.5], [9.5, 9.4, 9.2], [8.4, 7.9, 8.0], [7.1, 4.8, 4.7]]\n"
          ],
          "name": "stdout"
        }
      ]
    },
    {
      "cell_type": "code",
      "metadata": {
        "colab": {
          "base_uri": "https://localhost:8080/",
          "height": 265
        },
        "id": "1gAONyMLAdMR",
        "outputId": "55f1a546-a170-4400-ecbd-863d9e8a7774"
      },
      "source": [
        "#Take the data and remove the first and last two values\r\n",
        "#Create ten copies of the data stored as one list\r\n",
        "#Use plt.plot to plot it\r\n",
        "import matplotlib.pyplot as plt\r\n",
        "\r\n",
        "cardiac_cycle = [62, 60, 62, 64, 68, 77, 80, 76, 71, 66, 61, 60, 62]\r\n",
        "\r\n",
        "expected_cycles = cardiac_cycle[1:-2] * 10\r\n",
        "plt.plot(expected_cycles)\r\n",
        "plt.show()"
      ],
      "execution_count": null,
      "outputs": [
        {
          "output_type": "display_data",
          "data": {
            "image/png": "[encoded data removed]",
            "text/plain": [
              "<Figure size 432x288 with 1 Axes>"
            ]
          },
          "metadata": {
            "tags": [],
            "needs_background": "light"
          }
        }
      ]
    },
    {
      "cell_type": "code",
      "metadata": {
        "colab": {
          "base_uri": "https://localhost:8080/"
        },
        "id": "5tbhGIDpBHht",
        "outputId": "5cbe79ce-1541-4148-e095-7cea17427654"
      },
      "source": [
        "#create a list of any company who pays its employees less than $9 an hour\r\n",
        "companies = {\r\n",
        "    'CoolCompany' : {'Alice' : 33, 'Bob' : 28, 'Frank' : 29},\r\n",
        "    'CheapCompany' : {'Ann' : 4, 'Lee' : 9, 'Chrisi' : 7},\r\n",
        "    'SosoCompany' : {'Esther' : 38, 'Cole' : 8, 'Paris' : 18}}\r\n",
        "\r\n",
        "\r\n",
        "## One-Liner\r\n",
        "illegal = [x for x in companies if any(y<9 for y in companies[x].values())]\r\n",
        "\r\n",
        "\r\n",
        "## Result\r\n",
        "print(illegal)"
      ],
      "execution_count": null,
      "outputs": [
        {
          "output_type": "stream",
          "text": [
            "['CheapCompany', 'SosoCompany']\n"
          ],
          "name": "stdout"
        }
      ]
    },
    {
      "cell_type": "code",
      "metadata": {
        "colab": {
          "base_uri": "https://localhost:8080/"
        },
        "id": "y7It8Vb3BtEc",
        "outputId": "57ed0df3-557d-47a0-bb8b-22d53c8d3c7a"
      },
      "source": [
        "#zip and unzip the following two lists\r\n",
        "lst_1 = [1, 2, 3]\r\n",
        "lst_2 = [4, 5, 6]\r\n",
        "\r\n",
        "# Zip two lists together\r\n",
        "zipped = list(zip(lst_1, lst_2))\r\n",
        "print(zipped)\r\n",
        "# [(1, 4), (2, 5), (3, 6)]\r\n",
        "\r\n",
        "# Unzip to lists again\r\n",
        "lst_1_new, lst_2_new = zip(*zipped)\r\n",
        "print(list(lst_1_new))\r\n",
        "print(list(lst_2_new))"
      ],
      "execution_count": null,
      "outputs": [
        {
          "output_type": "stream",
          "text": [
            "[(1, 4), (2, 5), (3, 6)]\n",
            "[1, 2, 3]\n",
            "[4, 5, 6]\n"
          ],
          "name": "stdout"
        }
      ]
    },
    {
      "cell_type": "code",
      "metadata": {
        "colab": {
          "base_uri": "https://localhost:8080/"
        },
        "id": "b5VciTDACGT1",
        "outputId": "c9385e54-6548-48fe-b27e-bed0bb8bef44"
      },
      "source": [
        "#given the matrices a and b. Add, subtract, multiply, and divide a by b\r\n",
        "import numpy as np\r\n",
        "\r\n",
        "a = np.array([[1, 0, 0],\r\n",
        "              [1, 1, 1],\r\n",
        "              [2, 0, 0]])\r\n",
        "\r\n",
        "b = np.array([[1, 1, 1],\r\n",
        "              [1, 1, 2],\r\n",
        "              [1, 1, 2]])\r\n",
        "\r\n",
        "print(a + b,\"\\n\")\r\n",
        "print(a - b,\"\\n\")\r\n",
        "print(a * b,\"\\n\")\r\n",
        "print(a / b,\"\\n\")\r\n",
        "print(np.max(a),\"\\n\")\r\n",
        "print(np.min(a),\"\\n\")\r\n",
        "print(np.average(a),\"\\n\")"
      ],
      "execution_count": null,
      "outputs": [
        {
          "output_type": "stream",
          "text": [
            "[[2 1 1]\n",
            " [2 2 3]\n",
            " [3 1 2]] \n",
            "\n",
            "[[ 0 -1 -1]\n",
            " [ 0  0 -1]\n",
            " [ 1 -1 -2]] \n",
            "\n",
            "[[1 0 0]\n",
            " [1 1 2]\n",
            " [2 0 0]] \n",
            "\n",
            "[[1.  0.  0. ]\n",
            " [1.  1.  0.5]\n",
            " [2.  0.  0. ]] \n",
            "\n",
            "2 \n",
            "\n",
            "0 \n",
            "\n",
            "0.6666666666666666 \n",
            "\n"
          ],
          "name": "stdout"
        }
      ]
    },
    {
      "cell_type": "code",
      "metadata": {
        "colab": {
          "base_uri": "https://localhost:8080/"
        },
        "id": "pxb3Wc4lEPDZ",
        "outputId": "049dad90-2363-4151-f702-2978dc68e5f8"
      },
      "source": [
        "## Data: yearly salary in ($1000) [2017, 2018, 2019]\r\n",
        "#Find the max salary after taxes are applied\r\n",
        "alice = [99, 101, 103]\r\n",
        "bob = [110, 108, 105]\r\n",
        "tim = [90, 88, 85]\r\n",
        "\r\n",
        "salaries = np.array([alice, bob, tim])\r\n",
        "taxation = np.array([[0.2, 0.25, 0.22],\r\n",
        "                     [0.4, 0.5, 0.5],\r\n",
        "                     [0.1, 0.2, 0.1]])\r\n",
        "\r\n",
        "\r\n",
        "## One-liner\r\n",
        "max_income = np.max(salaries - salaries * taxation)\r\n",
        "               \r\n",
        "\r\n",
        "\r\n",
        "## Result\r\n",
        "print(max_income)"
      ],
      "execution_count": null,
      "outputs": [
        {
          "output_type": "stream",
          "text": [
            "81.0\n"
          ],
          "name": "stdout"
        }
      ]
    },
    {
      "cell_type": "code",
      "metadata": {
        "id": "Bw6DU1AfGokW"
      },
      "source": [
        "#Increase the salary for only data scientists every other year\r\n",
        "# Data: yearly salary in ($1000) [2025, 2026, 2027]\r\n",
        "dataScientist =     [130, 132, 137]\r\n",
        "productManager =    [127, 140, 145]\r\n",
        "designer =          [118, 118, 127]\r\n",
        "softwareEngineer =  [129, 131, 137]\r\n",
        "\r\n",
        "employees = np.array([dataScientist,\r\n",
        "                      productManager,\r\n",
        "                      designer,\r\n",
        "                      softwareEngineer])\r\n",
        "\r\n",
        "\r\n",
        "## One-liner\r\n",
        "employees[0,::2] = employees[0,::2] * 1.1\r\n",
        "\r\n",
        "\r\n",
        "## Result\r\n",
        "print(employees)"
      ],
      "execution_count": null,
      "outputs": []
    },
    {
      "cell_type": "code",
      "metadata": {
        "id": "9DgqI_YdHtEr"
      },
      "source": [
        "#Find all cities with above-average pollution peaks from a set of data.\r\n",
        "# Data: air quality index AQI data (row = city)\r\n",
        "X = np.array(\r\n",
        "    [[ 42, 40, 41, 43, 44, 43 ], # Hong Kong\r\n",
        "     [ 30, 31, 29, 29, 29, 30 ], # New York\r\n",
        "     [ 8, 13, 31, 11, 11, 9 ], # Berlin\r\n",
        "     [ 11, 11, 12, 13, 11, 12 ]]) # Montreal\r\n",
        "\r\n",
        "cities = np.array([\"Hong Kong\", \"New York\", \"Berlin\", \"Montreal\"])\r\n",
        "\r\n",
        "## One-liner\r\n",
        "polluted = set(cities[np.nonzero(X > np.average(X))[0]])\r\n",
        "\r\n",
        "## Result\r\n",
        "print(polluted)"
      ],
      "execution_count": null,
      "outputs": []
    },
    {
      "cell_type": "code",
      "metadata": {
        "colab": {
          "base_uri": "https://localhost:8080/"
        },
        "id": "otFXUJovLP8Q",
        "outputId": "85468d18-6536-47a8-b39d-3a688fecbe5a"
      },
      "source": [
        "#given an array of temperature values, \r\n",
        "#replace every seventh temperature value with the average of the last \r\n",
        "#seven days (including the seventh day’s temperature value).\r\n",
        "## Sensor data (Mo, Tu, We, Th, Fr, Sa, Su)\r\n",
        "tmp = np.array([1.1, 2.1, 3, 4.6, 3.8, 4.1, 4,\r\n",
        "                5, 3.3, 3, 4.6, 3.6, 4.2, 6,\r\n",
        "                6, 5.1, 5.2, 5.6, 4, 5, 5])\r\n",
        "\r\n",
        "\r\n",
        "## One-liner\r\n",
        "#temp[6::7] is every 7th data point\r\n",
        "#tmp.reshape((-1,7)) makes the data into groups of 7\r\n",
        "tmp[6::7] = np.average(tmp.reshape((-1,7)), axis=1)\r\n",
        "\r\n",
        "\r\n",
        "## Result\r\n",
        "print(tmp)"
      ],
      "execution_count": null,
      "outputs": [
        {
          "output_type": "stream",
          "text": [
            "[1.1        2.1        3.         4.         3.         4.\n",
            " 3.02857143 5.         3.         3.         4.6        3.\n",
            " 4.         4.08571429 6.         5.         5.         5.6\n",
            " 4.         5.         5.08571429]\n"
          ],
          "name": "stdout"
        }
      ]
    },
    {
      "cell_type": "code",
      "metadata": {
        "colab": {
          "base_uri": "https://localhost:8080/"
        },
        "id": "ynycqkKZLg7i",
        "outputId": "3ed5ce03-58ef-408e-ca62-0d00d03002c3"
      },
      "source": [
        "tmp.reshape((-1,7))"
      ],
      "execution_count": null,
      "outputs": [
        {
          "output_type": "execute_result",
          "data": {
            "text/plain": [
              "array([[1.1       , 2.1       , 3.        , 4.        , 3.        ,\n",
              "        4.        , 3.02857143],\n",
              "       [5.        , 3.        , 3.        , 4.6       , 3.        ,\n",
              "        4.        , 4.08571429],\n",
              "       [6.        , 5.        , 5.        , 5.6       , 4.        ,\n",
              "        5.        , 5.08571429]])"
            ]
          },
          "metadata": {
            "tags": []
          },
          "execution_count": 25
        }
      ]
    },
    {
      "cell_type": "markdown",
      "metadata": {
        "id": "MZdOUqLEGPVG"
      },
      "source": [
        "#**Basic Algorithms**"
      ]
    },
    {
      "cell_type": "code",
      "metadata": {
        "id": "A57DSsITM5X3"
      },
      "source": [
        "#shows the difference between sort and argsort\r\n",
        "#argsort sorts the indices\r\n",
        "\r\n",
        "a = np.array([10, 6, 8, 2, 5, 4, 9, 1])\r\n",
        "\r\n",
        "print(np.sort(a))\r\n",
        "# [ 1  2  4  5  6  8  9 10]\r\n",
        "\r\n",
        "print(np.argsort(a))\r\n",
        "# [7 3 5 4 1 2 6 0]"
      ],
      "execution_count": null,
      "outputs": []
    },
    {
      "cell_type": "code",
      "metadata": {
        "colab": {
          "base_uri": "https://localhost:8080/"
        },
        "id": "9Ja-ePpdjYvd",
        "outputId": "544b1235-3303-4ec5-fc54-e12a56a5d240"
      },
      "source": [
        "#check if two words are anagrams\r\n",
        "is_anagram = lambda x1, x2: sorted(x1) == sorted(x2)\r\n",
        "print(is_anagram(\"elvis\", \"lives\"))"
      ],
      "execution_count": null,
      "outputs": [
        {
          "output_type": "stream",
          "text": [
            "True\n"
          ],
          "name": "stdout"
        }
      ]
    },
    {
      "cell_type": "code",
      "metadata": {
        "id": "BjAkYMSmjsoN"
      },
      "source": [
        "#palindrome\r\n",
        "is_palindrome = lambda phrase: phrase == phrase[::-1]\r\n",
        "print(is_palindrome(\"rats live on no evil star\"))"
      ],
      "execution_count": null,
      "outputs": []
    },
    {
      "cell_type": "code",
      "metadata": {
        "id": "rsyxiQOxj6Ul"
      },
      "source": [
        "#factorial\r\n",
        "factorial = lambda n: n * factorial(n-1) if n > 1 else 1\r\n",
        "print(factorial(n))"
      ],
      "execution_count": null,
      "outputs": []
    },
    {
      "cell_type": "code",
      "metadata": {
        "id": "H5Fk71HWFjSE"
      },
      "source": [
        "#binary search\r\n",
        "#first normally and then as a lambda\r\n",
        "def binary_search(lst, value):\r\n",
        "    lo, hi = 0, len(lst)-1\r\n",
        "    while lo <= hi:\r\n",
        "        mid = (lo + hi) // 2\r\n",
        "        if lst[mid] < value:\r\n",
        "            lo = mid + 1\r\n",
        "        elif value < lst[mid]:\r\n",
        "            hi = mid - 1\r\n",
        "        else:\r\n",
        "            return mid\r\n",
        "    return -1\r\n",
        "\r\n",
        "\r\n",
        "l = [3, 6, 14, 16, 33, 55, 56, 89]\r\n",
        "x = 56\r\n",
        "print(binary_search(l,x))"
      ],
      "execution_count": null,
      "outputs": []
    },
    {
      "cell_type": "code",
      "metadata": {
        "colab": {
          "base_uri": "https://localhost:8080/"
        },
        "id": "sJvZNw4uFnde",
        "outputId": "4298e4f9-2db4-4c70-f4dd-ddbe1cedd74f"
      },
      "source": [
        "l = [3, 6, 14, 16, 33, 55, 56, 89]\r\n",
        "x = 33\r\n",
        "\r\n",
        "## The One-Liner\r\n",
        "bs = lambda l, x, lo, hi: -1 if lo>hi else \\\r\n",
        "       (lo+hi)//2 if l[(lo+hi)//2] == x else \\\r\n",
        "       bs(l, x, lo, (lo+hi)//2-1) if l[(lo+hi)//2] > x else \\\r\n",
        "       bs(l, x, (lo+hi)//2+1, hi)\r\n",
        "\r\n",
        "\r\n",
        "## The Results\r\n",
        "print(bs(l, x, 0, len(l)-1))"
      ],
      "execution_count": null,
      "outputs": [
        {
          "output_type": "stream",
          "text": [
            "4\n"
          ],
          "name": "stdout"
        }
      ]
    },
    {
      "cell_type": "markdown",
      "metadata": {
        "id": "rRq1rkbiGBzb"
      },
      "source": [
        "Quicksort as a lambda\r\n",
        "\r\n",
        "```\r\n",
        "lambda l: q(left) + pivot + q(right) if l else []\r\n",
        "```"
      ]
    },
    {
      "cell_type": "code",
      "metadata": {
        "id": "Kx8B56kfF6Td"
      },
      "source": [
        "#quicksort as a lambda\r\n",
        "unsorted = [33, 2, 3, 45, 6, 54, 33]\r\n",
        "\r\n",
        "\r\n",
        "## The One-Liner\r\n",
        "q = lambda l: q([x for x in l[1:] if x <= l[0]]) + [l[0]] + q([x for x in l if x > l[0]]) if l else []\r\n",
        "\r\n",
        "\r\n",
        "## The Result\r\n",
        "print(q(unsorted))"
      ],
      "execution_count": null,
      "outputs": []
    },
    {
      "cell_type": "markdown",
      "metadata": {
        "id": "OjaS4SqYG-pi"
      },
      "source": [
        "#**Regex**"
      ]
    },
    {
      "cell_type": "markdown",
      "metadata": {
        "id": "deusjhGgP0xw"
      },
      "source": [
        "Check out the [python docs](https://docs.python.org/3/howto/regex.html) and [w3schools](https://www.w3schools.com/python/python_regex.asp)."
      ]
    },
    {
      "cell_type": "markdown",
      "metadata": {
        "id": "ZPg1dGMeHMLq"
      },
      "source": [
        "The **dot regex** matches any character (including whitespace characters). You can use it to indicate that you don’t care which character matches, as long as exactly one matches"
      ]
    },
    {
      "cell_type": "code",
      "metadata": {
        "colab": {
          "base_uri": "https://localhost:8080/"
        },
        "id": "TJfTVyw-HBnv",
        "outputId": "f79247e3-fc97-4bee-d766-a3adecf8ce4a"
      },
      "source": [
        "import re\r\n",
        "\r\n",
        "text = '''A blockchain, originally block chain,\r\n",
        "is a growing list of records, called blocks,\r\n",
        "which are linked using cryptography.\r\n",
        "'''\r\n",
        "\r\n",
        "print(re.findall('b...k', text))"
      ],
      "execution_count": null,
      "outputs": [
        {
          "output_type": "stream",
          "text": [
            "['block', 'block', 'block']\n"
          ],
          "name": "stdout"
        }
      ]
    },
    {
      "cell_type": "markdown",
      "metadata": {
        "id": "4_ZtvoJGHeRF"
      },
      "source": [
        "To match text that begins and ends with the character 'x' and can an arbitrary number of characters in between use the **asterisk** * regex."
      ]
    },
    {
      "cell_type": "code",
      "metadata": {
        "colab": {
          "base_uri": "https://localhost:8080/"
        },
        "id": "H1-zIG2rHo_Y",
        "outputId": "6d9f6e46-f42c-4955-d355-434f9aea4c25"
      },
      "source": [
        "print(re.findall('y.*y', text))"
      ],
      "execution_count": null,
      "outputs": [
        {
          "output_type": "stream",
          "text": [
            "['yptography']\n"
          ],
          "name": "stdout"
        }
      ]
    },
    {
      "cell_type": "markdown",
      "metadata": {
        "id": "m_iZ-_9DIAHu"
      },
      "source": [
        "Match zero or one characters by using the **zero-or-one regex**, the ? character"
      ]
    },
    {
      "cell_type": "code",
      "metadata": {
        "colab": {
          "base_uri": "https://localhost:8080/"
        },
        "id": "6iiri6jKIC0X",
        "outputId": "f8f1d822-2e64-46dd-c26b-c29aac5bea2b"
      },
      "source": [
        "print(re.findall('blocks?', text))"
      ],
      "execution_count": null,
      "outputs": [
        {
          "output_type": "stream",
          "text": [
            "['block', 'block', 'blocks']\n"
          ],
          "name": "stdout"
        }
      ]
    },
    {
      "cell_type": "code",
      "metadata": {
        "id": "QP1Z-xYQIEuy"
      },
      "source": [
        "#find all patterns that start with the character 'p', end with the character 'r', \r\n",
        "#and have at least one occurrence of the character 'e' (and, possibly, an arbitrary number of other characters) in between\r\n",
        "text = 'peter piper picked a peck of pickled peppers'\r\n",
        "\r\n",
        "result = re.findall('p.*?e.*?r', text)\r\n",
        "print(result)"
      ],
      "execution_count": null,
      "outputs": []
    },
    {
      "cell_type": "markdown",
      "metadata": {
        "id": "uaLQRZj-Luvd"
      },
      "source": [
        "###Regex Ideas\r\n",
        "\r\n",
        "* Use the prefix \\ to escape.  \r\n",
        "\r\n",
        "* The square brackets [ ] allows for us to define a range, such as [0-9] or [a-e].\r\n",
        "\r\n",
        "* The parentheses regex ( <'pattern'> ) indicates a group. "
      ]
    },
    {
      "cell_type": "code",
      "metadata": {
        "id": "GThh2YAIMlVg"
      },
      "source": [
        "#the nested parenthses returns both\r\n",
        "string = 'helloworld'\r\n",
        "\r\n",
        "regex_1 = 'hello(world)'\r\n",
        "regex_2 = '(hello(world))'\r\n",
        "\r\n",
        "res_1 = re.findall(regex_1, string)\r\n",
        "res_2 = re.findall(regex_2, string)\r\n",
        "\r\n",
        "print(res_1)\r\n",
        "# ['world']\r\n",
        "print(res_2)\r\n",
        "# [('helloworld', 'world')]"
      ],
      "execution_count": null,
      "outputs": []
    },
    {
      "cell_type": "code",
      "metadata": {
        "colab": {
          "base_uri": "https://localhost:8080/"
        },
        "id": "Vva8FghdM1YE",
        "outputId": "9d1bb687-9e5b-436f-b3d5-076774d41f53"
      },
      "source": [
        "#given a string, find a list of all occurrences of dollar amounts with optional decimal values. \r\n",
        "#The following example strings are valid matches: $10, $10., or $10.00021. \r\n",
        "\r\n",
        "report = '''\r\n",
        "If you invested $1 in the year 1801, you would have $18087791.41 today.\r\n",
        "This is a 7.967% return on investment.\r\n",
        "But if you invested only $0.25 in 1801, you would end up with $4521947.8525.\r\n",
        "'''\r\n",
        "\r\n",
        "dollars = [x[0] for x in re.findall('(\\$[0-9]+(\\.[0-9]*)?)', report)]\r\n",
        "print(dollars)"
      ],
      "execution_count": null,
      "outputs": [
        {
          "output_type": "stream",
          "text": [
            "['$1', '$18087791.41', '$0.25', '$4521947.8525']\n"
          ],
          "name": "stdout"
        }
      ]
    },
    {
      "cell_type": "markdown",
      "metadata": {
        "id": "6hYR5JXxNL0k"
      },
      "source": [
        " ```(\\$[0-9]+(.[0-9]*)?)``` matches the following patterns - First, it matches the dollar sign \\$. Second, it matches a number with an arbitrary number of digits between 0 and 9 (but at least one digit). Third, it matches an arbitrary number of decimal values after the (escaped) dot character '.' (this last match is optional as indicated by the zero-or-one regex ?).\r\n",
        "\r\n",
        "On top of that, you use list comprehension to extract only the first tuple value of all three resulting matches. Again, the default result of the re.findall() function is a list of tuples, with one tuple for each successful match and one tuple value for each group within the match:\r\n",
        "```\r\n",
        "[('$1', ''), ('$18087791.41', '.41'), ('$0.25', '.25'), ('$4521947.8525', '.8525')]\r\n",
        "```\r\n",
        "You’re interested in only the global group—the first value in the tuple. You filter out the other values by using list comprehension and get the following result:\r\n",
        "```\r\n",
        "print(dollars)\r\n",
        "['$1 ', '$18087791.41', '$0.25', '$4521947.8525']\r\n",
        "```"
      ]
    },
    {
      "cell_type": "markdown",
      "metadata": {
        "id": "4eMRtBEQjKrq"
      },
      "source": [
        "#**ML Examples**"
      ]
    },
    {
      "cell_type": "markdown",
      "metadata": {
        "id": "QRFQLzPfc3Qg"
      },
      "source": [
        "###Linear Regression\r\n",
        "The input consists of only a single feature x (the current day). Moreover, the prediction also consists of only a single value y (the current stock price). To bring the input array into the correct shape, you need to reshape it to this strange-looking matrix form:\r\n",
        "```\r\n",
        "[[0],\r\n",
        " [1],\r\n",
        " [2]]\r\n",
        " ```\r\n",
        "A matrix with only one column is called a column vector. You use np.arange() to create the sequence of increasing x values; then you use reshape((n, 1)) to convert the one-dimensional NumPy array into a two-dimensional array with one column and n rows.\r\n",
        "\r\n",
        "Once it has the training data and the ideal outputs, fit() then does error minimization: it finds the model parameters (that means line) so that the difference between the predicted model values and the desired outputs is minimal.\r\n",
        "\r\n",
        "When fit() is satisfied with its model, it’ll return a model that you can use to predict two new stock values by using the predict() function. The predict() function has the same input requirements as fit(), so to satisfy them, you’ll pass a one-column matrix with our two new values that you want predictions for:\r\n",
        "\r\n",
        "```\r\n",
        "print(model.predict([[3],[4]]))\r\n",
        "```\r\n",
        "\r\n",
        "###Logistic Regression\r\n",
        "Logistic regression is commonly used for classification problems, in which you predict whether a sample belongs to a specific category (or class). This contrasts with regression problems, where you’re given a sample and predict a numerical value that falls into a continuous range. An example classification problem is to divide Twitter users into the male and female, given different input features such as their posting frequency or the number of tweet replies.\r\n",
        "\r\n",
        "We can use it to predict the likelihood of categorical data.  It helps us make a binary decision.  \r\n"
      ]
    },
    {
      "cell_type": "code",
      "metadata": {
        "colab": {
          "base_uri": "https://localhost:8080/"
        },
        "id": "l-n01Ds6c2tS",
        "outputId": "c5ca7767-cc35-4fc4-d545-f0d0d45c8507"
      },
      "source": [
        "from sklearn.linear_model import LinearRegression\r\n",
        "import numpy as np\r\n",
        "\r\n",
        "## Data (Apple stock prices)\r\n",
        "apple = np.array([155, 156, 157])\r\n",
        "n = len(apple)\r\n",
        "\r\n",
        "## One-liner\r\n",
        "model = LinearRegression().fit(np.arange(n).reshape((n,1)), apple)\r\n",
        "\r\n",
        "## Result & puzzle\r\n",
        "print(model.predict([[3],[4]]))"
      ],
      "execution_count": null,
      "outputs": [
        {
          "output_type": "stream",
          "text": [
            "[158. 159.]\n"
          ],
          "name": "stdout"
        }
      ]
    },
    {
      "cell_type": "code",
      "metadata": {
        "colab": {
          "base_uri": "https://localhost:8080/"
        },
        "id": "esQ96rFAf3OX",
        "outputId": "9fa5ac87-877f-407d-8ec1-b6aa766222fc"
      },
      "source": [
        "from sklearn.linear_model import LogisticRegression\r\n",
        "import numpy as np\r\n",
        "\r\n",
        "\r\n",
        "## Data (#cigarettes, cancer)\r\n",
        "X = np.array([[0, \"No\"],\r\n",
        "              [10, \"No\"],\r\n",
        "              [60, \"Yes\"],\r\n",
        "              [90, \"Yes\"]])\r\n",
        "\r\n",
        "\r\n",
        "## One-liner\r\n",
        "model = LogisticRegression().fit(X[:,0].reshape(-1,1), X[:,1])\r\n",
        "\r\n",
        "\r\n",
        "## Result & puzzle\r\n",
        "print(model.predict([[2],[12],[13],[40],[90]]))"
      ],
      "execution_count": null,
      "outputs": [
        {
          "output_type": "stream",
          "text": [
            "['No' 'No' 'No' 'Yes' 'Yes']\n"
          ],
          "name": "stdout"
        }
      ]
    },
    {
      "cell_type": "markdown",
      "metadata": {
        "id": "JXrnSRQzf_hh"
      },
      "source": [
        "The training data X consists of four patient records (the rows) with two columns. The first column holds the number of cigarettes the patients smoke (input feature), and the second column holds the class labels, which say whether they ultimately suffered from lung cancer.\r\n",
        "\r\n",
        "You create the model by calling the LogisticRegression() constructor. You call the fit() function on this model; fit() takes two arguments, which are the input (cigarette consumption) and the output class labels (cancer). The fit() function expects a two-dimensional input array format with one row per training data sample and one column per feature of this training data sample. In this case, you have only a single feature value so you transform the one-dimensional input into a two-dimensional NumPy array by using the reshape() operation. The first argument to reshape() specifies the number of rows, and the second specifies the number of columns. You care about only the number of columns, which here is 1. You’ll pass -1 as the number of desired rows, which is a special signal to NumPy to determine the number of rows automatically.\r\n",
        "\r\n",
        "The input training data will look as follows after reshaping (in essence, you simply remove the class labels and keep the two-dimensional array shape intact):\r\n",
        "```\r\n",
        "[[0],\r\n",
        " [10],\r\n",
        " [60],\r\n",
        " [90]]\r\n",
        " ```\r\n",
        " Next, you predict whether a patient has lung cancer, given the number of cigarettes they smoke: your input will be 2, 12, 13, 40, 90 cigarettes. That gives an output as follows:\r\n",
        " ```\r\n",
        " # ['No' 'No' 'Yes' 'Yes' 'Yes']\r\n",
        " ```\r\n",
        " "
      ]
    },
    {
      "cell_type": "markdown",
      "metadata": {
        "id": "IV0E1zIkgVwS"
      },
      "source": [
        "The predict_proba() function takes as input the number of cigarettes and returns an array containing the probability of lung cancer negative (at index 0) and the probability of lung cancer positive."
      ]
    },
    {
      "cell_type": "code",
      "metadata": {
        "id": "z19lF1r7gUz3"
      },
      "source": [
        "for i in range(20):\r\n",
        "    print(\"x=\" + str(i) + \" --> \" + str(model.predict_proba([[i]])))"
      ],
      "execution_count": null,
      "outputs": []
    },
    {
      "cell_type": "markdown",
      "metadata": {
        "id": "0fXn-_HUgkG7"
      },
      "source": [
        "###K-Mean Clustering"
      ]
    },
    {
      "cell_type": "code",
      "metadata": {
        "id": "TCaYZr1dgnky"
      },
      "source": [
        "#returns the center of where each cluster is\r\n",
        "\r\n",
        "from sklearn.cluster import KMeans\r\n",
        "import numpy as np\r\n",
        "\r\n",
        "\r\n",
        "## Data (Work (h) / Salary ($))\r\n",
        "X = np.array([[35, 7000], [45, 6900], [70, 7100],\r\n",
        "              [20, 2000], [25, 2200], [15, 1800]])\r\n",
        "\r\n",
        "\r\n",
        "## One-liner\r\n",
        "kmeans = KMeans(n_clusters=2).fit(X)\r\n",
        "\r\n",
        "\r\n",
        "## Result & puzzle\r\n",
        "cc = kmeans.cluster_centers_\r\n",
        "print(cc)"
      ],
      "execution_count": null,
      "outputs": []
    },
    {
      "cell_type": "markdown",
      "metadata": {
        "id": "xWHl3V-lhBTH"
      },
      "source": [
        "###KNN\r\n",
        "\r\n",
        "```\r\n",
        "print(X[:,0])\r\n",
        "[35 45 40 35 25 40]\r\n",
        "\r\n",
        "print(X[:,0].reshape(-1,1))\r\n",
        "[[35]\r\n",
        " [45]\r\n",
        " [40]\r\n",
        " [35]\r\n",
        " [25]\r\n",
        " [40]]\r\n",
        " ```"
      ]
    },
    {
      "cell_type": "code",
      "metadata": {
        "id": "puTx05TqhDPU"
      },
      "source": [
        "from sklearn.neighbors import KNeighborsRegressor\r\n",
        "import numpy as np\r\n",
        "\r\n",
        "\r\n",
        "## Data (House Size (square meters) / House Price ($))\r\n",
        "X = np.array([[35, 30000], [45, 45000], [40, 50000],\r\n",
        "              [35, 35000], [25, 32500], [40, 40000]])\r\n",
        "\r\n",
        "\r\n",
        "## One-liner\r\n",
        "KNN = KNeighborsRegressor(n_neighbors=3).fit(X[:,0].reshape(-1,1), X[:,1])\r\n",
        "\r\n",
        "\r\n",
        "## Result & puzzle\r\n",
        "res = KNN.predict([[30]])\r\n",
        "print(res)"
      ],
      "execution_count": null,
      "outputs": []
    },
    {
      "cell_type": "code",
      "metadata": {
        "id": "jUN5MPMziSh3"
      },
      "source": [
        "print(X[:,0])\r\n",
        "\"[35 45 40 35 25 40]\"\r\n",
        "\r\n",
        "\r\n",
        "print(X[:,0].reshape(-1,1))\r\n",
        "\"\"\"\r\n",
        "[[35]\r\n",
        " [45]\r\n",
        " [40]\r\n",
        " [35]\r\n",
        " [25]\r\n",
        " [40]]\r\n",
        "\"\"\""
      ],
      "execution_count": null,
      "outputs": []
    },
    {
      "cell_type": "markdown",
      "metadata": {
        "id": "pzewuALNiQ5H"
      },
      "source": [
        "###SVM\r\n",
        "\r\n",
        "Using support vector classification (svc)"
      ]
    },
    {
      "cell_type": "code",
      "metadata": {
        "id": "2pAST2MdinX8"
      },
      "source": [
        "from sklearn import svm\r\n",
        "import numpy as np\r\n",
        "\r\n",
        "\r\n",
        "## Data: student scores in (math, language, creativity) --> study field\r\n",
        "X = np.array([[9, 5, 6, \"computer science\"],\r\n",
        "              [10, 1, 2, \"computer science\"],\r\n",
        "              [1, 8, 1, \"literature\"],\r\n",
        "              [4, 9, 3, \"literature\"],\r\n",
        "              [0, 1, 10, \"art\"],\r\n",
        "              [5, 7, 9, \"art\"]])\r\n",
        "\r\n",
        "\r\n",
        "## One-liner\r\n",
        "svm = svm.SVC().fit(X[:,:-1], X[:,-1])\r\n",
        "\r\n",
        "\r\n",
        "## Result & puzzle\r\n",
        "student_0 = svm.predict([[3, 3, 6]])\r\n",
        "print(student_0)\r\n",
        "\r\n",
        "student_1 = svm.predict([[8, 1, 1]])\r\n",
        "print(student_1)"
      ],
      "execution_count": null,
      "outputs": []
    },
    {
      "cell_type": "markdown",
      "metadata": {
        "id": "i-zelZelQJy0"
      },
      "source": [
        "#**Effective Python**\r\n",
        "by Brett Slatkin"
      ]
    },
    {
      "cell_type": "markdown",
      "metadata": {
        "id": "-MM96O_rQQ1O"
      },
      "source": [
        "###ITEM 8: USE ZIP TO PROCESS ITERATORS IN PARALLEL"
      ]
    },
    {
      "cell_type": "code",
      "metadata": {
        "id": "gzNLvFi-UUvt"
      },
      "source": [
        "#the list items are related to the source items\r\n",
        "names = ['Cecilia', 'Lise', 'Marie']\r\n",
        "counts = [len(n) for n in names]\r\n",
        "print(counts)"
      ],
      "execution_count": null,
      "outputs": []
    },
    {
      "cell_type": "code",
      "metadata": {
        "id": "ZSloXy2AUm1F"
      },
      "source": [
        "#but it is quite clumsy to find the longest name\r\n",
        "longest_name = None\r\n",
        "max_count = 0\r\n",
        "\r\n",
        "for i in range(len(names)):\r\n",
        "    count = counts[i]\r\n",
        "    if count > max_count:\r\n",
        "       longest_name = names[i]\r\n",
        "       max_count = count\r\n",
        "\r\n",
        "print(longest_name)"
      ],
      "execution_count": null,
      "outputs": []
    },
    {
      "cell_type": "code",
      "metadata": {
        "id": "ep4uNDBwUnWS"
      },
      "source": [
        "#and even if it were slightly nicer with enumerate\r\n",
        "#it isn't that much better\r\n",
        "for i, name in enumerate(names):\r\n",
        "    count = counts[i]\r\n",
        "    if count > max_count:\r\n",
        "        longest_name = name\r\n",
        "        max_count = count"
      ],
      "execution_count": null,
      "outputs": []
    },
    {
      "cell_type": "markdown",
      "metadata": {
        "id": "zJB2eqGTU5JG"
      },
      "source": [
        "Python provides the **zip** built-in function. zip wraps two or more iterators with a lazy generator. The zip generator yields tuples containing the next value from each iterator. zip consumes the iterators it wraps one item at a time, which means it can be used with infinitely long inputs without risk of a program using too much memory and crashing.  Make sure you only do this with lists that are the same size, otherwise it is a terrible idea."
      ]
    },
    {
      "cell_type": "code",
      "metadata": {
        "id": "dcsTXKRbUxL3"
      },
      "source": [
        "#so instead use zip\r\n",
        "for name, count in zip(names, counts):\r\n",
        "    if count > max_count:\r\n",
        "        longest_name = name\r\n",
        "        max_count = count"
      ],
      "execution_count": null,
      "outputs": []
    },
    {
      "cell_type": "markdown",
      "metadata": {
        "id": "Yli8pvTBVo9Z"
      },
      "source": [
        "###ITEM 10: PREVENT REPETITION WITH ASSIGNMENT EXPRESSIONS\r\n",
        "\r\n"
      ]
    },
    {
      "cell_type": "markdown",
      "metadata": {
        "id": "fLaTWvTsVxUC"
      },
      "source": [
        "An assignment expression—also known as the walrus operator—is a new syntax introduced in Python 3.8 to solve a long-standing problem with the language that can cause code duplication. Whereas normal assignment statements are written a = b and pronounced “a equals b,” these assignments are written a := b and pronounced “a walrus b” (because := looks like a pair of eyeballs and tusks).\r\n",
        "\r\n",
        "Assignment expressions are useful because they enable you to assign variables in places where assignment statements are disallowed, such as in the conditional expression of an if statement. An assignment expression’s value evaluates to whatever was assigned to the identifier on the left side of the walrus operator."
      ]
    },
    {
      "cell_type": "code",
      "metadata": {
        "id": "_X0Gn4tuV00H"
      },
      "source": [
        "#assume we have some fruit\r\n",
        "fresh_fruit = {\r\n",
        "    'apple': 10,\r\n",
        "    'banana': 8,\r\n",
        "    'lemon': 5,\r\n",
        "}"
      ],
      "execution_count": null,
      "outputs": []
    },
    {
      "cell_type": "markdown",
      "metadata": {
        "id": "ZYWGmWyHV-nq"
      },
      "source": [
        "We now check if we have lemons left for some lemonade.\r\n",
        "\r\n",
        "```\r\n",
        "def make_lemonade(count):\r\n",
        "    ...\r\n",
        "def out_of_stock():\r\n",
        "    ...\r\n",
        "\r\n",
        "count = fresh_fruit.get('lemon', 0)\r\n",
        "if count:\r\n",
        "    make_lemonade(count)\r\n",
        "else:\r\n",
        "    out_of_stock()\r\n",
        "```\r\n",
        "\r\n",
        "But we have awkward code, because we are fetching a value on used once and not relevant to later.  Instead use the walrus:\r\n",
        "```\r\n",
        "if count := fresh_fruit.get('lemon', 0):\r\n",
        "    make_lemonade(count)\r\n",
        "else:\r\n",
        "    out_of_stock()\r\n",
        "```\r\n",
        "\r\n",
        "or we could check on the apples\r\n",
        "```\r\n",
        "if (count := fresh_fruit.get('apple', 0)) >= 4:\r\n",
        "    make_cider(count)\r\n",
        "else:\r\n",
        "    out_of_stock()\r\n",
        "```\r\n",
        "or we could check a bunch of conditions\r\n",
        "```\r\n",
        "if (count := fresh_fruit.get('banana', 0)) >= 2:\r\n",
        "    pieces = slice_bananas(count)\r\n",
        "    to_enjoy = make_smoothies(pieces)\r\n",
        "elif (count := fresh_fruit.get('apple', 0)) >= 4:\r\n",
        "    to_enjoy = make_cider(count)\r\n",
        "elif count := fresh_fruit.get('lemon', 0):\r\n",
        "    to_enjoy = make_lemonade(count)\r\n",
        "else:\r\n",
        "    to_enjoy = 'Nothing'\r\n",
        "```"
      ]
    },
    {
      "cell_type": "markdown",
      "metadata": {
        "id": "YjqTZLNRXAvn"
      },
      "source": [
        "###ITEM 5: WRITE HELPER FUNCTIONS INSTEAD OF COMPLICATED CODE"
      ]
    },
    {
      "cell_type": "markdown",
      "metadata": {
        "id": "l-XUx2k8XHqZ"
      },
      "source": [
        "Python’s syntax makes it easy to write single-line expressions that are overly complicated and difficult to read. As soon as expressions get complicated, it’s time to consider splitting them into smaller pieces and moving logic into helper functions. What you gain in readability always outweighs what brevity may have afforded you. Avoid letting Python’s pithy syntax for complex expressions from getting you into a mess like this. Follow the DRY principle: Don’t repeat yourself.\r\n",
        "\r\n",
        "Unclear code:\r\n",
        "```\r\n",
        "red = int(my_values.get('red', [''])[0] or 0)\r\n",
        "```\r\n",
        "\r\n",
        "Better code:\r\n",
        "```\r\n",
        "red_str = my_values.get('red', [''])\r\n",
        "red = int(red_str[0]) if red_str[0] else 0\r\n",
        "```\r\n",
        "\r\n",
        "Much better code that works for any color\r\n",
        "```\r\n",
        "def get_first_int(values, key, default=0):\r\n",
        "    found = values.get(key, [''])\r\n",
        "\r\n",
        "    if found[0]:\r\n",
        "       return int(found[0])\r\n",
        "    return default\r\n",
        "```"
      ]
    },
    {
      "cell_type": "markdown",
      "metadata": {
        "id": "SqDfaJrUYgET"
      },
      "source": [
        "###ITEM 27: USE COMPREHENSIONS INSTEAD OF MAP AND FILTER"
      ]
    },
    {
      "cell_type": "markdown",
      "metadata": {
        "id": "2rnKwZRmZbqO"
      },
      "source": [
        "List comprehensions are clearer than the map and filter built-in functions because they don’t require lambda expressions.  List comprehensions allow you to easily skip items from the input list, a behavior that map doesn’t support without help from filter."
      ]
    },
    {
      "cell_type": "code",
      "metadata": {
        "colab": {
          "base_uri": "https://localhost:8080/"
        },
        "id": "Dg5CdDy8YnQ1",
        "outputId": "bc4b18ef-369f-4fdd-e638-785e82cbcb24"
      },
      "source": [
        "a = [1, 2, 3, 4, 5, 6, 7, 8, 9, 10]\r\n",
        "\r\n",
        "\r\n",
        "#regular\r\n",
        "squares = []\r\n",
        "for x in a:\r\n",
        "    squares.append(x**2)\r\n",
        "print(squares)\r\n",
        "\r\n",
        "\r\n",
        "#list comprehension\r\n",
        "squares = [x**2 for x in a]\r\n",
        "print(squares)\r\n",
        "\r\n",
        "\r\n",
        "#map\r\n",
        "#note that we even need to convert to a list after\r\n",
        "alt = map(lambda x: x ** 2, a)\r\n",
        "print(list(alt))"
      ],
      "execution_count": null,
      "outputs": [
        {
          "output_type": "stream",
          "text": [
            "[1, 4, 9, 16, 25, 36, 49, 64, 81, 100]\n",
            "[1, 4, 9, 16, 25, 36, 49, 64, 81, 100]\n",
            "[1, 4, 9, 16, 25, 36, 49, 64, 81, 100]\n"
          ],
          "name": "stdout"
        }
      ]
    },
    {
      "cell_type": "code",
      "metadata": {
        "id": "o70k8oXxY_2w"
      },
      "source": [
        "#list comprehension\r\n",
        "even_squares = [x**2 for x in a if x % 2 == 0]\r\n",
        "print(even_squares)\r\n",
        "\r\n",
        "#map and filter\r\n",
        "alt = map(lambda x: x**2, filter(lambda x: x % 2 == 0, a))\r\n",
        "print(alt)"
      ],
      "execution_count": null,
      "outputs": []
    }
  ]
}