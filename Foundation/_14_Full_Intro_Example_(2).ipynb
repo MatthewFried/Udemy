{
  "nbformat": 4,
  "nbformat_minor": 0,
  "metadata": {
    "kernelspec": {
      "display_name": "Python 3",
      "language": "python",
      "name": "python3"
    },
    "language_info": {
      "codemirror_mode": {
        "name": "ipython",
        "version": 3
      },
      "file_extension": ".py",
      "mimetype": "text/x-python",
      "name": "python",
      "nbconvert_exporter": "python",
      "pygments_lexer": "ipython3",
      "version": "3.8.3"
    },
    "colab": {
      "name": "_14_Full_Intro_Example (2).ipynb",
      "provenance": [],
      "include_colab_link": true
    }
  },
  "cells": [
    {
      "cell_type": "markdown",
      "metadata": {
        "id": "view-in-github",
        "colab_type": "text"
      },
      "source": [
        "<a href=\"https://colab.research.google.com/github/MatthewFried/Udemy/blob/master/Foundation/_14_Full_Intro_Example_(2).ipynb\" target=\"_parent\"><img src=\"https://colab.research.google.com/assets/colab-badge.svg\" alt=\"Open In Colab\"/></a>"
      ]
    },
    {
      "cell_type": "markdown",
      "metadata": {
        "id": "oPqM-eg5puCu"
      },
      "source": [
        "# HEART DISEASE \n",
        "\n",
        "Heart disease includes different conditions that affect the heart, such as: \n",
        " * coronary artery (atherosclerotic) disease that affects the blood supply to the heart, \n",
        " * valvular heart disease that affects how the valves function to regulate blood flow in and out of the heart, \n",
        " * cardiomyopathies that affect heart muscles, \n",
        " * heart rhythm disturbances (arrhythmias) that affect the electrical conduction and \n",
        " * congenital heart diseases where the heart has structural problems that develop before birth.\n",
        "\n",
        "Heart disease is a major cause of morbidity globally, even more than COVID-19.  Heart disease is often preventable by changing one's life choices, such as reducing tobacco use, eating healthily, and exercising. There are also many contributing risk factors such as diabetes, high blood pressure, high cholesterol etc.  I will be explore the publicly available data from a study of residents of Framingham, MA.  This data is available on Kaggle. different Machine Learning approaches for predicting wheather a patient has 10-year risk of developing coronary heart disease (CHD) using the Framingham dataset that is publicly availabe on [Kaggle](/kaggle/input/framingham-heart-study-dataset/framingham.csv).\n",
        "\n",
        "\n",
        "### Attributes:\n",
        "1. Sex: male or female (Nominal)\n",
        "2. Age: Numeric (Numeric, continuous)\n",
        "3. Education: no information provided\n",
        "4. Current Smoker: 0 or 1 (Nominal)\n",
        "5. Cigs Per Day: average daily cigarette usage day.(Numeric)\n",
        "6. BP Meds: blood pressure medication - 0 or 1 (Nominal)\n",
        "7. Prevalent Stroke: previous stroke - 0 or 1 (Nominal)\n",
        "8. Prevalent Hyp: hypertensive - 0 or 1 (Nominal)\n",
        "9. Diabetes: 0 or 1 (Nominal)\n",
        "10. Tot Chol: cholesterol level (Continuous)\n",
        "11. Sys BP: systolic blood pressure (Continuous)\n",
        "12. Dia BP: diastolic blood pressure (Continuous)\n",
        "13. BMI: Body Mass Index (Continuous)\n",
        "14. Heart Rate: heart rate (Discrete)\n",
        "15. Glucose: glucose level (Continuous)\n",
        "16. TenYearCHD: 10 year risk of coronary heart disease (CHD) - (binary: “1”, means “Yes”, “0” means “No”)\n",
        "\n",
        "> Background Blood pressure readings are given in two numbers. The top number is the maximum pressure your heart exerts while beating (systolic pressure). The bottom number is the amount of pressure in your arteries between beats (diastolic pressure). (mayoclinic.com)\n",
        "\n",
        "<br>\n",
        "</br>\n",
        "\n",
        "### Goal\n",
        "\n",
        "Our goal is to firstly create an EDA and understand the data, and then to see if we can reasonably predict the 10 year risk of coronary heart disease.  We will attempt a logistic regression and test the fit with various metrics.\n",
        "\n",
        "<br>\n",
        "</br>\n"
      ]
    },
    {
      "cell_type": "code",
      "metadata": {
        "colab": {
          "base_uri": "https://localhost:8080/"
        },
        "id": "-yEOkw3fpuCz",
        "outputId": "54f588aa-6b6f-43de-ef9a-69654077393a"
      },
      "source": [
        "import pandas as pd\n",
        "import numpy as np\n",
        "import matplotlib.pyplot as plt\n",
        "import seaborn as sns\n",
        "\n",
        "df = pd.read_csv('https://raw.githubusercontent.com/amayomode/Heart-Disease-Risk-Prediction/master/Heart%20Disease%20Prediction/data/framingham.csv')\n",
        "\n",
        "print(df.head())"
      ],
      "execution_count": null,
      "outputs": [
        {
          "output_type": "stream",
          "text": [
            "   male  age  education  currentSmoker  ...    BMI  heartRate  glucose  TenYearCHD\n",
            "0     1   39        4.0              0  ...  26.97       80.0     77.0           0\n",
            "1     0   46        2.0              0  ...  28.73       95.0     76.0           0\n",
            "2     1   48        1.0              1  ...  25.34       75.0     70.0           0\n",
            "3     0   61        3.0              1  ...  28.58       65.0    103.0           1\n",
            "4     0   46        3.0              1  ...  23.10       85.0     85.0           0\n",
            "\n",
            "[5 rows x 16 columns]\n"
          ],
          "name": "stdout"
        }
      ]
    },
    {
      "cell_type": "code",
      "metadata": {
        "colab": {
          "base_uri": "https://localhost:8080/"
        },
        "id": "h4RUvWjDpuC0",
        "outputId": "6fac1786-c845-404f-eab2-2fb3b61a5bf0"
      },
      "source": [
        "#we get the number of data points\n",
        "#we see it has 16 attribute and 4240 cases\n",
        "print(df.shape)"
      ],
      "execution_count": null,
      "outputs": [
        {
          "output_type": "stream",
          "text": [
            "(4240, 16)\n"
          ],
          "name": "stdout"
        }
      ]
    },
    {
      "cell_type": "code",
      "metadata": {
        "colab": {
          "base_uri": "https://localhost:8080/"
        },
        "id": "zX5RwDWWpuC0",
        "outputId": "87cb0c0f-669e-4697-c920-bdca7256e831"
      },
      "source": [
        "#here we show the data type of each attribute\n",
        "print(df.dtypes)"
      ],
      "execution_count": null,
      "outputs": [
        {
          "output_type": "stream",
          "text": [
            "male                 int64\n",
            "age                  int64\n",
            "education          float64\n",
            "currentSmoker        int64\n",
            "cigsPerDay         float64\n",
            "BPMeds             float64\n",
            "prevalentStroke      int64\n",
            "prevalentHyp         int64\n",
            "diabetes             int64\n",
            "totChol            float64\n",
            "sysBP              float64\n",
            "diaBP              float64\n",
            "BMI                float64\n",
            "heartRate          float64\n",
            "glucose            float64\n",
            "TenYearCHD           int64\n",
            "dtype: object\n"
          ],
          "name": "stdout"
        }
      ]
    },
    {
      "cell_type": "code",
      "metadata": {
        "colab": {
          "base_uri": "https://localhost:8080/"
        },
        "id": "yXdHB12npuC0",
        "outputId": "5b3f23a8-06f1-4b5a-ed17-ee3a6b066c2a"
      },
      "source": [
        "#we display the percentage of missing data\n",
        "p = (df.isnull().sum()/df.shape[0])*100 \n",
        "print(p[p>0])"
      ],
      "execution_count": null,
      "outputs": [
        {
          "output_type": "stream",
          "text": [
            "education     2.476415\n",
            "cigsPerDay    0.683962\n",
            "BPMeds        1.250000\n",
            "totChol       1.179245\n",
            "BMI           0.448113\n",
            "heartRate     0.023585\n",
            "glucose       9.150943\n",
            "dtype: float64\n"
          ],
          "name": "stdout"
        }
      ]
    },
    {
      "cell_type": "markdown",
      "metadata": {
        "id": "O6T9YIzspuC0"
      },
      "source": [
        "We note that we do not have information on how to interpret education, and we also have about 10% of glucose data missing. As such, we delete both columns and use the median to impute the remaining columns"
      ]
    },
    {
      "cell_type": "code",
      "metadata": {
        "colab": {
          "base_uri": "https://localhost:8080/"
        },
        "id": "7Qr8t0pYpuC1",
        "outputId": "bb4efd1c-c647-42d4-ae63-3c23b5e1267f"
      },
      "source": [
        "df.drop(['education','glucose'],axis = 1, inplace = True)\n",
        "print(df)"
      ],
      "execution_count": null,
      "outputs": [
        {
          "output_type": "stream",
          "text": [
            "      male  age  currentSmoker  cigsPerDay  ...  diaBP    BMI  heartRate  TenYearCHD\n",
            "0        1   39              0         0.0  ...   70.0  26.97       80.0           0\n",
            "1        0   46              0         0.0  ...   81.0  28.73       95.0           0\n",
            "2        1   48              1        20.0  ...   80.0  25.34       75.0           0\n",
            "3        0   61              1        30.0  ...   95.0  28.58       65.0           1\n",
            "4        0   46              1        23.0  ...   84.0  23.10       85.0           0\n",
            "...    ...  ...            ...         ...  ...    ...    ...        ...         ...\n",
            "4235     0   48              1        20.0  ...   72.0  22.00       84.0           0\n",
            "4236     0   44              1        15.0  ...   87.0  19.16       86.0           0\n",
            "4237     0   52              0         0.0  ...   83.0  21.47       80.0           0\n",
            "4238     1   40              0         0.0  ...   98.0  25.60       67.0           0\n",
            "4239     0   39              1        30.0  ...   86.0  20.91       85.0           0\n",
            "\n",
            "[4240 rows x 14 columns]\n"
          ],
          "name": "stdout"
        }
      ]
    },
    {
      "cell_type": "code",
      "metadata": {
        "id": "LSVMnDekpuC1"
      },
      "source": [
        "#since we haven't learnt about imputing yet, we go for a simple approach and fill the NaN values with the median of each column\n",
        "df.fillna(df.median(), inplace = True)\n"
      ],
      "execution_count": null,
      "outputs": []
    },
    {
      "cell_type": "markdown",
      "metadata": {
        "id": "tdRk1xuIpuC1"
      },
      "source": [
        "## EDA\n",
        "\n",
        "Below we begin to look at plots, statistics, and more.  We attempt to draw relevant conclusions from our data"
      ]
    },
    {
      "cell_type": "code",
      "metadata": {
        "colab": {
          "base_uri": "https://localhost:8080/",
          "height": 1000
        },
        "id": "3RN-lvlkpuC1",
        "outputId": "8670ab4d-c616-4bb2-c24d-ca2463e40909"
      },
      "source": [
        "#the first things we do is get the histograms of the data\n",
        "df.hist(figsize = (15,20))"
      ],
      "execution_count": null,
      "outputs": [
        {
          "output_type": "execute_result",
          "data": {
            "text/plain": [
              "array([[<matplotlib.axes._subplots.AxesSubplot object at 0x7f24aab0e9d0>,\n",
              "        <matplotlib.axes._subplots.AxesSubplot object at 0x7f24aaae0950>,\n",
              "        <matplotlib.axes._subplots.AxesSubplot object at 0x7f24aaab1490>,\n",
              "        <matplotlib.axes._subplots.AxesSubplot object at 0x7f24aaa65a90>],\n",
              "       [<matplotlib.axes._subplots.AxesSubplot object at 0x7f24aaa12b90>,\n",
              "        <matplotlib.axes._subplots.AxesSubplot object at 0x7f24aa9dc710>,\n",
              "        <matplotlib.axes._subplots.AxesSubplot object at 0x7f24aa990d90>,\n",
              "        <matplotlib.axes._subplots.AxesSubplot object at 0x7f24aa953390>],\n",
              "       [<matplotlib.axes._subplots.AxesSubplot object at 0x7f24aa9533d0>,\n",
              "        <matplotlib.axes._subplots.AxesSubplot object at 0x7f24aa909b50>,\n",
              "        <matplotlib.axes._subplots.AxesSubplot object at 0x7f24aa901710>,\n",
              "        <matplotlib.axes._subplots.AxesSubplot object at 0x7f24aa8b6d90>],\n",
              "       [<matplotlib.axes._subplots.AxesSubplot object at 0x7f24aa879450>,\n",
              "        <matplotlib.axes._subplots.AxesSubplot object at 0x7f24aa82da50>,\n",
              "        <matplotlib.axes._subplots.AxesSubplot object at 0x7f24aa7ee110>,\n",
              "        <matplotlib.axes._subplots.AxesSubplot object at 0x7f24aa7a6790>]],\n",
              "      dtype=object)"
            ]
          },
          "metadata": {
            "tags": []
          },
          "execution_count": 7
        },
        {
          "output_type": "display_data",
          "data": {
            "image/png": "[encoded data removed]",
            "text/plain": [
              "<Figure size 1080x1440 with 16 Axes>"
            ]
          },
          "metadata": {
            "tags": [],
            "needs_background": "light"
          }
        }
      ]
    },
    {
      "cell_type": "code",
      "metadata": {
        "colab": {
          "base_uri": "https://localhost:8080/",
          "height": 386
        },
        "id": "eCpRdoA0puC2",
        "outputId": "6195d0fd-86eb-4b88-9eea-85f9b9e48f3a"
      },
      "source": [
        "#we now check the box plots for some of our data as well\n",
        "vals = df[['age','totChol','cigsPerDay','sysBP',  'diaBP',    'BMI' , 'heartRate']]\n",
        "sns.catplot(data=vals , kind='box',height = 5, aspect = 2)"
      ],
      "execution_count": null,
      "outputs": [
        {
          "output_type": "execute_result",
          "data": {
            "text/plain": [
              "<seaborn.axisgrid.FacetGrid at 0x7f24aa719650>"
            ]
          },
          "metadata": {
            "tags": []
          },
          "execution_count": 8
        },
        {
          "output_type": "display_data",
          "data": {
            "image/png": "[encoded data removed]",
            "text/plain": [
              "<Figure size 720x360 with 1 Axes>"
            ]
          },
          "metadata": {
            "tags": [],
            "needs_background": "light"
          }
        }
      ]
    },
    {
      "cell_type": "markdown",
      "metadata": {
        "id": "CjIQu-RSpuC2"
      },
      "source": [
        "We note that totChol and sysBP have a lot of outliers, something important to keep in mind."
      ]
    },
    {
      "cell_type": "markdown",
      "metadata": {
        "id": "Zi0pGFG3puC2"
      },
      "source": [
        "We observe that most data is right-skewed."
      ]
    },
    {
      "cell_type": "code",
      "metadata": {
        "colab": {
          "base_uri": "https://localhost:8080/",
          "height": 487
        },
        "id": "9zoZpJ44puC2",
        "outputId": "89e0452e-a4a2-4677-9659-a3f1dc044c31"
      },
      "source": [
        "#note - only numeric values are in the correlation matrix\n",
        "plt.figure(figsize=(15,8))\n",
        "sns.heatmap(vals.corr(), annot = True)\n",
        "plt.show()"
      ],
      "execution_count": null,
      "outputs": [
        {
          "output_type": "display_data",
          "data": {
            "image/png": "[encoded data removed]",
            "text/plain": [
              "<Figure size 1080x576 with 2 Axes>"
            ]
          },
          "metadata": {
            "tags": [],
            "needs_background": "light"
          }
        }
      ]
    },
    {
      "cell_type": "markdown",
      "metadata": {
        "id": "eNYKz7YRpuC3"
      },
      "source": [
        "There is no obvious direction in feature selection from this.  We also note that our model shouldn't be dependent on only one or two key features."
      ]
    },
    {
      "cell_type": "markdown",
      "metadata": {
        "id": "M3fupJ9ypuC3"
      },
      "source": [
        "### Comparisons\n",
        "\n",
        "We note that our numbers are very imbalanced. As such we check how much as compared to our output.  We use groupby to get the numbers."
      ]
    },
    {
      "cell_type": "code",
      "metadata": {
        "colab": {
          "base_uri": "https://localhost:8080/"
        },
        "id": "w8TJ4dC4puC3",
        "outputId": "b029f202-06da-44a0-fd4e-67a7ce66d3d5"
      },
      "source": [
        "#Some example features and their relationship to TenYearCHD\n",
        "features = ['male','currentSmoker','BPMeds','diabetes','prevalentStroke']\n",
        "\n",
        "for k in features:\n",
        "    data = df.groupby([k,\"TenYearCHD\"]).size()\n",
        "    print(data)\n",
        "    print(\"\\n\")"
      ],
      "execution_count": null,
      "outputs": [
        {
          "output_type": "stream",
          "text": [
            "male  TenYearCHD\n",
            "0     0             2119\n",
            "      1              301\n",
            "1     0             1477\n",
            "      1              343\n",
            "dtype: int64\n",
            "\n",
            "\n",
            "currentSmoker  TenYearCHD\n",
            "0              0             1834\n",
            "               1              311\n",
            "1              0             1762\n",
            "               1              333\n",
            "dtype: int64\n",
            "\n",
            "\n",
            "BPMeds  TenYearCHD\n",
            "0.0     0             3513\n",
            "        1              603\n",
            "1.0     0               83\n",
            "        1               41\n",
            "dtype: int64\n",
            "\n",
            "\n",
            "diabetes  TenYearCHD\n",
            "0         0             3527\n",
            "          1              604\n",
            "1         0               69\n",
            "          1               40\n",
            "dtype: int64\n",
            "\n",
            "\n",
            "prevalentStroke  TenYearCHD\n",
            "0                0             3582\n",
            "                 1              633\n",
            "1                0               14\n",
            "                 1               11\n",
            "dtype: int64\n",
            "\n",
            "\n"
          ],
          "name": "stdout"
        }
      ]
    },
    {
      "cell_type": "markdown",
      "metadata": {
        "id": "27Ds0IS2puC3"
      },
      "source": [
        "### Feature Selection\n",
        "\n",
        "Here we use mutual information, since we include categorical data, to get the best features for our model"
      ]
    },
    {
      "cell_type": "code",
      "metadata": {
        "colab": {
          "base_uri": "https://localhost:8080/",
          "height": 452
        },
        "id": "eiy_yujVpuC3",
        "outputId": "13bbb38c-347e-43be-84e4-34160ca56733"
      },
      "source": [
        "df_target = df['TenYearCHD']\n",
        "df_mu = df.drop('TenYearCHD', axis=1)\n",
        "\n",
        "\n",
        "#import module to calculate informaion gain\n",
        "encoded = df_mu.apply(pd.to_numeric)\n",
        "explanatory = df_mu.columns.to_list()\n",
        "encoded['TenYearCHD'] = df_target.apply(pd.to_numeric)\n",
        "\n",
        "from sklearn.feature_selection import mutual_info_classif\n",
        "\n",
        "#make dict with information gain for each explanantory variable\n",
        "res = dict(zip(encoded.columns.to_list(),mutual_info_classif(encoded[explanatory], encoded.TenYearCHD, discrete_features=True)))\n",
        "\n",
        "#create a data frame to display the results and sort them\n",
        "res_df = pd.DataFrame.from_dict(res,orient='index', columns=['Mutual_Information'])\n",
        "res_df = res_df.sort_values('Mutual_Information',ascending=False)\n",
        "res_df"
      ],
      "execution_count": null,
      "outputs": [
        {
          "output_type": "execute_result",
          "data": {
            "text/html": [
              "<div>\n",
              "<style scoped>\n",
              "    .dataframe tbody tr th:only-of-type {\n",
              "        vertical-align: middle;\n",
              "    }\n",
              "\n",
              "    .dataframe tbody tr th {\n",
              "        vertical-align: top;\n",
              "    }\n",
              "\n",
              "    .dataframe thead th {\n",
              "        text-align: right;\n",
              "    }\n",
              "</style>\n",
              "<table border=\"1\" class=\"dataframe\">\n",
              "  <thead>\n",
              "    <tr style=\"text-align: right;\">\n",
              "      <th></th>\n",
              "      <th>Mutual_Information</th>\n",
              "    </tr>\n",
              "  </thead>\n",
              "  <tbody>\n",
              "    <tr>\n",
              "      <th>BMI</th>\n",
              "      <td>0.169354</td>\n",
              "    </tr>\n",
              "    <tr>\n",
              "      <th>sysBP</th>\n",
              "      <td>0.054973</td>\n",
              "    </tr>\n",
              "    <tr>\n",
              "      <th>totChol</th>\n",
              "      <td>0.037839</td>\n",
              "    </tr>\n",
              "    <tr>\n",
              "      <th>diaBP</th>\n",
              "      <td>0.031957</td>\n",
              "    </tr>\n",
              "    <tr>\n",
              "      <th>age</th>\n",
              "      <td>0.029288</td>\n",
              "    </tr>\n",
              "    <tr>\n",
              "      <th>prevalentHyp</th>\n",
              "      <td>0.014776</td>\n",
              "    </tr>\n",
              "    <tr>\n",
              "      <th>heartRate</th>\n",
              "      <td>0.008299</td>\n",
              "    </tr>\n",
              "    <tr>\n",
              "      <th>cigsPerDay</th>\n",
              "      <td>0.005006</td>\n",
              "    </tr>\n",
              "    <tr>\n",
              "      <th>male</th>\n",
              "      <td>0.003866</td>\n",
              "    </tr>\n",
              "    <tr>\n",
              "      <th>diabetes</th>\n",
              "      <td>0.003685</td>\n",
              "    </tr>\n",
              "    <tr>\n",
              "      <th>BPMeds</th>\n",
              "      <td>0.002999</td>\n",
              "    </tr>\n",
              "    <tr>\n",
              "      <th>prevalentStroke</th>\n",
              "      <td>0.001400</td>\n",
              "    </tr>\n",
              "    <tr>\n",
              "      <th>currentSmoker</th>\n",
              "      <td>0.000189</td>\n",
              "    </tr>\n",
              "  </tbody>\n",
              "</table>\n",
              "</div>"
            ],
            "text/plain": [
              "                 Mutual_Information\n",
              "BMI                        0.169354\n",
              "sysBP                      0.054973\n",
              "totChol                    0.037839\n",
              "diaBP                      0.031957\n",
              "age                        0.029288\n",
              "prevalentHyp               0.014776\n",
              "heartRate                  0.008299\n",
              "cigsPerDay                 0.005006\n",
              "male                       0.003866\n",
              "diabetes                   0.003685\n",
              "BPMeds                     0.002999\n",
              "prevalentStroke            0.001400\n",
              "currentSmoker              0.000189"
            ]
          },
          "metadata": {
            "tags": []
          },
          "execution_count": 11
        }
      ]
    },
    {
      "cell_type": "markdown",
      "metadata": {
        "id": "1y06_RDfpuC3"
      },
      "source": [
        "We see that the first 6 features are better to include in our assessment.  The others seemingly offer too little information."
      ]
    },
    {
      "cell_type": "markdown",
      "metadata": {
        "id": "7E1GUngRpuC4"
      },
      "source": [
        "## Logistic Regression\n",
        "\n",
        "We set up X and y, use train_test_split, and use several metrics to analyze our model. Since our data is unbalanced, we first use smote. "
      ]
    },
    {
      "cell_type": "markdown",
      "metadata": {
        "id": "VzYJws5JpuC4"
      },
      "source": [
        "SMOTE first selects a minority class instance a at random and finds its k nearest minority class neighbors. The synthetic instance is then created by choosing one of the k nearest neighbors b at random and connecting a and b to form a line segment in the feature space. The synthetic instances are generated as a convex combination of the two chosen instances a and b.\n",
        "\n",
        "— Page 47, Imbalanced Learning: Foundations, Algorithms, and Applications, 2013."
      ]
    },
    {
      "cell_type": "code",
      "metadata": {
        "id": "RMd-68efpuC4"
      },
      "source": [
        "#conda install -c conda-forge imbalanced-learn"
      ],
      "execution_count": null,
      "outputs": []
    },
    {
      "cell_type": "code",
      "metadata": {
        "id": "JiMhaVBtpuC4"
      },
      "source": [
        "#conda update -n base -c defaults conda"
      ],
      "execution_count": null,
      "outputs": []
    },
    {
      "cell_type": "code",
      "metadata": {
        "colab": {
          "base_uri": "https://localhost:8080/"
        },
        "id": "WVM1SFWgpuC4",
        "outputId": "f75fc4dd-6934-4c89-da0c-90762755ffc0"
      },
      "source": [
        "from imblearn.over_sampling import SMOTE\n",
        "from imblearn.under_sampling import RandomUnderSampler\n",
        "from imblearn.pipeline import Pipeline\n",
        "from collections import Counter\n",
        "\n",
        "T = df.drop('TenYearCHD',axis=1)\n",
        "t = df.iloc[:,-1]\n",
        "\n",
        "# the numbers before smote\n",
        "num_before = dict(Counter(t))\n",
        "\n",
        "#perform smoting\n",
        "\n",
        "# define pipeline\n",
        "over = SMOTE(sampling_strategy=0.8)\n",
        "under = RandomUnderSampler(sampling_strategy=0.8)\n",
        "steps = [('o', over), ('u', under)]\n",
        "pipeline = Pipeline(steps=steps)\n",
        "\n",
        "# transform the dataset\n",
        "X_smote, y_smote = pipeline.fit_resample(T, t)\n",
        "\n",
        "\n",
        "#the numbers after smote\n",
        "num_after =dict(Counter(y_smote))"
      ],
      "execution_count": null,
      "outputs": [
        {
          "output_type": "stream",
          "text": [
            "/usr/local/lib/python3.7/dist-packages/sklearn/externals/six.py:31: FutureWarning: The module is deprecated in version 0.21 and will be removed in version 0.23 since we've dropped support for Python 2.7. Please rely on the official version of six (https://pypi.org/project/six/).\n",
            "  \"(https://pypi.org/project/six/).\", FutureWarning)\n",
            "/usr/local/lib/python3.7/dist-packages/sklearn/utils/deprecation.py:144: FutureWarning: The sklearn.neighbors.base module is  deprecated in version 0.22 and will be removed in version 0.24. The corresponding classes / functions should instead be imported from sklearn.neighbors. Anything that cannot be imported from sklearn.neighbors is now part of the private API.\n",
            "  warnings.warn(message, FutureWarning)\n",
            "/usr/local/lib/python3.7/dist-packages/sklearn/utils/deprecation.py:87: FutureWarning: Function safe_indexing is deprecated; safe_indexing is deprecated in version 0.22 and will be removed in version 0.24.\n",
            "  warnings.warn(msg, category=FutureWarning)\n",
            "/usr/local/lib/python3.7/dist-packages/sklearn/utils/deprecation.py:87: FutureWarning: Function safe_indexing is deprecated; safe_indexing is deprecated in version 0.22 and will be removed in version 0.24.\n",
            "  warnings.warn(msg, category=FutureWarning)\n"
          ],
          "name": "stderr"
        }
      ]
    },
    {
      "cell_type": "code",
      "metadata": {
        "colab": {
          "base_uri": "https://localhost:8080/",
          "height": 478
        },
        "id": "6vkvilCNpuC5",
        "outputId": "62d50793-60dc-43c0-8fa6-442cb662b4d3"
      },
      "source": [
        "labels = [\"Negative Cases\",\"Positive Cases\"]\n",
        "plt.figure(figsize=(15,6))\n",
        "plt.subplot(1,2,1)\n",
        "sns.barplot(labels, list(num_before.values()))\n",
        "plt.title(\"Numbers Before Balancing\")\n",
        "plt.subplot(1,2,2)\n",
        "sns.barplot(labels, list(num_after.values()))\n",
        "plt.title(\"Numbers After Balancing\")\n",
        "plt.show()"
      ],
      "execution_count": null,
      "outputs": [
        {
          "output_type": "stream",
          "text": [
            "/usr/local/lib/python3.7/dist-packages/seaborn/_decorators.py:43: FutureWarning: Pass the following variables as keyword args: x, y. From version 0.12, the only valid positional argument will be `data`, and passing other arguments without an explicit keyword will result in an error or misinterpretation.\n",
            "  FutureWarning\n",
            "/usr/local/lib/python3.7/dist-packages/seaborn/_decorators.py:43: FutureWarning: Pass the following variables as keyword args: x, y. From version 0.12, the only valid positional argument will be `data`, and passing other arguments without an explicit keyword will result in an error or misinterpretation.\n",
            "  FutureWarning\n"
          ],
          "name": "stderr"
        },
        {
          "output_type": "display_data",
          "data": {
            "image/png": "[encoded data removed]",
            "text/plain": [
              "<Figure size 1080x432 with 2 Axes>"
            ]
          },
          "metadata": {
            "tags": [],
            "needs_background": "light"
          }
        }
      ]
    },
    {
      "cell_type": "markdown",
      "metadata": {
        "id": "kTS-3VNXpuC5"
      },
      "source": [
        "Here we set up the features from SMOTE, based on the mutual information"
      ]
    },
    {
      "cell_type": "code",
      "metadata": {
        "id": "FRvarGnsrId0"
      },
      "source": [
        "#note - X_smote was returned as a numpy array, since I want to use pandas notation (although there is no need), I convert it back to a dataframe for now\r\n",
        "#although I could use something like this notation \"X = data[:, [1, 9]]\" to extract columns 1 and 9 from a numpy array, it is clearer for me to recognize the column names\r\n",
        "X_smote = pd.DataFrame(X_smote, columns=['male', 'age', 'currentSmoker', 'cigsPerDay', 'BPMeds', 'prevalentStroke', 'prevalentHyp',  'diabetes', 'totChol', 'sysBP', 'diaBP','BMI' ,'heartRate'])"
      ],
      "execution_count": null,
      "outputs": []
    },
    {
      "cell_type": "code",
      "metadata": {
        "id": "2hpgTZLIpuC5"
      },
      "source": [
        "#features chosen from mutual information\n",
        "X = X_smote[['BMI','sysBP', 'totChol', 'diaBP','age','prevalentHyp']].to_numpy()\n",
        "#y = df[['TenYearCHD']].to_numpy()\n",
        "y = y_smote"
      ],
      "execution_count": null,
      "outputs": []
    },
    {
      "cell_type": "markdown",
      "metadata": {
        "id": "rtOMqDHtpuC5"
      },
      "source": [
        "Now we set up our train_test_split"
      ]
    },
    {
      "cell_type": "code",
      "metadata": {
        "id": "SR9TMXJWpuC6"
      },
      "source": [
        "from sklearn.linear_model import LogisticRegression\n",
        "from sklearn.metrics import classification_report, confusion_matrix, roc_curve, roc_auc_score\n",
        "from sklearn.model_selection import train_test_split\n",
        "\n",
        "X_train,X_test,y_train,y_test = train_test_split(X,y,test_size=0.25,random_state=0)\n"
      ],
      "execution_count": null,
      "outputs": []
    },
    {
      "cell_type": "markdown",
      "metadata": {
        "id": "L4uPXiaNpuC6"
      },
      "source": [
        "Here we scale the data, otherwise it will not converge."
      ]
    },
    {
      "cell_type": "code",
      "metadata": {
        "id": "1ylfTh8ipuC6"
      },
      "source": [
        "from sklearn.preprocessing import StandardScaler\n",
        "\n",
        "scaler = StandardScaler()\n",
        "\n",
        "X_train_scaled = scaler.fit_transform(X_train)\n",
        "X_train = pd.DataFrame(X_train_scaled)\n",
        "\n",
        "X_test_scaled = scaler.transform(X_test)\n",
        "X_test = pd.DataFrame(X_test_scaled)"
      ],
      "execution_count": null,
      "outputs": []
    },
    {
      "cell_type": "code",
      "metadata": {
        "id": "LUqlWL1OpuC6"
      },
      "source": [
        "## One-liner\n",
        "model = LogisticRegression(penalty='l2').fit(X_train,y_train.ravel())\n",
        "y_pred = model.predict(X_test)"
      ],
      "execution_count": null,
      "outputs": []
    },
    {
      "cell_type": "code",
      "metadata": {
        "colab": {
          "base_uri": "https://localhost:8080/"
        },
        "id": "T3B1SZkVpuC6",
        "outputId": "e2c0a296-fb5c-470a-e264-2f4198b19abc"
      },
      "source": [
        "print(classification_report(y_test,y_pred))"
      ],
      "execution_count": null,
      "outputs": [
        {
          "output_type": "stream",
          "text": [
            "              precision    recall  f1-score   support\n",
            "\n",
            "           0       0.66      0.73      0.69       912\n",
            "           1       0.59      0.52      0.55       706\n",
            "\n",
            "    accuracy                           0.64      1618\n",
            "   macro avg       0.63      0.62      0.62      1618\n",
            "weighted avg       0.63      0.64      0.63      1618\n",
            "\n"
          ],
          "name": "stdout"
        }
      ]
    },
    {
      "cell_type": "markdown",
      "metadata": {
        "id": "2am99HpqpuC6"
      },
      "source": [
        "We see that the logistic regression gave us an F1 score of .69 for predicting a 0 and a .55 for predicting a 1.  Since we used SMOTE and originally had data that was imbalanced, we ignore the precision and recall scores in favor of the macro average f1 score of .65.\n",
        "\n",
        "Overall, this seems somewhat surprising that the top 6 most related factors only gave us a .65 score, however, we can also be very sure that we are not over or under fitting the model.  For completion, we show the confusion matrix below from which one could produce many of the various metrics."
      ]
    },
    {
      "cell_type": "code",
      "metadata": {
        "colab": {
          "base_uri": "https://localhost:8080/",
          "height": 282
        },
        "id": "WQGz_coBpuC6",
        "outputId": "148906a5-cf95-4ae7-a9b2-5ac39edb26cb"
      },
      "source": [
        "cnf_matrix = confusion_matrix(y_test, y_pred)\n",
        "sns.heatmap(pd.DataFrame(cnf_matrix), annot=True, cmap=\"YlGnBu\" ,fmt='g')"
      ],
      "execution_count": null,
      "outputs": [
        {
          "output_type": "execute_result",
          "data": {
            "text/plain": [
              "<matplotlib.axes._subplots.AxesSubplot at 0x7f2499951ed0>"
            ]
          },
          "metadata": {
            "tags": []
          },
          "execution_count": 22
        },
        {
          "output_type": "display_data",
          "data": {
            "image/png": "[encoded data removed]",
            "text/plain": [
              "<Figure size 432x288 with 2 Axes>"
            ]
          },
          "metadata": {
            "tags": [],
            "needs_background": "light"
          }
        }
      ]
    },
    {
      "cell_type": "markdown",
      "metadata": {
        "id": "RbpJFbCGpuC7"
      },
      "source": [
        "Below we include the roc diagram and auc score (of .71).  This seems quite interesting in that the curve does not have a faster ascension.  In other words, it seems that each of our contributing features may be quite meaningful in building the bigger picture."
      ]
    },
    {
      "cell_type": "code",
      "metadata": {
        "colab": {
          "base_uri": "https://localhost:8080/",
          "height": 265
        },
        "id": "DZSCUVakpuC7",
        "outputId": "2fd491e2-f4f2-4d71-f3c4-4442fab0395b"
      },
      "source": [
        "y_pred_proba = model.predict_proba(X_test)[::,1]\n",
        "fpr, tpr, _ = roc_curve(y_test,  y_pred_proba)\n",
        "auc = roc_auc_score(y_test, y_pred_proba)\n",
        "plt.plot(fpr,tpr,label=\"data 1, auc=\"+str(auc))\n",
        "plt.legend(loc=4)\n",
        "plt.show()"
      ],
      "execution_count": null,
      "outputs": [
        {
          "output_type": "display_data",
          "data": {
            "image/png": "[encoded data removed]",
            "text/plain": [
              "<Figure size 432x288 with 1 Axes>"
            ]
          },
          "metadata": {
            "tags": [],
            "needs_background": "light"
          }
        }
      ]
    },
    {
      "cell_type": "markdown",
      "metadata": {
        "id": "Ub1LutnUpuC7"
      },
      "source": [
        "# Summary\n",
        "\n",
        "In summary, we were curious if we could model the ten year risk of coronary heart disease.  We used several different variables, cleaning up the data, noticing that nothing stands out as obvious in our correlation matrix, and that the data was imbalanced.  We attempted to use logistic regression, a good model for a mix of categorical and numeric data. While our prediction score was not that high, we can also be sure that we are not over-fitting the data (since we used SMOTE).  Also, throughout our analysis, due to mutual information and our roc curve, it seems that each of the features is necessary in building a heuristic picture of how to deal with coronary heart disease.  It seems that one should consider many variables when wishing to address the issue.  \n",
        "\n",
        "In short, we suggest testing out other models and comparing results both in the feature engineering/selection and the model building itself.  Perhaps a random forest would be the next step in attempting a model.\n"
      ]
    }
  ]
}