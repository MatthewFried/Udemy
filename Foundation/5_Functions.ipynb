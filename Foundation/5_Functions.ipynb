{
  "nbformat": 4,
  "nbformat_minor": 0,
  "metadata": {
    "colab": {
      "name": "5 Functions.ipynb",
      "provenance": [],
      "authorship_tag": "ABX9TyMSheYfvmHTm/DBL10CPixB",
      "include_colab_link": true
    },
    "kernelspec": {
      "name": "python3",
      "display_name": "Python 3"
    }
  },
  "cells": [
    {
      "cell_type": "markdown",
      "metadata": {
        "id": "view-in-github",
        "colab_type": "text"
      },
      "source": [
        "<a href=\"https://colab.research.google.com/github/MatthewFried/Udemy/blob/master/5_Functions.ipynb\" target=\"_parent\"><img src=\"https://colab.research.google.com/assets/colab-badge.svg\" alt=\"Open In Colab\"/></a>"
      ]
    },
    {
      "cell_type": "markdown",
      "metadata": {
        "id": "4gRREJmLkQp2",
        "colab_type": "text"
      },
      "source": [
        "# **Functions**\n",
        "\n",
        "- A function is a group of statements that exist within a program for the purpose of performing a specific task.\n",
        "\n",
        "- It is modular programming\n",
        "\n",
        "It gives us the following:\n",
        "1. simpler code\n",
        "2. code reuse\n",
        "3. better testing \n",
        "4. faster development\n",
        "5. easier to work with a team\n"
      ]
    },
    {
      "cell_type": "markdown",
      "metadata": {
        "id": "jlCK3--mBsO9",
        "colab_type": "text"
      },
      "source": [
        "## __Void Type Functions__"
      ]
    },
    {
      "cell_type": "code",
      "metadata": {
        "id": "V_XI8XE35d7j",
        "colab_type": "code",
        "colab": {
          "base_uri": "https://localhost:8080/",
          "height": 34
        },
        "outputId": "c256f929-83dd-425e-8e74-381a7d04011c"
      },
      "source": [
        "#a void does not return anything\n",
        "def message():\n",
        "  print('I am I.')\n",
        "\n",
        "#run the function\n",
        "message()"
      ],
      "execution_count": null,
      "outputs": [
        {
          "output_type": "stream",
          "text": [
            "I am I.\n"
          ],
          "name": "stdout"
        }
      ]
    },
    {
      "cell_type": "code",
      "metadata": {
        "id": "Y73sQj026Xor",
        "colab_type": "code",
        "colab": {
          "base_uri": "https://localhost:8080/",
          "height": 50
        },
        "outputId": "6f143aee-b479-403c-e68b-2cb1693d9da1"
      },
      "source": [
        "#functions can call other functions\n",
        "\n",
        "def m1():\n",
        "  print('And now for something completely different')\n",
        "  m2()\n",
        "\n",
        "def m2():\n",
        "  print('Know what I mean? Know what I mean? Nudge nudge. Say no more…Know what I mean?')\n",
        "\n",
        "#run the function\n",
        "m1()"
      ],
      "execution_count": null,
      "outputs": [
        {
          "output_type": "stream",
          "text": [
            "And now for something completely different\n",
            "Know what I mean? Know what I mean? Nudge nudge. Say no more…Know what I mean?\n"
          ],
          "name": "stdout"
        }
      ]
    },
    {
      "cell_type": "code",
      "metadata": {
        "id": "LLAT7qGvkPE0",
        "colab_type": "code",
        "colab": {
          "base_uri": "https://localhost:8080/",
          "height": 70
        },
        "outputId": "c6fcdd4b-5a98-467a-fe82-847d36cb7221"
      },
      "source": [
        "#functions can have parameters\n",
        "\n",
        "def m3(val):\n",
        "  for i in range(val):\n",
        "    print(\"You don’t frighten us, English pig dogs. Go and boil your bottoms, you sons of a silly person. \\\n",
        "    I blow my nose at you, so-called ‘Arthur King,’ you and all your silly English K-nig-hts.\")\n",
        "    \n",
        "#run the function\n",
        "m3(2)"
      ],
      "execution_count": null,
      "outputs": [
        {
          "output_type": "stream",
          "text": [
            "You don’t frighten us, English pig dogs. Go and boil your bottoms, you sons of a silly person.     I blow my nose at you, so-called ‘Arthur King,’ you and all your silly English K-nig-hts.\n",
            "You don’t frighten us, English pig dogs. Go and boil your bottoms, you sons of a silly person.     I blow my nose at you, so-called ‘Arthur King,’ you and all your silly English K-nig-hts.\n"
          ],
          "name": "stdout"
        }
      ]
    },
    {
      "cell_type": "code",
      "metadata": {
        "id": "o5krR9V3-AKa",
        "colab_type": "code",
        "colab": {
          "base_uri": "https://localhost:8080/",
          "height": 84
        },
        "outputId": "05528eb8-462b-4de0-c9b7-47d19053355c"
      },
      "source": [
        "#more on functions with parameters\n",
        "def double_number(num):\n",
        "  print(f\"Num is {num}, and now it is {num*2}\")\n",
        "\n",
        "#run function\n",
        "for i in range (1,5):\n",
        "  double_number(i)"
      ],
      "execution_count": null,
      "outputs": [
        {
          "output_type": "stream",
          "text": [
            "Num is 1, and now it is 2\n",
            "Num is 2, and now it is 4\n",
            "Num is 3, and now it is 6\n",
            "Num is 4, and now it is 8\n"
          ],
          "name": "stdout"
        }
      ]
    },
    {
      "cell_type": "code",
      "metadata": {
        "id": "_YGRcA5d-unh",
        "colab_type": "code",
        "colab": {
          "base_uri": "https://localhost:8080/",
          "height": 34
        },
        "outputId": "9917cd77-9215-4580-c8a9-5e2c37e0b9c0"
      },
      "source": [
        "#passing multiple arguments\n",
        "def isMe(numFingers, numToes):\n",
        "  print(f\"I have {numFingers} fingers, and {numToes} toes.\")\n",
        "\n",
        "#run function\n",
        "isMe(11, 10)"
      ],
      "execution_count": null,
      "outputs": [
        {
          "output_type": "stream",
          "text": [
            "I have 11 fingers, and 10 toes.\n"
          ],
          "name": "stdout"
        }
      ]
    },
    {
      "cell_type": "markdown",
      "metadata": {
        "id": "0r4NbF899wK3",
        "colab_type": "text"
      },
      "source": [
        "### Main\n",
        "\n",
        "We normally include main in any larger program. "
      ]
    },
    {
      "cell_type": "code",
      "metadata": {
        "id": "vo_HNbRJ9Rth",
        "colab_type": "code",
        "colab": {
          "base_uri": "https://localhost:8080/",
          "height": 50
        },
        "outputId": "5b4d7332-951d-4657-9cd7-6c397ab44e39"
      },
      "source": [
        "# This program demonstrates two functions that\n",
        "# have local variables with the same name.\n",
        "# We are using main here as well\n",
        "\n",
        "def main():\n",
        "  texas()\n",
        "  california()\n",
        "\n",
        "def texas():\n",
        "  birds = 5000\n",
        "  print(f'texas has {birds} birds.')\n",
        "\n",
        "def california():\n",
        "  birds = 8000\n",
        "  print(f'california has {birds} birds.')\n",
        "\n",
        "main()"
      ],
      "execution_count": null,
      "outputs": [
        {
          "output_type": "stream",
          "text": [
            "texas has 5000 birds.\n",
            "california has 8000 birds.\n"
          ],
          "name": "stdout"
        }
      ]
    },
    {
      "cell_type": "markdown",
      "metadata": {
        "id": "EM8pdVeK_MpP",
        "colab_type": "text"
      },
      "source": [
        "If you change a value in a function, it doesn't change elsewhere. Variables are local."
      ]
    },
    {
      "cell_type": "code",
      "metadata": {
        "id": "ovOdB1wY_MYp",
        "colab_type": "code",
        "colab": {
          "base_uri": "https://localhost:8080/",
          "height": 50
        },
        "outputId": "4ed7cd3e-627f-4b02-ea63-a7a9a97964f9"
      },
      "source": [
        "def changeValue(num):\n",
        "  print(\"The function received num and it is: \", num)\n",
        "  #now add 1 to num and check if it changed outside the function\n",
        "  num += 1\n",
        "\n",
        "#test the function\n",
        "num = 7\n",
        "changeValue(num)\n",
        "print(\"Outside the function num is: \", num)"
      ],
      "execution_count": null,
      "outputs": [
        {
          "output_type": "stream",
          "text": [
            "The function received num and it is:  7\n",
            "Outside the function num is:  7\n"
          ],
          "name": "stdout"
        }
      ]
    },
    {
      "cell_type": "markdown",
      "metadata": {
        "id": "wI7sB3u2_01w",
        "colab_type": "text"
      },
      "source": [
        "Keep track of your inputs with names"
      ]
    },
    {
      "cell_type": "code",
      "metadata": {
        "id": "jDRcS578_3Fz",
        "colab_type": "code",
        "colab": {
          "base_uri": "https://localhost:8080/",
          "height": 34
        },
        "outputId": "a4c2ab5a-6f92-44d8-dc82-a146b834c246"
      },
      "source": [
        "def namedParameters(principal, rate, period, time):\n",
        "  val = principal*(1+rate/time)**(period*time)\n",
        "  print(f\"${val:.2f}\")\n",
        "\n",
        "#run the function\n",
        "namedParameters(rate = .05, period = 10, time = 2, principal = 100)"
      ],
      "execution_count": null,
      "outputs": [
        {
          "output_type": "stream",
          "text": [
            "$163.86\n"
          ],
          "name": "stdout"
        }
      ]
    },
    {
      "cell_type": "markdown",
      "metadata": {
        "id": "xQ2Tyv2GBFxj",
        "colab_type": "text"
      },
      "source": [
        "There is such a thing as a global variable, but be very careful with them.\n",
        "\n",
        "- Global variables make debugging difficult\n",
        "- Functions that use global variables are usually dependent on those variables\n",
        "- Global variables make a program hard to understand\n",
        "- Global constants are not a bad idea though"
      ]
    },
    {
      "cell_type": "code",
      "metadata": {
        "id": "NvjuYdHHBJ-1",
        "colab_type": "code",
        "colab": {
          "base_uri": "https://localhost:8080/",
          "height": 34
        },
        "outputId": "016b108d-dcc0-4233-e86c-ac84b009a37a"
      },
      "source": [
        "myVal = 5\n",
        "\n",
        "def checkIt():\n",
        "  print(myVal)\n",
        "\n",
        "#call the function\n",
        "checkIt()"
      ],
      "execution_count": null,
      "outputs": [
        {
          "output_type": "stream",
          "text": [
            "5\n"
          ],
          "name": "stdout"
        }
      ]
    },
    {
      "cell_type": "markdown",
      "metadata": {
        "id": "plmYu0oHooxQ",
        "colab_type": "text"
      },
      "source": [
        "## __Generating Random Numbers__\n",
        "\n"
      ]
    },
    {
      "cell_type": "code",
      "metadata": {
        "id": "GCWmBZWPosEE",
        "colab_type": "code",
        "colab": {
          "base_uri": "https://localhost:8080/",
          "height": 34
        },
        "outputId": "bca70769-a9d2-41d9-8bc6-8fe794718087"
      },
      "source": [
        "import random\n",
        "\n",
        "#prints a number between 1 and 100, inclusive\n",
        "number = random.randint (1, 100)\n",
        "print(number)"
      ],
      "execution_count": null,
      "outputs": [
        {
          "output_type": "stream",
          "text": [
            "93\n"
          ],
          "name": "stdout"
        }
      ]
    },
    {
      "cell_type": "code",
      "metadata": {
        "id": "2HsGp293qhua",
        "colab_type": "code",
        "colab": {}
      },
      "source": [
        "#get a random range between 0 and 9\n",
        "number = random.randrange(10)\n",
        "\n",
        "#get a random range between 5 and 19\n",
        "number = random.randrange(5,20)\n",
        "\n",
        "#get a random value from the sequence of numbers: [0, 10, 20, 30, 40, 50, 60, 70, 80, 90, 100]\n",
        "number = random.randrange(0, 101, 10)\n",
        "\n",
        "#get a random number between 0 and 1 (as a float)\n",
        "number = random.random()\n",
        "\n",
        "#change the initial starting position of the random numbe generator with a seed\n",
        "random.seed(10)\n",
        "random.seed(0)\n",
        "random.seed(26)\n"
      ],
      "execution_count": null,
      "outputs": []
    },
    {
      "cell_type": "markdown",
      "metadata": {
        "id": "-GTzWuK3Bn2_",
        "colab_type": "text"
      },
      "source": [
        "## __Value Returning Functions__"
      ]
    },
    {
      "cell_type": "code",
      "metadata": {
        "id": "ygDDLOcyo5Ai",
        "colab_type": "code",
        "colab": {}
      },
      "source": [
        "#get a random number\n",
        "import random\n",
        "\n",
        "def getNum():\n",
        "  return random.randint(1,100)\n",
        "\n",
        "x = getNum()"
      ],
      "execution_count": null,
      "outputs": []
    },
    {
      "cell_type": "code",
      "metadata": {
        "id": "2m3W6MEbpLuL",
        "colab_type": "code",
        "colab": {
          "base_uri": "https://localhost:8080/",
          "height": 185
        },
        "outputId": "36f8dfbf-10c1-4eb4-fb08-994d2dc9c95e"
      },
      "source": [
        "#roll a dice\n",
        "\n",
        "def dice():\n",
        "  return random.randint(1,6)\n",
        "\n",
        "#run function\n",
        "for i in range(10):\n",
        "  print(f\"The random dice roll is: {dice()}\")"
      ],
      "execution_count": null,
      "outputs": [
        {
          "output_type": "stream",
          "text": [
            "The random dice roll is: 3\n",
            "The random dice roll is: 1\n",
            "The random dice roll is: 1\n",
            "The random dice roll is: 6\n",
            "The random dice roll is: 3\n",
            "The random dice roll is: 4\n",
            "The random dice roll is: 2\n",
            "The random dice roll is: 1\n",
            "The random dice roll is: 6\n",
            "The random dice roll is: 1\n"
          ],
          "name": "stdout"
        }
      ]
    },
    {
      "cell_type": "code",
      "metadata": {
        "id": "5v9O8F8Apdus",
        "colab_type": "code",
        "colab": {
          "base_uri": "https://localhost:8080/",
          "height": 52
        },
        "outputId": "0417864f-fb45-45d2-ce81-3b2e803783ac"
      },
      "source": [
        "#check if coin flips are really random\n",
        "import random\n",
        "\n",
        "def coinFlip():\n",
        "  return random.randint(1,100) % 2\n",
        "\n",
        "#check the function\n",
        "heads = 0\n",
        "tails = 0\n",
        "for i in range(10000):\n",
        "  x = coinFlip()\n",
        "  if x == 0:\n",
        "    heads += 1\n",
        "  else:\n",
        "    tails += 1\n",
        "\n",
        "print(f'There are {heads/10000:.2%} perecent of heads.')\n",
        "print(f'There are {tails/10000:.2%} percent of tails')"
      ],
      "execution_count": null,
      "outputs": [
        {
          "output_type": "stream",
          "text": [
            "There are 50.41% perecent of heads.\n",
            "There are 49.59% percent of tails\n"
          ],
          "name": "stdout"
        }
      ]
    },
    {
      "cell_type": "code",
      "metadata": {
        "id": "thZuV13ArUnL",
        "colab_type": "code",
        "colab": {
          "base_uri": "https://localhost:8080/",
          "height": 67
        },
        "outputId": "471e3a35-0ab6-4eea-89e3-e1a030a168e2"
      },
      "source": [
        "#return the total of a range\n",
        "\n",
        "def theTotal(theStart, theFinish):\n",
        "  total = 0\n",
        "  for i in range(theStart, theFinish+1):\n",
        "    total += i\n",
        "  return total\n",
        "\n",
        "#test the function\n",
        "startNum = int(input('Where shall I start? '))\n",
        "finishNum = int(input('Where shall I end? '))\n",
        "\n",
        "print(f'The total from start to finish is {theTotal(startNum, finishNum)}')"
      ],
      "execution_count": null,
      "outputs": [
        {
          "output_type": "stream",
          "text": [
            "Where shall I start? 1\n",
            "Where shall I end? 10\n",
            "The total from start to finish is 55\n"
          ],
          "name": "stdout"
        }
      ]
    },
    {
      "cell_type": "code",
      "metadata": {
        "id": "J3K0CCamsWIa",
        "colab_type": "code",
        "colab": {}
      },
      "source": [
        "# This program calculates a retail item's sale price.\n",
        "\n",
        "DISCOUNT_PERCENTAGE = 0.20\n",
        "\n",
        "def main():\n",
        "  reg_price = get_regular_price()\n",
        "  sale_price = reg_price - discount(reg_price)\n",
        "  print(f'The sale price is ${sale_price:,.2f}.')\n",
        "\n",
        "def get_regular_price():\n",
        "  price = float(input(\"Enter the item's regular price: \"))\n",
        "  return price\n",
        "\n",
        "def discount(price):\n",
        "  return price * DISCOUNT_PERCENTAGE\n",
        "\n",
        "main()"
      ],
      "execution_count": null,
      "outputs": []
    },
    {
      "cell_type": "code",
      "metadata": {
        "id": "I0fcBolnuIlG",
        "colab_type": "code",
        "colab": {}
      },
      "source": [
        "#typical commission accounting function\n",
        "\n",
        "def determine_comm_rate(sales):\n",
        "  if sales < 10000.00:\n",
        "    return 0.10\n",
        "  elif sales >= 10000 and sales <= 14999.99:\n",
        "    return 0.12\n",
        "  elif sales >= 15000 and sales <= 17999.99:\n",
        "    return 0.14\n",
        "  elif sales >= 18000 and sales <= 21999.99:\n",
        "    return 0.16\n",
        "  else:\n",
        "    return 0.18\n",
        "\n"
      ],
      "execution_count": null,
      "outputs": []
    },
    {
      "cell_type": "code",
      "metadata": {
        "id": "zZG42JeHuueo",
        "colab_type": "code",
        "colab": {}
      },
      "source": [
        "#return a boolean value\n",
        "\n",
        "def checkEvenOdd(number):\n",
        " if (number % 2) == 0:\n",
        "     print('The number is even.')\n",
        " else:\n",
        "     print('The number is odd.')"
      ],
      "execution_count": null,
      "outputs": []
    },
    {
      "cell_type": "markdown",
      "metadata": {
        "id": "YpmsXupau8Ag",
        "colab_type": "text"
      },
      "source": [
        "## __Returning Multiple Values__"
      ]
    },
    {
      "cell_type": "code",
      "metadata": {
        "id": "bGZKhrpCu_sK",
        "colab_type": "code",
        "colab": {}
      },
      "source": [
        "def name():\n",
        "  first_name = input('What is your first name? ')\n",
        "  last_name = input('What is your last name? ')\n",
        "  return first_name, last_name\n",
        "\n",
        "#test the funtion\n",
        "first, last = name()\n",
        "print(f'Your first name is: {first}')\n",
        "print(f'Your last name is: {last}')"
      ],
      "execution_count": null,
      "outputs": []
    },
    {
      "cell_type": "code",
      "metadata": {
        "id": "vlf5aexSvbR1",
        "colab_type": "code",
        "colab": {
          "base_uri": "https://localhost:8080/",
          "height": 34
        },
        "outputId": "33be664d-d594-4edb-8782-ae7a26d40449"
      },
      "source": [
        "#return None from a function\n",
        "\n",
        "def divide(num1, num2):\n",
        "     if num2 == 0:\n",
        "         return None\n",
        "     else:\n",
        "       return (num1 / num2)\n",
        "\n",
        "#when checking a None use 'is'\n",
        "val = divide(7,0)\n",
        "if val is None:\n",
        "  print('Cannot divide by zero.')"
      ],
      "execution_count": null,
      "outputs": [
        {
          "output_type": "stream",
          "text": [
            "Cannot divide by zero.\n"
          ],
          "name": "stdout"
        }
      ]
    },
    {
      "cell_type": "markdown",
      "metadata": {
        "id": "jQMe5JVrwFYj",
        "colab_type": "text"
      },
      "source": [
        "## __The Math Library__\n",
        "\n",
        "use \n",
        "\n",
        "```python\n",
        "import math\n",
        "```\n"
      ]
    },
    {
      "cell_type": "code",
      "metadata": {
        "id": "f8wCNXYZwtBU",
        "colab_type": "code",
        "colab": {
          "base_uri": "https://localhost:8080/",
          "height": 84
        },
        "outputId": "2fcd4745-a0fa-4791-e993-72b0ebc56b10"
      },
      "source": [
        "import math\n",
        "\n",
        "val = 5\n",
        "sqrt = math.sqrt(val)\n",
        "print(sqrt)\n",
        "\n",
        "a = 5\n",
        "b = 8\n",
        "c = math.hypot(a,b)\n",
        "print(c)\n",
        "\n",
        "print(math.pi)\n",
        "print(math.e)"
      ],
      "execution_count": null,
      "outputs": [
        {
          "output_type": "stream",
          "text": [
            "2.23606797749979\n",
            "9.433981132056603\n",
            "3.141592653589793\n",
            "2.718281828459045\n"
          ],
          "name": "stdout"
        }
      ]
    },
    {
      "cell_type": "code",
      "metadata": {
        "id": "8OezcktUxNYU",
        "colab_type": "code",
        "colab": {}
      },
      "source": [
        "#examples with functions\n",
        "\n",
        "def area(radius):\n",
        "  return math.pi * radius**2\n",
        "\n",
        "def circumference(radius):\n",
        "   return 2 * math.pi * radius"
      ],
      "execution_count": null,
      "outputs": []
    },
    {
      "cell_type": "markdown",
      "metadata": {
        "id": "wb0vzQs0yRTA",
        "colab_type": "text"
      },
      "source": [
        "# __Examples__\n"
      ]
    },
    {
      "cell_type": "markdown",
      "metadata": {
        "id": "ymqA2pOOyTa6",
        "colab_type": "text"
      },
      "source": [
        "> Many financial experts advise that property owners should insure their homes or buildings for at least 80 percent of the amount it would cost to replace the structure. Write a program that asks the user to enter the replacement cost of a building, then displays the minimum amount of insurance he or she should buy for the property."
      ]
    },
    {
      "cell_type": "code",
      "metadata": {
        "id": "41RDUaMYynua",
        "colab_type": "code",
        "colab": {}
      },
      "source": [
        "REPLACE_PERCENT = 0.8\n",
        "\n",
        "# main def\n",
        "def main():\n",
        "    # Local variables\n",
        "    replace= 0.0\n",
        "    minInsure = 0.0\n",
        "\n",
        "    # Get the replacement cost.\n",
        "    replace = float(input('Enter the replacement amount: '))\n",
        "\n",
        "    # Calculate the insurance amount\n",
        "    minInsure = replace * REPLACE_PERCENT\n",
        "\n",
        "    # Print information about the insurance.\n",
        "    showInsure(replace, minInsure)\n",
        "      \n",
        "# The showInsure function accepts the replace value \n",
        "# and the minimum recommended insurance as arguments\n",
        "# and displays the transaction information.\n",
        "def showInsure (replace, minInsure):\n",
        "    print ('Replacement cost: $', \\\n",
        "           format(replace, ',.2f'), sep='')\n",
        "    print ('Percent insured: $', \\\n",
        "           int(REPLACE_PERCENT * 100), \\\n",
        "           '%', sep='') \n",
        "    print ('Minimum insurance: $', \\\n",
        "           format(minInsure, ',.2f'), sep='') \n",
        "\n",
        "# Call the main function.\n",
        "main() \n"
      ],
      "execution_count": null,
      "outputs": []
    },
    {
      "cell_type": "markdown",
      "metadata": {
        "id": "-J5zx97Syruq",
        "colab_type": "text"
      },
      "source": [
        "> A county collects property taxes on the assessment value of property, which is 60 percent of the property’s actual value. For example, if an acre of land is valued at \\$10,000, its assessment value is \\$6,000. The property tax is then 72¢ for each \\$100 of the assessment value. The tax for the acre assessed at $6,000 will be \\$43.20. Write a program that asks for the actual value of a piece of property and displays the assessment value and property tax."
      ]
    },
    {
      "cell_type": "code",
      "metadata": {
        "id": "trR7mAmTy7dY",
        "colab_type": "code",
        "colab": {}
      },
      "source": [
        "# Global constants for property tax\n",
        "ASSESS_PERCENT = 0.6\n",
        "PROPERTY_TAX_PERCENT = 0.0072\n",
        "\n",
        "# main function\n",
        "def main():\n",
        "    # Local variables\n",
        "    actualValue = 0.0\n",
        "    assessValue = 0.0\n",
        "    propertyTax = 0.0\n",
        "\n",
        "    # Get the actual value.\n",
        "    actualValue = float(input('Enter the actual value: '))\n",
        "\n",
        "    # Calculate the assessed value.\n",
        "    assessValue = actualValue * ASSESS_PERCENT\n",
        "\n",
        "    # Calculate the property tax.\n",
        "    propertyTax = assessValue * PROPERTY_TAX_PERCENT\n",
        "\n",
        "    # Print information about property tax.\n",
        "    showPropertyTax(assessValue, propertyTax)\n",
        "    \n",
        "# The showPropertyTax function accepts the assessment\n",
        "# value and the property tax value as arguments and\n",
        "# displays the property tax information.\n",
        "def showPropertyTax (assessValue, propertyTax):\n",
        "    print ('Assessed value: $', \\\n",
        "           format(assessValue, ',.2f'), sep='')\n",
        "    print ('Property tax: $', \\\n",
        "           format(propertyTax, ',.2f'), sep='')\n",
        "\n",
        "# Call the main function.\n",
        "main() \n"
      ],
      "execution_count": null,
      "outputs": []
    },
    {
      "cell_type": "markdown",
      "metadata": {
        "id": "7NNcrzvmzATf",
        "colab_type": "text"
      },
      "source": [
        "A painting company has determined that for every 112 square feet of wall space, one gallon of paint and eight hours of labor will be required. The company charges $35.00 per hour for labor. Write a program that asks the user to enter the square feet of wall space to be painted and the price of the paint per gallon. The program should display the following data:\n",
        "\n",
        "* The number of gallons of paint required\n",
        "* The hours of labor required\n",
        "* The cost of the paint\n",
        "* The labor charges\n",
        "* The total cost of the paint job"
      ]
    },
    {
      "cell_type": "code",
      "metadata": {
        "id": "uiz2LXO7zITB",
        "colab_type": "code",
        "colab": {}
      },
      "source": [
        "FEET_PER_GALLON = 112\n",
        "LABOR_HOURS = 8\n",
        "LABOR_CHARGE = 35\n",
        "\n",
        "# main module\n",
        "def main():\n",
        "    # Local variables\n",
        "    pricePaint = 0.0\n",
        "    feetWall = 0.0\n",
        "    gallonPaint = 0\n",
        "    hourLabor = 0\n",
        "    costPaint = 0.0\n",
        "    costLabor = 0.0\n",
        "\n",
        "    feetWall = float(input('Enter wall space in square feet: '))\n",
        "    pricePaint = float(input('Enter paint price per gallon: '))\n",
        "    gallonPaint = int(feetWall / FEET_PER_GALLON) + 1\n",
        "    hourLabor = gallonPaint * LABOR_HOURS\n",
        "    costLabor = hourLabor * LABOR_CHARGE\n",
        "    costPaint = gallonPaint * pricePaint\n",
        "    showCostEstimate(gallonPaint, hourLabor, costPaint, costLabor)\n",
        "\n",
        "\n",
        "def showCostEstimate(gallonPaint, hourLabor, costPaint, costLabor):\n",
        "    totalCost = 0.0\n",
        "    totalCost = costPaint + costLabor\n",
        "\n",
        "    print ('Gallons of paint: ', gallonPaint)\n",
        "    print ('Hours of labor: ', hourLabor)\n",
        "    print ('Paint charges: $' , \\\n",
        "           format(costPaint, ',.2f'), sep='')\n",
        "    print ('Labor charges: $' , \\\n",
        "           format(costLabor, ',.2f'), sep='')\n",
        "    print ('Total cost: $' , \\\n",
        "           format(totalCost, ',.2f'), sep='')\n",
        "\n",
        "main()"
      ],
      "execution_count": null,
      "outputs": []
    },
    {
      "cell_type": "markdown",
      "metadata": {
        "id": "YmKNpy9izhCD",
        "colab_type": "text"
      },
      "source": [
        "Create a list of prime numbers"
      ]
    },
    {
      "cell_type": "code",
      "metadata": {
        "id": "QdhQl9mRzj84",
        "colab_type": "code",
        "colab": {}
      },
      "source": [
        "def main():\n",
        "    totalNumbers = 100\n",
        "    print('number', '\\t', 'is prime')\n",
        "    print('------------------------')\n",
        "\n",
        "    # For each number, print whether or not it is prime\n",
        "    for number in range(1, totalNumbers + 1):\n",
        "\n",
        "        # Show if number is prime\n",
        "        if is_prime(number):\n",
        "            print (number, '\\t', 'prime')\n",
        "        else:\n",
        "            print (number, '\\t', 'not prime')\n",
        "\n",
        "# The is_prime function receives a number as an argument,\n",
        "# and returns True if number is prime, False otherwise. \n",
        "def is_prime(number):\n",
        "    # Local variables\n",
        "    half = int(number / 2)\n",
        "    status = True\n",
        "\n",
        "    for count in range(2, half + 1):\n",
        "        if number % count == 0:\n",
        "            status = False\n",
        "        \n",
        "    return status\n",
        "\n",
        "# Call the main function.\n",
        "main()\n"
      ],
      "execution_count": null,
      "outputs": []
    }
  ]
}
