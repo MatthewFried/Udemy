{
  "nbformat": 4,
  "nbformat_minor": 0,
  "metadata": {
    "kernelspec": {
      "display_name": "Python 3",
      "language": "python",
      "name": "python3"
    },
    "language_info": {
      "codemirror_mode": {
        "name": "ipython",
        "version": 3
      },
      "file_extension": ".py",
      "mimetype": "text/x-python",
      "name": "python",
      "nbconvert_exporter": "python",
      "pygments_lexer": "ipython3",
      "version": "3.7.4"
    },
    "colab": {
      "name": "Day4_Example3.ipynb",
      "provenance": [],
      "include_colab_link": true
    }
  },
  "cells": [
    {
      "cell_type": "markdown",
      "metadata": {
        "id": "view-in-github",
        "colab_type": "text"
      },
      "source": [
        "<a href=\"https://colab.research.google.com/github/MatthewFried/Udemy/blob/master/Day4_Example3.ipynb\" target=\"_parent\"><img src=\"https://colab.research.google.com/assets/colab-badge.svg\" alt=\"Open In Colab\"/></a>"
      ]
    },
    {
      "cell_type": "markdown",
      "metadata": {
        "id": "R7K06z82rHyH"
      },
      "source": [
        "# Day4_Example3\n",
        "\n",
        "## Introduction\n",
        "In this assignment, we will be calculating a suite of classification model performance metrics via Python code functions that we create, and then comparing our results to those of pre-built Python functions that automatically calculate those same metrics.\n",
        "We will also be creating graphical output via Python code that can be used to evaluate the performance of classification models. \n",
        "\n",
        "## Data\n",
        "The data set we will be using for this work is comprised of 181 labeled binary observations\n",
        "(i.e., the classification is binary in nature). The classifications are either ‘0’ or ‘1’. A classification model has\n",
        "been used to “predict” the actual classifications for each observation, and its algorithm works by estimating\n",
        "the probability that the correct classification for each observation is a ‘1’.  \n",
        "\n",
        "The data set includes three attributes that we will make use of for our analysis:  \n",
        "\n",
        "1) **class**: the actual classification for the observation  \n",
        "2) **scored.class**: the predicted classification for the observation (can only be ‘0’ or ‘1’; identified by comparing the classification model’s probability score (i.e., the likelihood that the correct classification for an observation is a ‘1’) for the observation against a 0.50 threshold)  \n",
        "3) **scored.probability**: the classification model’s probability score (i.e., the likelihood that the correct classification for an observation is a ‘1’) for the observation  \n",
        "\n",
        "## Approach\n",
        "To accomplish this work, we will first use Pandas’ `crosstab()` function to calculate the contents of a confusion matrix for the data.   \n",
        "Then, we will extract the individual confusion matrix values (i.e., True Positive, False Positive, True Negative, False\n",
        "Negative) from the output of the crosstab() function and save them to individual variables for later use.\n",
        "\n",
        "Next, we will write a Python function for each model evaluation metric (accuracy, precision, sensitivity, specificity, and F1 Score), that accepts as input the actual and predicted classifications for any binary classification data and then calculates and returns the metric for the predictions without utilizing any pre-built Python accuracy metric calculation functions.\n",
        "\n",
        "Then, we will apply the Python functions we’ve created to the relevant columns of the provided data set to produce\n",
        "the model performance metrics in this assignment.\n",
        "\n",
        "Then, we will compare the output of our functions against the output of the pre-built functions available\n",
        "within the scikit-learn library. Specifically, `confusion_matrix()`, `accuracy_score()`,\n",
        "`precision_score()`, `recall_score()`, `f1_score()`, and the `metrics.classification_report()` functions to the relevant columns of the provided data set. \n",
        "\n",
        "Then, we will write a Python function to plot a ROC curve and also calculate AUC for any binary classification data\n",
        "that contains both actual and predicted classifications as well as the associated scored probabilities\n",
        "without utilizing any pre-built Python classification metric calculation or ROC or AUC functions.\n",
        "\n",
        "Lastly, we will use the `metrics.plot_roc_curve()` and `metrics.auc()` functions from the scikit-learn package to\n",
        "generate a ROC plot and calculate AUC for the provided data set, and compare the result with that of the ROC/AUC function we’ve created for this assignment."
      ]
    },
    {
      "cell_type": "markdown",
      "metadata": {
        "id": "sPDLuP1TrHyI"
      },
      "source": [
        "## Load the data set\n",
        "\n",
        "First we will read the provided M5_Data.csv into python using pandas read csv function.  "
      ]
    },
    {
      "cell_type": "code",
      "metadata": {
        "id": "S3SyEi7xrHyJ",
        "colab": {
          "base_uri": "https://localhost:8080/",
          "height": 203
        },
        "outputId": "8bf0c5dc-0cd3-4a8d-c702-10ae31c7ff11"
      },
      "source": [
        "#first import the necessary libraries and modules\n",
        "import pandas as pd\n",
        "import numpy as np\n",
        "import matplotlib.pyplot as plt\n",
        "\n",
        "#next read in the file\n",
        "filename = 'https://raw.githubusercontent.com/MatthewFried/Udemy/master/Day4/Day4%20Data.csv'\n",
        "data = pd.read_csv(filename)\n",
        "\n",
        "#check results\n",
        "data.head()"
      ],
      "execution_count": null,
      "outputs": [
        {
          "output_type": "execute_result",
          "data": {
            "text/html": [
              "<div>\n",
              "<style scoped>\n",
              "    .dataframe tbody tr th:only-of-type {\n",
              "        vertical-align: middle;\n",
              "    }\n",
              "\n",
              "    .dataframe tbody tr th {\n",
              "        vertical-align: top;\n",
              "    }\n",
              "\n",
              "    .dataframe thead th {\n",
              "        text-align: right;\n",
              "    }\n",
              "</style>\n",
              "<table border=\"1\" class=\"dataframe\">\n",
              "  <thead>\n",
              "    <tr style=\"text-align: right;\">\n",
              "      <th></th>\n",
              "      <th>pregnant</th>\n",
              "      <th>glucose</th>\n",
              "      <th>diastolic</th>\n",
              "      <th>skinfold</th>\n",
              "      <th>insulin</th>\n",
              "      <th>bmi</th>\n",
              "      <th>pedigree</th>\n",
              "      <th>age</th>\n",
              "      <th>class</th>\n",
              "      <th>scored.class</th>\n",
              "      <th>scored.probability</th>\n",
              "    </tr>\n",
              "  </thead>\n",
              "  <tbody>\n",
              "    <tr>\n",
              "      <th>0</th>\n",
              "      <td>7</td>\n",
              "      <td>124</td>\n",
              "      <td>70</td>\n",
              "      <td>33</td>\n",
              "      <td>215</td>\n",
              "      <td>25.5</td>\n",
              "      <td>0.161</td>\n",
              "      <td>37</td>\n",
              "      <td>0</td>\n",
              "      <td>0</td>\n",
              "      <td>0.328452</td>\n",
              "    </tr>\n",
              "    <tr>\n",
              "      <th>1</th>\n",
              "      <td>2</td>\n",
              "      <td>122</td>\n",
              "      <td>76</td>\n",
              "      <td>27</td>\n",
              "      <td>200</td>\n",
              "      <td>35.9</td>\n",
              "      <td>0.483</td>\n",
              "      <td>26</td>\n",
              "      <td>0</td>\n",
              "      <td>0</td>\n",
              "      <td>0.273190</td>\n",
              "    </tr>\n",
              "    <tr>\n",
              "      <th>2</th>\n",
              "      <td>3</td>\n",
              "      <td>107</td>\n",
              "      <td>62</td>\n",
              "      <td>13</td>\n",
              "      <td>48</td>\n",
              "      <td>22.9</td>\n",
              "      <td>0.678</td>\n",
              "      <td>23</td>\n",
              "      <td>1</td>\n",
              "      <td>0</td>\n",
              "      <td>0.109660</td>\n",
              "    </tr>\n",
              "    <tr>\n",
              "      <th>3</th>\n",
              "      <td>1</td>\n",
              "      <td>91</td>\n",
              "      <td>64</td>\n",
              "      <td>24</td>\n",
              "      <td>0</td>\n",
              "      <td>29.2</td>\n",
              "      <td>0.192</td>\n",
              "      <td>21</td>\n",
              "      <td>0</td>\n",
              "      <td>0</td>\n",
              "      <td>0.055998</td>\n",
              "    </tr>\n",
              "    <tr>\n",
              "      <th>4</th>\n",
              "      <td>4</td>\n",
              "      <td>83</td>\n",
              "      <td>86</td>\n",
              "      <td>19</td>\n",
              "      <td>0</td>\n",
              "      <td>29.3</td>\n",
              "      <td>0.317</td>\n",
              "      <td>34</td>\n",
              "      <td>0</td>\n",
              "      <td>0</td>\n",
              "      <td>0.100491</td>\n",
              "    </tr>\n",
              "  </tbody>\n",
              "</table>\n",
              "</div>"
            ],
            "text/plain": [
              "   pregnant  glucose  diastolic  ...  class  scored.class  scored.probability\n",
              "0         7      124         70  ...      0             0            0.328452\n",
              "1         2      122         76  ...      0             0            0.273190\n",
              "2         3      107         62  ...      1             0            0.109660\n",
              "3         1       91         64  ...      0             0            0.055998\n",
              "4         4       83         86  ...      0             0            0.100491\n",
              "\n",
              "[5 rows x 11 columns]"
            ]
          },
          "metadata": {
            "tags": []
          },
          "execution_count": 1
        }
      ]
    },
    {
      "cell_type": "code",
      "metadata": {
        "id": "4-JoblQ5rHyR",
        "colab": {
          "base_uri": "https://localhost:8080/"
        },
        "outputId": "9735197f-77d9-474f-81ed-0438a3978cb7"
      },
      "source": [
        "#check the dataset for null values\n",
        "data.isnull().sum()"
      ],
      "execution_count": null,
      "outputs": [
        {
          "output_type": "execute_result",
          "data": {
            "text/plain": [
              "pregnant              0\n",
              "glucose               0\n",
              "diastolic             0\n",
              "skinfold              0\n",
              "insulin               0\n",
              "bmi                   0\n",
              "pedigree              0\n",
              "age                   0\n",
              "class                 0\n",
              "scored.class          0\n",
              "scored.probability    0\n",
              "dtype: int64"
            ]
          },
          "metadata": {
            "tags": []
          },
          "execution_count": 2
        }
      ]
    },
    {
      "cell_type": "markdown",
      "metadata": {
        "id": "Lt421LYzrHyY"
      },
      "source": [
        "We have made sure we have no missing values, and we can now proceed. "
      ]
    },
    {
      "cell_type": "markdown",
      "metadata": {
        "id": "M7JeUy-nrHyY"
      },
      "source": [
        "## Confusion Matrix  \n",
        "**create using `crosstab()` and compare to `confusion_matrix()` from sklearn**\n",
        "\n",
        "We will first use Pandas’ crosstab() function to calculate the contents of a confusion matrix for the data."
      ]
    },
    {
      "cell_type": "code",
      "metadata": {
        "id": "lbiA9u29rHya",
        "colab": {
          "base_uri": "https://localhost:8080/",
          "height": 141
        },
        "outputId": "a5ee0026-8f5e-4460-9163-af37a892ca21"
      },
      "source": [
        "#use crosstab() to calculate the contents of a confusion matrix for the data\n",
        "conf_mat = pd.crosstab(data['class'],data['scored.class'])\n",
        "#check results\n",
        "conf_mat"
      ],
      "execution_count": null,
      "outputs": [
        {
          "output_type": "execute_result",
          "data": {
            "text/html": [
              "<div>\n",
              "<style scoped>\n",
              "    .dataframe tbody tr th:only-of-type {\n",
              "        vertical-align: middle;\n",
              "    }\n",
              "\n",
              "    .dataframe tbody tr th {\n",
              "        vertical-align: top;\n",
              "    }\n",
              "\n",
              "    .dataframe thead th {\n",
              "        text-align: right;\n",
              "    }\n",
              "</style>\n",
              "<table border=\"1\" class=\"dataframe\">\n",
              "  <thead>\n",
              "    <tr style=\"text-align: right;\">\n",
              "      <th>scored.class</th>\n",
              "      <th>0</th>\n",
              "      <th>1</th>\n",
              "    </tr>\n",
              "    <tr>\n",
              "      <th>class</th>\n",
              "      <th></th>\n",
              "      <th></th>\n",
              "    </tr>\n",
              "  </thead>\n",
              "  <tbody>\n",
              "    <tr>\n",
              "      <th>0</th>\n",
              "      <td>119</td>\n",
              "      <td>5</td>\n",
              "    </tr>\n",
              "    <tr>\n",
              "      <th>1</th>\n",
              "      <td>30</td>\n",
              "      <td>27</td>\n",
              "    </tr>\n",
              "  </tbody>\n",
              "</table>\n",
              "</div>"
            ],
            "text/plain": [
              "scored.class    0   1\n",
              "class                \n",
              "0             119   5\n",
              "1              30  27"
            ]
          },
          "metadata": {
            "tags": []
          },
          "execution_count": 3
        }
      ]
    },
    {
      "cell_type": "markdown",
      "metadata": {
        "id": "1tZjlwrwrHyr"
      },
      "source": [
        "The `crosstab()` function accepts the factors (index, columns) and computes a frequency table of the factors. If we input the factors (actual classification, predicted classification) then the rows stand for actual classification and the columns stand for predicted classification. "
      ]
    },
    {
      "cell_type": "code",
      "metadata": {
        "id": "8jSVZIPurHys",
        "colab": {
          "base_uri": "https://localhost:8080/"
        },
        "outputId": "cdfb5a6c-dcd7-4049-bb06-240be7d31e81"
      },
      "source": [
        "#make sure we understand the confusion matrix values\n",
        "print(data['class'].value_counts())\n",
        "print()\n",
        "print(data['scored.class'].value_counts())"
      ],
      "execution_count": null,
      "outputs": [
        {
          "output_type": "stream",
          "text": [
            "0    124\n",
            "1     57\n",
            "Name: class, dtype: int64\n",
            "\n",
            "0    149\n",
            "1     32\n",
            "Name: scored.class, dtype: int64\n"
          ],
          "name": "stdout"
        }
      ]
    },
    {
      "cell_type": "markdown",
      "metadata": {
        "id": "pQxJ7h_LrHy8"
      },
      "source": [
        "The rows of the `crosstab()` output sum to the respective `value_counts()` of the actual classification input column.  \n",
        "The columns of the `crosstab()` output sum to the respective `value_counts()` of the predicted classification input column.\n",
        "\n",
        "We will now compare the output of the `crosstab()` function against the output of the pre-built `confusion_matrix()` function available within the scikit-learn library."
      ]
    },
    {
      "cell_type": "code",
      "metadata": {
        "id": "O7wEFxnGrHy9",
        "colab": {
          "base_uri": "https://localhost:8080/"
        },
        "outputId": "5fd1a980-3b0d-420f-d544-5712552ba1ae"
      },
      "source": [
        "#compare with confusion_matrix() from sklearn \n",
        "from sklearn.metrics import confusion_matrix\n",
        "test_conf_mat = confusion_matrix(data['class'], data['scored.class'])\n",
        "#check results \n",
        "test_conf_mat"
      ],
      "execution_count": null,
      "outputs": [
        {
          "output_type": "execute_result",
          "data": {
            "text/plain": [
              "array([[119,   5],\n",
              "       [ 30,  27]])"
            ]
          },
          "metadata": {
            "tags": []
          },
          "execution_count": 5
        }
      ]
    },
    {
      "cell_type": "markdown",
      "metadata": {
        "id": "e3a87W0wrHzB"
      },
      "source": [
        "The output is the same as our output from Pandas' `crosstab()` function.  \n",
        "The `confusion_matrix()` function from the scikit-learn library accepts the factors (y_true, y_pred) and computes a confusion matrix.  \n",
        "\n",
        "[From the Sklearn Documention](https://scikit-learn.org/stable/modules/generated/sklearn.metrics.confusion_matrix.html) we know the following:  \n",
        "\"By definition a confusion matrix C is such that C(i,j) is equal to the number of observations known to be in group i and predicted to be in group j.  \n",
        "Thus in binary classification, the count of true negatives is C(0,0), false negatives is C(1,0), true positives is C(1,1) and false positives is C(0,1).\"   \n",
        "\n",
        "We understand that the default positive label in the `confusion_matrix()` function, and all of the metrics functions in the scikit-learn library is 1.  \n",
        "We will therefore use 1 as the positive label in the functions we create to allow for comparison."
      ]
    },
    {
      "cell_type": "markdown",
      "metadata": {
        "id": "TAqnir3wrHzC"
      },
      "source": [
        "We will now extract the individual confusion matrix values (i.e., True Positive, False Positive, True Negative, False\n",
        "Negative) from the output of the crosstab() function, when the positive label is 1, and save them to individual variables for later use. "
      ]
    },
    {
      "cell_type": "code",
      "metadata": {
        "id": "y8EpARMLrHzE",
        "colab": {
          "base_uri": "https://localhost:8080/"
        },
        "outputId": "6ba8daf0-87ab-498c-af5c-657f79f5bab3"
      },
      "source": [
        "#when '1' is the positive and '0' is the negative\n",
        "tp = conf_mat.iloc[1][1]\n",
        "fp = conf_mat.iloc[0][1]\n",
        "tn = conf_mat.iloc[0][0]\n",
        "fn = conf_mat.iloc[1][0]\n",
        "\n",
        "#check results\n",
        "print(\"True Positive = %s\" %tp)\n",
        "print(\"False Positive = %s\" %fp)\n",
        "print(\"False Negative = %s\" %fn)\n",
        "print(\"True Negative = %s\" %tn)"
      ],
      "execution_count": null,
      "outputs": [
        {
          "output_type": "stream",
          "text": [
            "True Positive = 27\n",
            "False Positive = 5\n",
            "False Negative = 30\n",
            "True Negative = 119\n"
          ],
          "name": "stdout"
        }
      ]
    },
    {
      "cell_type": "markdown",
      "metadata": {
        "id": "K-HwkF1crHzH"
      },
      "source": [
        "We now understand the output of Pandas' `crosstab()`, and are able to extract the individual confusion matrix values.  \n",
        "We can now proceed with creating our functions, utilizing the code above.   \n",
        "\n",
        "We will create a function `conf_mat_vals()` that accepts as input the actual and predicted classifications \n",
        "for any binary classification data and then using Pandas' `crosstab()` creates a confusion matrix and returns the values for: True Positive, False Positive, True Negative, False Negative. We will call this function later on in our other functions. \n",
        "\n",
        "Pandas' `crosstab()` function will generate a full confusion matrix only if there are two classes in the binary predictions column.  If there is only one class the function will not create a column for the other class. In that case our function will assign the value 0 to the appropriate value in the confusion matrix. "
      ]
    },
    {
      "cell_type": "code",
      "metadata": {
        "id": "viv7MzDSrHzI"
      },
      "source": [
        "#create a function that creates a confusion matrix and returns the values for:\n",
        "#True Positive, False Positive, True Negative, False Negative\n",
        "def conf_mat_vals (actual, predicted):\n",
        "    '''This function accepts as input the actual and predicted classifications \n",
        "       for any binary classification data and then creates a confusion matrix and returns the values for:\n",
        "       True Positive, False Positive, True Negative, False Negative'''\n",
        "    #create confusion matrix using Pandas' crosstab()\n",
        "    conf_mat = pd.crosstab(actual,predicted)\n",
        "    #extract the individual confusion matrix values\n",
        "    #if the predictions are all of one class,\n",
        "    #the crosstab() function will not create a column for the second binary class\n",
        "    #therefore, we use try/except to assign a value to the metrics if there is a missing column in the conf_mat\n",
        "    try:\n",
        "        tp = conf_mat.iloc[1][1]\n",
        "    except:\n",
        "        tp = 0\n",
        "    try:\n",
        "        fp = conf_mat.iloc[0][1]\n",
        "    except:\n",
        "        fp = 0\n",
        "    try:\n",
        "        tn = conf_mat.iloc[0][0]\n",
        "    except:\n",
        "        tn = 0\n",
        "    try:\n",
        "        fn = conf_mat.iloc[1][0]\n",
        "    except:\n",
        "        fn = 0 \n",
        "    return tp,fp,tn,fn"
      ],
      "execution_count": null,
      "outputs": []
    },
    {
      "cell_type": "markdown",
      "metadata": {
        "id": "GKMhlmRkrHzK"
      },
      "source": [
        "## Accuracy Function\n",
        "**create our own and compare to `accuracy_score()` from sklearn**  \n",
        "\n",
        "We will now write a Python function that accepts as input the actual and predicted classifications for any binary\n",
        "classification data and then calculates and returns the accuracy metric for the predictions.  \n",
        "The accuracy formula is:  $accuracy = (tp+tn)/(tp+fp+tn+fn)$"
      ]
    },
    {
      "cell_type": "code",
      "metadata": {
        "id": "pLHF7KfVrHzL"
      },
      "source": [
        "#create a function that calculate and returns the accuracy metric\n",
        "def accuracy(actual, predicted):\n",
        "    '''This function accepts as input the actual and predicted classifications \n",
        "       for any binary classification data and then calculates and returns the\n",
        "       accuracy metric for the predictions'''\n",
        "    #get tp,fp,tn,fn vals \n",
        "    tp,fp,tn,fn = conf_mat_vals(actual, predicted)\n",
        "    #calculate the accuracy metric\n",
        "    accuracy = (tp+tn)/(tp+fp+tn+fn)\n",
        "    return accuracy"
      ],
      "execution_count": null,
      "outputs": []
    },
    {
      "cell_type": "markdown",
      "metadata": {
        "id": "dPOyH5qMrHzQ"
      },
      "source": [
        "We will now compare the output of our function against the output of the pre-built `accuracy_score()` function available within the scikit-learn library."
      ]
    },
    {
      "cell_type": "code",
      "metadata": {
        "id": "7RHmNGOnrHzR",
        "colab": {
          "base_uri": "https://localhost:8080/"
        },
        "outputId": "ffa8a344-898d-4dd5-997c-e594dfb8a0a5"
      },
      "source": [
        "#apply our function to the dataset \n",
        "our_accuracy = accuracy(data['class'],data['scored.class'])\n",
        "print(\"Accuracy with our function is:%s\" %our_accuracy)\n",
        "\n",
        "#import function from sklearn \n",
        "from sklearn.metrics import accuracy_score\n",
        "#apply function to the dataset \n",
        "sklearn_accuracy = accuracy_score(data['class'],data['scored.class'])\n",
        "print(\"Accuracy with sklearn function is:%s\" %sklearn_accuracy)\n",
        "\n",
        "#compare our function result with the result of accuracy_score() from sklearn\n",
        "if round(our_accuracy,4) == round(sklearn_accuracy,4):\n",
        "    print (\"The accuracy results are the same!\")\n",
        "else:\n",
        "    print (\"The results are not the same!\")"
      ],
      "execution_count": null,
      "outputs": [
        {
          "output_type": "stream",
          "text": [
            "Accuracy with our function is:0.8066298342541437\n",
            "Accuracy with sklearn function is:0.8066298342541437\n",
            "The accuracy results are the same!\n"
          ],
          "name": "stdout"
        }
      ]
    },
    {
      "cell_type": "markdown",
      "metadata": {
        "id": "VtM92zrfrHzW"
      },
      "source": [
        "## Precision Function\n",
        "**create our own and compare to `precision_score()` from sklearn**  \n",
        "\n",
        "We will now write a Python function that accepts as input the actual and predicted classifications for any binary\n",
        "classification data and then calculates and returns the precision metric for the predictions.      \n",
        "The precision formula is: $precision = (tp)/(tp+fp)$"
      ]
    },
    {
      "cell_type": "code",
      "metadata": {
        "id": "iU1h8StvrHzX"
      },
      "source": [
        "#create a function that calculate and returns the precision metric\n",
        "def precision (actual, predicted):\n",
        "    '''This function accepts as input the actual and predicted classifications \n",
        "       for any binary classification data and then calculates and returns the\n",
        "       precision metric for the predictions'''\n",
        "    #get tp,fp,tn,fn vals \n",
        "    tp,fp,tn,fn = conf_mat_vals(actual, predicted)\n",
        "    #calculate the precision metric\n",
        "    if (tp+fp)>0:\n",
        "        precision = (tp)/(tp+fp)\n",
        "        return precision\n",
        "    else: #if the metric cannot be calculated it is 0\n",
        "        return 0   "
      ],
      "execution_count": null,
      "outputs": []
    },
    {
      "cell_type": "markdown",
      "metadata": {
        "id": "MHcu5K41rHzb"
      },
      "source": [
        "We will now compare the output of our function against the output of the pre-built `precision_score()` function available within the scikit-learn library."
      ]
    },
    {
      "cell_type": "code",
      "metadata": {
        "id": "s5XWX34CrHzb",
        "colab": {
          "base_uri": "https://localhost:8080/"
        },
        "outputId": "64427832-3316-45fc-8f4f-a5d7040ee7f6"
      },
      "source": [
        "#apply our function to the dataset\n",
        "our_precision = precision(data['class'],data['scored.class'])\n",
        "print(\"Precision with our function is:%s\" %our_precision)\n",
        "\n",
        "#import function from sklearn \n",
        "from sklearn.metrics import precision_score\n",
        "#apply function to the dataset\n",
        "sklearn_precision = precision_score(data['class'],data['scored.class'])\n",
        "print(\"Precision with sklearn function is:%s\" %sklearn_precision)\n",
        "\n",
        "#compare our function result with the result of precision_score() from sklearn\n",
        "if round(our_precision,4) == round(sklearn_precision,4):\n",
        "    print (\"The results are the same!\")\n",
        "else:\n",
        "    print (\"The results are not the same!\")"
      ],
      "execution_count": null,
      "outputs": [
        {
          "output_type": "stream",
          "text": [
            "Precision with our function is:0.84375\n",
            "Precision with sklearn function is:0.84375\n",
            "The results are the same!\n"
          ],
          "name": "stdout"
        }
      ]
    },
    {
      "cell_type": "markdown",
      "metadata": {
        "id": "oaaabqqFrHze"
      },
      "source": [
        "## Sensitivity Function\n",
        "**create our own and compare to `recall_score()` from sklearn**\n",
        "\n",
        "We will now write a Python function that accepts as input the actual and predicted classifications for any binary\n",
        "classification data and then calculates and returns the sensitivity metric for the predictions.  \n",
        "The sensitivity formula is: $sensitivity = (tp)/(tp+fn)$"
      ]
    },
    {
      "cell_type": "code",
      "metadata": {
        "id": "lKXOt2CsrHzf"
      },
      "source": [
        "#create a function that calculate and returns the sensitivity metric\n",
        "def sensitivity (actual, predicted):\n",
        "    '''This function accepts as input the actual and predicted classifications \n",
        "       for any binary classification data and then calculates and returns the\n",
        "       sensitivity metric for the predictions'''\n",
        "    #get tp,fp,tn,fn vals \n",
        "    tp,fp,tn,fn = conf_mat_vals(actual, predicted)\n",
        "    #calculate the sensitivity metric\n",
        "    if (tp+fn)>0 :\n",
        "        sensitivity = (tp)/(tp+fn)\n",
        "        return sensitivity\n",
        "    else: #if the metric cannot be calculated it is 0\n",
        "        return 0"
      ],
      "execution_count": null,
      "outputs": []
    },
    {
      "cell_type": "markdown",
      "metadata": {
        "id": "phGoh1mbrHzh"
      },
      "source": [
        "We will now compare the output of our function against the output of the pre-built `recall_score()` function available within the scikit-learn library."
      ]
    },
    {
      "cell_type": "code",
      "metadata": {
        "id": "Xt6g50farHzl",
        "colab": {
          "base_uri": "https://localhost:8080/"
        },
        "outputId": "168806a5-fa08-40bd-eaa8-0188af654140"
      },
      "source": [
        "#apply our function to the dataset\n",
        "our_sensitivity = sensitivity(data['class'],data['scored.class'])\n",
        "print(\"Sensitivity with our function is:%s\" %our_sensitivity)\n",
        "\n",
        "#import function from sklearn \n",
        "from sklearn.metrics import recall_score\n",
        "#apply function to the dataset\n",
        "sklearn_sensitivity = recall_score(data['class'],data['scored.class'])\n",
        "print(\"Sensitivity with sklearn function is:%s\" %sklearn_sensitivity)\n",
        "\n",
        "#compare our function result with the result of recall_score() from sklearn\n",
        "if round(our_sensitivity,4) == round(sklearn_sensitivity,4):\n",
        "    print (\"The results are the same!\")\n",
        "else:\n",
        "    print (\"The results are not the same!\")"
      ],
      "execution_count": null,
      "outputs": [
        {
          "output_type": "stream",
          "text": [
            "Sensitivity with our function is:0.47368421052631576\n",
            "Sensitivity with sklearn function is:0.47368421052631576\n",
            "The results are the same!\n"
          ],
          "name": "stdout"
        }
      ]
    },
    {
      "cell_type": "markdown",
      "metadata": {
        "id": "oVybKLfgrHzq"
      },
      "source": [
        "## Specificity Function\n",
        "**create our own and compare to `recall_score(pos_label=0)` from sklearn**\n",
        "\n",
        "We will now write a Python function that accepts as input the actual and predicted classifications for any binary\n",
        "classification data and then calculates and returns the specificity metric for the predictions.  \n",
        "The specificity formula is: $specificity = tn / (tn + fp)$"
      ]
    },
    {
      "cell_type": "code",
      "metadata": {
        "id": "-_ZinvFXrHzr"
      },
      "source": [
        "#create a function that calculate and returns the specificity metric\n",
        "def specificity (actual, predicted):\n",
        "    '''This function accepts as input the actual and predicted classifications \n",
        "       for any binary classification data and then calculates and returns the\n",
        "       specificity metric for the predictions'''\n",
        "    #get tp,fp,tn,fn vals \n",
        "    tp,fp,tn,fn = conf_mat_vals(actual, predicted)\n",
        "    #calculate the specificity metric\n",
        "    if (tn+fp)>0 :\n",
        "        specificity = (tn)/(tn+fp)\n",
        "        return specificity\n",
        "    else: #if the metric cannot be calculated it is 0\n",
        "        return 0"
      ],
      "execution_count": null,
      "outputs": []
    },
    {
      "cell_type": "markdown",
      "metadata": {
        "id": "7e9gGYxVrHzv"
      },
      "source": [
        "There is no specificity function in sklearn. However, the `recall_score()` function can evaluate the specificity by applying the same formula and changing what is considered positive to be the 0 values.   \n",
        "We will now compare the output of our function against the output of the pre-built `recall_score(pos_label=0)` function available within the scikit-learn library."
      ]
    },
    {
      "cell_type": "code",
      "metadata": {
        "id": "GXfVPxk5rHzw",
        "colab": {
          "base_uri": "https://localhost:8080/"
        },
        "outputId": "67383924-e34e-4b67-bfbe-f96b286755d5"
      },
      "source": [
        "#apply our function to the dataset\n",
        "our_specificity = specificity(data['class'],data['scored.class'])\n",
        "print(\"Specificity with our function is:%s\" %our_specificity)\n",
        "\n",
        "#import function from sklearn \n",
        "from sklearn.metrics import recall_score\n",
        "#apply function to the dataset\n",
        "sklearn_specificity = recall_score(data['class'],data['scored.class'],pos_label=0)\n",
        "print(\"Specificity with sklearn function is:%s\" %sklearn_specificity)\n",
        "\n",
        "#compare our function result with the result of recall_score(pos_label=0) from sklearn\n",
        "if round(our_specificity,4) == round(sklearn_specificity,4):\n",
        "    print (\"The results are the same!\")\n",
        "else:\n",
        "    print (\"The results are not the same!\")"
      ],
      "execution_count": null,
      "outputs": [
        {
          "output_type": "stream",
          "text": [
            "Specificity with our function is:0.9596774193548387\n",
            "Specificity with sklearn function is:0.9596774193548387\n",
            "The results are the same!\n"
          ],
          "name": "stdout"
        }
      ]
    },
    {
      "cell_type": "markdown",
      "metadata": {
        "id": "PQfhroAQrHz2"
      },
      "source": [
        "## F1 Score Function\n",
        "**create our own and compare to `f1_score(pos_label=0)` from sklearn**\n",
        "\n",
        "We will now write a Python function that accepts as input the actual and predicted classifications for any binary\n",
        "classification data and then calculates and returns the F1 score metric for the predictions.  \n",
        "The F1 score formula is: $F1 score = 2*(sensitivity * precision) / (sensitivity + precision)$"
      ]
    },
    {
      "cell_type": "code",
      "metadata": {
        "id": "nTMdTF_nrHz2"
      },
      "source": [
        "#create a function that calculates and returns the F1 score\n",
        "def F1_score (actual, predicted):\n",
        "    '''This function accepts as input the actual and predicted classifications \n",
        "       for any binary classification data and then calculates and returns the\n",
        "       F1 score metric for the predictions'''\n",
        "    #call the function we created to calculate the sensitivity metric\n",
        "    sensitivity_value=sensitivity(actual,predicted)\n",
        "    #call the function we created to calculate the precision metric\n",
        "    precision_value=precision(actual,predicted)\n",
        "    #calculate the F1 Score metric\n",
        "    F1 = 2*(sensitivity_value*precision_value)/(sensitivity_value+precision_value)\n",
        "    return F1"
      ],
      "execution_count": null,
      "outputs": []
    },
    {
      "cell_type": "markdown",
      "metadata": {
        "id": "B5MROAE7rHz5"
      },
      "source": [
        "We will now compare the output of our function against the output of the pre-built `f1_score()` function available within the scikit-learn library."
      ]
    },
    {
      "cell_type": "code",
      "metadata": {
        "id": "eQ1ahKWZrHz5",
        "colab": {
          "base_uri": "https://localhost:8080/"
        },
        "outputId": "7a16d125-655f-4483-bc56-7fb4c6acd0f4"
      },
      "source": [
        "#apply our function to the dataset\n",
        "our_F1_score = F1_score(data['class'],data['scored.class'])\n",
        "print(\"F1 Score with our function is:%s\" %our_F1_score)\n",
        "\n",
        "#import function from sklearn \n",
        "from sklearn.metrics import f1_score\n",
        "#apply function to the dataset\n",
        "sklearn_F1_score = f1_score(data['class'],data['scored.class'])\n",
        "print(\"F1 Score with sklearn function is:%s\" %sklearn_F1_score)\n",
        "\n",
        "#compare our function result with the result of f1_score() from sklearn\n",
        "if round(our_F1_score,4) == round(sklearn_F1_score,4):\n",
        "    print (\"The results are the same!\")\n",
        "else:\n",
        "    print (\"The results are not the same!\")"
      ],
      "execution_count": null,
      "outputs": [
        {
          "output_type": "stream",
          "text": [
            "F1 Score with our function is:0.6067415730337079\n",
            "F1 Score with sklearn function is:0.6067415730337079\n",
            "The results are the same!\n"
          ],
          "name": "stdout"
        }
      ]
    },
    {
      "cell_type": "markdown",
      "metadata": {
        "id": "5dYszzzxrHz8"
      },
      "source": [
        "## Classification Report Function \n",
        "**Show the report using `classification_report()` from sklearn, and compare to our earlier results**"
      ]
    },
    {
      "cell_type": "code",
      "metadata": {
        "id": "Y_vH4WmnrHz8",
        "colab": {
          "base_uri": "https://localhost:8080/"
        },
        "outputId": "62019b3d-fc41-4ddd-94dc-1a8c8616658d"
      },
      "source": [
        "#import the function from sklearn\n",
        "from sklearn.metrics import classification_report\n",
        "\n",
        "#apply the function to the dataset and check results\n",
        "print(classification_report(data['class'],data['scored.class']))"
      ],
      "execution_count": null,
      "outputs": [
        {
          "output_type": "stream",
          "text": [
            "              precision    recall  f1-score   support\n",
            "\n",
            "           0       0.80      0.96      0.87       124\n",
            "           1       0.84      0.47      0.61        57\n",
            "\n",
            "    accuracy                           0.81       181\n",
            "   macro avg       0.82      0.72      0.74       181\n",
            "weighted avg       0.81      0.81      0.79       181\n",
            "\n"
          ],
          "name": "stdout"
        }
      ]
    },
    {
      "cell_type": "markdown",
      "metadata": {
        "id": "FhFIpbQNrHz_"
      },
      "source": [
        "The results in the output of the `classification_report()` function are the same as the results in the output of the functions we created ourselves.  "
      ]
    },
    {
      "cell_type": "markdown",
      "metadata": {
        "id": "tQ_-ZC5VrHz_"
      },
      "source": [
        "## Function to plot a ROC curve and calculate AUC\n",
        "**create our own and compare to `metrics.plot_roc_curve()` and `metrics.auc()` from sklearn**\n",
        "\n",
        "We will now write a Python function that accepts as input the actual and predicted classifications \n",
        "for any binary classification data, as well as the associated scored probabilities,\n",
        "and then plots the ROC curve and calculates and returns the AUC."
      ]
    },
    {
      "cell_type": "code",
      "metadata": {
        "id": "Pp0WFHWwrH0A"
      },
      "source": [
        "#create a function that plots the ROC Curve and calculates the AUC \n",
        "def roc(actual, predicted, probability):\n",
        "    '''This function accepts as input the actual and predicted classifications \n",
        "       for any binary classification data, as well as the associated scored probabilities,\n",
        "       and then plots the ROC curve and calculates and returns the AUC'''\n",
        "    #create list of thresholds\n",
        "    thresholds = np.arange(0,1,0.01)\n",
        "    #create list of true positive rates\n",
        "    tpr_list=[]\n",
        "    #create list of false positive rates\n",
        "    fpr_list=[]\n",
        "    #create new list of predictions for every threshold\n",
        "    for i in thresholds: #for every threshold\n",
        "        new_predicted=[] #create new list of predictions\n",
        "        for j in range(len(probability)): #for each observation\n",
        "            #compare threshold to probability and append new prediction\n",
        "            if probability[j] < i:        \n",
        "                new_predicted.append(0)\n",
        "            else:\n",
        "                new_predicted.append(1)\n",
        "        #calculate the tpr\n",
        "        tpr = sensitivity(actual, pd.Series(new_predicted))\n",
        "        tpr_list.append(tpr) #append the true positive rate to the list\n",
        "        #calculate the fpr\n",
        "        fpr = 1 - specificity(actual, pd.Series(new_predicted))\n",
        "        fpr_list.append(fpr) #append the false positive rate to the list\n",
        "    #construct a data frame for plotting the ROC\n",
        "    roc_df = pd.DataFrame({'thresholds': thresholds, 'fpr': fpr_list, 'tpr': tpr_list})\n",
        "    #plot ROC\n",
        "    #use step plot for easy comparison with plot_roc_curve() from sklearn\n",
        "    plt.step(roc_df['fpr'], roc_df['tpr'], 'b-', label = 'model');\n",
        "    #plot a naive classifier as a reference \n",
        "    plt.plot([0, 1], [0, 1], 'r--', label = 'naive classifier');\n",
        "    #add axis labels, title and legend\n",
        "    plt.xlabel('False Positive Rate')\n",
        "    plt.ylabel('True Positive Rate')\n",
        "    plt.title('Receiver Operating Characteristic (ROC) Curve')\n",
        "    plt.legend()\n",
        "    plt.show()\n",
        "    \n",
        "    #calculate the AUC value\n",
        "    x = roc_df['fpr'].copy() #create a copy of the fpr column\n",
        "    y = roc_df['tpr'].copy() #create a copy of the tpr column\n",
        "    x.sort_values(inplace = True) #sort the values in ascending order so that we will get a positive area result\n",
        "    y.sort_values(inplace = True) #sort the values in ascending order so that we will get a positive area result\n",
        "    auc = np.trapz(y,x) #calculate the AUC using numpy's trapz function\n",
        "    print(\"The AUC is: \", auc) #print AUC"
      ],
      "execution_count": null,
      "outputs": []
    },
    {
      "cell_type": "markdown",
      "metadata": {
        "id": "2JuSo0HorH0C"
      },
      "source": [
        "We will now compare the output of our function against the output of the pre-built `plot_roc_curve()` and `metrics.auc()` functions available within the scikit-learn library."
      ]
    },
    {
      "cell_type": "code",
      "metadata": {
        "id": "E-RlgcqcrH0C",
        "colab": {
          "base_uri": "https://localhost:8080/",
          "height": 312
        },
        "outputId": "fc845848-6d1b-4836-9d5b-f9338635172d"
      },
      "source": [
        "#apply our function to the dataset\n",
        "roc(data['class'],data['scored.class'],data['scored.probability'])"
      ],
      "execution_count": null,
      "outputs": [
        {
          "output_type": "display_data",
          "data": {
            "image/png": "[encoded data removed]",
            "text/plain": [
              "<Figure size 432x288 with 1 Axes>"
            ]
          },
          "metadata": {
            "tags": [],
            "needs_background": "light"
          }
        },
        {
          "output_type": "stream",
          "text": [
            "The AUC is:  0.8488964346349746\n"
          ],
          "name": "stdout"
        }
      ]
    },
    {
      "cell_type": "markdown",
      "metadata": {
        "id": "MmOhHeDTrH0H"
      },
      "source": [
        "The `plot_roc_curve()` function in sklearn requires a classifier instance as an input. Since the assignment requires us to compare the output of the function with the output of our function, we decided to use the SVC classifier from sklearn as the classifier instance. Since we do not know which features were used in the model that our dataset is based upon, we used all the available features."
      ]
    },
    {
      "cell_type": "code",
      "metadata": {
        "id": "Lqt-FZfgrH0I",
        "colab": {
          "base_uri": "https://localhost:8080/",
          "height": 279
        },
        "outputId": "b41f3cf1-0cef-426a-d8bc-bb22bbff0b85"
      },
      "source": [
        "#compare our function result with the result of plot_roc_curve() from sklearn\n",
        "#code from plot_roc_curve() documentation - https://scikit-learn.org/stable/modules/generated/sklearn.metrics.plot_roc_curve.html\n",
        "from sklearn import metrics, model_selection, svm \n",
        "from sklearn.svm import SVC\n",
        "X = data[['pregnant', 'glucose', 'diastolic', 'skinfold', 'insulin', 'bmi', 'pedigree', 'age']].copy()\n",
        "y = data['class'].copy()\n",
        "X_train, X_test, y_train, y_test = model_selection.train_test_split(X, y, random_state=0)\n",
        "clf = svm.SVC(random_state=0)\n",
        "clf.fit(X_train, y_train)\n",
        "SVC(random_state=0)\n",
        "metrics.plot_roc_curve(clf, X_test, y_test) \n",
        "plt.show()"
      ],
      "execution_count": null,
      "outputs": [
        {
          "output_type": "display_data",
          "data": {
            "image/png": "[encoded data removed]",
            "text/plain": [
              "<Figure size 432x288 with 1 Axes>"
            ]
          },
          "metadata": {
            "tags": [],
            "needs_background": "light"
          }
        }
      ]
    },
    {
      "cell_type": "code",
      "metadata": {
        "id": "CxbryWhGrH0M",
        "colab": {
          "base_uri": "https://localhost:8080/"
        },
        "outputId": "d7dda0dc-775c-441f-d02d-7fd714de65ee"
      },
      "source": [
        "#compare our function result with the result of metrics.auc() from sklearn\n",
        "#metrics.auc() documentation - https://scikit-learn.org/stable/modules/generated/sklearn.metrics.auc.html\n",
        "#metrics.roc_curve() documentation - https://scikit-learn.org/stable/modules/generated/sklearn.metrics.roc_curve.html\n",
        "from sklearn import metrics\n",
        "y = data['class'] #the actual class\n",
        "pred = data['scored.probability'] #probability estimates of the positive class\n",
        "fpr2, tpr2, thresholds2 = metrics.roc_curve(y, pred, pos_label=1) #apply roc_curve() to get fpr, tpr\n",
        "auc = metrics.auc(fpr2, tpr2) #print the AUC\n",
        "print(\"The AUC is:\", auc)"
      ],
      "execution_count": null,
      "outputs": [
        {
          "output_type": "stream",
          "text": [
            "The AUC is: 0.8503112620260327\n"
          ],
          "name": "stdout"
        }
      ]
    },
    {
      "cell_type": "markdown",
      "metadata": {
        "id": "H9Ltavy4rH0Q"
      },
      "source": [
        "While the ROC curve generated by the sklearn function appears to have used different thresholds, the ROC curve generated by our function has roughly the same shape, and the AUC from our function is nearly the same.   \n",
        "Now we will also use sk-learn's `roc_curve()` results from above to graph the ROC curve as a double check."
      ]
    },
    {
      "cell_type": "code",
      "metadata": {
        "id": "_k-tQQMfrH0Q",
        "colab": {
          "base_uri": "https://localhost:8080/",
          "height": 295
        },
        "outputId": "19dbf8c2-4434-4052-f2e5-b2bf4a5ef68b"
      },
      "source": [
        "#plot ROC curve using the fpr and tpr output from the roc_curve() function in sklearn\n",
        "#use step plot for easy comparison with plot_roc_curve() from sklearn\n",
        "plt.plot(fpr2, tpr2, 'g-', label = 'model');\n",
        "#plot a naive classifier as a reference \n",
        "plt.plot([0, 1], [0, 1], 'c--', label = 'naive classifier');\n",
        "#add axis labels, title and legend\n",
        "plt.xlabel('False Positive Rate')\n",
        "plt.ylabel('True Positive Rate')\n",
        "plt.title('Receiver Operating Characteristic (ROC) Curve')\n",
        "plt.legend()\n",
        "plt.show()"
      ],
      "execution_count": null,
      "outputs": [
        {
          "output_type": "display_data",
          "data": {
            "image/png": "[encoded data removed]",
            "text/plain": [
              "<Figure size 432x288 with 1 Axes>"
            ]
          },
          "metadata": {
            "tags": [],
            "needs_background": "light"
          }
        }
      ]
    },
    {
      "cell_type": "markdown",
      "metadata": {
        "id": "2Q_YEUj4rH0Y"
      },
      "source": [
        "The graph generated from plotting the `roc_curve()` function results is extremely similar to the graph generated by our own function. This gives us further confidence that our function is yielding accurate results. "
      ]
    }
  ]
}